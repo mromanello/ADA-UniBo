{
 "cells": [
  {
   "attachments": {},
   "cell_type": "markdown",
   "metadata": {},
   "source": [
    "# 2.1 Tidy data"
   ]
  },
  {
   "attachments": {},
   "cell_type": "markdown",
   "metadata": {},
   "source": [
    "In this notebook, we take a closer look at the BL books dataset and tidy it up."
   ]
  },
  {
   "cell_type": "code",
   "execution_count": 1,
   "metadata": {},
   "outputs": [],
   "source": [
    "# imports\n",
    "\n",
    "import pandas as pd\n",
    "import json, os, codecs\n",
    "from collections import defaultdict, OrderedDict\n",
    "import seaborn as sns"
   ]
  },
  {
   "attachments": {},
   "cell_type": "markdown",
   "metadata": {},
   "source": [
    "## Import the dataset\n",
    "Let us import the sample dataset in memory, as it is, without transformations. We rely on some Python libraries to do so."
   ]
  },
  {
   "cell_type": "code",
   "execution_count": null,
   "metadata": {},
   "outputs": [],
   "source": [
    "root_folder = \"../data/bl_books/sample/\"\n",
    "\n",
    "# metadata: stored in a single JSON file\n",
    "filename = \"book_data_sample.json\"\n",
    "metadata = json.load(codecs.open(os.path.join(root_folder,filename), encoding=\"utf8\"))\n",
    "\n",
    "# fulltexts: stored in several JSON files, one per book\n",
    "foldername = \"full_texts\"\n",
    "texts = defaultdict(list)\n",
    "for root, dirs, files in os.walk(os.path.join(root_folder,foldername)):\n",
    "    for f in files:\n",
    "        if \".json\" in f:\n",
    "            t = json.load(codecs.open(os.path.join(root,f), encoding=\"utf8\"))\n",
    "            texts[f] = t\n",
    "\n",
    "# enriched metadata: stored in a single CSV file\n",
    "filename = \"extra_metadata_sample.csv\"\n",
    "df_extra = pd.read_csv(os.path.join(root_folder,filename), delimiter=\";\")\n",
    "df_extra = df_extra.rename(str.lower, axis='columns') # rename columns to lower case"
   ]
  },
  {
   "attachments": {},
   "cell_type": "markdown",
   "metadata": {},
   "source": [
    "## Take a look\n",
    "Let's take a look to the dataset"
   ]
  },
  {
   "cell_type": "code",
   "execution_count": 3,
   "metadata": {},
   "outputs": [
    {
     "name": "stdout",
     "output_type": "stream",
     "text": [
      "452\n"
     ]
    }
   ],
   "source": [
    "# there are 452 books in the sample\n",
    "\n",
    "print(len(metadata))"
   ]
  },
  {
   "cell_type": "code",
   "execution_count": 4,
   "metadata": {},
   "outputs": [
    {
     "data": {
      "text/plain": [
       "{'datefield': '1841',\n",
       " 'shelfmarks': ['British Library HMNTS 11601.ddd.2.'],\n",
       " 'publisher': 'Privately printed',\n",
       " 'title': [\"The Poetical Aviary, with a bird's-eye view of the English poets. [The preface signed: A. A.] Ms. notes\"],\n",
       " 'edition': '',\n",
       " 'flickr_url_to_book_images': 'http://www.flickr.com/photos/britishlibrary/tags/sysnum000000196',\n",
       " 'place': 'Calcutta',\n",
       " 'issuance': 'monographic',\n",
       " 'authors': {'creator': ['A. A.']},\n",
       " 'date': '1841',\n",
       " 'pdf': {'1': 'lsidyv35c55757'},\n",
       " 'identifier': '000000196',\n",
       " 'corporate': {},\n",
       " 'fulltext_filename': 'sample/full_texts/000000196_01_text.json'}"
      ]
     },
     "execution_count": 4,
     "metadata": {},
     "output_type": "execute_result"
    }
   ],
   "source": [
    "# each one contains the following catalog metadata\n",
    "\n",
    "metadata[0]"
   ]
  },
  {
   "attachments": {},
   "cell_type": "markdown",
   "metadata": {},
   "source": [
    "**Questions** on 'metadata':\n",
    "\n",
    "* Can you identify some messy aspects of this dataset representation?\n",
    "* Take a look at the 'shelfmarks' or 'title' fields: what is the problem here?\n",
    "* Do the same for the 'authors' and 'pdf' fields: what is the problem?\n",
    "* Look at the datefield of the *third* item in this list: is there a problem?"
   ]
  },
  {
   "cell_type": "code",
   "execution_count": 5,
   "metadata": {},
   "outputs": [
    {
     "name": "stdout",
     "output_type": "stream",
     "text": [
      "452\n"
     ]
    }
   ],
   "source": [
    "# let's check we have the same amount of books with a text file\n",
    "\n",
    "print(len(texts))"
   ]
  },
  {
   "attachments": {},
   "cell_type": "markdown",
   "metadata": {},
   "source": [
    "*Note: we have selected for the sample just the first volume/pdf for every book.*"
   ]
  },
  {
   "cell_type": "code",
   "execution_count": 5,
   "metadata": {},
   "outputs": [
    {
     "data": {
      "text/plain": [
       "164"
      ]
     },
     "execution_count": 5,
     "metadata": {},
     "output_type": "execute_result"
    }
   ],
   "source": [
    "len(texts['000000196_01_text.json'])"
   ]
  },
  {
   "cell_type": "code",
   "execution_count": 4,
   "metadata": {},
   "outputs": [
    {
     "data": {
      "text/plain": [
       "[[1, ''],\n",
       " [2, ''],\n",
       " [3, ''],\n",
       " [4, ''],\n",
       " [5, ''],\n",
       " [6, ''],\n",
       " [7,\n",
       "  \"THE POETICAL AVIARY, WITH A B I R D'S-E YE VIEW OF THE ENGLISH POETS. (NOT PUBLISHED.) CALCUTTA: PRINTED AT THE BAPTIST MISSION PRESS, CIRCULAR ROAD. 1841.\"],\n",
       " [8, ''],\n",
       " [9,\n",
       "  'POETICAL AVIARY. PART THE FIRST. BIRDS WITHOUT ALLUSION TO THEIR NOTES. One of the curious political medals that were struck in the reign of Charles II. represents, on one side, Titus Oates with two faces. On the reverse are the heads of the king and four of his principal ministers, with this motto round the border, \" Birds of a feather flock together.\" This, as well as various other proverbs derived from birds, haee been introduced into poetry. Thus Anstey — And \\'twas pretty to see how like birds of a feather The people of quality flocked all together, All pressing, addressing, caressing, and fond, Just the same as those animals do in a pond. Under the sign of an inn representing a man with a bird in his hand, and two birds in a bush I have seen written, \" A bird in the hand\" d\\'ye see , Is worth two in the bushes that be. These verses under signs are now a rarity in England ; they were formerly more common. Swift, speaking of Harley, Earl of Oxford, the prime minister, says — Would take me in his coach to chat, And question me of this or that ; Or gravely try to read the lines Writ underneath the country signs. ii']]"
      ]
     },
     "execution_count": 4,
     "metadata": {},
     "output_type": "execute_result"
    }
   ],
   "source": [
    "# each text comes as a list of lists: one per page, as follows [page number, text]\n",
    "\n",
    "texts['000000196_01_text.json'][:9]"
   ]
  },
  {
   "cell_type": "code",
   "execution_count": 5,
   "metadata": {},
   "outputs": [
    {
     "data": {
      "text/html": [
       "<div>\n",
       "<style scoped>\n",
       "    .dataframe tbody tr th:only-of-type {\n",
       "        vertical-align: middle;\n",
       "    }\n",
       "\n",
       "    .dataframe tbody tr th {\n",
       "        vertical-align: top;\n",
       "    }\n",
       "\n",
       "    .dataframe thead th {\n",
       "        text-align: right;\n",
       "    }\n",
       "</style>\n",
       "<table border=\"1\" class=\"dataframe\">\n",
       "  <thead>\n",
       "    <tr style=\"text-align: right;\">\n",
       "      <th></th>\n",
       "      <th>aleph system no.</th>\n",
       "      <th>country code</th>\n",
       "      <th>language code (008)</th>\n",
       "      <th>language code (041)</th>\n",
       "      <th>ddc</th>\n",
       "      <th>personal author</th>\n",
       "      <th>corporate author</th>\n",
       "      <th>title</th>\n",
       "      <th>edition</th>\n",
       "      <th>imprint</th>\n",
       "      <th>series</th>\n",
       "      <th>subjects</th>\n",
       "      <th>other personal authors</th>\n",
       "      <th>other corporate authors</th>\n",
       "      <th>dom id</th>\n",
       "      <th>type</th>\n",
       "      <th>genre</th>\n",
       "      <th>first_pdf</th>\n",
       "    </tr>\n",
       "  </thead>\n",
       "  <tbody>\n",
       "    <tr>\n",
       "      <th>0</th>\n",
       "      <td>14805618</td>\n",
       "      <td>|||</td>\n",
       "      <td>eng</td>\n",
       "      <td>NaN</td>\n",
       "      <td>NaN</td>\n",
       "      <td>BONNEY, Thomas George.</td>\n",
       "      <td>NaN</td>\n",
       "      <td>The Alpine Regions of Switzerland and the neig...</td>\n",
       "      <td>NaN</td>\n",
       "      <td>Cambridge : Deighton, Bell &amp; Co., 1868.</td>\n",
       "      <td>NaN</td>\n",
       "      <td>NaN</td>\n",
       "      <td>WHYMPER, Edward.</td>\n",
       "      <td>NaN</td>\n",
       "      <td>lsidyv3becb649</td>\n",
       "      <td>story</td>\n",
       "      <td>Prose</td>\n",
       "      <td>lsidyv3becb649</td>\n",
       "    </tr>\n",
       "    <tr>\n",
       "      <th>1</th>\n",
       "      <td>14939494</td>\n",
       "      <td>|||</td>\n",
       "      <td>eng</td>\n",
       "      <td>NaN</td>\n",
       "      <td>NaN</td>\n",
       "      <td>FREEMAN, Edward Augustus.</td>\n",
       "      <td>NaN</td>\n",
       "      <td>[The History of the Norman Conquest of England...</td>\n",
       "      <td>Third edition, revised. vol. 1, 2.</td>\n",
       "      <td>Oxford, 1877.</td>\n",
       "      <td>NaN</td>\n",
       "      <td>NaN</td>\n",
       "      <td>NaN</td>\n",
       "      <td>NaN</td>\n",
       "      <td>lsidyv386a29a7 -- lsidyv386a4a87</td>\n",
       "      <td>story</td>\n",
       "      <td>Prose</td>\n",
       "      <td>lsidyv386a29a7</td>\n",
       "    </tr>\n",
       "    <tr>\n",
       "      <th>2</th>\n",
       "      <td>14828093</td>\n",
       "      <td>|||</td>\n",
       "      <td>eng</td>\n",
       "      <td>NaN</td>\n",
       "      <td>NaN</td>\n",
       "      <td>REDFERN, Francis.</td>\n",
       "      <td>NaN</td>\n",
       "      <td>History of the Town of Uttoxeter; with notices...</td>\n",
       "      <td>NaN</td>\n",
       "      <td>London, 1865.</td>\n",
       "      <td>NaN</td>\n",
       "      <td>NaN</td>\n",
       "      <td>NaN</td>\n",
       "      <td>NaN</td>\n",
       "      <td>lsidyv3c4d30a3</td>\n",
       "      <td>story</td>\n",
       "      <td>Prose</td>\n",
       "      <td>lsidyv3c4d30a3</td>\n",
       "    </tr>\n",
       "    <tr>\n",
       "      <th>3</th>\n",
       "      <td>14880318</td>\n",
       "      <td>|||</td>\n",
       "      <td>eng</td>\n",
       "      <td>NaN</td>\n",
       "      <td>NaN</td>\n",
       "      <td>SIMONDE DE SISMONDI, Jean Charles Léonard.</td>\n",
       "      <td>NaN</td>\n",
       "      <td>The History of the French ... Translated by W....</td>\n",
       "      <td>NaN</td>\n",
       "      <td>London, 1849, 50.</td>\n",
       "      <td>NaN</td>\n",
       "      <td>NaN</td>\n",
       "      <td>BELLINGHAM, William, of Lincoln's Inn.</td>\n",
       "      <td>NaN</td>\n",
       "      <td>lsidyv2af98846</td>\n",
       "      <td>story</td>\n",
       "      <td>Prose</td>\n",
       "      <td>lsidyv2af98846</td>\n",
       "    </tr>\n",
       "    <tr>\n",
       "      <th>4</th>\n",
       "      <td>14872367</td>\n",
       "      <td>|||</td>\n",
       "      <td>eng</td>\n",
       "      <td>NaN</td>\n",
       "      <td>NaN</td>\n",
       "      <td>MIKHAILOVSKY-DANILEVSKY, Aleksandr Ivanovich, ...</td>\n",
       "      <td>NaN</td>\n",
       "      <td>History of the Campaign in France in the year ...</td>\n",
       "      <td>NaN</td>\n",
       "      <td>London, 1839.</td>\n",
       "      <td>NaN</td>\n",
       "      <td>NaN</td>\n",
       "      <td>NaN</td>\n",
       "      <td>NaN</td>\n",
       "      <td>lsidyv370ba897</td>\n",
       "      <td>story</td>\n",
       "      <td>Prose</td>\n",
       "      <td>lsidyv370ba897</td>\n",
       "    </tr>\n",
       "    <tr>\n",
       "      <th>...</th>\n",
       "      <td>...</td>\n",
       "      <td>...</td>\n",
       "      <td>...</td>\n",
       "      <td>...</td>\n",
       "      <td>...</td>\n",
       "      <td>...</td>\n",
       "      <td>...</td>\n",
       "      <td>...</td>\n",
       "      <td>...</td>\n",
       "      <td>...</td>\n",
       "      <td>...</td>\n",
       "      <td>...</td>\n",
       "      <td>...</td>\n",
       "      <td>...</td>\n",
       "      <td>...</td>\n",
       "      <td>...</td>\n",
       "      <td>...</td>\n",
       "      <td>...</td>\n",
       "    </tr>\n",
       "    <tr>\n",
       "      <th>475</th>\n",
       "      <td>15743151</td>\n",
       "      <td>enk</td>\n",
       "      <td>eng</td>\n",
       "      <td>NaN</td>\n",
       "      <td>NaN</td>\n",
       "      <td>NaN</td>\n",
       "      <td>NaN</td>\n",
       "      <td>The dramatic works of Wycherley, Congreve, Van...</td>\n",
       "      <td>A new ed.</td>\n",
       "      <td>London : Edward Moxon, 1851.</td>\n",
       "      <td>NaN</td>\n",
       "      <td>NaN</td>\n",
       "      <td>Wycherley, William, 1640-1716. -- Congreve, Wi...</td>\n",
       "      <td>NaN</td>\n",
       "      <td>lsidyv349212f1</td>\n",
       "      <td>play</td>\n",
       "      <td>Drama</td>\n",
       "      <td>lsidyv349212f1</td>\n",
       "    </tr>\n",
       "    <tr>\n",
       "      <th>476</th>\n",
       "      <td>14814805</td>\n",
       "      <td>|||</td>\n",
       "      <td>eng</td>\n",
       "      <td>NaN</td>\n",
       "      <td>NaN</td>\n",
       "      <td>NaN</td>\n",
       "      <td>NaN</td>\n",
       "      <td>Looking Glass for my Poli-comedie actors in Eu...</td>\n",
       "      <td>NaN</td>\n",
       "      <td>Bombay, 1891.</td>\n",
       "      <td>NaN</td>\n",
       "      <td>NaN</td>\n",
       "      <td>NaN</td>\n",
       "      <td>NaN</td>\n",
       "      <td>lsidyv3ce84653</td>\n",
       "      <td>comedy</td>\n",
       "      <td>Drama</td>\n",
       "      <td>lsidyv3ce84653</td>\n",
       "    </tr>\n",
       "    <tr>\n",
       "      <th>477</th>\n",
       "      <td>14846809</td>\n",
       "      <td>|||</td>\n",
       "      <td>eng</td>\n",
       "      <td>NaN</td>\n",
       "      <td>NaN</td>\n",
       "      <td>ARTERTON, A.</td>\n",
       "      <td>NaN</td>\n",
       "      <td>Thespis and Melpomene. A lyrical drama, in fou...</td>\n",
       "      <td>NaN</td>\n",
       "      <td>London : London Literary Society, [1885.].</td>\n",
       "      <td>NaN</td>\n",
       "      <td>NaN</td>\n",
       "      <td>NaN</td>\n",
       "      <td>NaN</td>\n",
       "      <td>lsidyv35cf487e</td>\n",
       "      <td>play</td>\n",
       "      <td>Drama</td>\n",
       "      <td>lsidyv35cf487e</td>\n",
       "    </tr>\n",
       "    <tr>\n",
       "      <th>478</th>\n",
       "      <td>14847467</td>\n",
       "      <td>|||</td>\n",
       "      <td>eng</td>\n",
       "      <td>NaN</td>\n",
       "      <td>NaN</td>\n",
       "      <td>JENNER, Katharine Amabel.</td>\n",
       "      <td>NaN</td>\n",
       "      <td>Half-hour Plays. Rumpelstilskin and other play...</td>\n",
       "      <td>NaN</td>\n",
       "      <td>London : W. Smith &amp; Innes, 1889.</td>\n",
       "      <td>NaN</td>\n",
       "      <td>NaN</td>\n",
       "      <td>NaN</td>\n",
       "      <td>NaN</td>\n",
       "      <td>lsidyv35e8df0c</td>\n",
       "      <td>play</td>\n",
       "      <td>Drama</td>\n",
       "      <td>lsidyv35e8df0c</td>\n",
       "    </tr>\n",
       "    <tr>\n",
       "      <th>479</th>\n",
       "      <td>14867567</td>\n",
       "      <td>|||</td>\n",
       "      <td>eng</td>\n",
       "      <td>NaN</td>\n",
       "      <td>NaN</td>\n",
       "      <td>Savage, Richard, d. 1743.</td>\n",
       "      <td>NaN</td>\n",
       "      <td>Sir Thomas Overbury: a tragedy. Altered from t...</td>\n",
       "      <td>NaN</td>\n",
       "      <td>London : F. Newbery, 1777.</td>\n",
       "      <td>NaN</td>\n",
       "      <td>NaN</td>\n",
       "      <td>Woodfall, William, 1746-1803.</td>\n",
       "      <td>NaN</td>\n",
       "      <td>lsidyv36799ab2</td>\n",
       "      <td>tragedy</td>\n",
       "      <td>Drama</td>\n",
       "      <td>lsidyv36799ab2</td>\n",
       "    </tr>\n",
       "  </tbody>\n",
       "</table>\n",
       "<p>480 rows × 18 columns</p>\n",
       "</div>"
      ],
      "text/plain": [
       "     aleph system no. country code language code (008) language code (041)  \\\n",
       "0            14805618          |||                 eng                 NaN   \n",
       "1            14939494          |||                 eng                 NaN   \n",
       "2            14828093          |||                 eng                 NaN   \n",
       "3            14880318          |||                 eng                 NaN   \n",
       "4            14872367          |||                 eng                 NaN   \n",
       "..                ...          ...                 ...                 ...   \n",
       "475          15743151          enk                 eng                 NaN   \n",
       "476          14814805          |||                 eng                 NaN   \n",
       "477          14846809          |||                 eng                 NaN   \n",
       "478          14847467          |||                 eng                 NaN   \n",
       "479          14867567          |||                 eng                 NaN   \n",
       "\n",
       "     ddc                                    personal author corporate author  \\\n",
       "0    NaN                             BONNEY, Thomas George.              NaN   \n",
       "1    NaN                          FREEMAN, Edward Augustus.              NaN   \n",
       "2    NaN                                  REDFERN, Francis.              NaN   \n",
       "3    NaN        SIMONDE DE SISMONDI, Jean Charles Léonard.              NaN   \n",
       "4    NaN  MIKHAILOVSKY-DANILEVSKY, Aleksandr Ivanovich, ...              NaN   \n",
       "..   ...                                                ...              ...   \n",
       "475  NaN                                                NaN              NaN   \n",
       "476  NaN                                                NaN              NaN   \n",
       "477  NaN                                       ARTERTON, A.              NaN   \n",
       "478  NaN                          JENNER, Katharine Amabel.              NaN   \n",
       "479  NaN                          Savage, Richard, d. 1743.              NaN   \n",
       "\n",
       "                                                 title  \\\n",
       "0    The Alpine Regions of Switzerland and the neig...   \n",
       "1    [The History of the Norman Conquest of England...   \n",
       "2    History of the Town of Uttoxeter; with notices...   \n",
       "3    The History of the French ... Translated by W....   \n",
       "4    History of the Campaign in France in the year ...   \n",
       "..                                                 ...   \n",
       "475  The dramatic works of Wycherley, Congreve, Van...   \n",
       "476  Looking Glass for my Poli-comedie actors in Eu...   \n",
       "477  Thespis and Melpomene. A lyrical drama, in fou...   \n",
       "478  Half-hour Plays. Rumpelstilskin and other play...   \n",
       "479  Sir Thomas Overbury: a tragedy. Altered from t...   \n",
       "\n",
       "                                edition  \\\n",
       "0                                   NaN   \n",
       "1    Third edition, revised. vol. 1, 2.   \n",
       "2                                   NaN   \n",
       "3                                   NaN   \n",
       "4                                   NaN   \n",
       "..                                  ...   \n",
       "475                           A new ed.   \n",
       "476                                 NaN   \n",
       "477                                 NaN   \n",
       "478                                 NaN   \n",
       "479                                 NaN   \n",
       "\n",
       "                                        imprint series subjects  \\\n",
       "0       Cambridge : Deighton, Bell & Co., 1868.    NaN      NaN   \n",
       "1                                 Oxford, 1877.    NaN      NaN   \n",
       "2                                 London, 1865.    NaN      NaN   \n",
       "3                             London, 1849, 50.    NaN      NaN   \n",
       "4                                 London, 1839.    NaN      NaN   \n",
       "..                                          ...    ...      ...   \n",
       "475                London : Edward Moxon, 1851.    NaN      NaN   \n",
       "476                               Bombay, 1891.    NaN      NaN   \n",
       "477  London : London Literary Society, [1885.].    NaN      NaN   \n",
       "478            London : W. Smith & Innes, 1889.    NaN      NaN   \n",
       "479                  London : F. Newbery, 1777.    NaN      NaN   \n",
       "\n",
       "                                other personal authors  \\\n",
       "0                                     WHYMPER, Edward.   \n",
       "1                                                  NaN   \n",
       "2                                                  NaN   \n",
       "3               BELLINGHAM, William, of Lincoln's Inn.   \n",
       "4                                                  NaN   \n",
       "..                                                 ...   \n",
       "475  Wycherley, William, 1640-1716. -- Congreve, Wi...   \n",
       "476                                                NaN   \n",
       "477                                                NaN   \n",
       "478                                                NaN   \n",
       "479                      Woodfall, William, 1746-1803.   \n",
       "\n",
       "     other corporate authors                            dom id     type  \\\n",
       "0                        NaN                    lsidyv3becb649    story   \n",
       "1                        NaN  lsidyv386a29a7 -- lsidyv386a4a87    story   \n",
       "2                        NaN                    lsidyv3c4d30a3    story   \n",
       "3                        NaN                    lsidyv2af98846    story   \n",
       "4                        NaN                    lsidyv370ba897    story   \n",
       "..                       ...                               ...      ...   \n",
       "475                      NaN                    lsidyv349212f1     play   \n",
       "476                      NaN                    lsidyv3ce84653   comedy   \n",
       "477                      NaN                    lsidyv35cf487e     play   \n",
       "478                      NaN                    lsidyv35e8df0c     play   \n",
       "479                      NaN                    lsidyv36799ab2  tragedy   \n",
       "\n",
       "     genre       first_pdf  \n",
       "0    Prose  lsidyv3becb649  \n",
       "1    Prose  lsidyv386a29a7  \n",
       "2    Prose  lsidyv3c4d30a3  \n",
       "3    Prose  lsidyv2af98846  \n",
       "4    Prose  lsidyv370ba897  \n",
       "..     ...             ...  \n",
       "475  Drama  lsidyv349212f1  \n",
       "476  Drama  lsidyv3ce84653  \n",
       "477  Drama  lsidyv35cf487e  \n",
       "478  Drama  lsidyv35e8df0c  \n",
       "479  Drama  lsidyv36799ab2  \n",
       "\n",
       "[480 rows x 18 columns]"
      ]
     },
     "execution_count": 5,
     "metadata": {},
     "output_type": "execute_result"
    }
   ],
   "source": [
    "df_extra"
   ]
  },
  {
   "cell_type": "code",
   "execution_count": 6,
   "metadata": {},
   "outputs": [
    {
     "data": {
      "text/html": [
       "<div>\n",
       "<style scoped>\n",
       "    .dataframe tbody tr th:only-of-type {\n",
       "        vertical-align: middle;\n",
       "    }\n",
       "\n",
       "    .dataframe tbody tr th {\n",
       "        vertical-align: top;\n",
       "    }\n",
       "\n",
       "    .dataframe thead th {\n",
       "        text-align: right;\n",
       "    }\n",
       "</style>\n",
       "<table border=\"1\" class=\"dataframe\">\n",
       "  <thead>\n",
       "    <tr style=\"text-align: right;\">\n",
       "      <th></th>\n",
       "      <th>aleph system no.</th>\n",
       "      <th>country code</th>\n",
       "      <th>language code (008)</th>\n",
       "      <th>language code (041)</th>\n",
       "      <th>ddc</th>\n",
       "      <th>personal author</th>\n",
       "      <th>corporate author</th>\n",
       "      <th>title</th>\n",
       "      <th>edition</th>\n",
       "      <th>imprint</th>\n",
       "      <th>series</th>\n",
       "      <th>subjects</th>\n",
       "      <th>other personal authors</th>\n",
       "      <th>other corporate authors</th>\n",
       "      <th>dom id</th>\n",
       "      <th>type</th>\n",
       "      <th>genre</th>\n",
       "      <th>first_pdf</th>\n",
       "    </tr>\n",
       "  </thead>\n",
       "  <tbody>\n",
       "    <tr>\n",
       "      <th>234</th>\n",
       "      <td>14846757</td>\n",
       "      <td>|||</td>\n",
       "      <td>eng</td>\n",
       "      <td>NaN</td>\n",
       "      <td>NaN</td>\n",
       "      <td>A. A.</td>\n",
       "      <td>NaN</td>\n",
       "      <td>The Poetical Aviary, with a bird's-eye view of...</td>\n",
       "      <td>NaN</td>\n",
       "      <td>Calcutta : Privately printed, 1841.</td>\n",
       "      <td>NaN</td>\n",
       "      <td>NaN</td>\n",
       "      <td>NaN</td>\n",
       "      <td>NaN</td>\n",
       "      <td>lsidyv35c55757</td>\n",
       "      <td>poet</td>\n",
       "      <td>Poetry</td>\n",
       "      <td>lsidyv35c55757</td>\n",
       "    </tr>\n",
       "  </tbody>\n",
       "</table>\n",
       "</div>"
      ],
      "text/plain": [
       "     aleph system no. country code language code (008) language code (041)  \\\n",
       "234          14846757          |||                 eng                 NaN   \n",
       "\n",
       "     ddc personal author corporate author  \\\n",
       "234  NaN           A. A.              NaN   \n",
       "\n",
       "                                                 title edition  \\\n",
       "234  The Poetical Aviary, with a bird's-eye view of...     NaN   \n",
       "\n",
       "                                 imprint series subjects  \\\n",
       "234  Calcutta : Privately printed, 1841.    NaN      NaN   \n",
       "\n",
       "    other personal authors  other corporate authors          dom id  type  \\\n",
       "234                    NaN                      NaN  lsidyv35c55757  poet   \n",
       "\n",
       "      genre       first_pdf  \n",
       "234  Poetry  lsidyv35c55757  "
      ]
     },
     "execution_count": 6,
     "metadata": {},
     "output_type": "execute_result"
    }
   ],
   "source": [
    "# the extra metadata can be already used as a data frame\n",
    "\n",
    "df_extra[df_extra[\"first_pdf\"] == \"lsidyv35c55757\"]\n",
    "# we perform here a selection of rows which abide to a given condition. We'll see more of this later on."
   ]
  },
  {
   "attachments": {},
   "cell_type": "markdown",
   "metadata": {},
   "source": [
    "**Question**: explore this data frame and find examples of messy aspects."
   ]
  },
  {
   "cell_type": "code",
   "execution_count": 17,
   "metadata": {},
   "outputs": [
    {
     "data": {
      "text/plain": [
       "{'datefield': '1841',\n",
       " 'shelfmarks': ['British Library HMNTS 11601.ddd.2.'],\n",
       " 'publisher': 'Privately printed',\n",
       " 'title': [\"The Poetical Aviary, with a bird's-eye view of the English poets. [The preface signed: A. A.] Ms. notes\"],\n",
       " 'edition': '',\n",
       " 'flickr_url_to_book_images': 'http://www.flickr.com/photos/britishlibrary/tags/sysnum000000196',\n",
       " 'place': 'Calcutta',\n",
       " 'issuance': 'monographic',\n",
       " 'authors': {'creator': ['A. A.']},\n",
       " 'date': '1841',\n",
       " 'pdf': {'1': 'lsidyv35c55757'},\n",
       " 'identifier': '000000196',\n",
       " 'corporate': {},\n",
       " 'fulltext_filename': 'sample/full_texts/000000196_01_text.json'}"
      ]
     },
     "execution_count": 17,
     "metadata": {},
     "output_type": "execute_result"
    }
   ],
   "source": [
    "metadata[0]"
   ]
  },
  {
   "attachments": {},
   "cell_type": "markdown",
   "metadata": {},
   "source": [
    "## Create dataframes from legacy data\n",
    "\n",
    "The extra bibliographic metadata were already loaded into the `df_extra` dataframe, remember?\n",
    "\n",
    "However, book metadata and information about fulltexts are not yet stored in dataframes, so let's do that."
   ]
  },
  {
   "cell_type": "code",
   "execution_count": 6,
   "metadata": {},
   "outputs": [],
   "source": [
    "# you've probably executed already this cell at the very beginning of the notebook\n",
    "# but for the sake of readability we copy it here as well, so that it's closer to the \n",
    "# code that transforms it into a dataframe\n",
    "\n",
    "root_folder = \"../data/bl_books/sample/\"\n",
    "\n",
    "# metadata: stored in a single JSON file\n",
    "filename = \"book_data_sample.json\"\n",
    "metadata = json.load(codecs.open(os.path.join(root_folder,filename), encoding=\"utf8\"))"
   ]
  },
  {
   "attachments": {},
   "cell_type": "markdown",
   "metadata": {},
   "source": [
    "`metadata` is a list of dictionaries as the `json.load()` function reads the content of file `../data/bl_books/sample/book_data_sample.json` into a list of dictionaries.\n",
    "\n",
    "As a reminder, this is what one of these dictionaries looks like (here we are peeking at the first element of the list):"
   ]
  },
  {
   "cell_type": "code",
   "execution_count": 7,
   "metadata": {},
   "outputs": [
    {
     "data": {
      "text/plain": [
       "{'datefield': '1841',\n",
       " 'shelfmarks': ['British Library HMNTS 11601.ddd.2.'],\n",
       " 'publisher': 'Privately printed',\n",
       " 'title': [\"The Poetical Aviary, with a bird's-eye view of the English poets. [The preface signed: A. A.] Ms. notes\"],\n",
       " 'edition': '',\n",
       " 'flickr_url_to_book_images': 'http://www.flickr.com/photos/britishlibrary/tags/sysnum000000196',\n",
       " 'place': 'Calcutta',\n",
       " 'issuance': 'monographic',\n",
       " 'authors': {'creator': ['A. A.']},\n",
       " 'date': '1841',\n",
       " 'pdf': {'1': 'lsidyv35c55757'},\n",
       " 'identifier': '000000196',\n",
       " 'corporate': {},\n",
       " 'fulltext_filename': 'sample/full_texts/000000196_01_text.json'}"
      ]
     },
     "execution_count": 7,
     "metadata": {},
     "output_type": "execute_result"
    }
   ],
   "source": [
    "metadata[0]"
   ]
  },
  {
   "attachments": {},
   "cell_type": "markdown",
   "metadata": {},
   "source": [
    "Let's start by turning the content of `metadata` (list of dictionaries) into a dataframe.\n",
    "In order to do so, we create a dictionary of lists:\n",
    "- each key in the dictionary corresponds to a dataframe variable\n",
    "- each key has as a value the list of observations of that specific variable\n",
    "\n",
    "In the process, we drop some variables that we don't need at this stage (we simply ignore them and don't add them to the resulting dataframe)."
   ]
  },
  {
   "cell_type": "code",
   "execution_count": 8,
   "metadata": {},
   "outputs": [],
   "source": [
    "# let's declare the empty lists where we will store the values\n",
    "# keep in mind that each of these lists will become a column (series) of the resulting dataframe \n",
    "datefield = list() # '1841'\n",
    "publisher = list() # 'Privately printed',\n",
    "title = list() # [\"The Poetical Aviary, with a bird's-eye view of the English poets. [The preface signed: A. A.] Ms. notes\"]\n",
    "edition = list() # ''\n",
    "place = list() # 'Calcutta'\n",
    "issuance = list() # 'monographic'\n",
    "authors = list() # {'creator': ['A. A.']}\n",
    "first_pdf = list() # {'1': 'lsidyv35c55757'}\n",
    "number_volumes = list()\n",
    "identifier = list() # '000000196'\n",
    "fulltext_filename = list() # 'sample/full_texts/000000196_01_text.json'\n",
    "\n",
    "# now we can iterate through our list of dictionaries\n",
    "for book in metadata:\n",
    "    if book[\"date\"]:\n",
    "        # we keep only the first four digits of `book[\"date\"]`\n",
    "        # in order to filter out years in brackets\n",
    "        # and we cast this value to an integer\n",
    "        datefield.append(int(book[\"date\"][:4]))\n",
    "    else:\n",
    "        datefield.append(None)\n",
    "    publisher.append(book[\"publisher\"])\n",
    "    \n",
    "    # book[\"title\"] is a list, so we keep only the first title\n",
    "    title.append(book[\"title\"][0])\n",
    "    edition.append(book[\"edition\"])\n",
    "    place.append(book[\"place\"])\n",
    "    issuance.append(book[\"issuance\"])\n",
    "\n",
    "    # book[\"authors\"] contained a dictionary\n",
    "    # we flatten this dictionary into a list, which later\n",
    "    # we will spinto into a dedicated dataframe\n",
    "    if \"creator\" in book[\"authors\"].keys():\n",
    "        authors.append(book[\"authors\"][\"creator\"]) # this is a list!\n",
    "    else:\n",
    "        authors.append([''])\n",
    "    first_pdf.append(book[\"pdf\"][\"1\"])\n",
    "\n",
    "    # although we keep the fulltext of only the first volume\n",
    "    # we want to store the number of volumes for a given book (for later analysis)\n",
    "    number_volumes.append(len(book[\"pdf\"]))\n",
    "    identifier.append(book[\"identifier\"])\n",
    "    fulltext_filename.append(book[\"fulltext_filename\"].split(\"/\")[-1])"
   ]
  },
  {
   "cell_type": "code",
   "execution_count": 12,
   "metadata": {},
   "outputs": [],
   "source": [
    "# we combine all the previously created lists into a single dictionary of lists\n",
    "# which we pass directly to `pd.DataFrame.from_dict()`\n",
    "input_dict = {\n",
    "        \"datefield\": datefield,\n",
    "        \"publisher\": publisher,\n",
    "        \"title\": title,\n",
    "        \"edition\": edition,\n",
    "        \"place\": place,\n",
    "        \"issuance\": issuance,\n",
    "        \"authors\": authors,\n",
    "        \"first_pdf\": first_pdf,\n",
    "        \"number_volumes\": number_volumes,\n",
    "        \"identifier\": identifier,\n",
    "        \"fulltext_filename\": fulltext_filename\n",
    "    }\n",
    "\n",
    "df_meta = pd.DataFrame.from_dict(input_dict)"
   ]
  },
  {
   "attachments": {},
   "cell_type": "markdown",
   "metadata": {},
   "source": [
    "Before we create the dataframe, let's make sure that all the lists we just created have the same number of values = (observations):"
   ]
  },
  {
   "cell_type": "code",
   "execution_count": 9,
   "metadata": {},
   "outputs": [],
   "source": [
    "assert len(datefield) == len(publisher) == len(title) == len(edition) == len(place) == len(issuance) == len(authors) == len(first_pdf) == len(number_volumes) == len(identifier) == len(fulltext_filename)"
   ]
  },
  {
   "attachments": {},
   "cell_type": "markdown",
   "metadata": {},
   "source": [
    "Let's now create a dataframe containing the fulltexts for the books in our dataset."
   ]
  },
  {
   "cell_type": "code",
   "execution_count": 20,
   "metadata": {},
   "outputs": [],
   "source": [
    "# fulltexts: stored in several JSON files, one per book\n",
    "foldername = \"full_texts\"\n",
    "texts = defaultdict(list)\n",
    "for root, dirs, files in os.walk(os.path.join(root_folder,foldername)):\n",
    "    for f in files:\n",
    "        if \".json\" in f:\n",
    "            t = json.load(codecs.open(os.path.join(root,f), encoding=\"utf8\"))\n",
    "            texts[f] = t"
   ]
  },
  {
   "cell_type": "code",
   "execution_count": 30,
   "metadata": {},
   "outputs": [
    {
     "data": {
      "text/plain": [
       "[[1, ''],\n",
       " [2, ''],\n",
       " [3, ''],\n",
       " [4, ''],\n",
       " [5, ''],\n",
       " [6, ''],\n",
       " [7, ''],\n",
       " [8, ''],\n",
       " [9, ''],\n",
       " [10, '\\' -■\" \\' LiLitr-- )Wm&,'],\n",
       " [11,\n",
       "  'HISTORY OF THE TOWN OF GROTON, INCLUDING PEPPERELL AND SHIRLEY, FROM THE FIRST GRANT OF GROTON PLANTATION IN 1655. WITH APPENDICES, CONTAINING FAMILY REGISTERS, TOWN AND STATE OFFICERS, POPULATION, AND OTHER STATISTICS. BY CALEB BUTLER. \"Pleraque eorum quæ referam parva forsitan et levia memoratu videri, non nescius sum.\" — Tacitus. \" Small things, in the beginning of natural or politic bodies, are as remarkable as greater, in bodies full grown.\" — Qov. Dudley\\'s Letter to Countess of Lincoln. BOSTON : PRESS OF T. R. MARVIN, No. 24 Congress Street. 1848.']]"
      ]
     },
     "execution_count": 30,
     "metadata": {},
     "output_type": "execute_result"
    }
   ],
   "source": [
    "# as a reminder of what the `texts` variable contains: it's\n",
    "# a dictionary where keys are filenames and values are lists of [page_number, fulltext]\n",
    "one_filename = list(texts.keys())[0]\n",
    "texts[one_filename][:11]"
   ]
  },
  {
   "cell_type": "code",
   "execution_count": 31,
   "metadata": {},
   "outputs": [],
   "source": [
    "# texts\n",
    "how_many_pages = 50 # we reduce the amount of text to the first n pages, to make it faster to play with it\n",
    "fulltext_filename = list()\n",
    "fulltext = list()\n",
    "for f,t in texts.items():\n",
    "    fulltext_filename.append(f)\n",
    "\n",
    "    # we concatenate the first 50 pages into one string per book/document\n",
    "    text = \" \".join([line[1] for line in t][:how_many_pages])\n",
    "    fulltext.append(text)\n",
    "\n",
    "df_texts = pd.DataFrame.from_dict({\n",
    "    \"fulltext_filename\": fulltext_filename,\n",
    "    \"fulltext\": fulltext}\n",
    ")"
   ]
  },
  {
   "cell_type": "code",
   "execution_count": 32,
   "metadata": {},
   "outputs": [
    {
     "data": {
      "text/html": [
       "<div>\n",
       "<style scoped>\n",
       "    .dataframe tbody tr th:only-of-type {\n",
       "        vertical-align: middle;\n",
       "    }\n",
       "\n",
       "    .dataframe tbody tr th {\n",
       "        vertical-align: top;\n",
       "    }\n",
       "\n",
       "    .dataframe thead th {\n",
       "        text-align: right;\n",
       "    }\n",
       "</style>\n",
       "<table border=\"1\" class=\"dataframe\">\n",
       "  <thead>\n",
       "    <tr style=\"text-align: right;\">\n",
       "      <th></th>\n",
       "      <th>fulltext_filename</th>\n",
       "      <th>fulltext</th>\n",
       "    </tr>\n",
       "  </thead>\n",
       "  <tbody>\n",
       "    <tr>\n",
       "      <th>0</th>\n",
       "      <td>000551646_01_text.json</td>\n",
       "      <td>' -■\" ' LiLitr-- )Wm&amp;, HISTORY OF THE...</td>\n",
       "    </tr>\n",
       "    <tr>\n",
       "      <th>1</th>\n",
       "      <td>002674278_01_text.json</td>\n",
       "      <td>The Great Revolution of 1840. REMINISC...</td>\n",
       "    </tr>\n",
       "    <tr>\n",
       "      <th>2</th>\n",
       "      <td>001975731_01_text.json</td>\n",
       "      <td>THE REAR-GUARD OF THE REVOLUTION. BY E...</td>\n",
       "    </tr>\n",
       "    <tr>\n",
       "      <th>3</th>\n",
       "      <td>000570834_01_text.json</td>\n",
       "      <td>'Tis Well it's no Worfe: A COMEDY. As it is ...</td>\n",
       "    </tr>\n",
       "    <tr>\n",
       "      <th>4</th>\n",
       "      <td>001831273_01_text.json</td>\n",
       "      <td>OFFICIAL CORRESPONDENCE WITH THE DEPARTMEN...</td>\n",
       "    </tr>\n",
       "  </tbody>\n",
       "</table>\n",
       "</div>"
      ],
      "text/plain": [
       "        fulltext_filename                                           fulltext\n",
       "0  000551646_01_text.json           ' -■\" ' LiLitr-- )Wm&, HISTORY OF THE...\n",
       "1  002674278_01_text.json          The Great Revolution of 1840. REMINISC...\n",
       "2  001975731_01_text.json          THE REAR-GUARD OF THE REVOLUTION. BY E...\n",
       "3  000570834_01_text.json    'Tis Well it's no Worfe: A COMEDY. As it is ...\n",
       "4  001831273_01_text.json      OFFICIAL CORRESPONDENCE WITH THE DEPARTMEN..."
      ]
     },
     "execution_count": 32,
     "metadata": {},
     "output_type": "execute_result"
    }
   ],
   "source": [
    "df_texts.head()"
   ]
  },
  {
   "attachments": {},
   "cell_type": "markdown",
   "metadata": {},
   "source": [
    "## A second look\n",
    "Let's check data types and typical values to be sure of what we have."
   ]
  },
  {
   "cell_type": "code",
   "execution_count": 18,
   "metadata": {},
   "outputs": [
    {
     "data": {
      "text/plain": [
       "datefield            float64\n",
       "publisher             object\n",
       "title                 object\n",
       "edition               object\n",
       "place                 object\n",
       "issuance              object\n",
       "authors               object\n",
       "first_pdf             object\n",
       "number_volumes         int64\n",
       "identifier            object\n",
       "fulltext_filename     object\n",
       "dtype: object"
      ]
     },
     "execution_count": 18,
     "metadata": {},
     "output_type": "execute_result"
    }
   ],
   "source": [
    "df_meta.dtypes"
   ]
  },
  {
   "cell_type": "code",
   "execution_count": 19,
   "metadata": {},
   "outputs": [
    {
     "data": {
      "text/plain": [
       "<AxesSubplot:>"
      ]
     },
     "execution_count": 19,
     "metadata": {},
     "output_type": "execute_result"
    },
    {
     "data": {
      "image/png": "[encoded data removed]",
      "text/plain": [
       "<Figure size 432x288 with 1 Axes>"
      ]
     },
     "metadata": {
      "needs_background": "light"
     },
     "output_type": "display_data"
    }
   ],
   "source": [
    "df_meta[\"datefield\"].hist(bins=20)"
   ]
  },
  {
   "cell_type": "code",
   "execution_count": 20,
   "metadata": {},
   "outputs": [
    {
     "data": {
      "text/plain": [
       "<AxesSubplot:>"
      ]
     },
     "execution_count": 20,
     "metadata": {},
     "output_type": "execute_result"
    },
    {
     "data": {
      "image/png": "[encoded data removed]",
      "text/plain": [
       "<Figure size 432x288 with 1 Axes>"
      ]
     },
     "metadata": {
      "needs_background": "light"
     },
     "output_type": "display_data"
    }
   ],
   "source": [
    "df_meta[\"number_volumes\"].hist()"
   ]
  },
  {
   "cell_type": "code",
   "execution_count": 21,
   "metadata": {},
   "outputs": [
    {
     "data": {
      "text/plain": [
       "London          243\n",
       "New York         23\n",
       "Dublin           10\n",
       "Philadelphia     10\n",
       "Edinburgh         9\n",
       "enk               8\n",
       "Leeds             8\n",
       "Cambridge         6\n",
       "Boston            6\n",
       "                  5\n",
       "Oxford            5\n",
       "Name: place, dtype: int64"
      ]
     },
     "execution_count": 21,
     "metadata": {},
     "output_type": "execute_result"
    }
   ],
   "source": [
    "variable = \"place\"\n",
    "df_meta[variable].value_counts()[:11]"
   ]
  },
  {
   "cell_type": "code",
   "execution_count": 22,
   "metadata": {},
   "outputs": [
    {
     "data": {
      "text/plain": [
       "Bangor, Ma           1\n",
       "Bayonne              1\n",
       "Newcastle            1\n",
       "Framlingham          1\n",
       "Nashua               1\n",
       "J. Wiseheart         1\n",
       "Springfield, Mass    1\n",
       "New Haven            1\n",
       "Cirencester          1\n",
       "Privately printed    1\n",
       "Name: place, dtype: int64"
      ]
     },
     "execution_count": 22,
     "metadata": {},
     "output_type": "execute_result"
    }
   ],
   "source": [
    "df_meta[variable].value_counts()[-10:]"
   ]
  },
  {
   "cell_type": "code",
   "execution_count": 23,
   "metadata": {},
   "outputs": [
    {
     "data": {
      "text/plain": [
       "Prose     120\n",
       "Poetry    120\n",
       "Music     120\n",
       "Drama     120\n",
       "Name: genre, dtype: int64"
      ]
     },
     "execution_count": 23,
     "metadata": {},
     "output_type": "execute_result"
    }
   ],
   "source": [
    "df_extra[\"genre\"].value_counts()"
   ]
  },
  {
   "cell_type": "code",
   "execution_count": 24,
   "metadata": {},
   "outputs": [
    {
     "data": {
      "text/plain": [
       "story         106\n",
       "opera          79\n",
       "play           64\n",
       "ode            53\n",
       "poet           37\n",
       "song           36\n",
       "tragedy        32\n",
       "comedy         18\n",
       "verse          10\n",
       "lines           9\n",
       "recitation      6\n",
       "romance         6\n",
       "elegy           6\n",
       "melody          3\n",
       "tale            3\n",
       "novel           3\n",
       "lyric           2\n",
       "hymn            2\n",
       "satire          2\n",
       "rhyme           2\n",
       "ballad          1\n",
       "Name: type, dtype: int64"
      ]
     },
     "execution_count": 24,
     "metadata": {},
     "output_type": "execute_result"
    }
   ],
   "source": [
    "df_extra[\"type\"].value_counts()"
   ]
  },
  {
   "attachments": {},
   "cell_type": "markdown",
   "metadata": {},
   "source": [
    "**Questions**:\n",
    "    \n",
    "* 'place' seems like a reasonably uniform variable. Try with 'edition' instead, and think about how that might be more problematic.\n",
    "* While the 'genre' variable is uniform in representation, the 'type' variable is not. Can you find out what are the most well-represented types for each genre category? How might this influence our use of 'type' for analysis?"
   ]
  },
  {
   "attachments": {},
   "cell_type": "markdown",
   "metadata": {},
   "source": [
    "## UML modelling\n",
    "From an Entity-Relationship model to a relational model (tidy data).\n",
    "\n",
    "UML: Unified Modelling Language. A visual design language to go about modelling systems, including data. https://en.wikipedia.org/wiki/Unified_Modeling_Language"
   ]
  },
  {
   "cell_type": "code",
   "execution_count": 18,
   "metadata": {},
   "outputs": [
    {
     "data": {
      "text/html": [
       "<div>\n",
       "<style scoped>\n",
       "    .dataframe tbody tr th:only-of-type {\n",
       "        vertical-align: middle;\n",
       "    }\n",
       "\n",
       "    .dataframe tbody tr th {\n",
       "        vertical-align: top;\n",
       "    }\n",
       "\n",
       "    .dataframe thead th {\n",
       "        text-align: right;\n",
       "    }\n",
       "</style>\n",
       "<table border=\"1\" class=\"dataframe\">\n",
       "  <thead>\n",
       "    <tr style=\"text-align: right;\">\n",
       "      <th></th>\n",
       "      <th>datefield</th>\n",
       "      <th>publisher</th>\n",
       "      <th>title</th>\n",
       "      <th>edition</th>\n",
       "      <th>place</th>\n",
       "      <th>issuance</th>\n",
       "      <th>authors</th>\n",
       "      <th>first_pdf</th>\n",
       "      <th>number_volumes</th>\n",
       "      <th>identifier</th>\n",
       "      <th>fulltext_filename</th>\n",
       "    </tr>\n",
       "  </thead>\n",
       "  <tbody>\n",
       "    <tr>\n",
       "      <th>0</th>\n",
       "      <td>1841.0</td>\n",
       "      <td>Privately printed</td>\n",
       "      <td>The Poetical Aviary, with a bird's-eye view of...</td>\n",
       "      <td></td>\n",
       "      <td>Calcutta</td>\n",
       "      <td>monographic</td>\n",
       "      <td>[A. A.]</td>\n",
       "      <td>lsidyv35c55757</td>\n",
       "      <td>1</td>\n",
       "      <td>000000196</td>\n",
       "      <td>000000196_01_text.json</td>\n",
       "    </tr>\n",
       "  </tbody>\n",
       "</table>\n",
       "</div>"
      ],
      "text/plain": [
       "   datefield          publisher  \\\n",
       "0     1841.0  Privately printed   \n",
       "\n",
       "                                               title edition     place  \\\n",
       "0  The Poetical Aviary, with a bird's-eye view of...          Calcutta   \n",
       "\n",
       "      issuance  authors       first_pdf  number_volumes identifier  \\\n",
       "0  monographic  [A. A.]  lsidyv35c55757               1  000000196   \n",
       "\n",
       "        fulltext_filename  \n",
       "0  000000196_01_text.json  "
      ]
     },
     "execution_count": 18,
     "metadata": {},
     "output_type": "execute_result"
    }
   ],
   "source": [
    "df_meta.head(1)"
   ]
  },
  {
   "cell_type": "code",
   "execution_count": 25,
   "metadata": {},
   "outputs": [
    {
     "data": {
      "text/html": [
       "<div>\n",
       "<style scoped>\n",
       "    .dataframe tbody tr th:only-of-type {\n",
       "        vertical-align: middle;\n",
       "    }\n",
       "\n",
       "    .dataframe tbody tr th {\n",
       "        vertical-align: top;\n",
       "    }\n",
       "\n",
       "    .dataframe thead th {\n",
       "        text-align: right;\n",
       "    }\n",
       "</style>\n",
       "<table border=\"1\" class=\"dataframe\">\n",
       "  <thead>\n",
       "    <tr style=\"text-align: right;\">\n",
       "      <th></th>\n",
       "      <th>fulltext_filename</th>\n",
       "      <th>fulltext</th>\n",
       "    </tr>\n",
       "  </thead>\n",
       "  <tbody>\n",
       "    <tr>\n",
       "      <th>0</th>\n",
       "      <td>000551646_01_text.json</td>\n",
       "      <td>' -■\" ' LiLitr-- )Wm&amp;, HISTORY OF THE...</td>\n",
       "    </tr>\n",
       "    <tr>\n",
       "      <th>1</th>\n",
       "      <td>002674278_01_text.json</td>\n",
       "      <td>The Great Revolution of 1840. REMINISC...</td>\n",
       "    </tr>\n",
       "    <tr>\n",
       "      <th>2</th>\n",
       "      <td>001975731_01_text.json</td>\n",
       "      <td>THE REAR-GUARD OF THE REVOLUTION. BY E...</td>\n",
       "    </tr>\n",
       "    <tr>\n",
       "      <th>3</th>\n",
       "      <td>000570834_01_text.json</td>\n",
       "      <td>'Tis Well it's no Worfe: A COMEDY. As it is ...</td>\n",
       "    </tr>\n",
       "    <tr>\n",
       "      <th>4</th>\n",
       "      <td>001831273_01_text.json</td>\n",
       "      <td>OFFICIAL CORRESPONDENCE WITH THE DEPARTMEN...</td>\n",
       "    </tr>\n",
       "    <tr>\n",
       "      <th>...</th>\n",
       "      <td>...</td>\n",
       "      <td>...</td>\n",
       "    </tr>\n",
       "    <tr>\n",
       "      <th>448</th>\n",
       "      <td>003405646_01_text.json</td>\n",
       "      <td>M/MEA &amp; LAYCOCK Pflf^r^/iS,LŒ/)S.  l^eabon, ...</td>\n",
       "    </tr>\n",
       "    <tr>\n",
       "      <th>449</th>\n",
       "      <td>003865691_01_text.json</td>\n",
       "      <td>THE HISTORY OF A LUMP OF IRON, &lt;d|rom fit*...</td>\n",
       "    </tr>\n",
       "    <tr>\n",
       "      <th>450</th>\n",
       "      <td>000387896_01_text.json</td>\n",
       "      <td>THE HISTORY OF SALT; WITH OBSERVATIONS ON ...</td>\n",
       "    </tr>\n",
       "    <tr>\n",
       "      <th>451</th>\n",
       "      <td>001845847_01_text.json</td>\n",
       "      <td>Xeisure IDour XiPrics C. W. JAMES  LEISURE H...</td>\n",
       "    </tr>\n",
       "    <tr>\n",
       "      <th>452</th>\n",
       "      <td>000000196_01_text-checkpoint.json</td>\n",
       "      <td>THE POETICAL AVIARY, WITH A B I R D'S-E ...</td>\n",
       "    </tr>\n",
       "  </tbody>\n",
       "</table>\n",
       "<p>453 rows × 2 columns</p>\n",
       "</div>"
      ],
      "text/plain": [
       "                     fulltext_filename  \\\n",
       "0               000551646_01_text.json   \n",
       "1               002674278_01_text.json   \n",
       "2               001975731_01_text.json   \n",
       "3               000570834_01_text.json   \n",
       "4               001831273_01_text.json   \n",
       "..                                 ...   \n",
       "448             003405646_01_text.json   \n",
       "449             003865691_01_text.json   \n",
       "450             000387896_01_text.json   \n",
       "451             001845847_01_text.json   \n",
       "452  000000196_01_text-checkpoint.json   \n",
       "\n",
       "                                              fulltext  \n",
       "0             ' -■\" ' LiLitr-- )Wm&, HISTORY OF THE...  \n",
       "1            The Great Revolution of 1840. REMINISC...  \n",
       "2            THE REAR-GUARD OF THE REVOLUTION. BY E...  \n",
       "3      'Tis Well it's no Worfe: A COMEDY. As it is ...  \n",
       "4        OFFICIAL CORRESPONDENCE WITH THE DEPARTMEN...  \n",
       "..                                                 ...  \n",
       "448    M/MEA & LAYCOCK Pflf^r^/iS,LŒ/)S.  l^eabon, ...  \n",
       "449      THE HISTORY OF A LUMP OF IRON, <d|rom fit*...  \n",
       "450      THE HISTORY OF SALT; WITH OBSERVATIONS ON ...  \n",
       "451    Xeisure IDour XiPrics C. W. JAMES  LEISURE H...  \n",
       "452        THE POETICAL AVIARY, WITH A B I R D'S-E ...  \n",
       "\n",
       "[453 rows x 2 columns]"
      ]
     },
     "execution_count": 25,
     "metadata": {},
     "output_type": "execute_result"
    }
   ],
   "source": [
    "df_texts"
   ]
  },
  {
   "cell_type": "code",
   "execution_count": 19,
   "metadata": {},
   "outputs": [
    {
     "data": {
      "text/html": [
       "<div>\n",
       "<style scoped>\n",
       "    .dataframe tbody tr th:only-of-type {\n",
       "        vertical-align: middle;\n",
       "    }\n",
       "\n",
       "    .dataframe tbody tr th {\n",
       "        vertical-align: top;\n",
       "    }\n",
       "\n",
       "    .dataframe thead th {\n",
       "        text-align: right;\n",
       "    }\n",
       "</style>\n",
       "<table border=\"1\" class=\"dataframe\">\n",
       "  <thead>\n",
       "    <tr style=\"text-align: right;\">\n",
       "      <th></th>\n",
       "      <th>fulltext_filename</th>\n",
       "      <th>fulltext</th>\n",
       "    </tr>\n",
       "  </thead>\n",
       "  <tbody>\n",
       "    <tr>\n",
       "      <th>150</th>\n",
       "      <td>000000196_01_text.json</td>\n",
       "      <td>THE POETICAL AVIARY, WITH A B I R D'S-E ...</td>\n",
       "    </tr>\n",
       "  </tbody>\n",
       "</table>\n",
       "</div>"
      ],
      "text/plain": [
       "          fulltext_filename                                           fulltext\n",
       "150  000000196_01_text.json        THE POETICAL AVIARY, WITH A B I R D'S-E ..."
      ]
     },
     "execution_count": 19,
     "metadata": {},
     "output_type": "execute_result"
    }
   ],
   "source": [
    "df_texts[df_texts[\"fulltext_filename\"] == '000000196_01_text.json']"
   ]
  },
  {
   "cell_type": "code",
   "execution_count": 20,
   "metadata": {},
   "outputs": [
    {
     "data": {
      "text/html": [
       "<div>\n",
       "<style scoped>\n",
       "    .dataframe tbody tr th:only-of-type {\n",
       "        vertical-align: middle;\n",
       "    }\n",
       "\n",
       "    .dataframe tbody tr th {\n",
       "        vertical-align: top;\n",
       "    }\n",
       "\n",
       "    .dataframe thead th {\n",
       "        text-align: right;\n",
       "    }\n",
       "</style>\n",
       "<table border=\"1\" class=\"dataframe\">\n",
       "  <thead>\n",
       "    <tr style=\"text-align: right;\">\n",
       "      <th></th>\n",
       "      <th>aleph system no.</th>\n",
       "      <th>country code</th>\n",
       "      <th>language code (008)</th>\n",
       "      <th>language code (041)</th>\n",
       "      <th>ddc</th>\n",
       "      <th>personal author</th>\n",
       "      <th>corporate author</th>\n",
       "      <th>title</th>\n",
       "      <th>edition</th>\n",
       "      <th>imprint</th>\n",
       "      <th>series</th>\n",
       "      <th>subjects</th>\n",
       "      <th>other personal authors</th>\n",
       "      <th>other corporate authors</th>\n",
       "      <th>dom id</th>\n",
       "      <th>type</th>\n",
       "      <th>genre</th>\n",
       "      <th>first_pdf</th>\n",
       "    </tr>\n",
       "  </thead>\n",
       "  <tbody>\n",
       "    <tr>\n",
       "      <th>234</th>\n",
       "      <td>14846757</td>\n",
       "      <td>|||</td>\n",
       "      <td>eng</td>\n",
       "      <td>NaN</td>\n",
       "      <td>NaN</td>\n",
       "      <td>A. A.</td>\n",
       "      <td>NaN</td>\n",
       "      <td>The Poetical Aviary, with a bird's-eye view of...</td>\n",
       "      <td>NaN</td>\n",
       "      <td>Calcutta : Privately printed, 1841.</td>\n",
       "      <td>NaN</td>\n",
       "      <td>NaN</td>\n",
       "      <td>NaN</td>\n",
       "      <td>NaN</td>\n",
       "      <td>lsidyv35c55757</td>\n",
       "      <td>poet</td>\n",
       "      <td>Poetry</td>\n",
       "      <td>lsidyv35c55757</td>\n",
       "    </tr>\n",
       "  </tbody>\n",
       "</table>\n",
       "</div>"
      ],
      "text/plain": [
       "     aleph system no. country code language code (008) language code (041)  \\\n",
       "234          14846757          |||                 eng                 NaN   \n",
       "\n",
       "     ddc personal author corporate author  \\\n",
       "234  NaN           A. A.              NaN   \n",
       "\n",
       "                                                 title edition  \\\n",
       "234  The Poetical Aviary, with a bird's-eye view of...     NaN   \n",
       "\n",
       "                                 imprint series subjects  \\\n",
       "234  Calcutta : Privately printed, 1841.    NaN      NaN   \n",
       "\n",
       "    other personal authors  other corporate authors          dom id  type  \\\n",
       "234                    NaN                      NaN  lsidyv35c55757  poet   \n",
       "\n",
       "      genre       first_pdf  \n",
       "234  Poetry  lsidyv35c55757  "
      ]
     },
     "execution_count": 20,
     "metadata": {},
     "output_type": "execute_result"
    }
   ],
   "source": [
    "df_extra[df_extra[\"first_pdf\"] == \"lsidyv35c55757\"]"
   ]
  },
  {
   "attachments": {},
   "cell_type": "markdown",
   "metadata": {},
   "source": [
    "**Now we switch to the blackboard and model!**"
   ]
  },
  {
   "attachments": {},
   "cell_type": "markdown",
   "metadata": {},
   "source": [
    "## Tidy dataset: relational-model\n",
    "\n",
    "* Full view (for your curiosity): https://dbdiagram.io/d/5d06a4adfff7633dfc8e3a42\n",
    "* Reduced view (we here use this one): https://dbdiagram.io/d/5d06a5d0fff7633dfc8e3a47"
   ]
  },
  {
   "cell_type": "code",
   "execution_count": 26,
   "metadata": {},
   "outputs": [],
   "source": [
    "# first, join the extra metadata genre column to the metadata data frame. More details on joins in class 3.1.\n",
    "\n",
    "df_extra_genre = df_extra[[\"type\",\"genre\",\"first_pdf\"]]\n",
    "df_book = df_meta.join(df_extra_genre.set_index('first_pdf'), on='first_pdf')"
   ]
  },
  {
   "cell_type": "code",
   "execution_count": 27,
   "metadata": {},
   "outputs": [
    {
     "data": {
      "text/html": [
       "<div>\n",
       "<style scoped>\n",
       "    .dataframe tbody tr th:only-of-type {\n",
       "        vertical-align: middle;\n",
       "    }\n",
       "\n",
       "    .dataframe tbody tr th {\n",
       "        vertical-align: top;\n",
       "    }\n",
       "\n",
       "    .dataframe thead th {\n",
       "        text-align: right;\n",
       "    }\n",
       "</style>\n",
       "<table border=\"1\" class=\"dataframe\">\n",
       "  <thead>\n",
       "    <tr style=\"text-align: right;\">\n",
       "      <th></th>\n",
       "      <th>datefield</th>\n",
       "      <th>publisher</th>\n",
       "      <th>title</th>\n",
       "      <th>edition</th>\n",
       "      <th>place</th>\n",
       "      <th>issuance</th>\n",
       "      <th>authors</th>\n",
       "      <th>first_pdf</th>\n",
       "      <th>number_volumes</th>\n",
       "      <th>identifier</th>\n",
       "      <th>fulltext_filename</th>\n",
       "      <th>type</th>\n",
       "      <th>genre</th>\n",
       "    </tr>\n",
       "  </thead>\n",
       "  <tbody>\n",
       "    <tr>\n",
       "      <th>0</th>\n",
       "      <td>1841.0</td>\n",
       "      <td>Privately printed</td>\n",
       "      <td>The Poetical Aviary, with a bird's-eye view of...</td>\n",
       "      <td></td>\n",
       "      <td>Calcutta</td>\n",
       "      <td>monographic</td>\n",
       "      <td>[A. A.]</td>\n",
       "      <td>lsidyv35c55757</td>\n",
       "      <td>1</td>\n",
       "      <td>000000196</td>\n",
       "      <td>000000196_01_text.json</td>\n",
       "      <td>poet</td>\n",
       "      <td>Poetry</td>\n",
       "    </tr>\n",
       "  </tbody>\n",
       "</table>\n",
       "</div>"
      ],
      "text/plain": [
       "   datefield          publisher  \\\n",
       "0     1841.0  Privately printed   \n",
       "\n",
       "                                               title edition     place  \\\n",
       "0  The Poetical Aviary, with a bird's-eye view of...          Calcutta   \n",
       "\n",
       "      issuance  authors       first_pdf  number_volumes identifier  \\\n",
       "0  monographic  [A. A.]  lsidyv35c55757               1  000000196   \n",
       "\n",
       "        fulltext_filename  type   genre  \n",
       "0  000000196_01_text.json  poet  Poetry  "
      ]
     },
     "execution_count": 27,
     "metadata": {},
     "output_type": "execute_result"
    }
   ],
   "source": [
    "df_book.head(1)"
   ]
  },
  {
   "cell_type": "code",
   "execution_count": 28,
   "metadata": {},
   "outputs": [
    {
     "data": {
      "text/html": [
       "<div>\n",
       "<style scoped>\n",
       "    .dataframe tbody tr th:only-of-type {\n",
       "        vertical-align: middle;\n",
       "    }\n",
       "\n",
       "    .dataframe tbody tr th {\n",
       "        vertical-align: top;\n",
       "    }\n",
       "\n",
       "    .dataframe thead th {\n",
       "        text-align: right;\n",
       "    }\n",
       "</style>\n",
       "<table border=\"1\" class=\"dataframe\">\n",
       "  <thead>\n",
       "    <tr style=\"text-align: right;\">\n",
       "      <th></th>\n",
       "      <th>fulltext_filename</th>\n",
       "      <th>fulltext</th>\n",
       "    </tr>\n",
       "  </thead>\n",
       "  <tbody>\n",
       "    <tr>\n",
       "      <th>0</th>\n",
       "      <td>000551646_01_text.json</td>\n",
       "      <td>' -■\" ' LiLitr-- )Wm&amp;, HISTORY OF THE...</td>\n",
       "    </tr>\n",
       "    <tr>\n",
       "      <th>1</th>\n",
       "      <td>002674278_01_text.json</td>\n",
       "      <td>The Great Revolution of 1840. REMINISC...</td>\n",
       "    </tr>\n",
       "    <tr>\n",
       "      <th>2</th>\n",
       "      <td>001975731_01_text.json</td>\n",
       "      <td>THE REAR-GUARD OF THE REVOLUTION. BY E...</td>\n",
       "    </tr>\n",
       "    <tr>\n",
       "      <th>3</th>\n",
       "      <td>000570834_01_text.json</td>\n",
       "      <td>'Tis Well it's no Worfe: A COMEDY. As it is ...</td>\n",
       "    </tr>\n",
       "    <tr>\n",
       "      <th>4</th>\n",
       "      <td>001831273_01_text.json</td>\n",
       "      <td>OFFICIAL CORRESPONDENCE WITH THE DEPARTMEN...</td>\n",
       "    </tr>\n",
       "    <tr>\n",
       "      <th>...</th>\n",
       "      <td>...</td>\n",
       "      <td>...</td>\n",
       "    </tr>\n",
       "    <tr>\n",
       "      <th>448</th>\n",
       "      <td>003405646_01_text.json</td>\n",
       "      <td>M/MEA &amp; LAYCOCK Pflf^r^/iS,LŒ/)S.  l^eabon, ...</td>\n",
       "    </tr>\n",
       "    <tr>\n",
       "      <th>449</th>\n",
       "      <td>003865691_01_text.json</td>\n",
       "      <td>THE HISTORY OF A LUMP OF IRON, &lt;d|rom fit*...</td>\n",
       "    </tr>\n",
       "    <tr>\n",
       "      <th>450</th>\n",
       "      <td>000387896_01_text.json</td>\n",
       "      <td>THE HISTORY OF SALT; WITH OBSERVATIONS ON ...</td>\n",
       "    </tr>\n",
       "    <tr>\n",
       "      <th>451</th>\n",
       "      <td>001845847_01_text.json</td>\n",
       "      <td>Xeisure IDour XiPrics C. W. JAMES  LEISURE H...</td>\n",
       "    </tr>\n",
       "    <tr>\n",
       "      <th>452</th>\n",
       "      <td>000000196_01_text-checkpoint.json</td>\n",
       "      <td>THE POETICAL AVIARY, WITH A B I R D'S-E ...</td>\n",
       "    </tr>\n",
       "  </tbody>\n",
       "</table>\n",
       "<p>453 rows × 2 columns</p>\n",
       "</div>"
      ],
      "text/plain": [
       "                     fulltext_filename  \\\n",
       "0               000551646_01_text.json   \n",
       "1               002674278_01_text.json   \n",
       "2               001975731_01_text.json   \n",
       "3               000570834_01_text.json   \n",
       "4               001831273_01_text.json   \n",
       "..                                 ...   \n",
       "448             003405646_01_text.json   \n",
       "449             003865691_01_text.json   \n",
       "450             000387896_01_text.json   \n",
       "451             001845847_01_text.json   \n",
       "452  000000196_01_text-checkpoint.json   \n",
       "\n",
       "                                              fulltext  \n",
       "0             ' -■\" ' LiLitr-- )Wm&, HISTORY OF THE...  \n",
       "1            The Great Revolution of 1840. REMINISC...  \n",
       "2            THE REAR-GUARD OF THE REVOLUTION. BY E...  \n",
       "3      'Tis Well it's no Worfe: A COMEDY. As it is ...  \n",
       "4        OFFICIAL CORRESPONDENCE WITH THE DEPARTMEN...  \n",
       "..                                                 ...  \n",
       "448    M/MEA & LAYCOCK Pflf^r^/iS,LŒ/)S.  l^eabon, ...  \n",
       "449      THE HISTORY OF A LUMP OF IRON, <d|rom fit*...  \n",
       "450      THE HISTORY OF SALT; WITH OBSERVATIONS ON ...  \n",
       "451    Xeisure IDour XiPrics C. W. JAMES  LEISURE H...  \n",
       "452        THE POETICAL AVIARY, WITH A B I R D'S-E ...  \n",
       "\n",
       "[453 rows x 2 columns]"
      ]
     },
     "execution_count": 28,
     "metadata": {},
     "output_type": "execute_result"
    }
   ],
   "source": [
    "df_texts"
   ]
  },
  {
   "cell_type": "code",
   "execution_count": 21,
   "metadata": {},
   "outputs": [
    {
     "data": {
      "text/html": [
       "<div>\n",
       "<style scoped>\n",
       "    .dataframe tbody tr th:only-of-type {\n",
       "        vertical-align: middle;\n",
       "    }\n",
       "\n",
       "    .dataframe tbody tr th {\n",
       "        vertical-align: top;\n",
       "    }\n",
       "\n",
       "    .dataframe thead th {\n",
       "        text-align: right;\n",
       "    }\n",
       "</style>\n",
       "<table border=\"1\" class=\"dataframe\">\n",
       "  <thead>\n",
       "    <tr style=\"text-align: right;\">\n",
       "      <th></th>\n",
       "      <th>identifier</th>\n",
       "    </tr>\n",
       "    <tr>\n",
       "      <th>fulltext_filename</th>\n",
       "      <th></th>\n",
       "    </tr>\n",
       "  </thead>\n",
       "  <tbody>\n",
       "    <tr>\n",
       "      <th>000000196_01_text.json</th>\n",
       "      <td>000000196</td>\n",
       "    </tr>\n",
       "    <tr>\n",
       "      <th>000004047_01_text.json</th>\n",
       "      <td>000004047</td>\n",
       "    </tr>\n",
       "    <tr>\n",
       "      <th>000005382_01_text.json</th>\n",
       "      <td>000005382</td>\n",
       "    </tr>\n",
       "    <tr>\n",
       "      <th>000014627_01_text.json</th>\n",
       "      <td>000014627</td>\n",
       "    </tr>\n",
       "    <tr>\n",
       "      <th>000017057_01_text.json</th>\n",
       "      <td>000017057</td>\n",
       "    </tr>\n",
       "    <tr>\n",
       "      <th>...</th>\n",
       "      <td>...</td>\n",
       "    </tr>\n",
       "    <tr>\n",
       "      <th>003988464_01_text.json</th>\n",
       "      <td>003988464</td>\n",
       "    </tr>\n",
       "    <tr>\n",
       "      <th>003988508_01_text.json</th>\n",
       "      <td>003988508</td>\n",
       "    </tr>\n",
       "    <tr>\n",
       "      <th>003999073_01_text.json</th>\n",
       "      <td>003999073</td>\n",
       "    </tr>\n",
       "    <tr>\n",
       "      <th>004088697_01_text.json</th>\n",
       "      <td>004088697</td>\n",
       "    </tr>\n",
       "    <tr>\n",
       "      <th>004088699_01_text.json</th>\n",
       "      <td>004088699</td>\n",
       "    </tr>\n",
       "  </tbody>\n",
       "</table>\n",
       "<p>452 rows × 1 columns</p>\n",
       "</div>"
      ],
      "text/plain": [
       "                       identifier\n",
       "fulltext_filename                \n",
       "000000196_01_text.json  000000196\n",
       "000004047_01_text.json  000004047\n",
       "000005382_01_text.json  000005382\n",
       "000014627_01_text.json  000014627\n",
       "000017057_01_text.json  000017057\n",
       "...                           ...\n",
       "003988464_01_text.json  003988464\n",
       "003988508_01_text.json  003988508\n",
       "003999073_01_text.json  003999073\n",
       "004088697_01_text.json  004088697\n",
       "004088699_01_text.json  004088699\n",
       "\n",
       "[452 rows x 1 columns]"
      ]
     },
     "execution_count": 21,
     "metadata": {},
     "output_type": "execute_result"
    }
   ],
   "source": [
    "df_book[[\"identifier\",\"fulltext_filename\"]].set_index('fulltext_filename')"
   ]
  },
  {
   "cell_type": "code",
   "execution_count": 29,
   "metadata": {},
   "outputs": [
    {
     "data": {
      "text/html": [
       "<div>\n",
       "<style scoped>\n",
       "    .dataframe tbody tr th:only-of-type {\n",
       "        vertical-align: middle;\n",
       "    }\n",
       "\n",
       "    .dataframe tbody tr th {\n",
       "        vertical-align: top;\n",
       "    }\n",
       "\n",
       "    .dataframe thead th {\n",
       "        text-align: right;\n",
       "    }\n",
       "</style>\n",
       "<table border=\"1\" class=\"dataframe\">\n",
       "  <thead>\n",
       "    <tr style=\"text-align: right;\">\n",
       "      <th></th>\n",
       "      <th>fulltext_filename</th>\n",
       "      <th>fulltext</th>\n",
       "      <th>book_id</th>\n",
       "    </tr>\n",
       "  </thead>\n",
       "  <tbody>\n",
       "    <tr>\n",
       "      <th>0</th>\n",
       "      <td>000551646_01_text.json</td>\n",
       "      <td>' -■\" ' LiLitr-- )Wm&amp;, HISTORY OF THE...</td>\n",
       "      <td>000551646</td>\n",
       "    </tr>\n",
       "    <tr>\n",
       "      <th>1</th>\n",
       "      <td>002674278_01_text.json</td>\n",
       "      <td>The Great Revolution of 1840. REMINISC...</td>\n",
       "      <td>002674278</td>\n",
       "    </tr>\n",
       "    <tr>\n",
       "      <th>2</th>\n",
       "      <td>001975731_01_text.json</td>\n",
       "      <td>THE REAR-GUARD OF THE REVOLUTION. BY E...</td>\n",
       "      <td>001975731</td>\n",
       "    </tr>\n",
       "  </tbody>\n",
       "</table>\n",
       "</div>"
      ],
      "text/plain": [
       "        fulltext_filename                                           fulltext  \\\n",
       "0  000551646_01_text.json           ' -■\" ' LiLitr-- )Wm&, HISTORY OF THE...   \n",
       "1  002674278_01_text.json          The Great Revolution of 1840. REMINISC...   \n",
       "2  001975731_01_text.json          THE REAR-GUARD OF THE REVOLUTION. BY E...   \n",
       "\n",
       "     book_id  \n",
       "0  000551646  \n",
       "1  002674278  \n",
       "2  001975731  "
      ]
     },
     "execution_count": 29,
     "metadata": {},
     "output_type": "execute_result"
    }
   ],
   "source": [
    "# second, add the book_id to the book_text dataframe\n",
    "\n",
    "df_book_text = df_texts.join(df_book[[\"identifier\",\"fulltext_filename\"]].set_index('fulltext_filename'), on='fulltext_filename')\n",
    "df_book_text = df_book_text.rename(columns={\"identifier\":\"book_id\"})\n",
    "df_book_text.head(3)"
   ]
  },
  {
   "cell_type": "code",
   "execution_count": 30,
   "metadata": {},
   "outputs": [],
   "source": [
    "# third, pull our author information and create the author table and the author-book table\n",
    "\n",
    "author_id = 0 # this is a counter which provides for a distinct identifier to every author\n",
    "author_dict = OrderedDict()\n",
    "author_book_table = {\"book_id\":list(),\"author_id\":list()}\n",
    "for book_id, authors in df_book[[\"identifier\",\"authors\"]].values:\n",
    "    for author in authors:\n",
    "        if author not in author_dict.keys():\n",
    "            author_dict[author] = author_id\n",
    "            author_id += 1\n",
    "        author_book_table[\"book_id\"].append(book_id)\n",
    "        author_book_table[\"author_id\"].append(author_dict[author])\n",
    "        \n",
    "df_author_book = pd.DataFrame.from_dict(author_book_table)\n",
    "df_author = pd.DataFrame.from_dict({\"name\":[v for v in author_dict.keys()],\n",
    "                                   \"id\":[k for k in author_dict.values()]})\n",
    "df_author.set_index(\"id\", inplace=True)"
   ]
  },
  {
   "cell_type": "code",
   "execution_count": 31,
   "metadata": {},
   "outputs": [
    {
     "data": {
      "text/html": [
       "<div>\n",
       "<style scoped>\n",
       "    .dataframe tbody tr th:only-of-type {\n",
       "        vertical-align: middle;\n",
       "    }\n",
       "\n",
       "    .dataframe tbody tr th {\n",
       "        vertical-align: top;\n",
       "    }\n",
       "\n",
       "    .dataframe thead th {\n",
       "        text-align: right;\n",
       "    }\n",
       "</style>\n",
       "<table border=\"1\" class=\"dataframe\">\n",
       "  <thead>\n",
       "    <tr style=\"text-align: right;\">\n",
       "      <th></th>\n",
       "      <th>name</th>\n",
       "    </tr>\n",
       "    <tr>\n",
       "      <th>id</th>\n",
       "      <th></th>\n",
       "    </tr>\n",
       "  </thead>\n",
       "  <tbody>\n",
       "    <tr>\n",
       "      <th>0</th>\n",
       "      <td>A. A.</td>\n",
       "    </tr>\n",
       "    <tr>\n",
       "      <th>1</th>\n",
       "      <td>Abbott, Evelyn</td>\n",
       "    </tr>\n",
       "    <tr>\n",
       "      <th>2</th>\n",
       "      <td>A'BECKETT, Gilbert Abbott.</td>\n",
       "    </tr>\n",
       "  </tbody>\n",
       "</table>\n",
       "</div>"
      ],
      "text/plain": [
       "                          name\n",
       "id                            \n",
       "0                        A. A.\n",
       "1               Abbott, Evelyn\n",
       "2   A'BECKETT, Gilbert Abbott."
      ]
     },
     "execution_count": 31,
     "metadata": {},
     "output_type": "execute_result"
    }
   ],
   "source": [
    "df_author.head(3)"
   ]
  },
  {
   "cell_type": "code",
   "execution_count": 26,
   "metadata": {},
   "outputs": [
    {
     "data": {
      "text/html": [
       "<div>\n",
       "<style scoped>\n",
       "    .dataframe tbody tr th:only-of-type {\n",
       "        vertical-align: middle;\n",
       "    }\n",
       "\n",
       "    .dataframe tbody tr th {\n",
       "        vertical-align: top;\n",
       "    }\n",
       "\n",
       "    .dataframe thead th {\n",
       "        text-align: right;\n",
       "    }\n",
       "</style>\n",
       "<table border=\"1\" class=\"dataframe\">\n",
       "  <thead>\n",
       "    <tr style=\"text-align: right;\">\n",
       "      <th></th>\n",
       "      <th>book_id</th>\n",
       "      <th>author_id</th>\n",
       "    </tr>\n",
       "  </thead>\n",
       "  <tbody>\n",
       "    <tr>\n",
       "      <th>0</th>\n",
       "      <td>000000196</td>\n",
       "      <td>0</td>\n",
       "    </tr>\n",
       "    <tr>\n",
       "      <th>1</th>\n",
       "      <td>000004047</td>\n",
       "      <td>1</td>\n",
       "    </tr>\n",
       "    <tr>\n",
       "      <th>2</th>\n",
       "      <td>000005382</td>\n",
       "      <td>2</td>\n",
       "    </tr>\n",
       "  </tbody>\n",
       "</table>\n",
       "</div>"
      ],
      "text/plain": [
       "     book_id  author_id\n",
       "0  000000196          0\n",
       "1  000004047          1\n",
       "2  000005382          2"
      ]
     },
     "execution_count": 26,
     "metadata": {},
     "output_type": "execute_result"
    }
   ],
   "source": [
    "df_author_book.head(3)"
   ]
  },
  {
   "cell_type": "code",
   "execution_count": 32,
   "metadata": {},
   "outputs": [],
   "source": [
    "# drop authors from df_books\n",
    "df_book.drop(columns=[\"authors\"], inplace=True)"
   ]
  },
  {
   "attachments": {},
   "cell_type": "markdown",
   "metadata": {},
   "source": [
    "*Note: you don't need to do this: these dataframes are already there!*"
   ]
  },
  {
   "cell_type": "code",
   "execution_count": 33,
   "metadata": {},
   "outputs": [],
   "source": [
    "# let's now save our data frames for future use\n",
    "root_folder = \"../data/bl_books/sample_tidy/\"\n",
    "df_book.to_csv(os.path.join(root_folder,\"df_book.csv\"), index=False)\n",
    "df_author.to_csv(os.path.join(root_folder,\"df_author.csv\"), index=False)\n",
    "df_author_book.to_csv(os.path.join(root_folder,\"df_author_book.csv\"), index=False)\n",
    "df_book_text.to_csv(os.path.join(root_folder,\"df_book_text.csv\"), index=False)"
   ]
  },
  {
   "attachments": {},
   "cell_type": "markdown",
   "metadata": {},
   "source": [
    "## A last look at the tidy dataset\n",
    "\n",
    "**Questions**:\n",
    "* how many authors are there? Are there books with more than one author? And authors who published more than one book?\n",
    "* How many books per genre do we have?\n",
    "* What is the typical year of publication of our books?"
   ]
  },
  {
   "attachments": {},
   "cell_type": "markdown",
   "metadata": {},
   "source": [
    "## SQL and relational databases\n",
    "\n",
    "Our tidy dataset is structured now as a relational database. \n",
    "\n",
    "SQL (Structured Query Language) is the general language to query such databases. https://en.wikipedia.org/wiki/SQL\n",
    "\n",
    "MySQL and Postgresql are common implementation of relational databases."
   ]
  },
  {
   "attachments": {},
   "cell_type": "markdown",
   "metadata": {},
   "source": [
    "To demonstrate how to load data from an SQL DB into a pandas dataframe, we create an instance of an SQLite DB (which lives in the memory of your computer and it's not persisted to disk) and load the datafrane we just created into it."
   ]
  },
  {
   "cell_type": "code",
   "execution_count": 50,
   "metadata": {},
   "outputs": [],
   "source": [
    "from sqlalchemy import create_engine\n",
    "from sqlalchemy.types import Integer\n",
    "\n",
    "# this is our SQLite DB\n",
    "engine = create_engine('sqlite://', echo=False)"
   ]
  },
  {
   "cell_type": "code",
   "execution_count": 51,
   "metadata": {},
   "outputs": [],
   "source": [
    "# we load the book dataframe we just created\n",
    "root_folder = \"../data/bl_books/sample_tidy/\"\n",
    "df_book = pd.read_csv(os.path.join(root_folder,\"df_book.csv\"))"
   ]
  },
  {
   "cell_type": "code",
   "execution_count": 52,
   "metadata": {},
   "outputs": [
    {
     "data": {
      "text/plain": [
       "452"
      ]
     },
     "execution_count": 52,
     "metadata": {},
     "output_type": "execute_result"
    }
   ],
   "source": [
    "# we now create an SQL table containing rows from `df_book`\n",
    "# the new table is called `books`\n",
    "df_book.to_sql('books', con=engine, index=False, dtype={\"datefield\": Integer()})"
   ]
  },
  {
   "cell_type": "code",
   "execution_count": 53,
   "metadata": {},
   "outputs": [
    {
     "data": {
      "text/plain": [
       "[(1841, 'Privately printed', \"The Poetical Aviary, with a bird's-eye view of the English poets. [The preface signed: A. A.] Ms. notes\", None, 'Calcutta', 'monographic', 'lsidyv35c55757', 1, 196, '000000196_01_text.json', 'poet', 'Poetry'),\n",
       " (1888, 'Rivingtons', 'A History of Greece. Part I. From the earliest times to the Ionian Revolt', None, 'London', 'monographic', 'lsidyv376da437', 1, 4047, '000004047_01_text.json', 'story', 'Prose'),\n",
       " (1847, 'Punch Office', 'The Comic History of England ... With ... coloured etchings, and ... woodcuts, by John Leech', None, 'London', 'monographic', 'lsidyv38b27a31', 1, 5382, '000005382_01_text.json', 'story', 'Prose'),\n",
       " (1892, 'Eden, Remington & Co.', \"The Cruise of “The Tomahawk”: the story of a summer's holiday in prose and rhyme. By Mrs. R. S. de C. Laffan ... assisted by “Stroke” and “Bow.”\", None, 'London', 'monographic', 'lsidyv3c4a946a', 1, 14627, '000014627_01_text.json', 'rhyme', 'Poetry'),\n",
       " (1863, 'Virtue Bros. & Co.', 'Scenes from the Drama of European History', None, 'London', 'monographic', 'lsidyv32c34c22', 1, 17057, '000017057_01_text.json', 'play', 'Drama')]"
      ]
     },
     "execution_count": 53,
     "metadata": {},
     "output_type": "execute_result"
    }
   ],
   "source": [
    "# we can execute SQL queries on the table we just created\n",
    "sql_query = \"SELECT * FROM books LIMIT 5\"\n",
    "engine.execute(sql_query).fetchall()"
   ]
  },
  {
   "cell_type": "code",
   "execution_count": 54,
   "metadata": {},
   "outputs": [],
   "source": [
    "# and we can also create a dataframe from a DB table\n",
    "# by using pandas' `read_sql_query()` function\n",
    "sql_query = \"SELECT * FROM books\"\n",
    "df_books_fromDB = pd.read_sql_query(sql_query, engine)"
   ]
  },
  {
   "cell_type": "code",
   "execution_count": 55,
   "metadata": {},
   "outputs": [
    {
     "data": {
      "text/html": [
       "<div>\n",
       "<style scoped>\n",
       "    .dataframe tbody tr th:only-of-type {\n",
       "        vertical-align: middle;\n",
       "    }\n",
       "\n",
       "    .dataframe tbody tr th {\n",
       "        vertical-align: top;\n",
       "    }\n",
       "\n",
       "    .dataframe thead th {\n",
       "        text-align: right;\n",
       "    }\n",
       "</style>\n",
       "<table border=\"1\" class=\"dataframe\">\n",
       "  <thead>\n",
       "    <tr style=\"text-align: right;\">\n",
       "      <th></th>\n",
       "      <th>datefield</th>\n",
       "      <th>publisher</th>\n",
       "      <th>title</th>\n",
       "      <th>edition</th>\n",
       "      <th>place</th>\n",
       "      <th>issuance</th>\n",
       "      <th>first_pdf</th>\n",
       "      <th>number_volumes</th>\n",
       "      <th>identifier</th>\n",
       "      <th>fulltext_filename</th>\n",
       "      <th>type</th>\n",
       "      <th>genre</th>\n",
       "    </tr>\n",
       "  </thead>\n",
       "  <tbody>\n",
       "    <tr>\n",
       "      <th>0</th>\n",
       "      <td>1841.0</td>\n",
       "      <td>Privately printed</td>\n",
       "      <td>The Poetical Aviary, with a bird's-eye view of...</td>\n",
       "      <td>None</td>\n",
       "      <td>Calcutta</td>\n",
       "      <td>monographic</td>\n",
       "      <td>lsidyv35c55757</td>\n",
       "      <td>1</td>\n",
       "      <td>196</td>\n",
       "      <td>000000196_01_text.json</td>\n",
       "      <td>poet</td>\n",
       "      <td>Poetry</td>\n",
       "    </tr>\n",
       "    <tr>\n",
       "      <th>1</th>\n",
       "      <td>1888.0</td>\n",
       "      <td>Rivingtons</td>\n",
       "      <td>A History of Greece. Part I. From the earliest...</td>\n",
       "      <td>None</td>\n",
       "      <td>London</td>\n",
       "      <td>monographic</td>\n",
       "      <td>lsidyv376da437</td>\n",
       "      <td>1</td>\n",
       "      <td>4047</td>\n",
       "      <td>000004047_01_text.json</td>\n",
       "      <td>story</td>\n",
       "      <td>Prose</td>\n",
       "    </tr>\n",
       "    <tr>\n",
       "      <th>2</th>\n",
       "      <td>1847.0</td>\n",
       "      <td>Punch Office</td>\n",
       "      <td>The Comic History of England ... With ... colo...</td>\n",
       "      <td>None</td>\n",
       "      <td>London</td>\n",
       "      <td>monographic</td>\n",
       "      <td>lsidyv38b27a31</td>\n",
       "      <td>1</td>\n",
       "      <td>5382</td>\n",
       "      <td>000005382_01_text.json</td>\n",
       "      <td>story</td>\n",
       "      <td>Prose</td>\n",
       "    </tr>\n",
       "    <tr>\n",
       "      <th>3</th>\n",
       "      <td>1892.0</td>\n",
       "      <td>Eden, Remington &amp; Co.</td>\n",
       "      <td>The Cruise of “The Tomahawk”: the story of a s...</td>\n",
       "      <td>None</td>\n",
       "      <td>London</td>\n",
       "      <td>monographic</td>\n",
       "      <td>lsidyv3c4a946a</td>\n",
       "      <td>1</td>\n",
       "      <td>14627</td>\n",
       "      <td>000014627_01_text.json</td>\n",
       "      <td>rhyme</td>\n",
       "      <td>Poetry</td>\n",
       "    </tr>\n",
       "    <tr>\n",
       "      <th>4</th>\n",
       "      <td>1863.0</td>\n",
       "      <td>Virtue Bros. &amp; Co.</td>\n",
       "      <td>Scenes from the Drama of European History</td>\n",
       "      <td>None</td>\n",
       "      <td>London</td>\n",
       "      <td>monographic</td>\n",
       "      <td>lsidyv32c34c22</td>\n",
       "      <td>1</td>\n",
       "      <td>17057</td>\n",
       "      <td>000017057_01_text.json</td>\n",
       "      <td>play</td>\n",
       "      <td>Drama</td>\n",
       "    </tr>\n",
       "  </tbody>\n",
       "</table>\n",
       "</div>"
      ],
      "text/plain": [
       "   datefield              publisher  \\\n",
       "0     1841.0      Privately printed   \n",
       "1     1888.0             Rivingtons   \n",
       "2     1847.0           Punch Office   \n",
       "3     1892.0  Eden, Remington & Co.   \n",
       "4     1863.0     Virtue Bros. & Co.   \n",
       "\n",
       "                                               title edition     place  \\\n",
       "0  The Poetical Aviary, with a bird's-eye view of...    None  Calcutta   \n",
       "1  A History of Greece. Part I. From the earliest...    None    London   \n",
       "2  The Comic History of England ... With ... colo...    None    London   \n",
       "3  The Cruise of “The Tomahawk”: the story of a s...    None    London   \n",
       "4          Scenes from the Drama of European History    None    London   \n",
       "\n",
       "      issuance       first_pdf  number_volumes  identifier  \\\n",
       "0  monographic  lsidyv35c55757               1         196   \n",
       "1  monographic  lsidyv376da437               1        4047   \n",
       "2  monographic  lsidyv38b27a31               1        5382   \n",
       "3  monographic  lsidyv3c4a946a               1       14627   \n",
       "4  monographic  lsidyv32c34c22               1       17057   \n",
       "\n",
       "        fulltext_filename   type   genre  \n",
       "0  000000196_01_text.json   poet  Poetry  \n",
       "1  000004047_01_text.json  story   Prose  \n",
       "2  000005382_01_text.json  story   Prose  \n",
       "3  000014627_01_text.json  rhyme  Poetry  \n",
       "4  000017057_01_text.json   play   Drama  "
      ]
     },
     "execution_count": 55,
     "metadata": {},
     "output_type": "execute_result"
    }
   ],
   "source": [
    "df_books_fromDB.head(5)"
   ]
  }
 ],
 "metadata": {
  "kernelspec": {
   "display_name": "Python 3 (ipykernel)",
   "language": "python",
   "name": "python3"
  },
  "language_info": {
   "codemirror_mode": {
    "name": "ipython",
    "version": 3
   },
   "file_extension": ".py",
   "mimetype": "text/x-python",
   "name": "python",
   "nbconvert_exporter": "python",
   "pygments_lexer": "ipython3",
   "version": "3.10.0"
  },
  "toc": {
   "base_numbering": 1,
   "nav_menu": {},
   "number_sections": true,
   "sideBar": true,
   "skip_h1_title": false,
   "title_cell": "Table of Contents",
   "title_sidebar": "Contents",
   "toc_cell": false,
   "toc_position": {},
   "toc_section_display": true,
   "toc_window_display": false
  }
 },
 "nbformat": 4,
 "nbformat_minor": 4
}
