{
 "cells": [
  {
   "attachments": {},
   "cell_type": "markdown",
   "id": "93a83b3b",
   "metadata": {
    "hide_input": false
   },
   "source": [
    "# 🐍 Requirements check\n",
    "\n",
    "🎯 The purpose of this notebook is to allow you to check whether your knowledge of and familiarity with Python programming are sufficient for taking the **advanced course** *Applied Data Analysis* strand at the Digital Humanities Summer School at Oxford. To this end, the notebook contains a few questions and excercises (marked with ❓): if you are at ease with all the topics they cover, you'll be able to follow along the new topics taught at the ADA course.\n",
    "\n",
    "The solutions to questions/excercises (marked with 🔍) were removed from this notebook but they are contained in a separate notebook, called `0_Requirements_check_solutions.ipynb`. Here are the links to view/run the notebook with solutions:\n",
    "- (**runnable** notebook) [mybinder link](https://mybinder.org/v2/gh/mromanello/ADA-DHOxSS/update-dhoxss2023?labpath=notebooks/0_Requirements_check_solutions.ipynb)\n",
    "- (**local** notebook) [`0_Requirements_check_solutions.ipynb`](./0_Requirements_check_solutions.ipynb)"
   ]
  },
  {
   "attachments": {},
   "cell_type": "markdown",
   "id": "4efa786b",
   "metadata": {},
   "source": [
    "## Data types"
   ]
  },
  {
   "attachments": {},
   "cell_type": "markdown",
   "id": "c03ae4dd",
   "metadata": {},
   "source": [
    "### Integers and strings"
   ]
  },
  {
   "attachments": {},
   "cell_type": "markdown",
   "id": "3466ae93",
   "metadata": {},
   "source": [
    "Let's consider two variables named `value_1` and `value_2`, instatiated as follows:"
   ]
  },
  {
   "cell_type": "code",
   "execution_count": null,
   "id": "39dcf1ad",
   "metadata": {},
   "outputs": [],
   "source": [
    "value_1 = \"10\"\n",
    "value_2 = 20"
   ]
  },
  {
   "attachments": {},
   "cell_type": "markdown",
   "id": "5a8b076f",
   "metadata": {},
   "source": [
    "❓What value (or outcome) do you expect when summing (`+`) the values of these two variables?"
   ]
  },
  {
   "cell_type": "code",
   "execution_count": null,
   "id": "99850ff5",
   "metadata": {},
   "outputs": [],
   "source": [
    "value_1 + value_2"
   ]
  },
  {
   "attachments": {},
   "cell_type": "markdown",
   "id": "70b0870c",
   "metadata": {},
   "source": [
    "📃 Write your solution here."
   ]
  },
  {
   "attachments": {},
   "cell_type": "markdown",
   "id": "7ac92990",
   "metadata": {},
   "source": [
    "❓How can the cell above be changed so that it can be executed without raising exceptions? (**hint**: there may be more than one way to do so)"
   ]
  },
  {
   "attachments": {},
   "cell_type": "markdown",
   "id": "b3641ba5",
   "metadata": {},
   "source": [
    "📃 Write your solution here."
   ]
  },
  {
   "attachments": {},
   "cell_type": "markdown",
   "id": "aa6ffd02",
   "metadata": {},
   "source": [
    "### Lists"
   ]
  },
  {
   "attachments": {},
   "cell_type": "markdown",
   "id": "cb0e7697",
   "metadata": {},
   "source": [
    "Let's imagine a spreadsheet containing catalogue data about an archeological collection of a museum. \n",
    "We take only the first 10 records, and select the column containing an indication of the type of object:"
   ]
  },
  {
   "cell_type": "code",
   "execution_count": null,
   "id": "f4373ace",
   "metadata": {},
   "outputs": [],
   "source": [
    "artefact_type = [\n",
    "    \"kantharos\",\n",
    "    \"kylix\",\n",
    "    \"krater\",\n",
    "    \"dinos\",\n",
    "    \"kylix\",\n",
    "    \"kantharos\",\n",
    "    \"amphora\",\n",
    "    \"amphora\",\n",
    "    \"amphora\",\n",
    "    \"amphora\",\n",
    "]"
   ]
  },
  {
   "attachments": {},
   "cell_type": "markdown",
   "id": "5d027279",
   "metadata": {},
   "source": [
    "❓ Write an expression to select the 1st item in this list."
   ]
  },
  {
   "cell_type": "code",
   "execution_count": null,
   "id": "415d4509",
   "metadata": {},
   "outputs": [],
   "source": [
    "# 📃 Write your solution here"
   ]
  },
  {
   "attachments": {},
   "cell_type": "markdown",
   "id": "25a42945",
   "metadata": {},
   "source": [
    "❓ Write now an expression to select the last item. "
   ]
  },
  {
   "cell_type": "code",
   "execution_count": null,
   "id": "68d67635",
   "metadata": {},
   "outputs": [],
   "source": [
    "# 📃 Write your solution here"
   ]
  },
  {
   "attachments": {},
   "cell_type": "markdown",
   "id": "38c38a31",
   "metadata": {},
   "source": [
    "❓ And what about retrieving the last 4 items?"
   ]
  },
  {
   "cell_type": "code",
   "execution_count": null,
   "id": "35b40697",
   "metadata": {},
   "outputs": [],
   "source": [
    "# 📃 Write your solution here"
   ]
  },
  {
   "attachments": {},
   "cell_type": "markdown",
   "id": "5312619d",
   "metadata": {},
   "source": [
    "### Dictionaries"
   ]
  },
  {
   "attachments": {},
   "cell_type": "markdown",
   "id": "d4232aba",
   "metadata": {},
   "source": [
    "Building upon the example above, let's imagine that we have a dictionary associating the artefact identifier with its type as in the following:"
   ]
  },
  {
   "cell_type": "code",
   "execution_count": null,
   "id": "0b2b6ceb",
   "metadata": {},
   "outputs": [],
   "source": [
    "artefact_type_by_id = {\n",
    "    'P135':'kantharos',\n",
    "    'A781':'kylix',\n",
    "    'Q444':'krater',\n",
    "    'D912':'dinos',\n",
    "    'B111':'kylix',\n",
    "    'C789':'kantharos',\n",
    "    'Z908':'amphora',\n",
    "    'W222':'amphora',\n",
    "    'S456':'amphora',\n",
    "    'F289':'amphora'\n",
    "}"
   ]
  },
  {
   "attachments": {},
   "cell_type": "markdown",
   "id": "7c57b731",
   "metadata": {},
   "source": [
    "❓Write an expression returning from the dictionary `artefact_type_by_id` the value `dinos`."
   ]
  },
  {
   "cell_type": "code",
   "execution_count": null,
   "id": "c6bb1751",
   "metadata": {},
   "outputs": [],
   "source": [
    "# 📃 Write your solution here"
   ]
  },
  {
   "attachments": {},
   "cell_type": "markdown",
   "id": "f151574c",
   "metadata": {},
   "source": [
    "## Control flow statements"
   ]
  },
  {
   "attachments": {},
   "cell_type": "markdown",
   "id": "256c0c17",
   "metadata": {},
   "source": [
    "### Repetition (`for`)"
   ]
  },
  {
   "attachments": {},
   "cell_type": "markdown",
   "id": "ab1b98ce",
   "metadata": {},
   "source": [
    "Let's imagine you want to capitalize the artefact type contained in the list `artefact_type`, which we defined a few cells above.\n",
    "\n",
    "The following sequence of instructions will do:"
   ]
  },
  {
   "cell_type": "code",
   "execution_count": null,
   "id": "b4a24c40",
   "metadata": {},
   "outputs": [],
   "source": [
    "artefact_type[0] = artefact_type[0].upper()\n",
    "artefact_type[1] = artefact_type[1].upper()\n",
    "artefact_type[2] = artefact_type[2].upper()\n",
    "artefact_type[3] = artefact_type[3].upper()\n",
    "artefact_type[4] = artefact_type[4].upper()\n",
    "artefact_type[5] = artefact_type[5].upper()\n",
    "artefact_type[6] = artefact_type[6].upper()\n",
    "artefact_type[7] = artefact_type[7].upper()\n",
    "artefact_type[8] = artefact_type[8].upper()\n",
    "artefact_type[9] = artefact_type[9].upper()"
   ]
  },
  {
   "attachments": {},
   "cell_type": "markdown",
   "id": "938daade",
   "metadata": {},
   "source": [
    "However, to perform such repetitive transformations, which need to be applied to all items of a list or all values in a dictionary, Python offers the `for` control flow statement. "
   ]
  },
  {
   "attachments": {},
   "cell_type": "markdown",
   "id": "4b350eb0",
   "metadata": {},
   "source": [
    "❓ Can you rewrite the sequence of statements above in the form of a `for` loop? \n",
    "\n",
    "*Hint*: there are (at least) two ways of achieving this: 1) by changing the values of `artefact_type` or 2) by creating a new list (with a different name!) which is of the same length as the original one and contains uppercased values."
   ]
  },
  {
   "cell_type": "code",
   "execution_count": null,
   "id": "5535cdc4",
   "metadata": {},
   "outputs": [],
   "source": [
    "# 📃 Write your solution here"
   ]
  },
  {
   "cell_type": "code",
   "execution_count": null,
   "id": "9e4bddc2",
   "metadata": {},
   "outputs": [],
   "source": [
    "artefact_type"
   ]
  },
  {
   "attachments": {},
   "cell_type": "markdown",
   "id": "934d7b83",
   "metadata": {},
   "source": [
    "### Selection (`if`/`else`)"
   ]
  },
  {
   "attachments": {},
   "cell_type": "markdown",
   "id": "3368e9c6",
   "metadata": {},
   "source": [
    "Similarly to `for`, `if` allows you to change the linearity of the execution of a sequence of statements by checking that a certain condition is fulfilled. "
   ]
  },
  {
   "attachments": {},
   "cell_type": "markdown",
   "id": "6cdd2592",
   "metadata": {},
   "source": [
    "❓ Rewrite your last solution (`for` loop with `upper()` function call) so that `upper` is called only when the artefact type is `amphora`.  "
   ]
  },
  {
   "cell_type": "code",
   "execution_count": null,
   "id": "5d2c5909",
   "metadata": {},
   "outputs": [],
   "source": [
    "# run this cell every time you need\n",
    "# to revert the list back to its original\n",
    "# (uncapitalized form)\n",
    "artefact_type = [\n",
    "    \"kantharos\",\n",
    "    \"kylix\",\n",
    "    \"krater\",\n",
    "    \"dinos\",\n",
    "    \"kylix\",\n",
    "    \"kantharos\",\n",
    "    \"amphora\",\n",
    "    \"amphora\",\n",
    "    \"amphora\",\n",
    "    \"amphora\",\n",
    "]"
   ]
  },
  {
   "cell_type": "code",
   "execution_count": null,
   "id": "7d01e8f4",
   "metadata": {},
   "outputs": [],
   "source": [
    "# 📃 Write your solution here"
   ]
  },
  {
   "attachments": {},
   "cell_type": "markdown",
   "id": "9ebe66d1",
   "metadata": {},
   "source": [
    "## Functions\n",
    "\n",
    "Functions let you write reusable blocks of code that perform a certain number of operations. They may have input parameters, and may return a result at the end of their execution. Here's an example of calling and defining a very simple function: "
   ]
  },
  {
   "cell_type": "code",
   "execution_count": null,
   "id": "28ccc288",
   "metadata": {},
   "outputs": [],
   "source": [
    "# here I define my function, called `demo`\n",
    "def demo():\n",
    "   print('This is an example of a function without input parameters, which does not yield a result')\n",
    "\n",
    "# and here is my function call\n",
    "demo()"
   ]
  },
  {
   "attachments": {},
   "cell_type": "markdown",
   "id": "a3f5742e",
   "metadata": {},
   "source": [
    "❓ Define a function with the following characteristics:\n",
    "- its name should be `name_check`\n",
    "- it should be possible to call it on each item of the list `artefact_type`\n",
    "- it should return `1` **if** its input value starts with letter `\"k\"` and return `0` otherwise "
   ]
  },
  {
   "attachments": {},
   "cell_type": "markdown",
   "id": "8e5accb2",
   "metadata": {},
   "source": [
    "Let's take again our example list:"
   ]
  },
  {
   "cell_type": "code",
   "execution_count": null,
   "id": "52786d85",
   "metadata": {},
   "outputs": [],
   "source": [
    "artefact_type = [\n",
    "    \"kantharos\",\n",
    "    \"kylix\",\n",
    "    \"krater\",\n",
    "    \"dinos\",\n",
    "    \"kylix\",\n",
    "    \"kantharos\",\n",
    "    \"amphora\",\n",
    "    \"amphora\",\n",
    "    \"amphora\",\n",
    "    \"amphora\",\n",
    "]"
   ]
  },
  {
   "cell_type": "code",
   "execution_count": null,
   "id": "25ac923d",
   "metadata": {},
   "outputs": [],
   "source": [
    "# write your solution here by modifying\n",
    "# the following function definition\n",
    "def name_check():\n",
    "    return"
   ]
  },
  {
   "cell_type": "code",
   "execution_count": null,
   "id": "8e65b3f8",
   "metadata": {},
   "outputs": [],
   "source": [
    "# 📃 Write your solution here"
   ]
  },
  {
   "attachments": {},
   "cell_type": "markdown",
   "id": "58d3102f",
   "metadata": {},
   "source": [
    "Once the function is defined, run the next cell to find out how many artefact types start with letter 'k'."
   ]
  },
  {
   "cell_type": "code",
   "execution_count": null,
   "id": "c4fc2482",
   "metadata": {},
   "outputs": [],
   "source": [
    "sum([name_check(t) for t in artefact_type])"
   ]
  }
 ],
 "metadata": {
  "kernelspec": {
   "display_name": "Python 3.10.0 64-bit ('3.10.0')",
   "language": "python",
   "name": "python3"
  },
  "language_info": {
   "codemirror_mode": {
    "name": "ipython",
    "version": 3
   },
   "file_extension": ".py",
   "mimetype": "text/x-python",
   "name": "python",
   "nbconvert_exporter": "python",
   "pygments_lexer": "ipython3",
   "version": "3.10.3"
  },
  "toc": {
   "base_numbering": 1,
   "nav_menu": {},
   "number_sections": false,
   "sideBar": true,
   "skip_h1_title": false,
   "title_cell": "Table of Contents",
   "title_sidebar": "Contents",
   "toc_cell": false,
   "toc_position": {},
   "toc_section_display": true,
   "toc_window_display": true
  },
  "vscode": {
   "interpreter": {
    "hash": "77004385e5f3b0019143f68543ebd8ea4de6f24a7074afd3b0b9427563fdd98b"
   }
  }
 },
 "nbformat": 4,
 "nbformat_minor": 5
}
