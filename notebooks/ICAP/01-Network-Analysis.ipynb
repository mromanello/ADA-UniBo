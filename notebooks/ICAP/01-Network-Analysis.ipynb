{
 "cells": [
  {
   "attachments": {},
   "cell_type": "markdown",
   "metadata": {},
   "source": [
    "# Network Analysis with NetworkX"
   ]
  },
  {
   "attachments": {},
   "cell_type": "markdown",
   "metadata": {},
   "source": [
    "In this series of lessons, we're going to learn about network analysis. Network analysis will help us better understand the complex relationships between groups of people, fictional characters, and other kinds of things."
   ]
  },
  {
   "attachments": {},
   "cell_type": "markdown",
   "metadata": {},
   "source": [
    "## Dataset"
   ]
  },
  {
   "attachments": {},
   "cell_type": "markdown",
   "metadata": {},
   "source": [
    "### *Game of Thrones*"
   ]
  },
  {
   "attachments": {},
   "cell_type": "markdown",
   "metadata": {},
   "source": [
    "<blockquote class=\"epigraph\" style=\" padding: 10px\">\n",
    "\n",
    "Lucky it might be, and red it certainly was, but Ygritte’s hair was such a tangle that Jon was tempted to ask her if she only brushed it at the changing of the seasons.\n",
    "\n",
    "-George R. R. Martin, *A Song of Ice and Fire*\n",
    "</blockquote>"
   ]
  },
  {
   "attachments": {},
   "cell_type": "markdown",
   "metadata": {},
   "source": [
    "## Network Basics"
   ]
  },
  {
   "attachments": {},
   "cell_type": "markdown",
   "metadata": {},
   "source": [
    "## Install NetworkX"
   ]
  },
  {
   "cell_type": "code",
   "execution_count": null,
   "metadata": {},
   "outputs": [],
   "source": [
    "#!pip install networkx"
   ]
  },
  {
   "attachments": {},
   "cell_type": "markdown",
   "metadata": {},
   "source": [
    "## Import Libraries"
   ]
  },
  {
   "cell_type": "code",
   "execution_count": null,
   "metadata": {
    "scrolled": true
   },
   "outputs": [],
   "source": [
    "import networkx\n",
    "import pandas as pd\n",
    "#pd.set_option('max_rows', 400)\n",
    "import matplotlib.pyplot as plt"
   ]
  },
  {
   "attachments": {},
   "cell_type": "markdown",
   "metadata": {},
   "source": [
    "## *Game of Thrones* Network"
   ]
  },
  {
   "attachments": {},
   "cell_type": "markdown",
   "metadata": {},
   "source": [
    "The network data that we're going to use in this lesson is taken from Andrew Beveridge and Jie Shan's paper, [\"Network of Thrones.\"](https://www.maa.org/sites/default/files/pdf/Mathhorizons/NetworkofThrones%20%281%29.pdf)\n",
    "\n",
    "These researchers calculated how many times each Game of Thrones character appeared within 15 words of another character in *A Storm of Swords*, the third book in the series.\n",
    "\n",
    "| Network Element      | GOT |         \n",
    "| :-------------: |:-------------:| \n",
    "| Node    | GOT character | \n",
    "| Edge     | Mutually mentioned within 15 words      | \n",
    "| Float | Decimal Numbers      |  \n",
    "| Boolean | True/False     |   \n",
    "\n",
    "\n",
    "For example, the following sentence counts as an \"edge\" or connection between Jon Snow and Sam Tarly:"
   ]
  },
  {
   "attachments": {},
   "cell_type": "markdown",
   "metadata": {},
   "source": [
    "> \"It was the bastard **Jon Snow** who had taken that from him, him and his fat friend **Sam Tarly**.\""
   ]
  },
  {
   "attachments": {},
   "cell_type": "markdown",
   "metadata": {},
   "source": [
    "> \"Lucky it might be, and red it certainly was, but **Ygritte**’s hair was such a tangle that **Jon** was tempted to ask her if she only brushed it at the changing of the seasons.\""
   ]
  },
  {
   "attachments": {},
   "cell_type": "markdown",
   "metadata": {},
   "source": [
    "> \"**Arya** gave **Gendry** a sideways look. *He said it with me, like **Jon** used to do, back in Winterfell.* She missed **Jon Snow** the most of all her brothers.\"\""
   ]
  },
  {
   "attachments": {},
   "cell_type": "markdown",
   "metadata": {},
   "source": [
    "<div class=\"admonition pandasreview\" name=\"html-admonition\" style=\"background: black; color: white; padding: 10px\">\n",
    "<p class=\"title\">Pandas</p>\n",
    " Do you need a refresher or introduction to the Python data analysis library Pandas? Be sure to check out <a href=\"https://melaniewalsh.github.io/Intro-Cultural-Analytics/Data-Analysis/Pandas-Basics-Part1.html\"> Pandas Basics (1-3) </a> in this textbook!\n",
    "    \n",
    "</div>"
   ]
  },
  {
   "cell_type": "code",
   "execution_count": null,
   "metadata": {},
   "outputs": [],
   "source": [
    "got_df = pd.read_csv('../../data/got-edges.csv')"
   ]
  },
  {
   "cell_type": "code",
   "execution_count": 5,
   "metadata": {
    "scrolled": true,
    "tags": []
   },
   "outputs": [
    {
     "data": {
      "text/html": [
       "<div>\n",
       "<style scoped>\n",
       "    .dataframe tbody tr th:only-of-type {\n",
       "        vertical-align: middle;\n",
       "    }\n",
       "\n",
       "    .dataframe tbody tr th {\n",
       "        vertical-align: top;\n",
       "    }\n",
       "\n",
       "    .dataframe thead th {\n",
       "        text-align: right;\n",
       "    }\n",
       "</style>\n",
       "<table border=\"1\" class=\"dataframe\">\n",
       "  <thead>\n",
       "    <tr style=\"text-align: right;\">\n",
       "      <th></th>\n",
       "      <th>Source</th>\n",
       "      <th>Target</th>\n",
       "      <th>Weight</th>\n",
       "    </tr>\n",
       "  </thead>\n",
       "  <tbody>\n",
       "    <tr>\n",
       "      <th>0</th>\n",
       "      <td>Aemon</td>\n",
       "      <td>Grenn</td>\n",
       "      <td>5</td>\n",
       "    </tr>\n",
       "    <tr>\n",
       "      <th>1</th>\n",
       "      <td>Aemon</td>\n",
       "      <td>Samwell</td>\n",
       "      <td>31</td>\n",
       "    </tr>\n",
       "    <tr>\n",
       "      <th>2</th>\n",
       "      <td>Aerys</td>\n",
       "      <td>Jaime</td>\n",
       "      <td>18</td>\n",
       "    </tr>\n",
       "    <tr>\n",
       "      <th>3</th>\n",
       "      <td>Aerys</td>\n",
       "      <td>Robert</td>\n",
       "      <td>6</td>\n",
       "    </tr>\n",
       "    <tr>\n",
       "      <th>4</th>\n",
       "      <td>Aerys</td>\n",
       "      <td>Tyrion</td>\n",
       "      <td>5</td>\n",
       "    </tr>\n",
       "    <tr>\n",
       "      <th>...</th>\n",
       "      <td>...</td>\n",
       "      <td>...</td>\n",
       "      <td>...</td>\n",
       "    </tr>\n",
       "    <tr>\n",
       "      <th>347</th>\n",
       "      <td>Walder</td>\n",
       "      <td>Petyr</td>\n",
       "      <td>6</td>\n",
       "    </tr>\n",
       "    <tr>\n",
       "      <th>348</th>\n",
       "      <td>Walder</td>\n",
       "      <td>Roslin</td>\n",
       "      <td>6</td>\n",
       "    </tr>\n",
       "    <tr>\n",
       "      <th>349</th>\n",
       "      <td>Walton</td>\n",
       "      <td>Jaime</td>\n",
       "      <td>10</td>\n",
       "    </tr>\n",
       "    <tr>\n",
       "      <th>350</th>\n",
       "      <td>Ygritte</td>\n",
       "      <td>Qhorin</td>\n",
       "      <td>7</td>\n",
       "    </tr>\n",
       "    <tr>\n",
       "      <th>351</th>\n",
       "      <td>Ygritte</td>\n",
       "      <td>Rattleshirt</td>\n",
       "      <td>9</td>\n",
       "    </tr>\n",
       "  </tbody>\n",
       "</table>\n",
       "<p>352 rows × 3 columns</p>\n",
       "</div>"
      ],
      "text/plain": [
       "      Source       Target  Weight\n",
       "0      Aemon        Grenn       5\n",
       "1      Aemon      Samwell      31\n",
       "2      Aerys        Jaime      18\n",
       "3      Aerys       Robert       6\n",
       "4      Aerys       Tyrion       5\n",
       "..       ...          ...     ...\n",
       "347   Walder        Petyr       6\n",
       "348   Walder       Roslin       6\n",
       "349   Walton        Jaime      10\n",
       "350  Ygritte       Qhorin       7\n",
       "351  Ygritte  Rattleshirt       9\n",
       "\n",
       "[352 rows x 3 columns]"
      ]
     },
     "execution_count": 5,
     "metadata": {},
     "output_type": "execute_result"
    }
   ],
   "source": [
    "got_df"
   ]
  },
  {
   "attachments": {},
   "cell_type": "markdown",
   "metadata": {},
   "source": [
    "## Create a Network From a Pandas DataFrame"
   ]
  },
  {
   "cell_type": "code",
   "execution_count": 6,
   "metadata": {},
   "outputs": [],
   "source": [
    "G = networkx.from_pandas_edgelist(got_df, 'Source', 'Target', 'Weight')"
   ]
  },
  {
   "attachments": {},
   "cell_type": "markdown",
   "metadata": {},
   "source": [
    "## Output a Network File"
   ]
  },
  {
   "cell_type": "code",
   "execution_count": 7,
   "metadata": {},
   "outputs": [],
   "source": [
    "networkx.write_graphml(G, 'GOT-network.graphml')"
   ]
  },
  {
   "attachments": {},
   "cell_type": "markdown",
   "metadata": {},
   "source": [
    "## Draw a Simple Network"
   ]
  },
  {
   "cell_type": "code",
   "execution_count": 8,
   "metadata": {},
   "outputs": [
    {
     "data": {
      "image/png": "[encoded data removed]",
      "text/plain": [
       "<Figure size 432x288 with 1 Axes>"
      ]
     },
     "metadata": {},
     "output_type": "display_data"
    }
   ],
   "source": [
    "networkx.draw(G)"
   ]
  },
  {
   "cell_type": "code",
   "execution_count": 11,
   "metadata": {},
   "outputs": [
    {
     "data": {
      "image/png": "[encoded data removed]",
      "text/plain": [
       "<Figure size 576x576 with 1 Axes>"
      ]
     },
     "metadata": {},
     "output_type": "display_data"
    }
   ],
   "source": [
    "plt.figure(figsize=(8,8))\n",
    "networkx.draw(G, with_labels=True, node_color='skyblue', width=.3, font_size=8)"
   ]
  },
  {
   "attachments": {},
   "cell_type": "markdown",
   "metadata": {},
   "source": [
    "## Calculate Degree"
   ]
  },
  {
   "attachments": {},
   "cell_type": "markdown",
   "metadata": {},
   "source": [
    "Who has the most number of connections in the network?"
   ]
  },
  {
   "cell_type": "code",
   "execution_count": 12,
   "metadata": {
    "scrolled": true,
    "tags": [
     "output_scroll"
    ]
   },
   "outputs": [
    {
     "data": {
      "text/plain": [
       "DegreeView({'Aemon': 5, 'Grenn': 4, 'Samwell': 15, 'Aerys': 4, 'Jaime': 24, 'Robert': 18, 'Tyrion': 36, 'Tywin': 22, 'Alliser': 3, 'Mance': 12, 'Amory': 1, 'Oberyn': 7, 'Arya': 19, 'Anguy': 2, 'Beric': 6, 'Bran': 14, 'Brynden': 8, 'Cersei': 20, 'Gendry': 4, 'Gregor': 12, 'Joffrey': 18, 'Jon': 26, 'Rickon': 6, 'Roose': 4, 'Sandor': 13, 'Thoros': 5, 'Balon': 6, 'Loras': 9, 'Belwas': 4, 'Barristan': 6, 'Illyrio': 1, 'Hodor': 4, 'Jojen': 4, 'Luwin': 2, 'Meera': 5, 'Nan': 2, 'Theon': 4, 'Brienne': 7, 'Bronn': 4, 'Podrick': 5, 'Lothar': 5, 'Walder': 8, 'Catelyn': 18, 'Edmure': 8, 'Hoster': 3, 'Jeyne': 2, 'Lysa': 10, 'Petyr': 7, 'Robb': 25, 'Roslin': 4, 'Sansa': 26, 'Stannis': 14, 'Elia': 5, 'Ilyn': 6, 'Meryn': 7, 'Pycelle': 4, 'Shae': 5, 'Varys': 7, 'Craster': 5, 'Karl': 1, 'Daario': 4, 'Drogo': 4, 'Irri': 4, 'Daenerys': 14, 'Aegon': 1, 'Jorah': 6, 'Kraznys': 1, 'Missandei': 2, 'Rakharo': 1, 'Rhaegar': 6, 'Viserys': 3, 'Worm': 1, 'Davos': 5, 'Cressen': 1, 'Salladhor': 1, 'Eddard': 12, 'Eddison': 3, 'Gilly': 4, 'Qyburn': 1, 'Renly': 8, 'Tommen': 5, 'Janos': 6, 'Bowen': 2, 'Kevan': 6, 'Margaery': 7, 'Myrcella': 4, 'Dalla': 3, 'Melisandre': 4, 'Orell': 1, 'Qhorin': 5, 'Rattleshirt': 4, 'Styr': 2, 'Val': 4, 'Ygritte': 4, 'Jon Arryn': 2, 'Lancel': 1, 'Olenna': 2, 'Marillion': 3, 'Robert Arryn': 3, 'Ellaria': 2, 'Mace': 3, 'Rickard': 2, 'Ramsay': 1, 'Chataya': 2, 'Shireen': 1, 'Doran': 1, 'Walton': 1})"
      ]
     },
     "execution_count": 12,
     "metadata": {},
     "output_type": "execute_result"
    }
   ],
   "source": [
    "networkx.degree(G)"
   ]
  },
  {
   "attachments": {},
   "cell_type": "markdown",
   "metadata": {},
   "source": [
    "Make the degree values a `dict`ionary, then add it as a network \"attribute\" with `networkx.set_node_attributes()`"
   ]
  },
  {
   "cell_type": "code",
   "execution_count": 13,
   "metadata": {},
   "outputs": [],
   "source": [
    "degrees = dict(networkx.degree(G))\n",
    "networkx.set_node_attributes(G, name='degree', values=degrees)"
   ]
  },
  {
   "attachments": {},
   "cell_type": "markdown",
   "metadata": {},
   "source": [
    "Make a Pandas dataframe from the degree data `G.nodes(data='degree')`, then sort from highest to lowest"
   ]
  },
  {
   "cell_type": "code",
   "execution_count": 17,
   "metadata": {
    "scrolled": true,
    "tags": [
     "output_scroll"
    ]
   },
   "outputs": [
    {
     "data": {
      "text/html": [
       "<div>\n",
       "<style scoped>\n",
       "    .dataframe tbody tr th:only-of-type {\n",
       "        vertical-align: middle;\n",
       "    }\n",
       "\n",
       "    .dataframe tbody tr th {\n",
       "        vertical-align: top;\n",
       "    }\n",
       "\n",
       "    .dataframe thead th {\n",
       "        text-align: right;\n",
       "    }\n",
       "</style>\n",
       "<table border=\"1\" class=\"dataframe\">\n",
       "  <thead>\n",
       "    <tr style=\"text-align: right;\">\n",
       "      <th></th>\n",
       "      <th>node</th>\n",
       "      <th>degree</th>\n",
       "    </tr>\n",
       "  </thead>\n",
       "  <tbody>\n",
       "    <tr>\n",
       "      <th>6</th>\n",
       "      <td>Tyrion</td>\n",
       "      <td>36</td>\n",
       "    </tr>\n",
       "    <tr>\n",
       "      <th>21</th>\n",
       "      <td>Jon</td>\n",
       "      <td>26</td>\n",
       "    </tr>\n",
       "    <tr>\n",
       "      <th>50</th>\n",
       "      <td>Sansa</td>\n",
       "      <td>26</td>\n",
       "    </tr>\n",
       "    <tr>\n",
       "      <th>48</th>\n",
       "      <td>Robb</td>\n",
       "      <td>25</td>\n",
       "    </tr>\n",
       "    <tr>\n",
       "      <th>4</th>\n",
       "      <td>Jaime</td>\n",
       "      <td>24</td>\n",
       "    </tr>\n",
       "    <tr>\n",
       "      <th>...</th>\n",
       "      <td>...</td>\n",
       "      <td>...</td>\n",
       "    </tr>\n",
       "    <tr>\n",
       "      <th>73</th>\n",
       "      <td>Cressen</td>\n",
       "      <td>1</td>\n",
       "    </tr>\n",
       "    <tr>\n",
       "      <th>74</th>\n",
       "      <td>Salladhor</td>\n",
       "      <td>1</td>\n",
       "    </tr>\n",
       "    <tr>\n",
       "      <th>78</th>\n",
       "      <td>Qyburn</td>\n",
       "      <td>1</td>\n",
       "    </tr>\n",
       "    <tr>\n",
       "      <th>88</th>\n",
       "      <td>Orell</td>\n",
       "      <td>1</td>\n",
       "    </tr>\n",
       "    <tr>\n",
       "      <th>106</th>\n",
       "      <td>Walton</td>\n",
       "      <td>1</td>\n",
       "    </tr>\n",
       "  </tbody>\n",
       "</table>\n",
       "<p>107 rows × 2 columns</p>\n",
       "</div>"
      ],
      "text/plain": [
       "          node  degree\n",
       "6       Tyrion      36\n",
       "21         Jon      26\n",
       "50       Sansa      26\n",
       "48        Robb      25\n",
       "4        Jaime      24\n",
       "..         ...     ...\n",
       "73     Cressen       1\n",
       "74   Salladhor       1\n",
       "78      Qyburn       1\n",
       "88       Orell       1\n",
       "106     Walton       1\n",
       "\n",
       "[107 rows x 2 columns]"
      ]
     },
     "execution_count": 17,
     "metadata": {},
     "output_type": "execute_result"
    }
   ],
   "source": [
    "degree_df = pd.DataFrame(G.nodes(data='degree'), columns=['node', 'degree'])\n",
    "degree_df = degree_df.sort_values(by='degree', ascending=False)\n",
    "degree_df"
   ]
  },
  {
   "attachments": {},
   "cell_type": "markdown",
   "metadata": {},
   "source": [
    "Plot the nodes with the highest degree values"
   ]
  },
  {
   "cell_type": "code",
   "execution_count": 18,
   "metadata": {},
   "outputs": [
    {
     "data": {
      "image/png": "[encoded data removed]",
      "text/plain": [
       "<Figure size 432x288 with 1 Axes>"
      ]
     },
     "metadata": {
      "needs_background": "light"
     },
     "output_type": "display_data"
    }
   ],
   "source": [
    "num_nodes_to_inspect = 10\n",
    "degree_df[:num_nodes_to_inspect].plot(x='node', y='degree', kind='barh').invert_yaxis()"
   ]
  },
  {
   "attachments": {},
   "cell_type": "markdown",
   "metadata": {},
   "source": [
    "## Calculate Weighted Degree"
   ]
  },
  {
   "attachments": {},
   "cell_type": "markdown",
   "metadata": {},
   "source": [
    "Who has the most number of connections in the network (if you factor in edge weight)?"
   ]
  },
  {
   "cell_type": "code",
   "execution_count": 19,
   "metadata": {
    "scrolled": true,
    "tags": [
     "output_scroll"
    ]
   },
   "outputs": [
    {
     "data": {
      "text/plain": [
       "DegreeView({'Aemon': 74, 'Grenn': 81, 'Samwell': 282, 'Aerys': 37, 'Jaime': 372, 'Robert': 128, 'Tyrion': 551, 'Tywin': 204, 'Alliser': 29, 'Mance': 160, 'Amory': 5, 'Oberyn': 76, 'Arya': 269, 'Anguy': 15, 'Beric': 75, 'Bran': 344, 'Brynden': 55, 'Cersei': 226, 'Gendry': 59, 'Gregor': 117, 'Joffrey': 255, 'Jon': 442, 'Rickon': 81, 'Roose': 17, 'Sandor': 137, 'Thoros': 60, 'Balon': 29, 'Loras': 76, 'Belwas': 67, 'Barristan': 63, 'Illyrio': 10, 'Hodor': 177, 'Jojen': 125, 'Luwin': 8, 'Meera': 139, 'Nan': 18, 'Theon': 38, 'Brienne': 122, 'Bronn': 59, 'Podrick': 64, 'Lothar': 34, 'Walder': 87, 'Catelyn': 184, 'Edmure': 98, 'Hoster': 24, 'Jeyne': 28, 'Lysa': 108, 'Petyr': 89, 'Robb': 342, 'Roslin': 32, 'Sansa': 383, 'Stannis': 146, 'Elia': 29, 'Ilyn': 32, 'Meryn': 47, 'Pycelle': 24, 'Shae': 45, 'Varys': 49, 'Craster': 75, 'Karl': 6, 'Daario': 30, 'Drogo': 35, 'Irri': 33, 'Daenerys': 232, 'Aegon': 8, 'Jorah': 89, 'Kraznys': 10, 'Missandei': 30, 'Rakharo': 7, 'Rhaegar': 42, 'Viserys': 19, 'Worm': 14, 'Davos': 87, 'Cressen': 4, 'Salladhor': 16, 'Eddard': 108, 'Eddison': 24, 'Gilly': 69, 'Qyburn': 11, 'Renly': 55, 'Tommen': 31, 'Janos': 37, 'Bowen': 11, 'Kevan': 50, 'Margaery': 96, 'Myrcella': 18, 'Dalla': 21, 'Melisandre': 62, 'Orell': 6, 'Qhorin': 59, 'Rattleshirt': 44, 'Styr': 23, 'Val': 31, 'Ygritte': 82, 'Jon Arryn': 11, 'Lancel': 7, 'Olenna': 12, 'Marillion': 23, 'Robert Arryn': 19, 'Ellaria': 10, 'Mace': 20, 'Rickard': 11, 'Ramsay': 4, 'Chataya': 9, 'Shireen': 5, 'Doran': 5, 'Walton': 10})"
      ]
     },
     "execution_count": 19,
     "metadata": {},
     "output_type": "execute_result"
    }
   ],
   "source": [
    "networkx.degree(G, weight='Weight')"
   ]
  },
  {
   "attachments": {},
   "cell_type": "markdown",
   "metadata": {},
   "source": [
    "Make the weighted degree values a `dict`ionary, then add it as a network \"attribute\" with `networkx.set_node_attributes()`"
   ]
  },
  {
   "cell_type": "code",
   "execution_count": 20,
   "metadata": {},
   "outputs": [],
   "source": [
    "weighted_degrees = dict(networkx.degree(G, weight='Weight'))\n",
    "networkx.set_node_attributes(G, name='weighted_degree', values=weighted_degrees)"
   ]
  },
  {
   "attachments": {},
   "cell_type": "markdown",
   "metadata": {},
   "source": [
    "Make a Pandas dataframe from the degree data `G.nodes(data='weighted_degree')`, then sort from highest to lowest"
   ]
  },
  {
   "cell_type": "code",
   "execution_count": 21,
   "metadata": {
    "scrolled": true,
    "tags": [
     "output_scroll"
    ]
   },
   "outputs": [
    {
     "data": {
      "text/html": [
       "<div>\n",
       "<style scoped>\n",
       "    .dataframe tbody tr th:only-of-type {\n",
       "        vertical-align: middle;\n",
       "    }\n",
       "\n",
       "    .dataframe tbody tr th {\n",
       "        vertical-align: top;\n",
       "    }\n",
       "\n",
       "    .dataframe thead th {\n",
       "        text-align: right;\n",
       "    }\n",
       "</style>\n",
       "<table border=\"1\" class=\"dataframe\">\n",
       "  <thead>\n",
       "    <tr style=\"text-align: right;\">\n",
       "      <th></th>\n",
       "      <th>node</th>\n",
       "      <th>weighted_degree</th>\n",
       "    </tr>\n",
       "  </thead>\n",
       "  <tbody>\n",
       "    <tr>\n",
       "      <th>6</th>\n",
       "      <td>Tyrion</td>\n",
       "      <td>551</td>\n",
       "    </tr>\n",
       "    <tr>\n",
       "      <th>21</th>\n",
       "      <td>Jon</td>\n",
       "      <td>442</td>\n",
       "    </tr>\n",
       "    <tr>\n",
       "      <th>50</th>\n",
       "      <td>Sansa</td>\n",
       "      <td>383</td>\n",
       "    </tr>\n",
       "    <tr>\n",
       "      <th>4</th>\n",
       "      <td>Jaime</td>\n",
       "      <td>372</td>\n",
       "    </tr>\n",
       "    <tr>\n",
       "      <th>15</th>\n",
       "      <td>Bran</td>\n",
       "      <td>344</td>\n",
       "    </tr>\n",
       "    <tr>\n",
       "      <th>...</th>\n",
       "      <td>...</td>\n",
       "      <td>...</td>\n",
       "    </tr>\n",
       "    <tr>\n",
       "      <th>10</th>\n",
       "      <td>Amory</td>\n",
       "      <td>5</td>\n",
       "    </tr>\n",
       "    <tr>\n",
       "      <th>104</th>\n",
       "      <td>Shireen</td>\n",
       "      <td>5</td>\n",
       "    </tr>\n",
       "    <tr>\n",
       "      <th>105</th>\n",
       "      <td>Doran</td>\n",
       "      <td>5</td>\n",
       "    </tr>\n",
       "    <tr>\n",
       "      <th>73</th>\n",
       "      <td>Cressen</td>\n",
       "      <td>4</td>\n",
       "    </tr>\n",
       "    <tr>\n",
       "      <th>102</th>\n",
       "      <td>Ramsay</td>\n",
       "      <td>4</td>\n",
       "    </tr>\n",
       "  </tbody>\n",
       "</table>\n",
       "<p>107 rows × 2 columns</p>\n",
       "</div>"
      ],
      "text/plain": [
       "        node  weighted_degree\n",
       "6     Tyrion              551\n",
       "21       Jon              442\n",
       "50     Sansa              383\n",
       "4      Jaime              372\n",
       "15      Bran              344\n",
       "..       ...              ...\n",
       "10     Amory                5\n",
       "104  Shireen                5\n",
       "105    Doran                5\n",
       "73   Cressen                4\n",
       "102   Ramsay                4\n",
       "\n",
       "[107 rows x 2 columns]"
      ]
     },
     "execution_count": 21,
     "metadata": {},
     "output_type": "execute_result"
    }
   ],
   "source": [
    "weighted_degree_df = pd.DataFrame(G.nodes(data='weighted_degree'), columns=['node', 'weighted_degree'])\n",
    "weighted_degree_df = weighted_degree_df.sort_values(by='weighted_degree', ascending=False)\n",
    "weighted_degree_df"
   ]
  },
  {
   "attachments": {},
   "cell_type": "markdown",
   "metadata": {},
   "source": [
    "Plot the nodes with the highest weighted degree values"
   ]
  },
  {
   "cell_type": "code",
   "execution_count": null,
   "metadata": {},
   "outputs": [],
   "source": [
    "num_nodes_to_inspect = 10\n",
    "weighted_degree_df[:num_nodes_to_inspect].plot(x='node', y='weighted_degree', color='orange', kind='barh').invert_yaxis()"
   ]
  },
  {
   "attachments": {},
   "cell_type": "markdown",
   "metadata": {},
   "source": [
    "## Calculate Betweenness Centrality Scores"
   ]
  },
  {
   "attachments": {},
   "cell_type": "markdown",
   "metadata": {},
   "source": [
    "Who connects the most other nodes in the network?"
   ]
  },
  {
   "cell_type": "code",
   "execution_count": 22,
   "metadata": {
    "scrolled": true,
    "tags": [
     "output_scroll"
    ]
   },
   "outputs": [
    {
     "data": {
      "text/plain": [
       "{'Aemon': 0.004622508177397137,\n",
       " 'Grenn': 5.989817310572027e-05,\n",
       " 'Samwell': 0.03227262859511145,\n",
       " 'Aerys': 0.0,\n",
       " 'Jaime': 0.09994344156136246,\n",
       " 'Robert': 0.2094523840293194,\n",
       " 'Tyrion': 0.19791284320277353,\n",
       " 'Tywin': 0.06553840423231058,\n",
       " 'Alliser': 0.0,\n",
       " 'Mance': 0.007275961371756524,\n",
       " 'Amory': 0.0,\n",
       " 'Oberyn': 0.01958014232946847,\n",
       " 'Arya': 0.07960711308183888,\n",
       " 'Anguy': 0.0,\n",
       " 'Beric': 0.0006091214266627511,\n",
       " 'Bran': 0.06301659941786954,\n",
       " 'Brynden': 0.004727134574764742,\n",
       " 'Cersei': 0.02674643287824232,\n",
       " 'Gendry': 0.0,\n",
       " 'Gregor': 0.005879915417737236,\n",
       " 'Joffrey': 0.025434099443917696,\n",
       " 'Jon': 0.22996466368473173,\n",
       " 'Rickon': 0.0007626320968639029,\n",
       " 'Roose': 0.0002629599012559427,\n",
       " 'Sandor': 0.014162278987154626,\n",
       " 'Thoros': 0.0019261823273239152,\n",
       " 'Balon': 0.0006281164805527878,\n",
       " 'Loras': 0.003780752291533962,\n",
       " 'Belwas': 0.018867924528301886,\n",
       " 'Barristan': 0.04011407489067884,\n",
       " 'Illyrio': 0.0,\n",
       " 'Hodor': 0.0021937273446681065,\n",
       " 'Jojen': 0.0004064518889316733,\n",
       " 'Luwin': 0.0,\n",
       " 'Meera': 0.0019922569692430686,\n",
       " 'Nan': 0.0,\n",
       " 'Theon': 0.00047177590304274953,\n",
       " 'Brienne': 0.0015376001520469229,\n",
       " 'Bronn': 0.00010482180293501046,\n",
       " 'Podrick': 0.0008358985235471674,\n",
       " 'Lothar': 0.0006600525898733143,\n",
       " 'Walder': 0.0032731813973401044,\n",
       " 'Catelyn': 0.04890588265764755,\n",
       " 'Edmure': 0.0063172332740347534,\n",
       " 'Hoster': 0.0002426336765959408,\n",
       " 'Jeyne': 0.0,\n",
       " 'Lysa': 0.015215156305177053,\n",
       " 'Petyr': 0.0011502139845250673,\n",
       " 'Robb': 0.1269644713830151,\n",
       " 'Roslin': 6.751960581039384e-05,\n",
       " 'Sansa': 0.12672031668498004,\n",
       " 'Stannis': 0.1026998617273264,\n",
       " 'Elia': 0.002996853410630337,\n",
       " 'Ilyn': 0.0,\n",
       " 'Meryn': 0.00025900705642512993,\n",
       " 'Pycelle': 0.0,\n",
       " 'Shae': 0.0012523948930099663,\n",
       " 'Varys': 0.0009094137867722772,\n",
       " 'Craster': 0.018867924528301886,\n",
       " 'Karl': 0.0,\n",
       " 'Daario': 5.989817310572027e-05,\n",
       " 'Drogo': 5.989817310572027e-05,\n",
       " 'Irri': 0.00017969451931716083,\n",
       " 'Daenerys': 0.15720345212054956,\n",
       " 'Aegon': 0.0,\n",
       " 'Jorah': 0.002329891127259132,\n",
       " 'Kraznys': 0.0,\n",
       " 'Missandei': 0.0,\n",
       " 'Rakharo': 0.0,\n",
       " 'Rhaegar': 0.007312671807481101,\n",
       " 'Viserys': 0.015644391307527945,\n",
       " 'Worm': 0.0,\n",
       " 'Davos': 0.056064690026954175,\n",
       " 'Cressen': 0.0,\n",
       " 'Salladhor': 0.0,\n",
       " 'Eddard': 0.019341416465723616,\n",
       " 'Eddison': 0.0,\n",
       " 'Gilly': 0.0,\n",
       " 'Qyburn': 0.0,\n",
       " 'Renly': 0.004227926858198188,\n",
       " 'Tommen': 0.0006984420191967362,\n",
       " 'Janos': 0.02355861153253357,\n",
       " 'Bowen': 0.0,\n",
       " 'Kevan': 0.019219915043818533,\n",
       " 'Margaery': 0.0010973522354777933,\n",
       " 'Myrcella': 0.0006235971795124951,\n",
       " 'Dalla': 0.0,\n",
       " 'Melisandre': 0.00860866854841803,\n",
       " 'Orell': 0.0,\n",
       " 'Qhorin': 0.0002635519616651692,\n",
       " 'Rattleshirt': 0.0,\n",
       " 'Styr': 0.0,\n",
       " 'Val': 0.005898334987101542,\n",
       " 'Ygritte': 0.0,\n",
       " 'Jon Arryn': 0.0005764583325230229,\n",
       " 'Lancel': 0.0,\n",
       " 'Olenna': 0.0,\n",
       " 'Marillion': 0.0,\n",
       " 'Robert Arryn': 0.0,\n",
       " 'Ellaria': 0.0,\n",
       " 'Mace': 0.0,\n",
       " 'Rickard': 0.0,\n",
       " 'Ramsay': 0.0,\n",
       " 'Chataya': 0.0,\n",
       " 'Shireen': 0.0,\n",
       " 'Doran': 0.0,\n",
       " 'Walton': 0.0}"
      ]
     },
     "execution_count": 22,
     "metadata": {},
     "output_type": "execute_result"
    }
   ],
   "source": [
    "networkx.betweenness_centrality(G)"
   ]
  },
  {
   "cell_type": "code",
   "execution_count": 23,
   "metadata": {},
   "outputs": [],
   "source": [
    "betweenness_centrality = networkx.betweenness_centrality(G)"
   ]
  },
  {
   "attachments": {},
   "cell_type": "markdown",
   "metadata": {},
   "source": [
    "Add `betweenness_centrality` (which is already a dictionary) as a network \"attribute\" with `networkx.set_node_attributes()`"
   ]
  },
  {
   "cell_type": "code",
   "execution_count": 24,
   "metadata": {},
   "outputs": [],
   "source": [
    "networkx.set_node_attributes(G, name='betweenness', values=betweenness_centrality)"
   ]
  },
  {
   "attachments": {},
   "cell_type": "markdown",
   "metadata": {},
   "source": [
    "Make a Pandas dataframe from the betweenness data `G.nodes(data='betweenness')`, then sort from highest to lowest"
   ]
  },
  {
   "cell_type": "code",
   "execution_count": 25,
   "metadata": {
    "scrolled": true,
    "tags": [
     "output_scroll"
    ]
   },
   "outputs": [
    {
     "data": {
      "text/html": [
       "<div>\n",
       "<style scoped>\n",
       "    .dataframe tbody tr th:only-of-type {\n",
       "        vertical-align: middle;\n",
       "    }\n",
       "\n",
       "    .dataframe tbody tr th {\n",
       "        vertical-align: top;\n",
       "    }\n",
       "\n",
       "    .dataframe thead th {\n",
       "        text-align: right;\n",
       "    }\n",
       "</style>\n",
       "<table border=\"1\" class=\"dataframe\">\n",
       "  <thead>\n",
       "    <tr style=\"text-align: right;\">\n",
       "      <th></th>\n",
       "      <th>node</th>\n",
       "      <th>betweenness</th>\n",
       "    </tr>\n",
       "  </thead>\n",
       "  <tbody>\n",
       "    <tr>\n",
       "      <th>21</th>\n",
       "      <td>Jon</td>\n",
       "      <td>0.229965</td>\n",
       "    </tr>\n",
       "    <tr>\n",
       "      <th>5</th>\n",
       "      <td>Robert</td>\n",
       "      <td>0.209452</td>\n",
       "    </tr>\n",
       "    <tr>\n",
       "      <th>6</th>\n",
       "      <td>Tyrion</td>\n",
       "      <td>0.197913</td>\n",
       "    </tr>\n",
       "    <tr>\n",
       "      <th>63</th>\n",
       "      <td>Daenerys</td>\n",
       "      <td>0.157203</td>\n",
       "    </tr>\n",
       "    <tr>\n",
       "      <th>48</th>\n",
       "      <td>Robb</td>\n",
       "      <td>0.126964</td>\n",
       "    </tr>\n",
       "    <tr>\n",
       "      <th>...</th>\n",
       "      <td>...</td>\n",
       "      <td>...</td>\n",
       "    </tr>\n",
       "    <tr>\n",
       "      <th>73</th>\n",
       "      <td>Cressen</td>\n",
       "      <td>0.000000</td>\n",
       "    </tr>\n",
       "    <tr>\n",
       "      <th>74</th>\n",
       "      <td>Salladhor</td>\n",
       "      <td>0.000000</td>\n",
       "    </tr>\n",
       "    <tr>\n",
       "      <th>76</th>\n",
       "      <td>Eddison</td>\n",
       "      <td>0.000000</td>\n",
       "    </tr>\n",
       "    <tr>\n",
       "      <th>77</th>\n",
       "      <td>Gilly</td>\n",
       "      <td>0.000000</td>\n",
       "    </tr>\n",
       "    <tr>\n",
       "      <th>106</th>\n",
       "      <td>Walton</td>\n",
       "      <td>0.000000</td>\n",
       "    </tr>\n",
       "  </tbody>\n",
       "</table>\n",
       "<p>107 rows × 2 columns</p>\n",
       "</div>"
      ],
      "text/plain": [
       "          node  betweenness\n",
       "21         Jon     0.229965\n",
       "5       Robert     0.209452\n",
       "6       Tyrion     0.197913\n",
       "63    Daenerys     0.157203\n",
       "48        Robb     0.126964\n",
       "..         ...          ...\n",
       "73     Cressen     0.000000\n",
       "74   Salladhor     0.000000\n",
       "76     Eddison     0.000000\n",
       "77       Gilly     0.000000\n",
       "106     Walton     0.000000\n",
       "\n",
       "[107 rows x 2 columns]"
      ]
     },
     "execution_count": 25,
     "metadata": {},
     "output_type": "execute_result"
    }
   ],
   "source": [
    "betweenness_df = pd.DataFrame(G.nodes(data='betweenness'), columns=['node', 'betweenness'])\n",
    "betweenness_df = betweenness_df.sort_values(by='betweenness', ascending=False)\n",
    "betweenness_df"
   ]
  },
  {
   "attachments": {},
   "cell_type": "markdown",
   "metadata": {},
   "source": [
    "Plot the nodes with the highest betweenness centrality scores"
   ]
  },
  {
   "cell_type": "code",
   "execution_count": 26,
   "metadata": {},
   "outputs": [
    {
     "data": {
      "image/png": "[encoded data removed]",
      "text/plain": [
       "<Figure size 432x288 with 1 Axes>"
      ]
     },
     "metadata": {
      "needs_background": "light"
     },
     "output_type": "display_data"
    }
   ],
   "source": [
    "num_nodes_to_inspect = 10\n",
    "betweenness_df[:num_nodes_to_inspect].plot(x='node', y='betweenness', color='green', kind='barh').invert_yaxis()"
   ]
  },
  {
   "attachments": {},
   "cell_type": "markdown",
   "metadata": {},
   "source": [
    "## Communities"
   ]
  },
  {
   "attachments": {},
   "cell_type": "markdown",
   "metadata": {},
   "source": [
    "Who forms distinct communities within this network?"
   ]
  },
  {
   "cell_type": "code",
   "execution_count": 27,
   "metadata": {},
   "outputs": [],
   "source": [
    "from networkx.algorithms import community"
   ]
  },
  {
   "attachments": {},
   "cell_type": "markdown",
   "metadata": {},
   "source": [
    "Calculate communities with `community.greedy_modularity_communities()`"
   ]
  },
  {
   "cell_type": "code",
   "execution_count": 28,
   "metadata": {},
   "outputs": [],
   "source": [
    "communities = community.greedy_modularity_communities(G)"
   ]
  },
  {
   "cell_type": "code",
   "execution_count": 29,
   "metadata": {
    "scrolled": true,
    "tags": [
     "output_scroll",
     "hide-output"
    ]
   },
   "outputs": [
    {
     "data": {
      "text/plain": [
       "[frozenset({'Aerys',\n",
       "            'Amory',\n",
       "            'Balon',\n",
       "            'Bronn',\n",
       "            'Chataya',\n",
       "            'Doran',\n",
       "            'Elia',\n",
       "            'Ellaria',\n",
       "            'Gregor',\n",
       "            'Ilyn',\n",
       "            'Jaime',\n",
       "            'Joffrey',\n",
       "            'Kevan',\n",
       "            'Lancel',\n",
       "            'Loras',\n",
       "            'Mace',\n",
       "            'Margaery',\n",
       "            'Meryn',\n",
       "            'Myrcella',\n",
       "            'Oberyn',\n",
       "            'Olenna',\n",
       "            'Podrick',\n",
       "            'Pycelle',\n",
       "            'Qyburn',\n",
       "            'Renly',\n",
       "            'Sandor',\n",
       "            'Shae',\n",
       "            'Tommen',\n",
       "            'Tyrion',\n",
       "            'Tywin',\n",
       "            'Varys',\n",
       "            'Walton'}),\n",
       " frozenset({'Aemon',\n",
       "            'Alliser',\n",
       "            'Bowen',\n",
       "            'Craster',\n",
       "            'Cressen',\n",
       "            'Dalla',\n",
       "            'Davos',\n",
       "            'Eddison',\n",
       "            'Gilly',\n",
       "            'Grenn',\n",
       "            'Hodor',\n",
       "            'Janos',\n",
       "            'Jojen',\n",
       "            'Jon',\n",
       "            'Karl',\n",
       "            'Mance',\n",
       "            'Meera',\n",
       "            'Melisandre',\n",
       "            'Orell',\n",
       "            'Qhorin',\n",
       "            'Rattleshirt',\n",
       "            'Salladhor',\n",
       "            'Samwell',\n",
       "            'Shireen',\n",
       "            'Stannis',\n",
       "            'Styr',\n",
       "            'Val',\n",
       "            'Ygritte'}),\n",
       " frozenset({'Arya',\n",
       "            'Bran',\n",
       "            'Brienne',\n",
       "            'Brynden',\n",
       "            'Catelyn',\n",
       "            'Cersei',\n",
       "            'Eddard',\n",
       "            'Edmure',\n",
       "            'Hoster',\n",
       "            'Jeyne',\n",
       "            'Lothar',\n",
       "            'Luwin',\n",
       "            'Lysa',\n",
       "            'Marillion',\n",
       "            'Nan',\n",
       "            'Petyr',\n",
       "            'Ramsay',\n",
       "            'Rickard',\n",
       "            'Rickon',\n",
       "            'Robb',\n",
       "            'Robert Arryn',\n",
       "            'Roose',\n",
       "            'Roslin',\n",
       "            'Sansa',\n",
       "            'Theon',\n",
       "            'Walder'}),\n",
       " frozenset({'Aegon',\n",
       "            'Barristan',\n",
       "            'Belwas',\n",
       "            'Daario',\n",
       "            'Daenerys',\n",
       "            'Drogo',\n",
       "            'Illyrio',\n",
       "            'Irri',\n",
       "            'Jon Arryn',\n",
       "            'Jorah',\n",
       "            'Kraznys',\n",
       "            'Missandei',\n",
       "            'Rakharo',\n",
       "            'Rhaegar',\n",
       "            'Robert',\n",
       "            'Viserys',\n",
       "            'Worm'}),\n",
       " frozenset({'Anguy', 'Beric', 'Gendry', 'Thoros'})]"
      ]
     },
     "execution_count": 29,
     "metadata": {},
     "output_type": "execute_result"
    }
   ],
   "source": [
    "communities"
   ]
  },
  {
   "attachments": {},
   "cell_type": "markdown",
   "metadata": {},
   "source": [
    "Make a `dict`ionary by looping through the communities and, for each member of the community, adding their community number"
   ]
  },
  {
   "cell_type": "code",
   "execution_count": 30,
   "metadata": {},
   "outputs": [],
   "source": [
    "# Create empty dictionary\n",
    "modularity_class = {}\n",
    "#Loop through each community in the network\n",
    "for community_number, community in enumerate(communities):\n",
    "    #For each member of the community, add their community number\n",
    "    for name in community:\n",
    "        modularity_class[name] = community_number"
   ]
  },
  {
   "attachments": {},
   "cell_type": "markdown",
   "metadata": {},
   "source": [
    "Add modularity class to the network as an attribute"
   ]
  },
  {
   "cell_type": "code",
   "execution_count": 31,
   "metadata": {},
   "outputs": [],
   "source": [
    "networkx.set_node_attributes(G, modularity_class, 'modularity_class')"
   ]
  },
  {
   "attachments": {},
   "cell_type": "markdown",
   "metadata": {},
   "source": [
    "Make a Pandas dataframe from modularity class network data `G.nodes(data='modularity_class')`"
   ]
  },
  {
   "cell_type": "code",
   "execution_count": 32,
   "metadata": {
    "scrolled": true
   },
   "outputs": [],
   "source": [
    "communities_df = pd.DataFrame(G.nodes(data='modularity_class'), columns=['node', 'modularity_class'])\n",
    "communities_df = communities_df.sort_values(by='modularity_class', ascending=False)"
   ]
  },
  {
   "cell_type": "code",
   "execution_count": 33,
   "metadata": {
    "scrolled": true,
    "tags": [
     "output_scroll"
    ]
   },
   "outputs": [
    {
     "data": {
      "text/html": [
       "<div>\n",
       "<style scoped>\n",
       "    .dataframe tbody tr th:only-of-type {\n",
       "        vertical-align: middle;\n",
       "    }\n",
       "\n",
       "    .dataframe tbody tr th {\n",
       "        vertical-align: top;\n",
       "    }\n",
       "\n",
       "    .dataframe thead th {\n",
       "        text-align: right;\n",
       "    }\n",
       "</style>\n",
       "<table border=\"1\" class=\"dataframe\">\n",
       "  <thead>\n",
       "    <tr style=\"text-align: right;\">\n",
       "      <th></th>\n",
       "      <th>node</th>\n",
       "      <th>modularity_class</th>\n",
       "    </tr>\n",
       "  </thead>\n",
       "  <tbody>\n",
       "    <tr>\n",
       "      <th>25</th>\n",
       "      <td>Thoros</td>\n",
       "      <td>4</td>\n",
       "    </tr>\n",
       "    <tr>\n",
       "      <th>18</th>\n",
       "      <td>Gendry</td>\n",
       "      <td>4</td>\n",
       "    </tr>\n",
       "    <tr>\n",
       "      <th>14</th>\n",
       "      <td>Beric</td>\n",
       "      <td>4</td>\n",
       "    </tr>\n",
       "    <tr>\n",
       "      <th>13</th>\n",
       "      <td>Anguy</td>\n",
       "      <td>4</td>\n",
       "    </tr>\n",
       "    <tr>\n",
       "      <th>28</th>\n",
       "      <td>Belwas</td>\n",
       "      <td>3</td>\n",
       "    </tr>\n",
       "    <tr>\n",
       "      <th>...</th>\n",
       "      <td>...</td>\n",
       "      <td>...</td>\n",
       "    </tr>\n",
       "    <tr>\n",
       "      <th>56</th>\n",
       "      <td>Shae</td>\n",
       "      <td>0</td>\n",
       "    </tr>\n",
       "    <tr>\n",
       "      <th>57</th>\n",
       "      <td>Varys</td>\n",
       "      <td>0</td>\n",
       "    </tr>\n",
       "    <tr>\n",
       "      <th>78</th>\n",
       "      <td>Qyburn</td>\n",
       "      <td>0</td>\n",
       "    </tr>\n",
       "    <tr>\n",
       "      <th>79</th>\n",
       "      <td>Renly</td>\n",
       "      <td>0</td>\n",
       "    </tr>\n",
       "    <tr>\n",
       "      <th>106</th>\n",
       "      <td>Walton</td>\n",
       "      <td>0</td>\n",
       "    </tr>\n",
       "  </tbody>\n",
       "</table>\n",
       "<p>107 rows × 2 columns</p>\n",
       "</div>"
      ],
      "text/plain": [
       "       node  modularity_class\n",
       "25   Thoros                 4\n",
       "18   Gendry                 4\n",
       "14    Beric                 4\n",
       "13    Anguy                 4\n",
       "28   Belwas                 3\n",
       "..      ...               ...\n",
       "56     Shae                 0\n",
       "57    Varys                 0\n",
       "78   Qyburn                 0\n",
       "79    Renly                 0\n",
       "106  Walton                 0\n",
       "\n",
       "[107 rows x 2 columns]"
      ]
     },
     "execution_count": 33,
     "metadata": {},
     "output_type": "execute_result"
    }
   ],
   "source": [
    "communities_df"
   ]
  },
  {
   "cell_type": "code",
   "execution_count": 40,
   "metadata": {},
   "outputs": [
    {
     "data": {
      "text/html": [
       "<div>\n",
       "<style scoped>\n",
       "    .dataframe tbody tr th:only-of-type {\n",
       "        vertical-align: middle;\n",
       "    }\n",
       "\n",
       "    .dataframe tbody tr th {\n",
       "        vertical-align: top;\n",
       "    }\n",
       "\n",
       "    .dataframe thead th {\n",
       "        text-align: right;\n",
       "    }\n",
       "</style>\n",
       "<table border=\"1\" class=\"dataframe\">\n",
       "  <thead>\n",
       "    <tr style=\"text-align: right;\">\n",
       "      <th></th>\n",
       "      <th>node</th>\n",
       "    </tr>\n",
       "    <tr>\n",
       "      <th>modularity_class</th>\n",
       "      <th></th>\n",
       "    </tr>\n",
       "  </thead>\n",
       "  <tbody>\n",
       "    <tr>\n",
       "      <th>0</th>\n",
       "      <td>32</td>\n",
       "    </tr>\n",
       "    <tr>\n",
       "      <th>1</th>\n",
       "      <td>28</td>\n",
       "    </tr>\n",
       "    <tr>\n",
       "      <th>2</th>\n",
       "      <td>26</td>\n",
       "    </tr>\n",
       "    <tr>\n",
       "      <th>3</th>\n",
       "      <td>17</td>\n",
       "    </tr>\n",
       "    <tr>\n",
       "      <th>4</th>\n",
       "      <td>4</td>\n",
       "    </tr>\n",
       "  </tbody>\n",
       "</table>\n",
       "</div>"
      ],
      "text/plain": [
       "                  node\n",
       "modularity_class      \n",
       "0                   32\n",
       "1                   28\n",
       "2                   26\n",
       "3                   17\n",
       "4                    4"
      ]
     },
     "execution_count": 40,
     "metadata": {},
     "output_type": "execute_result"
    }
   ],
   "source": [
    "communities_df.groupby('modularity_class').count()"
   ]
  },
  {
   "attachments": {},
   "cell_type": "markdown",
   "metadata": {},
   "source": [
    "Inspect each community in the network"
   ]
  },
  {
   "cell_type": "code",
   "execution_count": 34,
   "metadata": {},
   "outputs": [
    {
     "data": {
      "text/html": [
       "<div>\n",
       "<style scoped>\n",
       "    .dataframe tbody tr th:only-of-type {\n",
       "        vertical-align: middle;\n",
       "    }\n",
       "\n",
       "    .dataframe tbody tr th {\n",
       "        vertical-align: top;\n",
       "    }\n",
       "\n",
       "    .dataframe thead th {\n",
       "        text-align: right;\n",
       "    }\n",
       "</style>\n",
       "<table border=\"1\" class=\"dataframe\">\n",
       "  <thead>\n",
       "    <tr style=\"text-align: right;\">\n",
       "      <th></th>\n",
       "      <th>node</th>\n",
       "      <th>modularity_class</th>\n",
       "    </tr>\n",
       "  </thead>\n",
       "  <tbody>\n",
       "    <tr>\n",
       "      <th>25</th>\n",
       "      <td>Thoros</td>\n",
       "      <td>4</td>\n",
       "    </tr>\n",
       "    <tr>\n",
       "      <th>18</th>\n",
       "      <td>Gendry</td>\n",
       "      <td>4</td>\n",
       "    </tr>\n",
       "    <tr>\n",
       "      <th>14</th>\n",
       "      <td>Beric</td>\n",
       "      <td>4</td>\n",
       "    </tr>\n",
       "    <tr>\n",
       "      <th>13</th>\n",
       "      <td>Anguy</td>\n",
       "      <td>4</td>\n",
       "    </tr>\n",
       "  </tbody>\n",
       "</table>\n",
       "</div>"
      ],
      "text/plain": [
       "      node  modularity_class\n",
       "25  Thoros                 4\n",
       "18  Gendry                 4\n",
       "14   Beric                 4\n",
       "13   Anguy                 4"
      ]
     },
     "execution_count": 34,
     "metadata": {},
     "output_type": "execute_result"
    }
   ],
   "source": [
    "communities_df[communities_df['modularity_class'] == 4]"
   ]
  },
  {
   "cell_type": "code",
   "execution_count": 35,
   "metadata": {
    "scrolled": true
   },
   "outputs": [
    {
     "data": {
      "text/html": [
       "<div>\n",
       "<style scoped>\n",
       "    .dataframe tbody tr th:only-of-type {\n",
       "        vertical-align: middle;\n",
       "    }\n",
       "\n",
       "    .dataframe tbody tr th {\n",
       "        vertical-align: top;\n",
       "    }\n",
       "\n",
       "    .dataframe thead th {\n",
       "        text-align: right;\n",
       "    }\n",
       "</style>\n",
       "<table border=\"1\" class=\"dataframe\">\n",
       "  <thead>\n",
       "    <tr style=\"text-align: right;\">\n",
       "      <th></th>\n",
       "      <th>node</th>\n",
       "      <th>modularity_class</th>\n",
       "    </tr>\n",
       "  </thead>\n",
       "  <tbody>\n",
       "    <tr>\n",
       "      <th>28</th>\n",
       "      <td>Belwas</td>\n",
       "      <td>3</td>\n",
       "    </tr>\n",
       "    <tr>\n",
       "      <th>94</th>\n",
       "      <td>Jon Arryn</td>\n",
       "      <td>3</td>\n",
       "    </tr>\n",
       "    <tr>\n",
       "      <th>65</th>\n",
       "      <td>Jorah</td>\n",
       "      <td>3</td>\n",
       "    </tr>\n",
       "    <tr>\n",
       "      <th>67</th>\n",
       "      <td>Missandei</td>\n",
       "      <td>3</td>\n",
       "    </tr>\n",
       "    <tr>\n",
       "      <th>71</th>\n",
       "      <td>Worm</td>\n",
       "      <td>3</td>\n",
       "    </tr>\n",
       "    <tr>\n",
       "      <th>70</th>\n",
       "      <td>Viserys</td>\n",
       "      <td>3</td>\n",
       "    </tr>\n",
       "    <tr>\n",
       "      <th>29</th>\n",
       "      <td>Barristan</td>\n",
       "      <td>3</td>\n",
       "    </tr>\n",
       "    <tr>\n",
       "      <th>30</th>\n",
       "      <td>Illyrio</td>\n",
       "      <td>3</td>\n",
       "    </tr>\n",
       "    <tr>\n",
       "      <th>69</th>\n",
       "      <td>Rhaegar</td>\n",
       "      <td>3</td>\n",
       "    </tr>\n",
       "    <tr>\n",
       "      <th>68</th>\n",
       "      <td>Rakharo</td>\n",
       "      <td>3</td>\n",
       "    </tr>\n",
       "    <tr>\n",
       "      <th>64</th>\n",
       "      <td>Aegon</td>\n",
       "      <td>3</td>\n",
       "    </tr>\n",
       "    <tr>\n",
       "      <th>63</th>\n",
       "      <td>Daenerys</td>\n",
       "      <td>3</td>\n",
       "    </tr>\n",
       "    <tr>\n",
       "      <th>5</th>\n",
       "      <td>Robert</td>\n",
       "      <td>3</td>\n",
       "    </tr>\n",
       "    <tr>\n",
       "      <th>62</th>\n",
       "      <td>Irri</td>\n",
       "      <td>3</td>\n",
       "    </tr>\n",
       "    <tr>\n",
       "      <th>61</th>\n",
       "      <td>Drogo</td>\n",
       "      <td>3</td>\n",
       "    </tr>\n",
       "    <tr>\n",
       "      <th>60</th>\n",
       "      <td>Daario</td>\n",
       "      <td>3</td>\n",
       "    </tr>\n",
       "    <tr>\n",
       "      <th>66</th>\n",
       "      <td>Kraznys</td>\n",
       "      <td>3</td>\n",
       "    </tr>\n",
       "  </tbody>\n",
       "</table>\n",
       "</div>"
      ],
      "text/plain": [
       "         node  modularity_class\n",
       "28     Belwas                 3\n",
       "94  Jon Arryn                 3\n",
       "65      Jorah                 3\n",
       "67  Missandei                 3\n",
       "71       Worm                 3\n",
       "70    Viserys                 3\n",
       "29  Barristan                 3\n",
       "30    Illyrio                 3\n",
       "69    Rhaegar                 3\n",
       "68    Rakharo                 3\n",
       "64      Aegon                 3\n",
       "63   Daenerys                 3\n",
       "5      Robert                 3\n",
       "62       Irri                 3\n",
       "61      Drogo                 3\n",
       "60     Daario                 3\n",
       "66    Kraznys                 3"
      ]
     },
     "execution_count": 35,
     "metadata": {},
     "output_type": "execute_result"
    }
   ],
   "source": [
    "communities_df[communities_df['modularity_class'] == 3]"
   ]
  },
  {
   "cell_type": "code",
   "execution_count": null,
   "metadata": {
    "scrolled": true
   },
   "outputs": [],
   "source": [
    "communities_df[communities_df['modularity_class'] == 2]"
   ]
  },
  {
   "cell_type": "code",
   "execution_count": null,
   "metadata": {
    "scrolled": true
   },
   "outputs": [],
   "source": [
    "communities_df[communities_df['modularity_class'] == 1]"
   ]
  },
  {
   "cell_type": "code",
   "execution_count": null,
   "metadata": {
    "scrolled": true
   },
   "outputs": [],
   "source": [
    "communities_df[communities_df['modularity_class'] == 0]"
   ]
  },
  {
   "attachments": {},
   "cell_type": "markdown",
   "metadata": {},
   "source": [
    "Plot a sample of 40 characters with their modularity class indicated by a star"
   ]
  },
  {
   "cell_type": "code",
   "execution_count": 41,
   "metadata": {},
   "outputs": [],
   "source": [
    "import seaborn as sns"
   ]
  },
  {
   "cell_type": "code",
   "execution_count": 42,
   "metadata": {},
   "outputs": [
    {
     "data": {
      "image/png": "[encoded data removed]",
      "text/plain": [
       "<Figure size 288x864 with 1 Axes>"
      ]
     },
     "metadata": {
      "needs_background": "light"
     },
     "output_type": "display_data"
    }
   ],
   "source": [
    "#Set figure size\n",
    "plt.figure(figsize=(4,12))\n",
    "\n",
    "#Plot a categorical scatter plot from the dataframe communities_df.sample(40)\n",
    "ax =sns.stripplot(x='modularity_class', y='node', data=communities_df.sample(40),\n",
    "              hue='modularity_class', marker='*',size=15)\n",
    "#Set legend outside the plot with bbox_to_anchor\n",
    "ax.legend(loc='upper right',bbox_to_anchor=(1.5, 1), title='Modularity Class')\n",
    "ax.set_title(\"GOT Characters By Modularity Class\\n(Random Sample)\")\n",
    "plt.show()"
   ]
  },
  {
   "attachments": {},
   "cell_type": "markdown",
   "metadata": {},
   "source": [
    "Plot all GOT characters with their modularity class indicated by a star (tak"
   ]
  },
  {
   "cell_type": "code",
   "execution_count": 43,
   "metadata": {},
   "outputs": [
    {
     "data": {
      "image/png": "[encoded data removed]",
      "text/plain": [
       "<Figure size 288x1800 with 1 Axes>"
      ]
     },
     "metadata": {
      "needs_background": "light"
     },
     "output_type": "display_data"
    }
   ],
   "source": [
    "plt.figure(figsize=(4,25))\n",
    "\n",
    "ax =sns.stripplot(x='modularity_class', y='node', data=communities_df,\n",
    "              hue='modularity_class', marker='*',size=15)\n",
    "\n",
    "ax.legend(loc='upper right',bbox_to_anchor=(1.5, 1), title='Modularity Class')\n",
    "ax.set_title(\"GOT Characters By Modularity Class\")\n",
    "plt.show()"
   ]
  },
  {
   "attachments": {},
   "cell_type": "markdown",
   "metadata": {},
   "source": [
    "## All Network Metrics"
   ]
  },
  {
   "attachments": {},
   "cell_type": "markdown",
   "metadata": {},
   "source": [
    "Create a Pandas dataframe of all network attributes by creating a `dict`ionary of `G.nodes(data=True)`..."
   ]
  },
  {
   "cell_type": "code",
   "execution_count": 44,
   "metadata": {
    "scrolled": true,
    "tags": [
     "output_scroll"
    ]
   },
   "outputs": [
    {
     "data": {
      "text/plain": [
       "{'Aemon': {'degree': 5,\n",
       "  'weighted_degree': 74,\n",
       "  'betweenness': 0.004622508177397137,\n",
       "  'modularity_class': 1},\n",
       " 'Grenn': {'degree': 4,\n",
       "  'weighted_degree': 81,\n",
       "  'betweenness': 5.989817310572027e-05,\n",
       "  'modularity_class': 1},\n",
       " 'Samwell': {'degree': 15,\n",
       "  'weighted_degree': 282,\n",
       "  'betweenness': 0.03227262859511145,\n",
       "  'modularity_class': 1},\n",
       " 'Aerys': {'degree': 4,\n",
       "  'weighted_degree': 37,\n",
       "  'betweenness': 0.0,\n",
       "  'modularity_class': 0},\n",
       " 'Jaime': {'degree': 24,\n",
       "  'weighted_degree': 372,\n",
       "  'betweenness': 0.09994344156136246,\n",
       "  'modularity_class': 0},\n",
       " 'Robert': {'degree': 18,\n",
       "  'weighted_degree': 128,\n",
       "  'betweenness': 0.2094523840293194,\n",
       "  'modularity_class': 3},\n",
       " 'Tyrion': {'degree': 36,\n",
       "  'weighted_degree': 551,\n",
       "  'betweenness': 0.19791284320277353,\n",
       "  'modularity_class': 0},\n",
       " 'Tywin': {'degree': 22,\n",
       "  'weighted_degree': 204,\n",
       "  'betweenness': 0.06553840423231058,\n",
       "  'modularity_class': 0},\n",
       " 'Alliser': {'degree': 3,\n",
       "  'weighted_degree': 29,\n",
       "  'betweenness': 0.0,\n",
       "  'modularity_class': 1},\n",
       " 'Mance': {'degree': 12,\n",
       "  'weighted_degree': 160,\n",
       "  'betweenness': 0.007275961371756524,\n",
       "  'modularity_class': 1},\n",
       " 'Amory': {'degree': 1,\n",
       "  'weighted_degree': 5,\n",
       "  'betweenness': 0.0,\n",
       "  'modularity_class': 0},\n",
       " 'Oberyn': {'degree': 7,\n",
       "  'weighted_degree': 76,\n",
       "  'betweenness': 0.01958014232946847,\n",
       "  'modularity_class': 0},\n",
       " 'Arya': {'degree': 19,\n",
       "  'weighted_degree': 269,\n",
       "  'betweenness': 0.07960711308183888,\n",
       "  'modularity_class': 2},\n",
       " 'Anguy': {'degree': 2,\n",
       "  'weighted_degree': 15,\n",
       "  'betweenness': 0.0,\n",
       "  'modularity_class': 4},\n",
       " 'Beric': {'degree': 6,\n",
       "  'weighted_degree': 75,\n",
       "  'betweenness': 0.0006091214266627511,\n",
       "  'modularity_class': 4},\n",
       " 'Bran': {'degree': 14,\n",
       "  'weighted_degree': 344,\n",
       "  'betweenness': 0.06301659941786954,\n",
       "  'modularity_class': 2},\n",
       " 'Brynden': {'degree': 8,\n",
       "  'weighted_degree': 55,\n",
       "  'betweenness': 0.004727134574764742,\n",
       "  'modularity_class': 2},\n",
       " 'Cersei': {'degree': 20,\n",
       "  'weighted_degree': 226,\n",
       "  'betweenness': 0.02674643287824232,\n",
       "  'modularity_class': 2},\n",
       " 'Gendry': {'degree': 4,\n",
       "  'weighted_degree': 59,\n",
       "  'betweenness': 0.0,\n",
       "  'modularity_class': 4},\n",
       " 'Gregor': {'degree': 12,\n",
       "  'weighted_degree': 117,\n",
       "  'betweenness': 0.005879915417737236,\n",
       "  'modularity_class': 0},\n",
       " 'Joffrey': {'degree': 18,\n",
       "  'weighted_degree': 255,\n",
       "  'betweenness': 0.025434099443917696,\n",
       "  'modularity_class': 0},\n",
       " 'Jon': {'degree': 26,\n",
       "  'weighted_degree': 442,\n",
       "  'betweenness': 0.22996466368473173,\n",
       "  'modularity_class': 1},\n",
       " 'Rickon': {'degree': 6,\n",
       "  'weighted_degree': 81,\n",
       "  'betweenness': 0.0007626320968639029,\n",
       "  'modularity_class': 2},\n",
       " 'Roose': {'degree': 4,\n",
       "  'weighted_degree': 17,\n",
       "  'betweenness': 0.0002629599012559427,\n",
       "  'modularity_class': 2},\n",
       " 'Sandor': {'degree': 13,\n",
       "  'weighted_degree': 137,\n",
       "  'betweenness': 0.014162278987154626,\n",
       "  'modularity_class': 0},\n",
       " 'Thoros': {'degree': 5,\n",
       "  'weighted_degree': 60,\n",
       "  'betweenness': 0.0019261823273239152,\n",
       "  'modularity_class': 4},\n",
       " 'Balon': {'degree': 6,\n",
       "  'weighted_degree': 29,\n",
       "  'betweenness': 0.0006281164805527878,\n",
       "  'modularity_class': 0},\n",
       " 'Loras': {'degree': 9,\n",
       "  'weighted_degree': 76,\n",
       "  'betweenness': 0.003780752291533962,\n",
       "  'modularity_class': 0},\n",
       " 'Belwas': {'degree': 4,\n",
       "  'weighted_degree': 67,\n",
       "  'betweenness': 0.018867924528301886,\n",
       "  'modularity_class': 3},\n",
       " 'Barristan': {'degree': 6,\n",
       "  'weighted_degree': 63,\n",
       "  'betweenness': 0.04011407489067884,\n",
       "  'modularity_class': 3},\n",
       " 'Illyrio': {'degree': 1,\n",
       "  'weighted_degree': 10,\n",
       "  'betweenness': 0.0,\n",
       "  'modularity_class': 3},\n",
       " 'Hodor': {'degree': 4,\n",
       "  'weighted_degree': 177,\n",
       "  'betweenness': 0.0021937273446681065,\n",
       "  'modularity_class': 1},\n",
       " 'Jojen': {'degree': 4,\n",
       "  'weighted_degree': 125,\n",
       "  'betweenness': 0.0004064518889316733,\n",
       "  'modularity_class': 1},\n",
       " 'Luwin': {'degree': 2,\n",
       "  'weighted_degree': 8,\n",
       "  'betweenness': 0.0,\n",
       "  'modularity_class': 2},\n",
       " 'Meera': {'degree': 5,\n",
       "  'weighted_degree': 139,\n",
       "  'betweenness': 0.0019922569692430686,\n",
       "  'modularity_class': 1},\n",
       " 'Nan': {'degree': 2,\n",
       "  'weighted_degree': 18,\n",
       "  'betweenness': 0.0,\n",
       "  'modularity_class': 2},\n",
       " 'Theon': {'degree': 4,\n",
       "  'weighted_degree': 38,\n",
       "  'betweenness': 0.00047177590304274953,\n",
       "  'modularity_class': 2},\n",
       " 'Brienne': {'degree': 7,\n",
       "  'weighted_degree': 122,\n",
       "  'betweenness': 0.0015376001520469229,\n",
       "  'modularity_class': 2},\n",
       " 'Bronn': {'degree': 4,\n",
       "  'weighted_degree': 59,\n",
       "  'betweenness': 0.00010482180293501046,\n",
       "  'modularity_class': 0},\n",
       " 'Podrick': {'degree': 5,\n",
       "  'weighted_degree': 64,\n",
       "  'betweenness': 0.0008358985235471674,\n",
       "  'modularity_class': 0},\n",
       " 'Lothar': {'degree': 5,\n",
       "  'weighted_degree': 34,\n",
       "  'betweenness': 0.0006600525898733143,\n",
       "  'modularity_class': 2},\n",
       " 'Walder': {'degree': 8,\n",
       "  'weighted_degree': 87,\n",
       "  'betweenness': 0.0032731813973401044,\n",
       "  'modularity_class': 2},\n",
       " 'Catelyn': {'degree': 18,\n",
       "  'weighted_degree': 184,\n",
       "  'betweenness': 0.04890588265764755,\n",
       "  'modularity_class': 2},\n",
       " 'Edmure': {'degree': 8,\n",
       "  'weighted_degree': 98,\n",
       "  'betweenness': 0.0063172332740347534,\n",
       "  'modularity_class': 2},\n",
       " 'Hoster': {'degree': 3,\n",
       "  'weighted_degree': 24,\n",
       "  'betweenness': 0.0002426336765959408,\n",
       "  'modularity_class': 2},\n",
       " 'Jeyne': {'degree': 2,\n",
       "  'weighted_degree': 28,\n",
       "  'betweenness': 0.0,\n",
       "  'modularity_class': 2},\n",
       " 'Lysa': {'degree': 10,\n",
       "  'weighted_degree': 108,\n",
       "  'betweenness': 0.015215156305177053,\n",
       "  'modularity_class': 2},\n",
       " 'Petyr': {'degree': 7,\n",
       "  'weighted_degree': 89,\n",
       "  'betweenness': 0.0011502139845250673,\n",
       "  'modularity_class': 2},\n",
       " 'Robb': {'degree': 25,\n",
       "  'weighted_degree': 342,\n",
       "  'betweenness': 0.1269644713830151,\n",
       "  'modularity_class': 2},\n",
       " 'Roslin': {'degree': 4,\n",
       "  'weighted_degree': 32,\n",
       "  'betweenness': 6.751960581039384e-05,\n",
       "  'modularity_class': 2},\n",
       " 'Sansa': {'degree': 26,\n",
       "  'weighted_degree': 383,\n",
       "  'betweenness': 0.12672031668498004,\n",
       "  'modularity_class': 2},\n",
       " 'Stannis': {'degree': 14,\n",
       "  'weighted_degree': 146,\n",
       "  'betweenness': 0.1026998617273264,\n",
       "  'modularity_class': 1},\n",
       " 'Elia': {'degree': 5,\n",
       "  'weighted_degree': 29,\n",
       "  'betweenness': 0.002996853410630337,\n",
       "  'modularity_class': 0},\n",
       " 'Ilyn': {'degree': 6,\n",
       "  'weighted_degree': 32,\n",
       "  'betweenness': 0.0,\n",
       "  'modularity_class': 0},\n",
       " 'Meryn': {'degree': 7,\n",
       "  'weighted_degree': 47,\n",
       "  'betweenness': 0.00025900705642512993,\n",
       "  'modularity_class': 0},\n",
       " 'Pycelle': {'degree': 4,\n",
       "  'weighted_degree': 24,\n",
       "  'betweenness': 0.0,\n",
       "  'modularity_class': 0},\n",
       " 'Shae': {'degree': 5,\n",
       "  'weighted_degree': 45,\n",
       "  'betweenness': 0.0012523948930099663,\n",
       "  'modularity_class': 0},\n",
       " 'Varys': {'degree': 7,\n",
       "  'weighted_degree': 49,\n",
       "  'betweenness': 0.0009094137867722772,\n",
       "  'modularity_class': 0},\n",
       " 'Craster': {'degree': 5,\n",
       "  'weighted_degree': 75,\n",
       "  'betweenness': 0.018867924528301886,\n",
       "  'modularity_class': 1},\n",
       " 'Karl': {'degree': 1,\n",
       "  'weighted_degree': 6,\n",
       "  'betweenness': 0.0,\n",
       "  'modularity_class': 1},\n",
       " 'Daario': {'degree': 4,\n",
       "  'weighted_degree': 30,\n",
       "  'betweenness': 5.989817310572027e-05,\n",
       "  'modularity_class': 3},\n",
       " 'Drogo': {'degree': 4,\n",
       "  'weighted_degree': 35,\n",
       "  'betweenness': 5.989817310572027e-05,\n",
       "  'modularity_class': 3},\n",
       " 'Irri': {'degree': 4,\n",
       "  'weighted_degree': 33,\n",
       "  'betweenness': 0.00017969451931716083,\n",
       "  'modularity_class': 3},\n",
       " 'Daenerys': {'degree': 14,\n",
       "  'weighted_degree': 232,\n",
       "  'betweenness': 0.15720345212054956,\n",
       "  'modularity_class': 3},\n",
       " 'Aegon': {'degree': 1,\n",
       "  'weighted_degree': 8,\n",
       "  'betweenness': 0.0,\n",
       "  'modularity_class': 3},\n",
       " 'Jorah': {'degree': 6,\n",
       "  'weighted_degree': 89,\n",
       "  'betweenness': 0.002329891127259132,\n",
       "  'modularity_class': 3},\n",
       " 'Kraznys': {'degree': 1,\n",
       "  'weighted_degree': 10,\n",
       "  'betweenness': 0.0,\n",
       "  'modularity_class': 3},\n",
       " 'Missandei': {'degree': 2,\n",
       "  'weighted_degree': 30,\n",
       "  'betweenness': 0.0,\n",
       "  'modularity_class': 3},\n",
       " 'Rakharo': {'degree': 1,\n",
       "  'weighted_degree': 7,\n",
       "  'betweenness': 0.0,\n",
       "  'modularity_class': 3},\n",
       " 'Rhaegar': {'degree': 6,\n",
       "  'weighted_degree': 42,\n",
       "  'betweenness': 0.007312671807481101,\n",
       "  'modularity_class': 3},\n",
       " 'Viserys': {'degree': 3,\n",
       "  'weighted_degree': 19,\n",
       "  'betweenness': 0.015644391307527945,\n",
       "  'modularity_class': 3},\n",
       " 'Worm': {'degree': 1,\n",
       "  'weighted_degree': 14,\n",
       "  'betweenness': 0.0,\n",
       "  'modularity_class': 3},\n",
       " 'Davos': {'degree': 5,\n",
       "  'weighted_degree': 87,\n",
       "  'betweenness': 0.056064690026954175,\n",
       "  'modularity_class': 1},\n",
       " 'Cressen': {'degree': 1,\n",
       "  'weighted_degree': 4,\n",
       "  'betweenness': 0.0,\n",
       "  'modularity_class': 1},\n",
       " 'Salladhor': {'degree': 1,\n",
       "  'weighted_degree': 16,\n",
       "  'betweenness': 0.0,\n",
       "  'modularity_class': 1},\n",
       " 'Eddard': {'degree': 12,\n",
       "  'weighted_degree': 108,\n",
       "  'betweenness': 0.019341416465723616,\n",
       "  'modularity_class': 2},\n",
       " 'Eddison': {'degree': 3,\n",
       "  'weighted_degree': 24,\n",
       "  'betweenness': 0.0,\n",
       "  'modularity_class': 1},\n",
       " 'Gilly': {'degree': 4,\n",
       "  'weighted_degree': 69,\n",
       "  'betweenness': 0.0,\n",
       "  'modularity_class': 1},\n",
       " 'Qyburn': {'degree': 1,\n",
       "  'weighted_degree': 11,\n",
       "  'betweenness': 0.0,\n",
       "  'modularity_class': 0},\n",
       " 'Renly': {'degree': 8,\n",
       "  'weighted_degree': 55,\n",
       "  'betweenness': 0.004227926858198188,\n",
       "  'modularity_class': 0},\n",
       " 'Tommen': {'degree': 5,\n",
       "  'weighted_degree': 31,\n",
       "  'betweenness': 0.0006984420191967362,\n",
       "  'modularity_class': 0},\n",
       " 'Janos': {'degree': 6,\n",
       "  'weighted_degree': 37,\n",
       "  'betweenness': 0.02355861153253357,\n",
       "  'modularity_class': 1},\n",
       " 'Bowen': {'degree': 2,\n",
       "  'weighted_degree': 11,\n",
       "  'betweenness': 0.0,\n",
       "  'modularity_class': 1},\n",
       " 'Kevan': {'degree': 6,\n",
       "  'weighted_degree': 50,\n",
       "  'betweenness': 0.019219915043818533,\n",
       "  'modularity_class': 0},\n",
       " 'Margaery': {'degree': 7,\n",
       "  'weighted_degree': 96,\n",
       "  'betweenness': 0.0010973522354777933,\n",
       "  'modularity_class': 0},\n",
       " 'Myrcella': {'degree': 4,\n",
       "  'weighted_degree': 18,\n",
       "  'betweenness': 0.0006235971795124951,\n",
       "  'modularity_class': 0},\n",
       " 'Dalla': {'degree': 3,\n",
       "  'weighted_degree': 21,\n",
       "  'betweenness': 0.0,\n",
       "  'modularity_class': 1},\n",
       " 'Melisandre': {'degree': 4,\n",
       "  'weighted_degree': 62,\n",
       "  'betweenness': 0.00860866854841803,\n",
       "  'modularity_class': 1},\n",
       " 'Orell': {'degree': 1,\n",
       "  'weighted_degree': 6,\n",
       "  'betweenness': 0.0,\n",
       "  'modularity_class': 1},\n",
       " 'Qhorin': {'degree': 5,\n",
       "  'weighted_degree': 59,\n",
       "  'betweenness': 0.0002635519616651692,\n",
       "  'modularity_class': 1},\n",
       " 'Rattleshirt': {'degree': 4,\n",
       "  'weighted_degree': 44,\n",
       "  'betweenness': 0.0,\n",
       "  'modularity_class': 1},\n",
       " 'Styr': {'degree': 2,\n",
       "  'weighted_degree': 23,\n",
       "  'betweenness': 0.0,\n",
       "  'modularity_class': 1},\n",
       " 'Val': {'degree': 4,\n",
       "  'weighted_degree': 31,\n",
       "  'betweenness': 0.005898334987101542,\n",
       "  'modularity_class': 1},\n",
       " 'Ygritte': {'degree': 4,\n",
       "  'weighted_degree': 82,\n",
       "  'betweenness': 0.0,\n",
       "  'modularity_class': 1},\n",
       " 'Jon Arryn': {'degree': 2,\n",
       "  'weighted_degree': 11,\n",
       "  'betweenness': 0.0005764583325230229,\n",
       "  'modularity_class': 3},\n",
       " 'Lancel': {'degree': 1,\n",
       "  'weighted_degree': 7,\n",
       "  'betweenness': 0.0,\n",
       "  'modularity_class': 0},\n",
       " 'Olenna': {'degree': 2,\n",
       "  'weighted_degree': 12,\n",
       "  'betweenness': 0.0,\n",
       "  'modularity_class': 0},\n",
       " 'Marillion': {'degree': 3,\n",
       "  'weighted_degree': 23,\n",
       "  'betweenness': 0.0,\n",
       "  'modularity_class': 2},\n",
       " 'Robert Arryn': {'degree': 3,\n",
       "  'weighted_degree': 19,\n",
       "  'betweenness': 0.0,\n",
       "  'modularity_class': 2},\n",
       " 'Ellaria': {'degree': 2,\n",
       "  'weighted_degree': 10,\n",
       "  'betweenness': 0.0,\n",
       "  'modularity_class': 0},\n",
       " 'Mace': {'degree': 3,\n",
       "  'weighted_degree': 20,\n",
       "  'betweenness': 0.0,\n",
       "  'modularity_class': 0},\n",
       " 'Rickard': {'degree': 2,\n",
       "  'weighted_degree': 11,\n",
       "  'betweenness': 0.0,\n",
       "  'modularity_class': 2},\n",
       " 'Ramsay': {'degree': 1,\n",
       "  'weighted_degree': 4,\n",
       "  'betweenness': 0.0,\n",
       "  'modularity_class': 2},\n",
       " 'Chataya': {'degree': 2,\n",
       "  'weighted_degree': 9,\n",
       "  'betweenness': 0.0,\n",
       "  'modularity_class': 0},\n",
       " 'Shireen': {'degree': 1,\n",
       "  'weighted_degree': 5,\n",
       "  'betweenness': 0.0,\n",
       "  'modularity_class': 1},\n",
       " 'Doran': {'degree': 1,\n",
       "  'weighted_degree': 5,\n",
       "  'betweenness': 0.0,\n",
       "  'modularity_class': 0},\n",
       " 'Walton': {'degree': 1,\n",
       "  'weighted_degree': 10,\n",
       "  'betweenness': 0.0,\n",
       "  'modularity_class': 0}}"
      ]
     },
     "execution_count": 44,
     "metadata": {},
     "output_type": "execute_result"
    }
   ],
   "source": [
    "dict(G.nodes(data=True))"
   ]
  },
  {
   "attachments": {},
   "cell_type": "markdown",
   "metadata": {},
   "source": [
    "...and then [transposing it](https://pandas.pydata.org/pandas-docs/stable/reference/api/pandas.DataFrame.T.html) (flipping the columns and rows) with `.T`"
   ]
  },
  {
   "cell_type": "code",
   "execution_count": 47,
   "metadata": {
    "scrolled": true,
    "tags": [
     "output_scroll"
    ]
   },
   "outputs": [
    {
     "data": {
      "text/html": [
       "<div>\n",
       "<style scoped>\n",
       "    .dataframe tbody tr th:only-of-type {\n",
       "        vertical-align: middle;\n",
       "    }\n",
       "\n",
       "    .dataframe tbody tr th {\n",
       "        vertical-align: top;\n",
       "    }\n",
       "\n",
       "    .dataframe thead th {\n",
       "        text-align: right;\n",
       "    }\n",
       "</style>\n",
       "<table border=\"1\" class=\"dataframe\">\n",
       "  <thead>\n",
       "    <tr style=\"text-align: right;\">\n",
       "      <th></th>\n",
       "      <th>degree</th>\n",
       "      <th>weighted_degree</th>\n",
       "      <th>betweenness</th>\n",
       "      <th>modularity_class</th>\n",
       "    </tr>\n",
       "  </thead>\n",
       "  <tbody>\n",
       "    <tr>\n",
       "      <th>Aemon</th>\n",
       "      <td>5.0</td>\n",
       "      <td>74.0</td>\n",
       "      <td>0.004623</td>\n",
       "      <td>1.0</td>\n",
       "    </tr>\n",
       "    <tr>\n",
       "      <th>Grenn</th>\n",
       "      <td>4.0</td>\n",
       "      <td>81.0</td>\n",
       "      <td>0.000060</td>\n",
       "      <td>1.0</td>\n",
       "    </tr>\n",
       "    <tr>\n",
       "      <th>Samwell</th>\n",
       "      <td>15.0</td>\n",
       "      <td>282.0</td>\n",
       "      <td>0.032273</td>\n",
       "      <td>1.0</td>\n",
       "    </tr>\n",
       "    <tr>\n",
       "      <th>Aerys</th>\n",
       "      <td>4.0</td>\n",
       "      <td>37.0</td>\n",
       "      <td>0.000000</td>\n",
       "      <td>0.0</td>\n",
       "    </tr>\n",
       "    <tr>\n",
       "      <th>Jaime</th>\n",
       "      <td>24.0</td>\n",
       "      <td>372.0</td>\n",
       "      <td>0.099943</td>\n",
       "      <td>0.0</td>\n",
       "    </tr>\n",
       "    <tr>\n",
       "      <th>...</th>\n",
       "      <td>...</td>\n",
       "      <td>...</td>\n",
       "      <td>...</td>\n",
       "      <td>...</td>\n",
       "    </tr>\n",
       "    <tr>\n",
       "      <th>Ramsay</th>\n",
       "      <td>1.0</td>\n",
       "      <td>4.0</td>\n",
       "      <td>0.000000</td>\n",
       "      <td>2.0</td>\n",
       "    </tr>\n",
       "    <tr>\n",
       "      <th>Chataya</th>\n",
       "      <td>2.0</td>\n",
       "      <td>9.0</td>\n",
       "      <td>0.000000</td>\n",
       "      <td>0.0</td>\n",
       "    </tr>\n",
       "    <tr>\n",
       "      <th>Shireen</th>\n",
       "      <td>1.0</td>\n",
       "      <td>5.0</td>\n",
       "      <td>0.000000</td>\n",
       "      <td>1.0</td>\n",
       "    </tr>\n",
       "    <tr>\n",
       "      <th>Doran</th>\n",
       "      <td>1.0</td>\n",
       "      <td>5.0</td>\n",
       "      <td>0.000000</td>\n",
       "      <td>0.0</td>\n",
       "    </tr>\n",
       "    <tr>\n",
       "      <th>Walton</th>\n",
       "      <td>1.0</td>\n",
       "      <td>10.0</td>\n",
       "      <td>0.000000</td>\n",
       "      <td>0.0</td>\n",
       "    </tr>\n",
       "  </tbody>\n",
       "</table>\n",
       "<p>107 rows × 4 columns</p>\n",
       "</div>"
      ],
      "text/plain": [
       "         degree  weighted_degree  betweenness  modularity_class\n",
       "Aemon       5.0             74.0     0.004623               1.0\n",
       "Grenn       4.0             81.0     0.000060               1.0\n",
       "Samwell    15.0            282.0     0.032273               1.0\n",
       "Aerys       4.0             37.0     0.000000               0.0\n",
       "Jaime      24.0            372.0     0.099943               0.0\n",
       "...         ...              ...          ...               ...\n",
       "Ramsay      1.0              4.0     0.000000               2.0\n",
       "Chataya     2.0              9.0     0.000000               0.0\n",
       "Shireen     1.0              5.0     0.000000               1.0\n",
       "Doran       1.0              5.0     0.000000               0.0\n",
       "Walton      1.0             10.0     0.000000               0.0\n",
       "\n",
       "[107 rows x 4 columns]"
      ]
     },
     "execution_count": 47,
     "metadata": {},
     "output_type": "execute_result"
    }
   ],
   "source": [
    "nodes_df = pd.DataFrame(dict(G.nodes(data=True))).T\n",
    "nodes_df"
   ]
  },
  {
   "cell_type": "code",
   "execution_count": 48,
   "metadata": {
    "scrolled": true,
    "tags": [
     "output_scroll"
    ]
   },
   "outputs": [
    {
     "data": {
      "text/html": [
       "<div>\n",
       "<style scoped>\n",
       "    .dataframe tbody tr th:only-of-type {\n",
       "        vertical-align: middle;\n",
       "    }\n",
       "\n",
       "    .dataframe tbody tr th {\n",
       "        vertical-align: top;\n",
       "    }\n",
       "\n",
       "    .dataframe thead th {\n",
       "        text-align: right;\n",
       "    }\n",
       "</style>\n",
       "<table border=\"1\" class=\"dataframe\">\n",
       "  <thead>\n",
       "    <tr style=\"text-align: right;\">\n",
       "      <th></th>\n",
       "      <th>degree</th>\n",
       "      <th>weighted_degree</th>\n",
       "      <th>betweenness</th>\n",
       "      <th>modularity_class</th>\n",
       "    </tr>\n",
       "  </thead>\n",
       "  <tbody>\n",
       "    <tr>\n",
       "      <th>Jon</th>\n",
       "      <td>26.0</td>\n",
       "      <td>442.0</td>\n",
       "      <td>0.229965</td>\n",
       "      <td>1.0</td>\n",
       "    </tr>\n",
       "    <tr>\n",
       "      <th>Robert</th>\n",
       "      <td>18.0</td>\n",
       "      <td>128.0</td>\n",
       "      <td>0.209452</td>\n",
       "      <td>3.0</td>\n",
       "    </tr>\n",
       "    <tr>\n",
       "      <th>Tyrion</th>\n",
       "      <td>36.0</td>\n",
       "      <td>551.0</td>\n",
       "      <td>0.197913</td>\n",
       "      <td>0.0</td>\n",
       "    </tr>\n",
       "    <tr>\n",
       "      <th>Daenerys</th>\n",
       "      <td>14.0</td>\n",
       "      <td>232.0</td>\n",
       "      <td>0.157203</td>\n",
       "      <td>3.0</td>\n",
       "    </tr>\n",
       "    <tr>\n",
       "      <th>Robb</th>\n",
       "      <td>25.0</td>\n",
       "      <td>342.0</td>\n",
       "      <td>0.126964</td>\n",
       "      <td>2.0</td>\n",
       "    </tr>\n",
       "    <tr>\n",
       "      <th>...</th>\n",
       "      <td>...</td>\n",
       "      <td>...</td>\n",
       "      <td>...</td>\n",
       "      <td>...</td>\n",
       "    </tr>\n",
       "    <tr>\n",
       "      <th>Cressen</th>\n",
       "      <td>1.0</td>\n",
       "      <td>4.0</td>\n",
       "      <td>0.000000</td>\n",
       "      <td>1.0</td>\n",
       "    </tr>\n",
       "    <tr>\n",
       "      <th>Salladhor</th>\n",
       "      <td>1.0</td>\n",
       "      <td>16.0</td>\n",
       "      <td>0.000000</td>\n",
       "      <td>1.0</td>\n",
       "    </tr>\n",
       "    <tr>\n",
       "      <th>Eddison</th>\n",
       "      <td>3.0</td>\n",
       "      <td>24.0</td>\n",
       "      <td>0.000000</td>\n",
       "      <td>1.0</td>\n",
       "    </tr>\n",
       "    <tr>\n",
       "      <th>Gilly</th>\n",
       "      <td>4.0</td>\n",
       "      <td>69.0</td>\n",
       "      <td>0.000000</td>\n",
       "      <td>1.0</td>\n",
       "    </tr>\n",
       "    <tr>\n",
       "      <th>Walton</th>\n",
       "      <td>1.0</td>\n",
       "      <td>10.0</td>\n",
       "      <td>0.000000</td>\n",
       "      <td>0.0</td>\n",
       "    </tr>\n",
       "  </tbody>\n",
       "</table>\n",
       "<p>107 rows × 4 columns</p>\n",
       "</div>"
      ],
      "text/plain": [
       "           degree  weighted_degree  betweenness  modularity_class\n",
       "Jon          26.0            442.0     0.229965               1.0\n",
       "Robert       18.0            128.0     0.209452               3.0\n",
       "Tyrion       36.0            551.0     0.197913               0.0\n",
       "Daenerys     14.0            232.0     0.157203               3.0\n",
       "Robb         25.0            342.0     0.126964               2.0\n",
       "...           ...              ...          ...               ...\n",
       "Cressen       1.0              4.0     0.000000               1.0\n",
       "Salladhor     1.0             16.0     0.000000               1.0\n",
       "Eddison       3.0             24.0     0.000000               1.0\n",
       "Gilly         4.0             69.0     0.000000               1.0\n",
       "Walton        1.0             10.0     0.000000               0.0\n",
       "\n",
       "[107 rows x 4 columns]"
      ]
     },
     "execution_count": 48,
     "metadata": {},
     "output_type": "execute_result"
    }
   ],
   "source": [
    "nodes_df.sort_values(by='betweenness', ascending=False)"
   ]
  }
 ],
 "metadata": {
  "kernelspec": {
   "display_name": "Python 3",
   "language": "python",
   "name": "python3"
  },
  "language_info": {
   "codemirror_mode": {
    "name": "ipython",
    "version": 3
   },
   "file_extension": ".py",
   "mimetype": "text/x-python",
   "name": "python",
   "nbconvert_exporter": "python",
   "pygments_lexer": "ipython3",
   "version": "3.10.0"
  }
 },
 "nbformat": 4,
 "nbformat_minor": 4
}
