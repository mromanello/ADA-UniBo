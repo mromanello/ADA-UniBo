{
 "cells": [
  {
   "attachments": {},
   "cell_type": "markdown",
   "metadata": {
    "tags": [
     "hide_input"
    ]
   },
   "source": [
    "# Make an Interactive Network Visualization with Bokeh"
   ]
  },
  {
   "attachments": {},
   "cell_type": "markdown",
   "metadata": {},
   "source": [
    "This notebook includes code for creating interactive network visualizations with the Python libraries [NetworkX](https://networkx.github.io/) and [Bokeh](https://docs.bokeh.org/en/latest/index.html). The notebook begins with code for a basic network visualization then progressively demonstrates how to add more information and functionality, such as:\n",
    "\n",
    "- sizing and coloring nodes by degree\n",
    "- sizing and coloring nodes by modularity class\n",
    "- adding responsive highlighting when hovering over nodes and edges\n",
    "- adding node labels"
   ]
  },
  {
   "attachments": {},
   "cell_type": "markdown",
   "metadata": {},
   "source": [
    "## Dataset"
   ]
  },
  {
   "attachments": {},
   "cell_type": "markdown",
   "metadata": {},
   "source": [
    "### *Game of Thrones*"
   ]
  },
  {
   "attachments": {},
   "cell_type": "markdown",
   "metadata": {},
   "source": [
    "<blockquote class=\"epigraph\" style=\" padding: 10px\">\n",
    "\n",
    "Lucky it might be, and red it certainly was, but Ygritte’s hair was such a tangle that Jon was tempted to ask her if she only brushed it at the changing of the seasons.\n",
    "\n",
    "-George R. R. Martin, *A Song of Ice and Fire*\n",
    "</blockquote>"
   ]
  },
  {
   "attachments": {},
   "cell_type": "markdown",
   "metadata": {},
   "source": [
    "## Import Libraries"
   ]
  },
  {
   "cell_type": "code",
   "execution_count": 1,
   "metadata": {},
   "outputs": [],
   "source": [
    "import pandas as pd\n",
    "import networkx\n",
    "import matplotlib.pyplot as plt\n",
    "import numpy as np"
   ]
  },
  {
   "attachments": {},
   "cell_type": "markdown",
   "metadata": {},
   "source": [
    "## Install and Import Bokeh"
   ]
  },
  {
   "cell_type": "code",
   "execution_count": 5,
   "metadata": {},
   "outputs": [],
   "source": [
    "#!pip install bokeh"
   ]
  },
  {
   "cell_type": "code",
   "execution_count": 2,
   "metadata": {},
   "outputs": [],
   "source": [
    "from bokeh.io import output_notebook, show, save"
   ]
  },
  {
   "attachments": {},
   "cell_type": "markdown",
   "metadata": {},
   "source": [
    "To view interactive Bokeh visualizations in a Jupyter notebook, you need to run this cell:"
   ]
  },
  {
   "cell_type": "code",
   "execution_count": 3,
   "metadata": {},
   "outputs": [
    {
     "data": {
      "text/html": [
       "<div class=\"bk-root\">\n",
       "        <a href=\"https://bokeh.org\" target=\"_blank\" class=\"bk-logo bk-logo-small bk-logo-notebook\"></a>\n",
       "        <span id=\"1001\">Loading BokehJS ...</span>\n",
       "    </div>\n"
      ]
     },
     "metadata": {},
     "output_type": "display_data"
    },
    {
     "data": {
      "application/javascript": "(function(root) {\n  function now() {\n    return new Date();\n  }\n\n  const force = true;\n\n  if (typeof root._bokeh_onload_callbacks === \"undefined\" || force === true) {\n    root._bokeh_onload_callbacks = [];\n    root._bokeh_is_loading = undefined;\n  }\n\nconst JS_MIME_TYPE = 'application/javascript';\n  const HTML_MIME_TYPE = 'text/html';\n  const EXEC_MIME_TYPE = 'application/vnd.bokehjs_exec.v0+json';\n  const CLASS_NAME = 'output_bokeh rendered_html';\n\n  /**\n   * Render data to the DOM node\n   */\n  function render(props, node) {\n    const script = document.createElement(\"script\");\n    node.appendChild(script);\n  }\n\n  /**\n   * Handle when an output is cleared or removed\n   */\n  function handleClearOutput(event, handle) {\n    const cell = handle.cell;\n\n    const id = cell.output_area._bokeh_element_id;\n    const server_id = cell.output_area._bokeh_server_id;\n    // Clean up Bokeh references\n    if (id != null && id in Bokeh.index) {\n      Bokeh.index[id].model.document.clear();\n      delete Bokeh.index[id];\n    }\n\n    if (server_id !== undefined) {\n      // Clean up Bokeh references\n      const cmd_clean = \"from bokeh.io.state import curstate; print(curstate().uuid_to_server['\" + server_id + \"'].get_sessions()[0].document.roots[0]._id)\";\n      cell.notebook.kernel.execute(cmd_clean, {\n        iopub: {\n          output: function(msg) {\n            const id = msg.content.text.trim();\n            if (id in Bokeh.index) {\n              Bokeh.index[id].model.document.clear();\n              delete Bokeh.index[id];\n            }\n          }\n        }\n      });\n      // Destroy server and session\n      const cmd_destroy = \"import bokeh.io.notebook as ion; ion.destroy_server('\" + server_id + \"')\";\n      cell.notebook.kernel.execute(cmd_destroy);\n    }\n  }\n\n  /**\n   * Handle when a new output is added\n   */\n  function handleAddOutput(event, handle) {\n    const output_area = handle.output_area;\n    const output = handle.output;\n\n    // limit handleAddOutput to display_data with EXEC_MIME_TYPE content only\n    if ((output.output_type != \"display_data\") || (!Object.prototype.hasOwnProperty.call(output.data, EXEC_MIME_TYPE))) {\n      return\n    }\n\n    const toinsert = output_area.element.find(\".\" + CLASS_NAME.split(' ')[0]);\n\n    if (output.metadata[EXEC_MIME_TYPE][\"id\"] !== undefined) {\n      toinsert[toinsert.length - 1].firstChild.textContent = output.data[JS_MIME_TYPE];\n      // store reference to embed id on output_area\n      output_area._bokeh_element_id = output.metadata[EXEC_MIME_TYPE][\"id\"];\n    }\n    if (output.metadata[EXEC_MIME_TYPE][\"server_id\"] !== undefined) {\n      const bk_div = document.createElement(\"div\");\n      bk_div.innerHTML = output.data[HTML_MIME_TYPE];\n      const script_attrs = bk_div.children[0].attributes;\n      for (let i = 0; i < script_attrs.length; i++) {\n        toinsert[toinsert.length - 1].firstChild.setAttribute(script_attrs[i].name, script_attrs[i].value);\n        toinsert[toinsert.length - 1].firstChild.textContent = bk_div.children[0].textContent\n      }\n      // store reference to server id on output_area\n      output_area._bokeh_server_id = output.metadata[EXEC_MIME_TYPE][\"server_id\"];\n    }\n  }\n\n  function register_renderer(events, OutputArea) {\n\n    function append_mime(data, metadata, element) {\n      // create a DOM node to render to\n      const toinsert = this.create_output_subarea(\n        metadata,\n        CLASS_NAME,\n        EXEC_MIME_TYPE\n      );\n      this.keyboard_manager.register_events(toinsert);\n      // Render to node\n      const props = {data: data, metadata: metadata[EXEC_MIME_TYPE]};\n      render(props, toinsert[toinsert.length - 1]);\n      element.append(toinsert);\n      return toinsert\n    }\n\n    /* Handle when an output is cleared or removed */\n    events.on('clear_output.CodeCell', handleClearOutput);\n    events.on('delete.Cell', handleClearOutput);\n\n    /* Handle when a new output is added */\n    events.on('output_added.OutputArea', handleAddOutput);\n\n    /**\n     * Register the mime type and append_mime function with output_area\n     */\n    OutputArea.prototype.register_mime_type(EXEC_MIME_TYPE, append_mime, {\n      /* Is output safe? */\n      safe: true,\n      /* Index of renderer in `output_area.display_order` */\n      index: 0\n    });\n  }\n\n  // register the mime type if in Jupyter Notebook environment and previously unregistered\n  if (root.Jupyter !== undefined) {\n    const events = require('base/js/events');\n    const OutputArea = require('notebook/js/outputarea').OutputArea;\n\n    if (OutputArea.prototype.mime_types().indexOf(EXEC_MIME_TYPE) == -1) {\n      register_renderer(events, OutputArea);\n    }\n  }\n  if (typeof (root._bokeh_timeout) === \"undefined\" || force === true) {\n    root._bokeh_timeout = Date.now() + 5000;\n    root._bokeh_failed_load = false;\n  }\n\n  const NB_LOAD_WARNING = {'data': {'text/html':\n     \"<div style='background-color: #fdd'>\\n\"+\n     \"<p>\\n\"+\n     \"BokehJS does not appear to have successfully loaded. If loading BokehJS from CDN, this \\n\"+\n     \"may be due to a slow or bad network connection. Possible fixes:\\n\"+\n     \"</p>\\n\"+\n     \"<ul>\\n\"+\n     \"<li>re-rerun `output_notebook()` to attempt to load from CDN again, or</li>\\n\"+\n     \"<li>use INLINE resources instead, as so:</li>\\n\"+\n     \"</ul>\\n\"+\n     \"<code>\\n\"+\n     \"from bokeh.resources import INLINE\\n\"+\n     \"output_notebook(resources=INLINE)\\n\"+\n     \"</code>\\n\"+\n     \"</div>\"}};\n\n  function display_loaded() {\n    const el = document.getElementById(\"1001\");\n    if (el != null) {\n      el.textContent = \"BokehJS is loading...\";\n    }\n    if (root.Bokeh !== undefined) {\n      if (el != null) {\n        el.textContent = \"BokehJS \" + root.Bokeh.version + \" successfully loaded.\";\n      }\n    } else if (Date.now() < root._bokeh_timeout) {\n      setTimeout(display_loaded, 100)\n    }\n  }\n\n  function run_callbacks() {\n    try {\n      root._bokeh_onload_callbacks.forEach(function(callback) {\n        if (callback != null)\n          callback();\n      });\n    } finally {\n      delete root._bokeh_onload_callbacks\n    }\n    console.debug(\"Bokeh: all callbacks have finished\");\n  }\n\n  function load_libs(css_urls, js_urls, callback) {\n    if (css_urls == null) css_urls = [];\n    if (js_urls == null) js_urls = [];\n\n    root._bokeh_onload_callbacks.push(callback);\n    if (root._bokeh_is_loading > 0) {\n      console.debug(\"Bokeh: BokehJS is being loaded, scheduling callback at\", now());\n      return null;\n    }\n    if (js_urls == null || js_urls.length === 0) {\n      run_callbacks();\n      return null;\n    }\n    console.debug(\"Bokeh: BokehJS not loaded, scheduling load and callback at\", now());\n    root._bokeh_is_loading = css_urls.length + js_urls.length;\n\n    function on_load() {\n      root._bokeh_is_loading--;\n      if (root._bokeh_is_loading === 0) {\n        console.debug(\"Bokeh: all BokehJS libraries/stylesheets loaded\");\n        run_callbacks()\n      }\n    }\n\n    function on_error(url) {\n      console.error(\"failed to load \" + url);\n    }\n\n    for (let i = 0; i < css_urls.length; i++) {\n      const url = css_urls[i];\n      const element = document.createElement(\"link\");\n      element.onload = on_load;\n      element.onerror = on_error.bind(null, url);\n      element.rel = \"stylesheet\";\n      element.type = \"text/css\";\n      element.href = url;\n      console.debug(\"Bokeh: injecting link tag for BokehJS stylesheet: \", url);\n      document.body.appendChild(element);\n    }\n\n    for (let i = 0; i < js_urls.length; i++) {\n      const url = js_urls[i];\n      const element = document.createElement('script');\n      element.onload = on_load;\n      element.onerror = on_error.bind(null, url);\n      element.async = false;\n      element.src = url;\n      console.debug(\"Bokeh: injecting script tag for BokehJS library: \", url);\n      document.head.appendChild(element);\n    }\n  };\n\n  function inject_raw_css(css) {\n    const element = document.createElement(\"style\");\n    element.appendChild(document.createTextNode(css));\n    document.body.appendChild(element);\n  }\n\n  const js_urls = [\"https://cdn.bokeh.org/bokeh/release/bokeh-2.4.3.min.js\", \"https://cdn.bokeh.org/bokeh/release/bokeh-gl-2.4.3.min.js\", \"https://cdn.bokeh.org/bokeh/release/bokeh-widgets-2.4.3.min.js\", \"https://cdn.bokeh.org/bokeh/release/bokeh-tables-2.4.3.min.js\", \"https://cdn.bokeh.org/bokeh/release/bokeh-mathjax-2.4.3.min.js\"];\n  const css_urls = [];\n\n  const inline_js = [    function(Bokeh) {\n      Bokeh.set_log_level(\"info\");\n    },\nfunction(Bokeh) {\n    }\n  ];\n\n  function run_inline_js() {\n    if (root.Bokeh !== undefined || force === true) {\n          for (let i = 0; i < inline_js.length; i++) {\n      inline_js[i].call(root, root.Bokeh);\n    }\nif (force === true) {\n        display_loaded();\n      }} else if (Date.now() < root._bokeh_timeout) {\n      setTimeout(run_inline_js, 100);\n    } else if (!root._bokeh_failed_load) {\n      console.log(\"Bokeh: BokehJS failed to load within specified timeout.\");\n      root._bokeh_failed_load = true;\n    } else if (force !== true) {\n      const cell = $(document.getElementById(\"1001\")).parents('.cell').data().cell;\n      cell.output_area.append_execute_result(NB_LOAD_WARNING)\n    }\n  }\n\n  if (root._bokeh_is_loading === 0) {\n    console.debug(\"Bokeh: BokehJS loaded, going straight to plotting\");\n    run_inline_js();\n  } else {\n    load_libs(css_urls, js_urls, function() {\n      console.debug(\"Bokeh: BokehJS plotting callback run at\", now());\n      run_inline_js();\n    });\n  }\n}(window));",
      "application/vnd.bokehjs_load.v0+json": ""
     },
     "metadata": {},
     "output_type": "display_data"
    }
   ],
   "source": [
    "output_notebook()"
   ]
  },
  {
   "attachments": {},
   "cell_type": "markdown",
   "metadata": {},
   "source": [
    "## Create Network From Pandas DataFrame"
   ]
  },
  {
   "attachments": {},
   "cell_type": "markdown",
   "metadata": {},
   "source": [
    "We read in a CSV file of *Game of Thrones* network data from Andrew Beveridge and Jie Shan's paper, [\"Network of Thrones.\"](https://www.maa.org/sites/default/files/pdf/Mathhorizons/NetworkofThrones%20%281%29.pdf)\n"
   ]
  },
  {
   "attachments": {},
   "cell_type": "markdown",
   "metadata": {},
   "source": [
    "<div class=\"admonition pandasreview\" name=\"html-admonition\" style=\"background: black; color: white; padding: 10px\">\n",
    "<p class=\"title\">Pandas</p>\n",
    " Do you need a refresher or introduction to the Python data analysis library Pandas? Be sure to check out <a href=\"https://melaniewalsh.github.io/Intro-Cultural-Analytics/Data-Analysis/Pandas-Basics-Part1.html\"> Pandas Basics (1-3) </a> in this textbook!\n",
    "    \n",
    "</div>"
   ]
  },
  {
   "cell_type": "code",
   "execution_count": 5,
   "metadata": {},
   "outputs": [],
   "source": [
    "got_df = pd.read_csv('../data/got-edges.csv')"
   ]
  },
  {
   "cell_type": "code",
   "execution_count": 6,
   "metadata": {},
   "outputs": [
    {
     "data": {
      "text/html": [
       "<div>\n",
       "<style scoped>\n",
       "    .dataframe tbody tr th:only-of-type {\n",
       "        vertical-align: middle;\n",
       "    }\n",
       "\n",
       "    .dataframe tbody tr th {\n",
       "        vertical-align: top;\n",
       "    }\n",
       "\n",
       "    .dataframe thead th {\n",
       "        text-align: right;\n",
       "    }\n",
       "</style>\n",
       "<table border=\"1\" class=\"dataframe\">\n",
       "  <thead>\n",
       "    <tr style=\"text-align: right;\">\n",
       "      <th></th>\n",
       "      <th>Source</th>\n",
       "      <th>Target</th>\n",
       "      <th>Weight</th>\n",
       "    </tr>\n",
       "  </thead>\n",
       "  <tbody>\n",
       "    <tr>\n",
       "      <th>0</th>\n",
       "      <td>Aemon</td>\n",
       "      <td>Grenn</td>\n",
       "      <td>5</td>\n",
       "    </tr>\n",
       "    <tr>\n",
       "      <th>1</th>\n",
       "      <td>Aemon</td>\n",
       "      <td>Samwell</td>\n",
       "      <td>31</td>\n",
       "    </tr>\n",
       "    <tr>\n",
       "      <th>2</th>\n",
       "      <td>Aerys</td>\n",
       "      <td>Jaime</td>\n",
       "      <td>18</td>\n",
       "    </tr>\n",
       "    <tr>\n",
       "      <th>3</th>\n",
       "      <td>Aerys</td>\n",
       "      <td>Robert</td>\n",
       "      <td>6</td>\n",
       "    </tr>\n",
       "    <tr>\n",
       "      <th>4</th>\n",
       "      <td>Aerys</td>\n",
       "      <td>Tyrion</td>\n",
       "      <td>5</td>\n",
       "    </tr>\n",
       "    <tr>\n",
       "      <th>...</th>\n",
       "      <td>...</td>\n",
       "      <td>...</td>\n",
       "      <td>...</td>\n",
       "    </tr>\n",
       "    <tr>\n",
       "      <th>347</th>\n",
       "      <td>Walder</td>\n",
       "      <td>Petyr</td>\n",
       "      <td>6</td>\n",
       "    </tr>\n",
       "    <tr>\n",
       "      <th>348</th>\n",
       "      <td>Walder</td>\n",
       "      <td>Roslin</td>\n",
       "      <td>6</td>\n",
       "    </tr>\n",
       "    <tr>\n",
       "      <th>349</th>\n",
       "      <td>Walton</td>\n",
       "      <td>Jaime</td>\n",
       "      <td>10</td>\n",
       "    </tr>\n",
       "    <tr>\n",
       "      <th>350</th>\n",
       "      <td>Ygritte</td>\n",
       "      <td>Qhorin</td>\n",
       "      <td>7</td>\n",
       "    </tr>\n",
       "    <tr>\n",
       "      <th>351</th>\n",
       "      <td>Ygritte</td>\n",
       "      <td>Rattleshirt</td>\n",
       "      <td>9</td>\n",
       "    </tr>\n",
       "  </tbody>\n",
       "</table>\n",
       "<p>352 rows × 3 columns</p>\n",
       "</div>"
      ],
      "text/plain": [
       "      Source       Target  Weight\n",
       "0      Aemon        Grenn       5\n",
       "1      Aemon      Samwell      31\n",
       "2      Aerys        Jaime      18\n",
       "3      Aerys       Robert       6\n",
       "4      Aerys       Tyrion       5\n",
       "..       ...          ...     ...\n",
       "347   Walder        Petyr       6\n",
       "348   Walder       Roslin       6\n",
       "349   Walton        Jaime      10\n",
       "350  Ygritte       Qhorin       7\n",
       "351  Ygritte  Rattleshirt       9\n",
       "\n",
       "[352 rows x 3 columns]"
      ]
     },
     "execution_count": 6,
     "metadata": {},
     "output_type": "execute_result"
    }
   ],
   "source": [
    "got_df"
   ]
  },
  {
   "attachments": {},
   "cell_type": "markdown",
   "metadata": {},
   "source": [
    "Then we make a network with `networkx.from_pandas_edgelist()`:"
   ]
  },
  {
   "cell_type": "code",
   "execution_count": 7,
   "metadata": {},
   "outputs": [],
   "source": [
    "G = networkx.from_pandas_edgelist(got_df, 'Source', 'Target', 'Weight')"
   ]
  },
  {
   "attachments": {},
   "cell_type": "markdown",
   "metadata": {},
   "source": [
    "## Basic Network "
   ]
  },
  {
   "attachments": {},
   "cell_type": "markdown",
   "metadata": {},
   "source": [
    "The code below shows how to make a basic network viz that includes Hover Tooltips (a text box that will display when a user hovers over nodes) as well as Zoom and Pan/Drag functionality.\n",
    "\n",
    "For more details about visualizing network graphs with Bokeh, see [the documentation](https://docs.bokeh.org/en/latest/docs/user_guide/graph.html?highlight=networks)."
   ]
  },
  {
   "cell_type": "code",
   "execution_count": 8,
   "metadata": {},
   "outputs": [],
   "source": [
    "from bokeh.io import output_notebook, show, save\n",
    "from bokeh.models import Range1d, Circle, ColumnDataSource, MultiLine\n",
    "from bokeh.plotting import figure\n",
    "from bokeh.plotting import from_networkx"
   ]
  },
  {
   "cell_type": "code",
   "execution_count": 10,
   "metadata": {},
   "outputs": [
    {
     "name": "stdout",
     "output_type": "stream",
     "text": [
      "\u001b[0;31mInit signature:\u001b[0m \u001b[0mCircle\u001b[0m\u001b[0;34m(\u001b[0m\u001b[0;34m*\u001b[0m\u001b[0margs\u001b[0m\u001b[0;34m,\u001b[0m \u001b[0;34m**\u001b[0m\u001b[0mkwargs\u001b[0m\u001b[0;34m)\u001b[0m \u001b[0;34m->\u001b[0m \u001b[0;34m'Model'\u001b[0m\u001b[0;34m\u001b[0m\u001b[0;34m\u001b[0m\u001b[0m\n",
      "\u001b[0;31mDocstring:\u001b[0m     \n",
      "Render circle markers. \n",
      "\n",
      "Example\n",
      "-------\n",
      "\n",
      ".. bokeh-plot:: ../../examples/reference/models/Circle.py\n",
      "    :source-position: below\n",
      "\u001b[0;31mInit docstring:\u001b[0m         \n",
      "\u001b[0;31mFile:\u001b[0m           ~/.pyenv/versions/3.10.0/envs/ada-dhoxss-2022/lib/python3.10/site-packages/bokeh/models/glyphs.py\n",
      "\u001b[0;31mType:\u001b[0m           MetaHasProps\n",
      "\u001b[0;31mSubclasses:\u001b[0m     \n"
     ]
    }
   ],
   "source": [
    "Circle?"
   ]
  },
  {
   "cell_type": "code",
   "execution_count": 13,
   "metadata": {},
   "outputs": [
    {
     "data": {
      "text/html": [
       "\n",
       "  <div class=\"bk-root\" id=\"d0808659-2d82-407a-9d13-e8af79676545\" data-root-id=\"1632\"></div>\n"
      ]
     },
     "metadata": {},
     "output_type": "display_data"
    },
    {
     "data": {
      "application/javascript": "(function(root) {\n  function embed_document(root) {\n  const docs_json = {\"581ec028-89b1-4226-af22-3a558a98d646\":{\"defs\":[],\"roots\":{\"references\":[{\"attributes\":{\"below\":[{\"id\":\"1641\"}],\"center\":[{\"id\":\"1644\"},{\"id\":\"1648\"}],\"left\":[{\"id\":\"1645\"}],\"renderers\":[{\"id\":\"1660\"}],\"title\":{\"id\":\"1633\"},\"toolbar\":{\"id\":\"1654\"},\"x_range\":{\"id\":\"1630\"},\"x_scale\":{\"id\":\"1637\"},\"y_range\":{\"id\":\"1631\"},\"y_scale\":{\"id\":\"1639\"}},\"id\":\"1632\",\"subtype\":\"Figure\",\"type\":\"Plot\"},{\"attributes\":{\"end\":10.1,\"start\":-10.1},\"id\":\"1630\",\"type\":\"Range1d\"},{\"attributes\":{},\"id\":\"1753\",\"type\":\"NodesOnly\"},{\"attributes\":{},\"id\":\"1761\",\"type\":\"Selection\"},{\"attributes\":{\"coordinates\":null,\"data_source\":{\"id\":\"1666\"},\"glyph\":{\"id\":\"1675\"},\"group\":null,\"hover_glyph\":null,\"view\":{\"id\":\"1668\"}},\"id\":\"1667\",\"type\":\"GlyphRenderer\"},{\"attributes\":{\"source\":{\"id\":\"1662\"}},\"id\":\"1664\",\"type\":\"CDSView\"},{\"attributes\":{\"coordinates\":null,\"group\":null,\"text\":\"Game of Thrones Network\"},\"id\":\"1633\",\"type\":\"Title\"},{\"attributes\":{},\"id\":\"1762\",\"type\":\"UnionRenderers\"},{\"attributes\":{},\"id\":\"1752\",\"type\":\"NodesOnly\"},{\"attributes\":{\"fill_color\":{\"value\":\"skyblue\"},\"size\":{\"value\":15}},\"id\":\"1670\",\"type\":\"Circle\"},{\"attributes\":{\"coordinates\":null,\"formatter\":{\"id\":\"1758\"},\"group\":null,\"major_label_policy\":{\"id\":\"1759\"},\"ticker\":{\"id\":\"1642\"}},\"id\":\"1641\",\"type\":\"LinearAxis\"},{\"attributes\":{\"axis\":{\"id\":\"1641\"},\"coordinates\":null,\"group\":null,\"ticker\":null},\"id\":\"1644\",\"type\":\"Grid\"},{\"attributes\":{},\"id\":\"1763\",\"type\":\"Selection\"},{\"attributes\":{\"active_scroll\":{\"id\":\"1650\"},\"tools\":[{\"id\":\"1649\"},{\"id\":\"1650\"},{\"id\":\"1651\"},{\"id\":\"1652\"},{\"id\":\"1653\"}]},\"id\":\"1654\",\"type\":\"Toolbar\"},{\"attributes\":{\"line_alpha\":{\"value\":0.5}},\"id\":\"1675\",\"type\":\"MultiLine\"},{\"attributes\":{},\"id\":\"1642\",\"type\":\"BasicTicker\"},{\"attributes\":{\"coordinates\":null,\"data_source\":{\"id\":\"1662\"},\"glyph\":{\"id\":\"1670\"},\"group\":null,\"hover_glyph\":null,\"view\":{\"id\":\"1664\"}},\"id\":\"1663\",\"type\":\"GlyphRenderer\"},{\"attributes\":{},\"id\":\"1759\",\"type\":\"AllLabels\"},{\"attributes\":{\"data\":{\"index\":[\"Aemon\",\"Grenn\",\"Samwell\",\"Aerys\",\"Jaime\",\"Robert\",\"Tyrion\",\"Tywin\",\"Alliser\",\"Mance\",\"Amory\",\"Oberyn\",\"Arya\",\"Anguy\",\"Beric\",\"Bran\",\"Brynden\",\"Cersei\",\"Gendry\",\"Gregor\",\"Joffrey\",\"Jon\",\"Rickon\",\"Roose\",\"Sandor\",\"Thoros\",\"Balon\",\"Loras\",\"Belwas\",\"Barristan\",\"Illyrio\",\"Hodor\",\"Jojen\",\"Luwin\",\"Meera\",\"Nan\",\"Theon\",\"Brienne\",\"Bronn\",\"Podrick\",\"Lothar\",\"Walder\",\"Catelyn\",\"Edmure\",\"Hoster\",\"Jeyne\",\"Lysa\",\"Petyr\",\"Robb\",\"Roslin\",\"Sansa\",\"Stannis\",\"Elia\",\"Ilyn\",\"Meryn\",\"Pycelle\",\"Shae\",\"Varys\",\"Craster\",\"Karl\",\"Daario\",\"Drogo\",\"Irri\",\"Daenerys\",\"Aegon\",\"Jorah\",\"Kraznys\",\"Missandei\",\"Rakharo\",\"Rhaegar\",\"Viserys\",\"Worm\",\"Davos\",\"Cressen\",\"Salladhor\",\"Eddard\",\"Eddison\",\"Gilly\",\"Qyburn\",\"Renly\",\"Tommen\",\"Janos\",\"Bowen\",\"Kevan\",\"Margaery\",\"Myrcella\",\"Dalla\",\"Melisandre\",\"Orell\",\"Qhorin\",\"Rattleshirt\",\"Styr\",\"Val\",\"Ygritte\",\"Jon Arryn\",\"Lancel\",\"Olenna\",\"Marillion\",\"Robert Arryn\",\"Ellaria\",\"Mace\",\"Rickard\",\"Ramsay\",\"Chataya\",\"Shireen\",\"Doran\",\"Walton\"]},\"selected\":{\"id\":\"1761\"},\"selection_policy\":{\"id\":\"1760\"}},\"id\":\"1662\",\"type\":\"ColumnDataSource\"},{\"attributes\":{\"graph_layout\":{\"Aegon\":[8.86345754629434,-3.1999707596629015],\"Aemon\":[-2.1354976651508877,1.0225464727027782],\"Aerys\":[0.6693518732113934,-0.23028799981154965],\"Alliser\":[-4.566268561419053,2.418033917932892],\"Amory\":[-1.9317533597134102,-6.177380370444816],\"Anguy\":[2.97162532747039,-0.10356206109552953],\"Arya\":[0.26172166826421345,-0.22226054763482855],\"Balon\":[-0.3282735244426486,0.19330019568941553],\"Barristan\":[4.7275080501197975,-0.37005971812640415],\"Belwas\":[7.662760853004869,0.09427507993742379],\"Beric\":[2.009921342668182,-0.4487033431122082],\"Bowen\":[-5.330217117424947,2.525780043231226],\"Bran\":[-2.560836019918018,-0.30536131744902856],\"Brienne\":[0.863189907109782,0.32004934892581427],\"Bronn\":[0.21941479201929315,-3.5081288184498467],\"Brynden\":[-0.013052195170631843,1.8015203031765694],\"Catelyn\":[0.27667584860280114,0.7643218326034914],\"Cersei\":[0.3060883922769113,-1.390034104113216],\"Chataya\":[-1.2069946595664756,-4.269596876715323],\"Craster\":[-6.426293644400022,1.6302324804630135],\"Cressen\":[-1.954254827803205,8.23084789951555],\"Daario\":[8.489206128240275,-1.0247290048717759],\"Daenerys\":[6.730030182162275,-1.4195685375127862],\"Dalla\":[-4.39629918653276,3.0645032212513885],\"Davos\":[-1.910123479145268,5.652646232091665],\"Doran\":[-1.8839902679396154,-4.325009638282375],\"Drogo\":[8.251614439061745,-1.4908971994209548],\"Eddard\":[-0.4688249837949312,-0.08787754596028192],\"Eddison\":[-5.536127667177283,0.7455919921248214],\"Edmure\":[1.11368900155769,1.9951186088830777],\"Elia\":[2.055917578931116,-1.7422823403628651],\"Ellaria\":[-0.5333806202663453,-4.598366777981565],\"Gendry\":[2.6192823005467467,-1.3746901405321899],\"Gilly\":[-5.568171558388397,1.7985459208746721],\"Gregor\":[0.49509694436398943,-2.03368842488776],\"Grenn\":[-4.574514999801189,1.0115270585619613],\"Hodor\":[-3.375253291700518,-0.0913244350296755],\"Hoster\":[2.2456218919971547,1.3441831855151896],\"Illyrio\":[9.999999999999998,0.9876502521367118],\"Ilyn\":[0.8050460054271505,-2.738277883761038],\"Irri\":[8.784978558129007,-1.984049656197078],\"Jaime\":[1.0293240063097429,-0.06332419663530539],\"Janos\":[-3.6217099702378306,0.7730432153248321],\"Jeyne\":[0.09589913498044389,2.83823405953718],\"Joffrey\":[-0.2904515258241914,-1.3237699258748383],\"Jojen\":[-4.713739658598393,-0.4464172059899775],\"Jon\":[-3.310301502978738,1.1274682709443493],\"Jon Arryn\":[3.418801566898003,0.18767845369842592],\"Jorah\":[6.880561583902154,-0.7585448418142647],\"Karl\":[-9.087105476213102,2.0557543436605323],\"Kevan\":[-1.657178709778257,-0.4534278882482879],\"Kraznys\":[9.504656048231638,-1.5309978272697384],\"Lancel\":[-2.6995103761673565,2.2134403305402595],\"Loras\":[0.674166101288328,-1.422693347599213],\"Lothar\":[0.6783622594192218,2.990812521005288],\"Luwin\":[-4.738303401352421,-2.3004433382934493],\"Lysa\":[1.4492057861481478,-0.776568616602516],\"Mace\":[-1.9019541119364727,-2.7431685152482976],\"Mance\":[-5.032934339044563,2.016612073787168],\"Margaery\":[-0.042464690873260796,-2.46428837953279],\"Marillion\":[1.8490103117128955,-2.8392415990636346],\"Meera\":[-4.415382572180752,0.031630423650266117],\"Melisandre\":[-2.8087759362282334,3.2127964683002825],\"Meryn\":[1.1158117989384315,-2.1101366378773045],\"Missandei\":[8.499497902293715,-2.7782904360788154],\"Myrcella\":[-0.27779643224193296,-3.0777215900586294],\"Nan\":[-5.093135575930688,-1.8603359677794793],\"Oberyn\":[-0.9830209061854163,-3.392737907051822],\"Olenna\":[1.1213436728396309,-3.4574065801391636],\"Orell\":[-6.296475286807873,0.2714043456593688],\"Petyr\":[0.2474441834052048,0.24929566819395985],\"Podrick\":[-0.6651228318914776,-2.6567989650231203],\"Pycelle\":[-1.5321698704211415,-2.156982102206078],\"Qhorin\":[-5.733324544949039,1.4646976499261133],\"Qyburn\":[1.4773922589857134,3.1831834601998996],\"Rakharo\":[9.320515328326358,-0.7260982742331068],\"Ramsay\":[-0.918913341745431,3.9678970272998924],\"Rattleshirt\":[-6.146805820380591,2.114703534747377],\"Renly\":[-0.1617876048406541,-0.7284142459639359],\"Rhaegar\":[4.553778796995096,-1.2035855760355423],\"Rickard\":[-0.3957000003229346,3.4375095073967072],\"Rickon\":[-1.4353391812098633,0.14598221880471096],\"Robb\":[-0.6506705476236143,1.0042324160743026],\"Robert\":[1.394379357800476,-0.27645756499479696],\"Robert Arryn\":[2.2120566998703133,-2.5323589863794185],\"Roose\":[1.087422038662123,1.383463944485916],\"Roslin\":[1.6028712897972497,2.7988846812353656],\"Salladhor\":[-2.6400975758067524,8.076850398020293],\"Samwell\":[-4.1642038443140335,1.309186294914942],\"Sandor\":[1.1524076704215336,-1.3346636307044126],\"Sansa\":[-0.13499781414493783,-1.0774033522750943],\"Shae\":[-1.0955935888811679,-2.8637734955400913],\"Shireen\":[-1.2748269347755028,8.135055716236124],\"Stannis\":[-1.1792135260218692,1.2093789246143818],\"Styr\":[-5.407108101682302,3.248958471850706],\"Theon\":[-2.537950092867238,0.8701666936006484],\"Thoros\":[2.5047949696053116,-0.807894179339489],\"Tommen\":[-0.24017596323446072,-2.099514046679654],\"Tyrion\":[-0.23320348061955684,-1.5916937326966525],\"Tywin\":[-0.6395326487177121,-0.6023796579110655],\"Val\":[-3.2535955059397725,1.6938075405289543],\"Varys\":[-1.3318199163826765,-1.6745626349631644],\"Viserys\":[3.843289059106297,-2.0137774634460412],\"Walder\":[0.46208704582044174,1.7663973497137009],\"Walton\":[3.4276614525522335,1.7616497426506463],\"Worm\":[9.341670367040827,-2.3704426571977777],\"Ygritte\":[-5.924088483702848,2.511573075942678]}},\"id\":\"1669\",\"type\":\"StaticLayoutProvider\"},{\"attributes\":{},\"id\":\"1758\",\"type\":\"BasicTickFormatter\"},{\"attributes\":{\"coordinates\":null,\"edge_renderer\":{\"id\":\"1667\"},\"group\":null,\"inspection_policy\":{\"id\":\"1753\"},\"layout_provider\":{\"id\":\"1669\"},\"node_renderer\":{\"id\":\"1663\"},\"selection_policy\":{\"id\":\"1752\"}},\"id\":\"1660\",\"type\":\"GraphRenderer\"},{\"attributes\":{},\"id\":\"1652\",\"type\":\"ResetTool\"},{\"attributes\":{\"source\":{\"id\":\"1666\"}},\"id\":\"1668\",\"type\":\"CDSView\"},{\"attributes\":{},\"id\":\"1756\",\"type\":\"AllLabels\"},{\"attributes\":{},\"id\":\"1651\",\"type\":\"SaveTool\"},{\"attributes\":{},\"id\":\"1639\",\"type\":\"LinearScale\"},{\"attributes\":{\"data\":{\"Weight\":[5,31,30,4,4,8,25,43,11,11,52,7,5,6,34,12,36,6,10,5,13,18,6,5,8,11,19,36,6,6,4,88,5,4,6,15,16,11,11,7,17,5,8,31,15,10,13,10,4,16,5,10,5,6,6,5,4,5,4,6,5,9,11,5,5,46,54,5,4,12,77,4,31,5,5,5,4,22,5,5,11,6,9,7,5,25,12,28,11,6,4,21,6,18,39,4,4,12,5,4,16,7,13,14,5,6,4,5,5,15,4,4,6,4,5,9,15,4,69,11,8,7,10,9,7,8,12,5,24,4,6,6,11,23,9,6,5,43,7,6,7,8,5,46,18,18,15,22,4,4,21,8,15,96,46,12,4,54,14,35,11,4,15,23,10,4,5,8,7,4,17,4,5,4,4,6,7,23,10,4,6,4,4,6,4,16,7,5,5,9,7,7,12,5,4,8,7,28,5,5,14,10,9,10,35,8,7,6,4,9,8,4,7,6,31,20,9,16,8,12,54,14,4,8,8,15,7,4,4,4,5,4,4,10,6,4,6,4,7,9,5,8,14,18,10,26,13,20,11,5,35,41,5,33,4,11,7,6,5,19,4,8,4,4,10,12,19,9,26,6,6,16,9,10,8,5,43,6,8,4,5,16,9,32,6,18,5,10,29,9,28,5,28,13,4,7,15,4,6,5,36,9,4,7,4,6,8,32,20,15,7,5,4,4,8,5,4,6,17,4,5,14,7,18,7,6,17,4,8,47,10,26,7,12,8,14,5,7,4,16,30,5,7,5,5,5,7,7,6,7,9,4],\"end\":[\"Grenn\",\"Samwell\",\"Jon\",\"Robert\",\"Stannis\",\"Eddison\",\"Jon\",\"Samwell\",\"Bran\",\"Jojen\",\"Jon\",\"Meera\",\"Melisandre\",\"Bowen\",\"Craster\",\"Eddison\",\"Gilly\",\"Janos\",\"Mance\",\"Qhorin\",\"Stannis\",\"Jaime\",\"Robert\",\"Tyrion\",\"Tywin\",\"Arya\",\"Catelyn\",\"Cersei\",\"Eddard\",\"Balon\",\"Barristan\",\"Brienne\",\"Edmure\",\"Elia\",\"Gregor\",\"Joffrey\",\"Loras\",\"Meryn\",\"Qyburn\",\"Renly\",\"Robert\",\"Stannis\",\"Tommen\",\"Tyrion\",\"Robb\",\"Sansa\",\"Tywin\",\"Walton\",\"Arya\",\"Cersei\",\"Daenerys\",\"Eddard\",\"Jon\",\"Jon Arryn\",\"Rhaegar\",\"Barristan\",\"Renly\",\"Stannis\",\"Thoros\",\"Sandor\",\"Sansa\",\"Tyrion\",\"Tywin\",\"Arya\",\"Catelyn\",\"Cersei\",\"Joffrey\",\"Lysa\",\"Myrcella\",\"Robb\",\"Sansa\",\"Balon\",\"Bronn\",\"Chataya\",\"Doran\",\"Elia\",\"Ellaria\",\"Gregor\",\"Ilyn\",\"Janos\",\"Kevan\",\"Loras\",\"Mace\",\"Margaery\",\"Meryn\",\"Oberyn\",\"Petyr\",\"Podrick\",\"Pycelle\",\"Renly\",\"Sandor\",\"Shae\",\"Stannis\",\"Varys\",\"Tywin\",\"Viserys\",\"Lysa\",\"Robb\",\"Balon\",\"Brynden\",\"Cersei\",\"Gregor\",\"Joffrey\",\"Kevan\",\"Mace\",\"Oberyn\",\"Petyr\",\"Podrick\",\"Pycelle\",\"Stannis\",\"Tommen\",\"Val\",\"Varys\",\"Walder\",\"Mance\",\"Janos\",\"Jon\",\"Janos\",\"Jon\",\"Craster\",\"Dalla\",\"Gilly\",\"Qhorin\",\"Rattleshirt\",\"Styr\",\"Val\",\"Ygritte\",\"Oberyn\",\"Gregor\",\"Joffrey\",\"Ellaria\",\"Mace\",\"Anguy\",\"Beric\",\"Bran\",\"Brynden\",\"Cersei\",\"Gendry\",\"Gregor\",\"Joffrey\",\"Jon\",\"Rickon\",\"Roose\",\"Sandor\",\"Thoros\",\"Eddard\",\"Robb\",\"Sansa\",\"Beric\",\"Gendry\",\"Thoros\",\"Eddard\",\"Sandor\",\"Hodor\",\"Jojen\",\"Jon\",\"Luwin\",\"Meera\",\"Nan\",\"Rickon\",\"Theon\",\"Catelyn\",\"Eddard\",\"Robb\",\"Sansa\",\"Lothar\",\"Walder\",\"Catelyn\",\"Edmure\",\"Rickard\",\"Robb\",\"Catelyn\",\"Brienne\",\"Bronn\",\"Elia\",\"Gregor\",\"Ilyn\",\"Joffrey\",\"Meryn\",\"Pycelle\",\"Sandor\",\"Shae\",\"Varys\",\"Eddard\",\"Lysa\",\"Sansa\",\"Thoros\",\"Sandor\",\"Bronn\",\"Elia\",\"Ilyn\",\"Meryn\",\"Sandor\",\"Joffrey\",\"Ilyn\",\"Kevan\",\"Loras\",\"Margaery\",\"Meryn\",\"Myrcella\",\"Sandor\",\"Stannis\",\"Tommen\",\"Robb\",\"Sansa\",\"Eddard\",\"Craster\",\"Dalla\",\"Eddison\",\"Gilly\",\"Janos\",\"Meera\",\"Melisandre\",\"Orell\",\"Qhorin\",\"Rattleshirt\",\"Stannis\",\"Styr\",\"Theon\",\"Val\",\"Ygritte\",\"Robb\",\"Sansa\",\"Eddard\",\"Theon\",\"Robb\",\"Sansa\",\"Catelyn\",\"Robb\",\"Brienne\",\"Eddard\",\"Ilyn\",\"Meryn\",\"Thoros\",\"Sansa\",\"Loras\",\"Robb\",\"Stannis\",\"Brienne\",\"Margaery\",\"Olenna\",\"Renly\",\"Sansa\",\"Barristan\",\"Illyrio\",\"Daenerys\",\"Jorah\",\"Daenerys\",\"Jorah\",\"Rhaegar\",\"Jojen\",\"Meera\",\"Robb\",\"Meera\",\"Nan\",\"Robb\",\"Catelyn\",\"Robb\",\"Sansa\",\"Podrick\",\"Margaery\",\"Sansa\",\"Edmure\",\"Roslin\",\"Robb\",\"Walder\",\"Catelyn\",\"Edmure\",\"Robb\",\"Petyr\",\"Roslin\",\"Edmure\",\"Hoster\",\"Jeyne\",\"Lysa\",\"Petyr\",\"Robb\",\"Roslin\",\"Sansa\",\"Stannis\",\"Eddard\",\"Roslin\",\"Hoster\",\"Robb\",\"Lysa\",\"Robb\",\"Jon Arryn\",\"Marillion\",\"Petyr\",\"Robert Arryn\",\"Sansa\",\"Robb\",\"Sansa\",\"Eddard\",\"Ramsay\",\"Rickard\",\"Sansa\",\"Stannis\",\"Eddard\",\"Kevan\",\"Margaery\",\"Marillion\",\"Myrcella\",\"Olenna\",\"Renly\",\"Robert Arryn\",\"Shae\",\"Davos\",\"Melisandre\",\"Renly\",\"Rhaegar\",\"Meryn\",\"Varys\",\"Chataya\",\"Varys\",\"Kevan\",\"Renly\",\"Karl\",\"Gilly\",\"Drogo\",\"Irri\",\"Daenerys\",\"Jorah\",\"Daenerys\",\"Irri\",\"Jorah\",\"Daenerys\",\"Missandei\",\"Aegon\",\"Jorah\",\"Kraznys\",\"Missandei\",\"Rakharo\",\"Rhaegar\",\"Viserys\",\"Worm\",\"Rhaegar\",\"Viserys\",\"Cressen\",\"Salladhor\",\"Melisandre\",\"Shireen\",\"Margaery\",\"Myrcella\",\"Margaery\",\"Bowen\",\"Lancel\",\"Val\",\"Rattleshirt\",\"Ygritte\",\"Ygritte\",\"Robert Arryn\"],\"start\":[\"Aemon\",\"Aemon\",\"Aemon\",\"Aemon\",\"Aemon\",\"Grenn\",\"Grenn\",\"Grenn\",\"Samwell\",\"Samwell\",\"Samwell\",\"Samwell\",\"Samwell\",\"Samwell\",\"Samwell\",\"Samwell\",\"Samwell\",\"Samwell\",\"Samwell\",\"Samwell\",\"Samwell\",\"Aerys\",\"Aerys\",\"Aerys\",\"Aerys\",\"Jaime\",\"Jaime\",\"Jaime\",\"Jaime\",\"Jaime\",\"Jaime\",\"Jaime\",\"Jaime\",\"Jaime\",\"Jaime\",\"Jaime\",\"Jaime\",\"Jaime\",\"Jaime\",\"Jaime\",\"Jaime\",\"Jaime\",\"Jaime\",\"Jaime\",\"Jaime\",\"Jaime\",\"Jaime\",\"Jaime\",\"Robert\",\"Robert\",\"Robert\",\"Robert\",\"Robert\",\"Robert\",\"Robert\",\"Robert\",\"Robert\",\"Robert\",\"Robert\",\"Robert\",\"Robert\",\"Robert\",\"Robert\",\"Tyrion\",\"Tyrion\",\"Tyrion\",\"Tyrion\",\"Tyrion\",\"Tyrion\",\"Tyrion\",\"Tyrion\",\"Tyrion\",\"Tyrion\",\"Tyrion\",\"Tyrion\",\"Tyrion\",\"Tyrion\",\"Tyrion\",\"Tyrion\",\"Tyrion\",\"Tyrion\",\"Tyrion\",\"Tyrion\",\"Tyrion\",\"Tyrion\",\"Tyrion\",\"Tyrion\",\"Tyrion\",\"Tyrion\",\"Tyrion\",\"Tyrion\",\"Tyrion\",\"Tyrion\",\"Tyrion\",\"Tyrion\",\"Tyrion\",\"Tywin\",\"Tywin\",\"Tywin\",\"Tywin\",\"Tywin\",\"Tywin\",\"Tywin\",\"Tywin\",\"Tywin\",\"Tywin\",\"Tywin\",\"Tywin\",\"Tywin\",\"Tywin\",\"Tywin\",\"Tywin\",\"Tywin\",\"Tywin\",\"Alliser\",\"Alliser\",\"Alliser\",\"Mance\",\"Mance\",\"Mance\",\"Mance\",\"Mance\",\"Mance\",\"Mance\",\"Mance\",\"Mance\",\"Mance\",\"Amory\",\"Oberyn\",\"Oberyn\",\"Oberyn\",\"Oberyn\",\"Arya\",\"Arya\",\"Arya\",\"Arya\",\"Arya\",\"Arya\",\"Arya\",\"Arya\",\"Arya\",\"Arya\",\"Arya\",\"Arya\",\"Arya\",\"Arya\",\"Arya\",\"Arya\",\"Anguy\",\"Beric\",\"Beric\",\"Beric\",\"Beric\",\"Bran\",\"Bran\",\"Bran\",\"Bran\",\"Bran\",\"Bran\",\"Bran\",\"Bran\",\"Bran\",\"Bran\",\"Bran\",\"Bran\",\"Brynden\",\"Brynden\",\"Brynden\",\"Brynden\",\"Brynden\",\"Brynden\",\"Cersei\",\"Cersei\",\"Cersei\",\"Cersei\",\"Cersei\",\"Cersei\",\"Cersei\",\"Cersei\",\"Cersei\",\"Cersei\",\"Cersei\",\"Cersei\",\"Cersei\",\"Cersei\",\"Cersei\",\"Gendry\",\"Gendry\",\"Gregor\",\"Gregor\",\"Gregor\",\"Gregor\",\"Gregor\",\"Gregor\",\"Joffrey\",\"Joffrey\",\"Joffrey\",\"Joffrey\",\"Joffrey\",\"Joffrey\",\"Joffrey\",\"Joffrey\",\"Joffrey\",\"Joffrey\",\"Joffrey\",\"Jon\",\"Jon\",\"Jon\",\"Jon\",\"Jon\",\"Jon\",\"Jon\",\"Jon\",\"Jon\",\"Jon\",\"Jon\",\"Jon\",\"Jon\",\"Jon\",\"Jon\",\"Jon\",\"Jon\",\"Jon\",\"Rickon\",\"Rickon\",\"Rickon\",\"Rickon\",\"Roose\",\"Roose\",\"Roose\",\"Sandor\",\"Sandor\",\"Sandor\",\"Sandor\",\"Sandor\",\"Balon\",\"Balon\",\"Balon\",\"Loras\",\"Loras\",\"Loras\",\"Loras\",\"Loras\",\"Belwas\",\"Belwas\",\"Belwas\",\"Belwas\",\"Barristan\",\"Barristan\",\"Barristan\",\"Hodor\",\"Hodor\",\"Hodor\",\"Jojen\",\"Luwin\",\"Theon\",\"Brienne\",\"Brienne\",\"Brienne\",\"Bronn\",\"Podrick\",\"Podrick\",\"Lothar\",\"Lothar\",\"Lothar\",\"Lothar\",\"Walder\",\"Walder\",\"Walder\",\"Walder\",\"Walder\",\"Catelyn\",\"Catelyn\",\"Catelyn\",\"Catelyn\",\"Catelyn\",\"Catelyn\",\"Catelyn\",\"Catelyn\",\"Catelyn\",\"Catelyn\",\"Edmure\",\"Edmure\",\"Edmure\",\"Hoster\",\"Jeyne\",\"Lysa\",\"Lysa\",\"Lysa\",\"Lysa\",\"Lysa\",\"Petyr\",\"Petyr\",\"Robb\",\"Robb\",\"Robb\",\"Robb\",\"Robb\",\"Sansa\",\"Sansa\",\"Sansa\",\"Sansa\",\"Sansa\",\"Sansa\",\"Sansa\",\"Sansa\",\"Sansa\",\"Stannis\",\"Stannis\",\"Stannis\",\"Elia\",\"Ilyn\",\"Pycelle\",\"Shae\",\"Shae\",\"Varys\",\"Varys\",\"Craster\",\"Craster\",\"Daario\",\"Daario\",\"Daario\",\"Daario\",\"Drogo\",\"Drogo\",\"Drogo\",\"Irri\",\"Irri\",\"Daenerys\",\"Daenerys\",\"Daenerys\",\"Daenerys\",\"Daenerys\",\"Daenerys\",\"Daenerys\",\"Daenerys\",\"Jorah\",\"Rhaegar\",\"Davos\",\"Davos\",\"Davos\",\"Davos\",\"Renly\",\"Tommen\",\"Tommen\",\"Janos\",\"Kevan\",\"Dalla\",\"Qhorin\",\"Qhorin\",\"Rattleshirt\",\"Marillion\"]},\"selected\":{\"id\":\"1763\"},\"selection_policy\":{\"id\":\"1762\"}},\"id\":\"1666\",\"type\":\"ColumnDataSource\"},{\"attributes\":{},\"id\":\"1649\",\"type\":\"PanTool\"},{\"attributes\":{},\"id\":\"1760\",\"type\":\"UnionRenderers\"},{\"attributes\":{},\"id\":\"1755\",\"type\":\"BasicTickFormatter\"},{\"attributes\":{},\"id\":\"1650\",\"type\":\"WheelZoomTool\"},{\"attributes\":{},\"id\":\"1637\",\"type\":\"LinearScale\"},{\"attributes\":{\"end\":10.1,\"start\":-10.1},\"id\":\"1631\",\"type\":\"Range1d\"},{\"attributes\":{\"callback\":null,\"tooltips\":[[\"Character\",\"@index\"]]},\"id\":\"1653\",\"type\":\"HoverTool\"},{\"attributes\":{},\"id\":\"1646\",\"type\":\"BasicTicker\"},{\"attributes\":{\"axis\":{\"id\":\"1645\"},\"coordinates\":null,\"dimension\":1,\"group\":null,\"ticker\":null},\"id\":\"1648\",\"type\":\"Grid\"},{\"attributes\":{\"coordinates\":null,\"formatter\":{\"id\":\"1755\"},\"group\":null,\"major_label_policy\":{\"id\":\"1756\"},\"ticker\":{\"id\":\"1646\"}},\"id\":\"1645\",\"type\":\"LinearAxis\"}],\"root_ids\":[\"1632\"]},\"title\":\"Bokeh Application\",\"version\":\"2.4.3\"}};\n  const render_items = [{\"docid\":\"581ec028-89b1-4226-af22-3a558a98d646\",\"root_ids\":[\"1632\"],\"roots\":{\"1632\":\"d0808659-2d82-407a-9d13-e8af79676545\"}}];\n  root.Bokeh.embed.embed_items_notebook(docs_json, render_items);\n  }\n  if (root.Bokeh !== undefined) {\n    embed_document(root);\n  } else {\n    let attempts = 0;\n    const timer = setInterval(function(root) {\n      if (root.Bokeh !== undefined) {\n        clearInterval(timer);\n        embed_document(root);\n      } else {\n        attempts++;\n        if (attempts > 100) {\n          clearInterval(timer);\n          console.log(\"Bokeh: ERROR: Unable to run BokehJS code because BokehJS library is missing\");\n        }\n      }\n    }, 10, root)\n  }\n})(window);",
      "application/vnd.bokehjs_exec.v0+json": ""
     },
     "metadata": {
      "application/vnd.bokehjs_exec.v0+json": {
       "id": "1632"
      }
     },
     "output_type": "display_data"
    }
   ],
   "source": [
    "#Choose a title!\n",
    "title = 'Game of Thrones Network'\n",
    "\n",
    "#Establish which categories will appear when hovering over each node\n",
    "HOVER_TOOLTIPS = [(\"Character\", \"@index\")]\n",
    "\n",
    "#Create a plot — set dimensions, toolbar, and title\n",
    "plot = figure(tooltips = HOVER_TOOLTIPS,\n",
    "              tools=\"pan,wheel_zoom,save,reset\", active_scroll='wheel_zoom',\n",
    "            x_range=Range1d(-10.1, 10.1), y_range=Range1d(-10.1, 10.1), title=title)\n",
    "\n",
    "#Create a network graph object with spring layout\n",
    "# https://networkx.github.io/documentation/networkx-1.9/reference/generated/networkx.drawing.layout.spring_layout.html\n",
    "network_graph = from_networkx(G, networkx.spring_layout, scale=10, center=(0, 0))\n",
    "\n",
    "#Set node size and color\n",
    "# for other color values, see https://docs.bokeh.org/en/2.4.1/docs/reference/colors.html\n",
    "network_graph.node_renderer.glyph = Circle(size=15, fill_color='skyblue')\n",
    "\n",
    "#Set edge opacity and width\n",
    "network_graph.edge_renderer.glyph = MultiLine(line_alpha=0.5, line_width=1)\n",
    "\n",
    "#Add network graph to the plot\n",
    "plot.renderers.append(network_graph)\n",
    "\n",
    "show(plot)\n",
    "#save(plot, filename=f\"{title}.html\")"
   ]
  },
  {
   "attachments": {},
   "cell_type": "markdown",
   "metadata": {},
   "source": [
    "## Network with Nodes Sized and Colored By Attribute (Degree)"
   ]
  },
  {
   "attachments": {},
   "cell_type": "markdown",
   "metadata": {},
   "source": [
    "The code below shows how to size and color nodes by degree."
   ]
  },
  {
   "attachments": {},
   "cell_type": "markdown",
   "metadata": {},
   "source": [
    "**Include Bokeh color palettes**"
   ]
  },
  {
   "cell_type": "code",
   "execution_count": 14,
   "metadata": {},
   "outputs": [],
   "source": [
    "from bokeh.io import output_notebook, show, save\n",
    "from bokeh.models import Range1d, Circle, ColumnDataSource, MultiLine\n",
    "from bokeh.plotting import figure\n",
    "from bokeh.plotting import from_networkx\n",
    "from bokeh.palettes import Blues8, Reds8, Purples8, Oranges8, Viridis8, Spectral8\n",
    "from bokeh.transform import linear_cmap"
   ]
  },
  {
   "attachments": {},
   "cell_type": "markdown",
   "metadata": {},
   "source": [
    "**Calculate degree for each node and add as node attribute**"
   ]
  },
  {
   "cell_type": "code",
   "execution_count": 18,
   "metadata": {},
   "outputs": [],
   "source": [
    "degrees = dict(networkx.degree(G))\n",
    "networkx.set_node_attributes(G, name='degree', values=degrees)"
   ]
  },
  {
   "attachments": {},
   "cell_type": "markdown",
   "metadata": {},
   "source": [
    "**Slightly adjust degree so that the nodes with very small degrees are still visible**"
   ]
  },
  {
   "cell_type": "code",
   "execution_count": 25,
   "metadata": {},
   "outputs": [],
   "source": [
    "number_to_adjust_by = 5\n",
    "adjusted_node_size = dict([(node, degree+number_to_adjust_by) for node, degree in networkx.degree(G)])\n",
    "networkx.set_node_attributes(G, name='adjusted_node_size', values=adjusted_node_size)"
   ]
  },
  {
   "cell_type": "code",
   "execution_count": 26,
   "metadata": {},
   "outputs": [
    {
     "data": {
      "text/html": [
       "\n",
       "  <div class=\"bk-root\" id=\"036c750b-3926-4a11-aa64-eb585ced511f\" data-root-id=\"2789\"></div>\n"
      ]
     },
     "metadata": {},
     "output_type": "display_data"
    },
    {
     "data": {
      "application/javascript": "(function(root) {\n  function embed_document(root) {\n  const docs_json = {\"72b91a2a-4dbe-4bc1-982f-39d3f4db5cf3\":{\"defs\":[],\"roots\":{\"references\":[{\"attributes\":{\"below\":[{\"id\":\"2798\"}],\"center\":[{\"id\":\"2801\"},{\"id\":\"2805\"}],\"left\":[{\"id\":\"2802\"}],\"renderers\":[{\"id\":\"2817\"}],\"title\":{\"id\":\"2790\"},\"toolbar\":{\"id\":\"2811\"},\"x_range\":{\"id\":\"2787\"},\"x_scale\":{\"id\":\"2794\"},\"y_range\":{\"id\":\"2788\"},\"y_scale\":{\"id\":\"2796\"}},\"id\":\"2789\",\"subtype\":\"Figure\",\"type\":\"Plot\"},{\"attributes\":{\"coordinates\":null,\"edge_renderer\":{\"id\":\"2824\"},\"group\":null,\"inspection_policy\":{\"id\":\"3003\"},\"layout_provider\":{\"id\":\"2826\"},\"node_renderer\":{\"id\":\"2820\"},\"selection_policy\":{\"id\":\"3002\"}},\"id\":\"2817\",\"type\":\"GraphRenderer\"},{\"attributes\":{},\"id\":\"3009\",\"type\":\"AllLabels\"},{\"attributes\":{\"fill_color\":{\"field\":\"adjusted_node_size\",\"transform\":{\"id\":\"2835\"}},\"size\":{\"field\":\"adjusted_node_size\"}},\"id\":\"2836\",\"type\":\"Circle\"},{\"attributes\":{\"coordinates\":null,\"formatter\":{\"id\":\"3005\"},\"group\":null,\"major_label_policy\":{\"id\":\"3006\"},\"ticker\":{\"id\":\"2803\"}},\"id\":\"2802\",\"type\":\"LinearAxis\"},{\"attributes\":{},\"id\":\"3010\",\"type\":\"UnionRenderers\"},{\"attributes\":{},\"id\":\"3006\",\"type\":\"AllLabels\"},{\"attributes\":{\"coordinates\":null,\"data_source\":{\"id\":\"2819\"},\"glyph\":{\"id\":\"2836\"},\"group\":null,\"hover_glyph\":null,\"view\":{\"id\":\"2821\"}},\"id\":\"2820\",\"type\":\"GlyphRenderer\"},{\"attributes\":{},\"id\":\"2794\",\"type\":\"LinearScale\"},{\"attributes\":{\"source\":{\"id\":\"2823\"}},\"id\":\"2825\",\"type\":\"CDSView\"},{\"attributes\":{},\"id\":\"3011\",\"type\":\"Selection\"},{\"attributes\":{\"high\":41,\"low\":6,\"palette\":[\"#084594\",\"#2171b5\",\"#4292c6\",\"#6baed6\",\"#9ecae1\",\"#c6dbef\",\"#deebf7\",\"#f7fbff\"]},\"id\":\"2835\",\"type\":\"LinearColorMapper\"},{\"attributes\":{\"axis\":{\"id\":\"2802\"},\"coordinates\":null,\"dimension\":1,\"group\":null,\"ticker\":null},\"id\":\"2805\",\"type\":\"Grid\"},{\"attributes\":{},\"id\":\"3008\",\"type\":\"BasicTickFormatter\"},{\"attributes\":{},\"id\":\"2803\",\"type\":\"BasicTicker\"},{\"attributes\":{\"callback\":null,\"tooltips\":[[\"Character\",\"@index\"],[\"Degree\",\"@degree\"]]},\"id\":\"2810\",\"type\":\"HoverTool\"},{\"attributes\":{\"graph_layout\":{\"Aegon\":[-4.235484397902647,8.617815908727655],\"Aemon\":[2.666926460964007,-0.7670287590981439],\"Aerys\":[-1.860976341191447,1.4688143361447126],\"Alliser\":[4.811320392093882,-2.418329007487399],\"Amory\":[-7.13912744852029,-0.5298482900905056],\"Anguy\":[-1.138363444354615,-4.972884937112641],\"Arya\":[-0.35015097114322374,-1.9320572525637363],\"Balon\":[-0.10552653347087862,-0.31251210310408495],\"Barristan\":[-2.3906418623629158,4.122117330319236],\"Belwas\":[-3.029551836964118,7.292102182838015],\"Beric\":[-1.0555608590214562,-3.701976308213811],\"Bowen\":[5.544289426060439,-1.3684103969399861],\"Bran\":[1.5270822719727524,-3.266952135561908],\"Brienne\":[-0.12488780864054899,-1.068390567395688],\"Bronn\":[-3.8799742367690984,-1.4742424596816626],\"Brynden\":[1.1491758144048976,0.28528477896224697],\"Catelyn\":[0.5291427590256519,-0.25184437438407525],\"Cersei\":[-1.7658049494012134,-0.8034742067215312],\"Chataya\":[-4.660775550907016,-2.010355925181779],\"Craster\":[6.211496123957302,-3.3762846948107383],\"Cressen\":[7.565153819670738,4.212760261905266],\"Daario\":[-5.041072215994696,7.177624027027963],\"Daenerys\":[-4.128067960411185,5.875655481191469],\"Dalla\":[3.9998300711245456,-3.975987280867791],\"Davos\":[5.810403610000155,2.1404449692237573],\"Doran\":[-5.130863027759491,0.5420189375562545],\"Drogo\":[-4.684464833426592,7.591512090968438],\"Eddard\":[0.16628338226308806,-1.716615651512021],\"Eddison\":[5.686674797355258,-2.160555027734652],\"Edmure\":[1.078210275639864,1.3363939610293254],\"Elia\":[-2.7673942635941033,1.3168807220684542],\"Ellaria\":[-5.137966100252022,-0.4685812713858739],\"Gendry\":[-1.8732681455172722,-3.9081444960652196],\"Gilly\":[5.561154298372474,-2.975160460028776],\"Gregor\":[-2.553018026559925,-0.6750865745762283],\"Grenn\":[4.750930515487179,-1.4962930372129346],\"Hodor\":[2.209142501744565,-3.7844294264481904],\"Hoster\":[0.38884947583814106,1.6215091822745566],\"Illyrio\":[-2.991526387662271,10.0],\"Ilyn\":[-3.147397756534064,-1.0582253811582902],\"Irri\":[-5.7715228119447906,7.516141160157885],\"Jaime\":[-1.1133858061000261,0.5149836086856362],\"Janos\":[2.8275977103198677,-1.6354902402680094],\"Jeyne\":[2.6442420504363877,0.3054316736530549],\"Joffrey\":[-1.4777515229175047,-0.5071449037363168],\"Jojen\":[3.1645890435924637,-4.634083322471313],\"Jon\":[3.0719469914497974,-2.4315477795800207],\"Jon Arryn\":[-0.8428200635756901,2.1192968192703487],\"Jorah\":[-3.647687047961015,6.220798161289531],\"Karl\":[8.766915510393833,-4.457800190754191],\"Kevan\":[-0.7761600642995697,1.160960031473723],\"Kraznys\":[-5.7107484353022056,8.389565388203318],\"Lancel\":[1.1144276512445244,3.7151117341099567],\"Loras\":[-1.4725451060286088,-1.438219269305986],\"Lothar\":[2.143325469232199,1.4183137157421093],\"Luwin\":[2.0955525637171286,-6.32523972834241],\"Lysa\":[-0.6999029035179265,-0.6519378531833342],\"Mace\":[-3.6661863919499718,0.5791419078393303],\"Mance\":[4.54325274402876,-3.2475343359173006],\"Margaery\":[-2.3398756470546136,-1.189728459993816],\"Marillion\":[-0.9165524824150196,-3.178731304588705],\"Meera\":[3.2595318348487115,-4.024941407782402],\"Melisandre\":[4.406768842896451,-0.23109629716456567],\"Meryn\":[-2.961173463222565,-0.470876786907274],\"Missandei\":[-6.507933280713858,7.075690504199485],\"Myrcella\":[-2.9001069317565635,0.052662651359739104],\"Nan\":[1.4791910846579788,-6.393749893056102],\"Oberyn\":[-4.027023684453614,-0.28779039648196064],\"Olenna\":[-2.6818628066994936,-3.3718966257398955],\"Orell\":[4.523105566078871,-5.4391965051931],\"Petyr\":[-0.02428629615988574,0.16838088339443885],\"Podrick\":[-2.6418759162702603,-1.9045676016835786],\"Pycelle\":[-3.379288257939075,-1.182196729167513],\"Qhorin\":[5.197274060091602,-3.6023804628700815],\"Qyburn\":[-1.1139015486066852,3.487569841714789],\"Rakharo\":[-5.005550649789115,8.651984099135598],\"Ramsay\":[3.8104386885698815,0.8363591628186289],\"Rattleshirt\":[5.713882969570553,-3.9830996265279848],\"Renly\":[-0.8236436351548513,-0.15497916471649878],\"Rhaegar\":[-2.989117527485045,3.7872367302474714],\"Rickard\":[2.8939487626080633,1.0462323928652004],\"Rickon\":[0.6665463572558139,-2.7568177484219536],\"Robb\":[1.0320109895143135,-0.8049337365420147],\"Robert\":[-0.8360611238853053,0.7231303124769046],\"Robert Arryn\":[-1.6697178591569268,-3.1388905231125523],\"Roose\":[1.0579795308751934,-1.7787792945561125],\"Roslin\":[1.880606925225534,2.1566416619284583],\"Salladhor\":[8.368975117835063,3.020801131837541],\"Samwell\":[4.008384287198132,-2.3415896751802188],\"Sandor\":[-1.7412105889469485,-1.833769806851013],\"Sansa\":[-0.7210366336183718,-1.4387765393698826],\"Shae\":[-3.1775266162758085,-1.883009527139512],\"Shireen\":[8.08142192181709,3.7001933735607513],\"Stannis\":[1.5083778572759987,-0.16045185212168547],\"Styr\":[4.899095787613033,-4.720127594928879],\"Theon\":[2.0206232675445617,-3.0151678968909934],\"Thoros\":[-1.4542308612286563,-2.5460590941604777],\"Tommen\":[-2.5907106678467837,0.5846400616996356],\"Tyrion\":[-1.8765495337566152,-0.32495625218118945],\"Tywin\":[-1.0493656864934837,-0.2720487884407055],\"Val\":[2.294767478231727,-2.43932268920132],\"Varys\":[-2.3318063310016113,-0.3202647623626879],\"Viserys\":[-3.7150645336514083,3.212442068696563],\"Walder\":[1.0311189520035888,0.9069664834407417],\"Walton\":[-3.2529064617743995,2.5181955041607718],\"Worm\":[-6.3969516207230015,7.851692441305762],\"Ygritte\":[5.333939745936271,-4.328632983273536]}},\"id\":\"2826\",\"type\":\"StaticLayoutProvider\"},{\"attributes\":{},\"id\":\"2807\",\"type\":\"WheelZoomTool\"},{\"attributes\":{},\"id\":\"3012\",\"type\":\"UnionRenderers\"},{\"attributes\":{},\"id\":\"3003\",\"type\":\"NodesOnly\"},{\"attributes\":{},\"id\":\"2806\",\"type\":\"PanTool\"},{\"attributes\":{\"coordinates\":null,\"formatter\":{\"id\":\"3008\"},\"group\":null,\"major_label_policy\":{\"id\":\"3009\"},\"ticker\":{\"id\":\"2799\"}},\"id\":\"2798\",\"type\":\"LinearAxis\"},{\"attributes\":{\"coordinates\":null,\"data_source\":{\"id\":\"2823\"},\"glyph\":{\"id\":\"2841\"},\"group\":null,\"hover_glyph\":null,\"view\":{\"id\":\"2825\"}},\"id\":\"2824\",\"type\":\"GlyphRenderer\"},{\"attributes\":{},\"id\":\"2808\",\"type\":\"SaveTool\"},{\"attributes\":{},\"id\":\"2809\",\"type\":\"ResetTool\"},{\"attributes\":{\"active_scroll\":{\"id\":\"2807\"},\"tools\":[{\"id\":\"2806\"},{\"id\":\"2807\"},{\"id\":\"2808\"},{\"id\":\"2809\"},{\"id\":\"2810\"}]},\"id\":\"2811\",\"type\":\"Toolbar\"},{\"attributes\":{},\"id\":\"3013\",\"type\":\"Selection\"},{\"attributes\":{\"coordinates\":null,\"group\":null,\"text\":\"Game of Thrones Network\"},\"id\":\"2790\",\"type\":\"Title\"},{\"attributes\":{\"data\":{\"adjusted_node_size\":[10,9,20,9,29,23,41,27,8,17,6,12,24,7,11,19,13,25,9,17,23,31,11,9,18,10,11,14,9,11,6,9,9,7,10,7,9,12,9,10,10,13,23,13,8,7,15,12,30,9,31,19,10,11,12,9,10,12,10,6,9,9,9,19,6,11,6,7,6,11,8,6,10,6,6,17,8,9,6,13,10,11,7,11,12,9,8,9,6,10,9,7,9,9,7,6,7,8,8,7,8,7,6,7,6,6,6],\"degree\":[5,4,15,4,24,18,36,22,3,12,1,7,19,2,6,14,8,20,4,12,18,26,6,4,13,5,6,9,4,6,1,4,4,2,5,2,4,7,4,5,5,8,18,8,3,2,10,7,25,4,26,14,5,6,7,4,5,7,5,1,4,4,4,14,1,6,1,2,1,6,3,1,5,1,1,12,3,4,1,8,5,6,2,6,7,4,3,4,1,5,4,2,4,4,2,1,2,3,3,2,3,2,1,2,1,1,1],\"index\":[\"Aemon\",\"Grenn\",\"Samwell\",\"Aerys\",\"Jaime\",\"Robert\",\"Tyrion\",\"Tywin\",\"Alliser\",\"Mance\",\"Amory\",\"Oberyn\",\"Arya\",\"Anguy\",\"Beric\",\"Bran\",\"Brynden\",\"Cersei\",\"Gendry\",\"Gregor\",\"Joffrey\",\"Jon\",\"Rickon\",\"Roose\",\"Sandor\",\"Thoros\",\"Balon\",\"Loras\",\"Belwas\",\"Barristan\",\"Illyrio\",\"Hodor\",\"Jojen\",\"Luwin\",\"Meera\",\"Nan\",\"Theon\",\"Brienne\",\"Bronn\",\"Podrick\",\"Lothar\",\"Walder\",\"Catelyn\",\"Edmure\",\"Hoster\",\"Jeyne\",\"Lysa\",\"Petyr\",\"Robb\",\"Roslin\",\"Sansa\",\"Stannis\",\"Elia\",\"Ilyn\",\"Meryn\",\"Pycelle\",\"Shae\",\"Varys\",\"Craster\",\"Karl\",\"Daario\",\"Drogo\",\"Irri\",\"Daenerys\",\"Aegon\",\"Jorah\",\"Kraznys\",\"Missandei\",\"Rakharo\",\"Rhaegar\",\"Viserys\",\"Worm\",\"Davos\",\"Cressen\",\"Salladhor\",\"Eddard\",\"Eddison\",\"Gilly\",\"Qyburn\",\"Renly\",\"Tommen\",\"Janos\",\"Bowen\",\"Kevan\",\"Margaery\",\"Myrcella\",\"Dalla\",\"Melisandre\",\"Orell\",\"Qhorin\",\"Rattleshirt\",\"Styr\",\"Val\",\"Ygritte\",\"Jon Arryn\",\"Lancel\",\"Olenna\",\"Marillion\",\"Robert Arryn\",\"Ellaria\",\"Mace\",\"Rickard\",\"Ramsay\",\"Chataya\",\"Shireen\",\"Doran\",\"Walton\"]},\"selected\":{\"id\":\"3011\"},\"selection_policy\":{\"id\":\"3010\"}},\"id\":\"2819\",\"type\":\"ColumnDataSource\"},{\"attributes\":{\"data\":{\"Weight\":[5,31,30,4,4,8,25,43,11,11,52,7,5,6,34,12,36,6,10,5,13,18,6,5,8,11,19,36,6,6,4,88,5,4,6,15,16,11,11,7,17,5,8,31,15,10,13,10,4,16,5,10,5,6,6,5,4,5,4,6,5,9,11,5,5,46,54,5,4,12,77,4,31,5,5,5,4,22,5,5,11,6,9,7,5,25,12,28,11,6,4,21,6,18,39,4,4,12,5,4,16,7,13,14,5,6,4,5,5,15,4,4,6,4,5,9,15,4,69,11,8,7,10,9,7,8,12,5,24,4,6,6,11,23,9,6,5,43,7,6,7,8,5,46,18,18,15,22,4,4,21,8,15,96,46,12,4,54,14,35,11,4,15,23,10,4,5,8,7,4,17,4,5,4,4,6,7,23,10,4,6,4,4,6,4,16,7,5,5,9,7,7,12,5,4,8,7,28,5,5,14,10,9,10,35,8,7,6,4,9,8,4,7,6,31,20,9,16,8,12,54,14,4,8,8,15,7,4,4,4,5,4,4,10,6,4,6,4,7,9,5,8,14,18,10,26,13,20,11,5,35,41,5,33,4,11,7,6,5,19,4,8,4,4,10,12,19,9,26,6,6,16,9,10,8,5,43,6,8,4,5,16,9,32,6,18,5,10,29,9,28,5,28,13,4,7,15,4,6,5,36,9,4,7,4,6,8,32,20,15,7,5,4,4,8,5,4,6,17,4,5,14,7,18,7,6,17,4,8,47,10,26,7,12,8,14,5,7,4,16,30,5,7,5,5,5,7,7,6,7,9,4],\"end\":[\"Grenn\",\"Samwell\",\"Jon\",\"Robert\",\"Stannis\",\"Eddison\",\"Jon\",\"Samwell\",\"Bran\",\"Jojen\",\"Jon\",\"Meera\",\"Melisandre\",\"Bowen\",\"Craster\",\"Eddison\",\"Gilly\",\"Janos\",\"Mance\",\"Qhorin\",\"Stannis\",\"Jaime\",\"Robert\",\"Tyrion\",\"Tywin\",\"Arya\",\"Catelyn\",\"Cersei\",\"Eddard\",\"Balon\",\"Barristan\",\"Brienne\",\"Edmure\",\"Elia\",\"Gregor\",\"Joffrey\",\"Loras\",\"Meryn\",\"Qyburn\",\"Renly\",\"Robert\",\"Stannis\",\"Tommen\",\"Tyrion\",\"Robb\",\"Sansa\",\"Tywin\",\"Walton\",\"Arya\",\"Cersei\",\"Daenerys\",\"Eddard\",\"Jon\",\"Jon Arryn\",\"Rhaegar\",\"Barristan\",\"Renly\",\"Stannis\",\"Thoros\",\"Sandor\",\"Sansa\",\"Tyrion\",\"Tywin\",\"Arya\",\"Catelyn\",\"Cersei\",\"Joffrey\",\"Lysa\",\"Myrcella\",\"Robb\",\"Sansa\",\"Balon\",\"Bronn\",\"Chataya\",\"Doran\",\"Elia\",\"Ellaria\",\"Gregor\",\"Ilyn\",\"Janos\",\"Kevan\",\"Loras\",\"Mace\",\"Margaery\",\"Meryn\",\"Oberyn\",\"Petyr\",\"Podrick\",\"Pycelle\",\"Renly\",\"Sandor\",\"Shae\",\"Stannis\",\"Varys\",\"Tywin\",\"Viserys\",\"Lysa\",\"Robb\",\"Balon\",\"Brynden\",\"Cersei\",\"Gregor\",\"Joffrey\",\"Kevan\",\"Mace\",\"Oberyn\",\"Petyr\",\"Podrick\",\"Pycelle\",\"Stannis\",\"Tommen\",\"Val\",\"Varys\",\"Walder\",\"Mance\",\"Janos\",\"Jon\",\"Janos\",\"Jon\",\"Craster\",\"Dalla\",\"Gilly\",\"Qhorin\",\"Rattleshirt\",\"Styr\",\"Val\",\"Ygritte\",\"Oberyn\",\"Gregor\",\"Joffrey\",\"Ellaria\",\"Mace\",\"Anguy\",\"Beric\",\"Bran\",\"Brynden\",\"Cersei\",\"Gendry\",\"Gregor\",\"Joffrey\",\"Jon\",\"Rickon\",\"Roose\",\"Sandor\",\"Thoros\",\"Eddard\",\"Robb\",\"Sansa\",\"Beric\",\"Gendry\",\"Thoros\",\"Eddard\",\"Sandor\",\"Hodor\",\"Jojen\",\"Jon\",\"Luwin\",\"Meera\",\"Nan\",\"Rickon\",\"Theon\",\"Catelyn\",\"Eddard\",\"Robb\",\"Sansa\",\"Lothar\",\"Walder\",\"Catelyn\",\"Edmure\",\"Rickard\",\"Robb\",\"Catelyn\",\"Brienne\",\"Bronn\",\"Elia\",\"Gregor\",\"Ilyn\",\"Joffrey\",\"Meryn\",\"Pycelle\",\"Sandor\",\"Shae\",\"Varys\",\"Eddard\",\"Lysa\",\"Sansa\",\"Thoros\",\"Sandor\",\"Bronn\",\"Elia\",\"Ilyn\",\"Meryn\",\"Sandor\",\"Joffrey\",\"Ilyn\",\"Kevan\",\"Loras\",\"Margaery\",\"Meryn\",\"Myrcella\",\"Sandor\",\"Stannis\",\"Tommen\",\"Robb\",\"Sansa\",\"Eddard\",\"Craster\",\"Dalla\",\"Eddison\",\"Gilly\",\"Janos\",\"Meera\",\"Melisandre\",\"Orell\",\"Qhorin\",\"Rattleshirt\",\"Stannis\",\"Styr\",\"Theon\",\"Val\",\"Ygritte\",\"Robb\",\"Sansa\",\"Eddard\",\"Theon\",\"Robb\",\"Sansa\",\"Catelyn\",\"Robb\",\"Brienne\",\"Eddard\",\"Ilyn\",\"Meryn\",\"Thoros\",\"Sansa\",\"Loras\",\"Robb\",\"Stannis\",\"Brienne\",\"Margaery\",\"Olenna\",\"Renly\",\"Sansa\",\"Barristan\",\"Illyrio\",\"Daenerys\",\"Jorah\",\"Daenerys\",\"Jorah\",\"Rhaegar\",\"Jojen\",\"Meera\",\"Robb\",\"Meera\",\"Nan\",\"Robb\",\"Catelyn\",\"Robb\",\"Sansa\",\"Podrick\",\"Margaery\",\"Sansa\",\"Edmure\",\"Roslin\",\"Robb\",\"Walder\",\"Catelyn\",\"Edmure\",\"Robb\",\"Petyr\",\"Roslin\",\"Edmure\",\"Hoster\",\"Jeyne\",\"Lysa\",\"Petyr\",\"Robb\",\"Roslin\",\"Sansa\",\"Stannis\",\"Eddard\",\"Roslin\",\"Hoster\",\"Robb\",\"Lysa\",\"Robb\",\"Jon Arryn\",\"Marillion\",\"Petyr\",\"Robert Arryn\",\"Sansa\",\"Robb\",\"Sansa\",\"Eddard\",\"Ramsay\",\"Rickard\",\"Sansa\",\"Stannis\",\"Eddard\",\"Kevan\",\"Margaery\",\"Marillion\",\"Myrcella\",\"Olenna\",\"Renly\",\"Robert Arryn\",\"Shae\",\"Davos\",\"Melisandre\",\"Renly\",\"Rhaegar\",\"Meryn\",\"Varys\",\"Chataya\",\"Varys\",\"Kevan\",\"Renly\",\"Karl\",\"Gilly\",\"Drogo\",\"Irri\",\"Daenerys\",\"Jorah\",\"Daenerys\",\"Irri\",\"Jorah\",\"Daenerys\",\"Missandei\",\"Aegon\",\"Jorah\",\"Kraznys\",\"Missandei\",\"Rakharo\",\"Rhaegar\",\"Viserys\",\"Worm\",\"Rhaegar\",\"Viserys\",\"Cressen\",\"Salladhor\",\"Melisandre\",\"Shireen\",\"Margaery\",\"Myrcella\",\"Margaery\",\"Bowen\",\"Lancel\",\"Val\",\"Rattleshirt\",\"Ygritte\",\"Ygritte\",\"Robert Arryn\"],\"start\":[\"Aemon\",\"Aemon\",\"Aemon\",\"Aemon\",\"Aemon\",\"Grenn\",\"Grenn\",\"Grenn\",\"Samwell\",\"Samwell\",\"Samwell\",\"Samwell\",\"Samwell\",\"Samwell\",\"Samwell\",\"Samwell\",\"Samwell\",\"Samwell\",\"Samwell\",\"Samwell\",\"Samwell\",\"Aerys\",\"Aerys\",\"Aerys\",\"Aerys\",\"Jaime\",\"Jaime\",\"Jaime\",\"Jaime\",\"Jaime\",\"Jaime\",\"Jaime\",\"Jaime\",\"Jaime\",\"Jaime\",\"Jaime\",\"Jaime\",\"Jaime\",\"Jaime\",\"Jaime\",\"Jaime\",\"Jaime\",\"Jaime\",\"Jaime\",\"Jaime\",\"Jaime\",\"Jaime\",\"Jaime\",\"Robert\",\"Robert\",\"Robert\",\"Robert\",\"Robert\",\"Robert\",\"Robert\",\"Robert\",\"Robert\",\"Robert\",\"Robert\",\"Robert\",\"Robert\",\"Robert\",\"Robert\",\"Tyrion\",\"Tyrion\",\"Tyrion\",\"Tyrion\",\"Tyrion\",\"Tyrion\",\"Tyrion\",\"Tyrion\",\"Tyrion\",\"Tyrion\",\"Tyrion\",\"Tyrion\",\"Tyrion\",\"Tyrion\",\"Tyrion\",\"Tyrion\",\"Tyrion\",\"Tyrion\",\"Tyrion\",\"Tyrion\",\"Tyrion\",\"Tyrion\",\"Tyrion\",\"Tyrion\",\"Tyrion\",\"Tyrion\",\"Tyrion\",\"Tyrion\",\"Tyrion\",\"Tyrion\",\"Tyrion\",\"Tyrion\",\"Tyrion\",\"Tywin\",\"Tywin\",\"Tywin\",\"Tywin\",\"Tywin\",\"Tywin\",\"Tywin\",\"Tywin\",\"Tywin\",\"Tywin\",\"Tywin\",\"Tywin\",\"Tywin\",\"Tywin\",\"Tywin\",\"Tywin\",\"Tywin\",\"Tywin\",\"Alliser\",\"Alliser\",\"Alliser\",\"Mance\",\"Mance\",\"Mance\",\"Mance\",\"Mance\",\"Mance\",\"Mance\",\"Mance\",\"Mance\",\"Mance\",\"Amory\",\"Oberyn\",\"Oberyn\",\"Oberyn\",\"Oberyn\",\"Arya\",\"Arya\",\"Arya\",\"Arya\",\"Arya\",\"Arya\",\"Arya\",\"Arya\",\"Arya\",\"Arya\",\"Arya\",\"Arya\",\"Arya\",\"Arya\",\"Arya\",\"Arya\",\"Anguy\",\"Beric\",\"Beric\",\"Beric\",\"Beric\",\"Bran\",\"Bran\",\"Bran\",\"Bran\",\"Bran\",\"Bran\",\"Bran\",\"Bran\",\"Bran\",\"Bran\",\"Bran\",\"Bran\",\"Brynden\",\"Brynden\",\"Brynden\",\"Brynden\",\"Brynden\",\"Brynden\",\"Cersei\",\"Cersei\",\"Cersei\",\"Cersei\",\"Cersei\",\"Cersei\",\"Cersei\",\"Cersei\",\"Cersei\",\"Cersei\",\"Cersei\",\"Cersei\",\"Cersei\",\"Cersei\",\"Cersei\",\"Gendry\",\"Gendry\",\"Gregor\",\"Gregor\",\"Gregor\",\"Gregor\",\"Gregor\",\"Gregor\",\"Joffrey\",\"Joffrey\",\"Joffrey\",\"Joffrey\",\"Joffrey\",\"Joffrey\",\"Joffrey\",\"Joffrey\",\"Joffrey\",\"Joffrey\",\"Joffrey\",\"Jon\",\"Jon\",\"Jon\",\"Jon\",\"Jon\",\"Jon\",\"Jon\",\"Jon\",\"Jon\",\"Jon\",\"Jon\",\"Jon\",\"Jon\",\"Jon\",\"Jon\",\"Jon\",\"Jon\",\"Jon\",\"Rickon\",\"Rickon\",\"Rickon\",\"Rickon\",\"Roose\",\"Roose\",\"Roose\",\"Sandor\",\"Sandor\",\"Sandor\",\"Sandor\",\"Sandor\",\"Balon\",\"Balon\",\"Balon\",\"Loras\",\"Loras\",\"Loras\",\"Loras\",\"Loras\",\"Belwas\",\"Belwas\",\"Belwas\",\"Belwas\",\"Barristan\",\"Barristan\",\"Barristan\",\"Hodor\",\"Hodor\",\"Hodor\",\"Jojen\",\"Luwin\",\"Theon\",\"Brienne\",\"Brienne\",\"Brienne\",\"Bronn\",\"Podrick\",\"Podrick\",\"Lothar\",\"Lothar\",\"Lothar\",\"Lothar\",\"Walder\",\"Walder\",\"Walder\",\"Walder\",\"Walder\",\"Catelyn\",\"Catelyn\",\"Catelyn\",\"Catelyn\",\"Catelyn\",\"Catelyn\",\"Catelyn\",\"Catelyn\",\"Catelyn\",\"Catelyn\",\"Edmure\",\"Edmure\",\"Edmure\",\"Hoster\",\"Jeyne\",\"Lysa\",\"Lysa\",\"Lysa\",\"Lysa\",\"Lysa\",\"Petyr\",\"Petyr\",\"Robb\",\"Robb\",\"Robb\",\"Robb\",\"Robb\",\"Sansa\",\"Sansa\",\"Sansa\",\"Sansa\",\"Sansa\",\"Sansa\",\"Sansa\",\"Sansa\",\"Sansa\",\"Stannis\",\"Stannis\",\"Stannis\",\"Elia\",\"Ilyn\",\"Pycelle\",\"Shae\",\"Shae\",\"Varys\",\"Varys\",\"Craster\",\"Craster\",\"Daario\",\"Daario\",\"Daario\",\"Daario\",\"Drogo\",\"Drogo\",\"Drogo\",\"Irri\",\"Irri\",\"Daenerys\",\"Daenerys\",\"Daenerys\",\"Daenerys\",\"Daenerys\",\"Daenerys\",\"Daenerys\",\"Daenerys\",\"Jorah\",\"Rhaegar\",\"Davos\",\"Davos\",\"Davos\",\"Davos\",\"Renly\",\"Tommen\",\"Tommen\",\"Janos\",\"Kevan\",\"Dalla\",\"Qhorin\",\"Qhorin\",\"Rattleshirt\",\"Marillion\"]},\"selected\":{\"id\":\"3013\"},\"selection_policy\":{\"id\":\"3012\"}},\"id\":\"2823\",\"type\":\"ColumnDataSource\"},{\"attributes\":{},\"id\":\"2799\",\"type\":\"BasicTicker\"},{\"attributes\":{},\"id\":\"3002\",\"type\":\"NodesOnly\"},{\"attributes\":{\"end\":10.1,\"start\":-10.1},\"id\":\"2787\",\"type\":\"Range1d\"},{\"attributes\":{\"end\":10.1,\"start\":-10.1},\"id\":\"2788\",\"type\":\"Range1d\"},{\"attributes\":{},\"id\":\"3005\",\"type\":\"BasicTickFormatter\"},{\"attributes\":{\"axis\":{\"id\":\"2798\"},\"coordinates\":null,\"group\":null,\"ticker\":null},\"id\":\"2801\",\"type\":\"Grid\"},{\"attributes\":{\"source\":{\"id\":\"2819\"}},\"id\":\"2821\",\"type\":\"CDSView\"},{\"attributes\":{\"line_alpha\":{\"value\":0.5}},\"id\":\"2841\",\"type\":\"MultiLine\"},{\"attributes\":{},\"id\":\"2796\",\"type\":\"LinearScale\"}],\"root_ids\":[\"2789\"]},\"title\":\"Bokeh Application\",\"version\":\"2.4.3\"}};\n  const render_items = [{\"docid\":\"72b91a2a-4dbe-4bc1-982f-39d3f4db5cf3\",\"root_ids\":[\"2789\"],\"roots\":{\"2789\":\"036c750b-3926-4a11-aa64-eb585ced511f\"}}];\n  root.Bokeh.embed.embed_items_notebook(docs_json, render_items);\n  }\n  if (root.Bokeh !== undefined) {\n    embed_document(root);\n  } else {\n    let attempts = 0;\n    const timer = setInterval(function(root) {\n      if (root.Bokeh !== undefined) {\n        clearInterval(timer);\n        embed_document(root);\n      } else {\n        attempts++;\n        if (attempts > 100) {\n          clearInterval(timer);\n          console.log(\"Bokeh: ERROR: Unable to run BokehJS code because BokehJS library is missing\");\n        }\n      }\n    }, 10, root)\n  }\n})(window);",
      "application/vnd.bokehjs_exec.v0+json": ""
     },
     "metadata": {
      "application/vnd.bokehjs_exec.v0+json": {
       "id": "2789"
      }
     },
     "output_type": "display_data"
    }
   ],
   "source": [
    "#Choose attributes from G network to size and color by — setting manual size (e.g. 10) or color (e.g. 'skyblue') also allowed\n",
    "size_by_this_attribute = 'adjusted_node_size'\n",
    "color_by_this_attribute = 'adjusted_node_size'\n",
    "\n",
    "#Pick a color palette — Blues8, Reds8, Purples8, Oranges8, Viridis8\n",
    "color_palette = Blues8\n",
    "\n",
    "#Choose a title!\n",
    "title = 'Game of Thrones Network'\n",
    "\n",
    "#Establish which categories will appear when hovering over each node\n",
    "HOVER_TOOLTIPS = [\n",
    "       (\"Character\", \"@index\"),\n",
    "        (\"Degree\", \"@degree\")\n",
    "]\n",
    "\n",
    "#Create a plot — set dimensions, toolbar, and title\n",
    "plot = figure(tooltips = HOVER_TOOLTIPS,\n",
    "              tools=\"pan,wheel_zoom,save,reset\", active_scroll='wheel_zoom',\n",
    "            x_range=Range1d(-10.1, 10.1), y_range=Range1d(-10.1, 10.1), title=title)\n",
    "\n",
    "#Create a network graph object\n",
    "# https://networkx.github.io/documentation/networkx-1.9/reference/generated/networkx.drawing.layout.spring_layout.html\\\n",
    "network_graph = from_networkx(G, networkx.spring_layout, scale=10, center=(0, 0))\n",
    "\n",
    "#Set node sizes and colors according to node degree (color as spectrum of color palette)\n",
    "minimum_value_color = min(network_graph.node_renderer.data_source.data[color_by_this_attribute])\n",
    "maximum_value_color = max(network_graph.node_renderer.data_source.data[color_by_this_attribute])\n",
    "network_graph.node_renderer.glyph = Circle(size=size_by_this_attribute, fill_color=linear_cmap(color_by_this_attribute, color_palette, minimum_value_color, maximum_value_color))\n",
    "\n",
    "#Set edge opacity and width\n",
    "network_graph.edge_renderer.glyph = MultiLine(line_alpha=0.5, line_width=1)\n",
    "\n",
    "plot.renderers.append(network_graph)\n",
    "\n",
    "show(plot)\n",
    "#save(plot, filename=f\"{title}.html\")"
   ]
  },
  {
   "attachments": {},
   "cell_type": "markdown",
   "metadata": {},
   "source": [
    "## Network with Nodes Colored By Attribute (Community)"
   ]
  },
  {
   "attachments": {},
   "cell_type": "markdown",
   "metadata": {},
   "source": [
    "The code below shows how to size and color nodes by modularity class."
   ]
  },
  {
   "attachments": {},
   "cell_type": "markdown",
   "metadata": {},
   "source": [
    "**Include community module**"
   ]
  },
  {
   "cell_type": "code",
   "execution_count": 27,
   "metadata": {},
   "outputs": [],
   "source": [
    "from bokeh.io import output_notebook, show, save\n",
    "from bokeh.models import Range1d, Circle, ColumnDataSource, MultiLine\n",
    "from bokeh.plotting import figure\n",
    "from bokeh.plotting import from_networkx\n",
    "from bokeh.palettes import Blues8, Reds8, Purples8, Oranges8, Viridis8, Spectral8\n",
    "from bokeh.transform import linear_cmap\n",
    "from networkx.algorithms import community"
   ]
  },
  {
   "attachments": {},
   "cell_type": "markdown",
   "metadata": {},
   "source": [
    "**Calculate degree for each node and add as node attribute**"
   ]
  },
  {
   "cell_type": "code",
   "execution_count": 28,
   "metadata": {
    "tags": [
     "hide-input"
    ]
   },
   "outputs": [],
   "source": [
    "degrees = dict(networkx.degree(G))\n",
    "networkx.set_node_attributes(G, name='degree', values=degrees)"
   ]
  },
  {
   "attachments": {},
   "cell_type": "markdown",
   "metadata": {},
   "source": [
    "**Slightly adjust degree so that the nodes with very small degrees are still visible**"
   ]
  },
  {
   "cell_type": "code",
   "execution_count": 29,
   "metadata": {
    "tags": [
     "hide-input"
    ]
   },
   "outputs": [],
   "source": [
    "number_to_adjust_by = 5\n",
    "adjusted_node_size = dict([(node, degree+number_to_adjust_by) for node, degree in networkx.degree(G)])\n",
    "networkx.set_node_attributes(G, name='adjusted_node_size', values=adjusted_node_size)"
   ]
  },
  {
   "attachments": {},
   "cell_type": "markdown",
   "metadata": {},
   "source": [
    "**Calculate communities**"
   ]
  },
  {
   "cell_type": "code",
   "execution_count": 30,
   "metadata": {},
   "outputs": [],
   "source": [
    "communities = community.greedy_modularity_communities(G)"
   ]
  },
  {
   "attachments": {},
   "cell_type": "markdown",
   "metadata": {},
   "source": [
    "**Add modularity class and color as attributes to network graph**"
   ]
  },
  {
   "cell_type": "code",
   "execution_count": 38,
   "metadata": {},
   "outputs": [],
   "source": [
    "# Create empty dictionaries\n",
    "modularity_class = {}\n",
    "modularity_color = {}\n",
    "#Loop through each community in the network\n",
    "for community_number, community in enumerate(communities):\n",
    "    #For each member of the community, add their community number and a distinct color\n",
    "    for name in community: \n",
    "        modularity_class[name] = community_number\n",
    "        modularity_color[name] = Spectral8[community_number]"
   ]
  },
  {
   "cell_type": "code",
   "execution_count": 40,
   "metadata": {},
   "outputs": [],
   "source": [
    "# Add modularity class and color as attributes from the network above\n",
    "networkx.set_node_attributes(G, modularity_class, 'modularity_class')\n",
    "networkx.set_node_attributes(G, modularity_color, 'modularity_color')"
   ]
  },
  {
   "cell_type": "code",
   "execution_count": 41,
   "metadata": {},
   "outputs": [
    {
     "data": {
      "text/html": [
       "\n",
       "  <div class=\"bk-root\" id=\"ca786aec-40f6-4385-be57-2d02183cc15a\" data-root-id=\"3133\"></div>\n"
      ]
     },
     "metadata": {},
     "output_type": "display_data"
    },
    {
     "data": {
      "application/javascript": "(function(root) {\n  function embed_document(root) {\n  const docs_json = {\"2ce5347a-6760-421c-b3f4-667c2f2fc5db\":{\"defs\":[],\"roots\":{\"references\":[{\"attributes\":{\"below\":[{\"id\":\"3142\"}],\"center\":[{\"id\":\"3145\"},{\"id\":\"3149\"}],\"left\":[{\"id\":\"3146\"}],\"renderers\":[{\"id\":\"3163\"}],\"title\":{\"id\":\"3134\"},\"toolbar\":{\"id\":\"3156\"},\"x_range\":{\"id\":\"3131\"},\"x_scale\":{\"id\":\"3138\"},\"y_range\":{\"id\":\"3132\"},\"y_scale\":{\"id\":\"3140\"}},\"id\":\"3133\",\"subtype\":\"Figure\",\"type\":\"Plot\"},{\"attributes\":{},\"id\":\"3367\",\"type\":\"AllLabels\"},{\"attributes\":{\"axis\":{\"id\":\"3142\"},\"coordinates\":null,\"group\":null,\"ticker\":null},\"id\":\"3145\",\"type\":\"Grid\"},{\"attributes\":{},\"id\":\"3368\",\"type\":\"UnionRenderers\"},{\"attributes\":{\"coordinates\":null,\"group\":null,\"text\":\"Game of Thrones Network\"},\"id\":\"3134\",\"type\":\"Title\"},{\"attributes\":{\"active_scroll\":{\"id\":\"3151\"},\"tools\":[{\"id\":\"3150\"},{\"id\":\"3151\"},{\"id\":\"3152\"},{\"id\":\"3153\"},{\"id\":\"3154\"},{\"id\":\"3155\"}]},\"id\":\"3156\",\"type\":\"Toolbar\"},{\"attributes\":{\"coordinates\":null,\"data_source\":{\"id\":\"3165\"},\"glyph\":{\"id\":\"3173\"},\"group\":null,\"hover_glyph\":null,\"view\":{\"id\":\"3167\"}},\"id\":\"3166\",\"type\":\"GlyphRenderer\"},{\"attributes\":{\"coordinates\":null,\"formatter\":{\"id\":\"3363\"},\"group\":null,\"major_label_policy\":{\"id\":\"3364\"},\"ticker\":{\"id\":\"3147\"}},\"id\":\"3146\",\"type\":\"LinearAxis\"},{\"attributes\":{\"data\":{\"Weight\":[5,31,30,4,4,8,25,43,11,11,52,7,5,6,34,12,36,6,10,5,13,18,6,5,8,11,19,36,6,6,4,88,5,4,6,15,16,11,11,7,17,5,8,31,15,10,13,10,4,16,5,10,5,6,6,5,4,5,4,6,5,9,11,5,5,46,54,5,4,12,77,4,31,5,5,5,4,22,5,5,11,6,9,7,5,25,12,28,11,6,4,21,6,18,39,4,4,12,5,4,16,7,13,14,5,6,4,5,5,15,4,4,6,4,5,9,15,4,69,11,8,7,10,9,7,8,12,5,24,4,6,6,11,23,9,6,5,43,7,6,7,8,5,46,18,18,15,22,4,4,21,8,15,96,46,12,4,54,14,35,11,4,15,23,10,4,5,8,7,4,17,4,5,4,4,6,7,23,10,4,6,4,4,6,4,16,7,5,5,9,7,7,12,5,4,8,7,28,5,5,14,10,9,10,35,8,7,6,4,9,8,4,7,6,31,20,9,16,8,12,54,14,4,8,8,15,7,4,4,4,5,4,4,10,6,4,6,4,7,9,5,8,14,18,10,26,13,20,11,5,35,41,5,33,4,11,7,6,5,19,4,8,4,4,10,12,19,9,26,6,6,16,9,10,8,5,43,6,8,4,5,16,9,32,6,18,5,10,29,9,28,5,28,13,4,7,15,4,6,5,36,9,4,7,4,6,8,32,20,15,7,5,4,4,8,5,4,6,17,4,5,14,7,18,7,6,17,4,8,47,10,26,7,12,8,14,5,7,4,16,30,5,7,5,5,5,7,7,6,7,9,4],\"end\":[\"Grenn\",\"Samwell\",\"Jon\",\"Robert\",\"Stannis\",\"Eddison\",\"Jon\",\"Samwell\",\"Bran\",\"Jojen\",\"Jon\",\"Meera\",\"Melisandre\",\"Bowen\",\"Craster\",\"Eddison\",\"Gilly\",\"Janos\",\"Mance\",\"Qhorin\",\"Stannis\",\"Jaime\",\"Robert\",\"Tyrion\",\"Tywin\",\"Arya\",\"Catelyn\",\"Cersei\",\"Eddard\",\"Balon\",\"Barristan\",\"Brienne\",\"Edmure\",\"Elia\",\"Gregor\",\"Joffrey\",\"Loras\",\"Meryn\",\"Qyburn\",\"Renly\",\"Robert\",\"Stannis\",\"Tommen\",\"Tyrion\",\"Robb\",\"Sansa\",\"Tywin\",\"Walton\",\"Arya\",\"Cersei\",\"Daenerys\",\"Eddard\",\"Jon\",\"Jon Arryn\",\"Rhaegar\",\"Barristan\",\"Renly\",\"Stannis\",\"Thoros\",\"Sandor\",\"Sansa\",\"Tyrion\",\"Tywin\",\"Arya\",\"Catelyn\",\"Cersei\",\"Joffrey\",\"Lysa\",\"Myrcella\",\"Robb\",\"Sansa\",\"Balon\",\"Bronn\",\"Chataya\",\"Doran\",\"Elia\",\"Ellaria\",\"Gregor\",\"Ilyn\",\"Janos\",\"Kevan\",\"Loras\",\"Mace\",\"Margaery\",\"Meryn\",\"Oberyn\",\"Petyr\",\"Podrick\",\"Pycelle\",\"Renly\",\"Sandor\",\"Shae\",\"Stannis\",\"Varys\",\"Tywin\",\"Viserys\",\"Lysa\",\"Robb\",\"Balon\",\"Brynden\",\"Cersei\",\"Gregor\",\"Joffrey\",\"Kevan\",\"Mace\",\"Oberyn\",\"Petyr\",\"Podrick\",\"Pycelle\",\"Stannis\",\"Tommen\",\"Val\",\"Varys\",\"Walder\",\"Mance\",\"Janos\",\"Jon\",\"Janos\",\"Jon\",\"Craster\",\"Dalla\",\"Gilly\",\"Qhorin\",\"Rattleshirt\",\"Styr\",\"Val\",\"Ygritte\",\"Oberyn\",\"Gregor\",\"Joffrey\",\"Ellaria\",\"Mace\",\"Anguy\",\"Beric\",\"Bran\",\"Brynden\",\"Cersei\",\"Gendry\",\"Gregor\",\"Joffrey\",\"Jon\",\"Rickon\",\"Roose\",\"Sandor\",\"Thoros\",\"Eddard\",\"Robb\",\"Sansa\",\"Beric\",\"Gendry\",\"Thoros\",\"Eddard\",\"Sandor\",\"Hodor\",\"Jojen\",\"Jon\",\"Luwin\",\"Meera\",\"Nan\",\"Rickon\",\"Theon\",\"Catelyn\",\"Eddard\",\"Robb\",\"Sansa\",\"Lothar\",\"Walder\",\"Catelyn\",\"Edmure\",\"Rickard\",\"Robb\",\"Catelyn\",\"Brienne\",\"Bronn\",\"Elia\",\"Gregor\",\"Ilyn\",\"Joffrey\",\"Meryn\",\"Pycelle\",\"Sandor\",\"Shae\",\"Varys\",\"Eddard\",\"Lysa\",\"Sansa\",\"Thoros\",\"Sandor\",\"Bronn\",\"Elia\",\"Ilyn\",\"Meryn\",\"Sandor\",\"Joffrey\",\"Ilyn\",\"Kevan\",\"Loras\",\"Margaery\",\"Meryn\",\"Myrcella\",\"Sandor\",\"Stannis\",\"Tommen\",\"Robb\",\"Sansa\",\"Eddard\",\"Craster\",\"Dalla\",\"Eddison\",\"Gilly\",\"Janos\",\"Meera\",\"Melisandre\",\"Orell\",\"Qhorin\",\"Rattleshirt\",\"Stannis\",\"Styr\",\"Theon\",\"Val\",\"Ygritte\",\"Robb\",\"Sansa\",\"Eddard\",\"Theon\",\"Robb\",\"Sansa\",\"Catelyn\",\"Robb\",\"Brienne\",\"Eddard\",\"Ilyn\",\"Meryn\",\"Thoros\",\"Sansa\",\"Loras\",\"Robb\",\"Stannis\",\"Brienne\",\"Margaery\",\"Olenna\",\"Renly\",\"Sansa\",\"Barristan\",\"Illyrio\",\"Daenerys\",\"Jorah\",\"Daenerys\",\"Jorah\",\"Rhaegar\",\"Jojen\",\"Meera\",\"Robb\",\"Meera\",\"Nan\",\"Robb\",\"Catelyn\",\"Robb\",\"Sansa\",\"Podrick\",\"Margaery\",\"Sansa\",\"Edmure\",\"Roslin\",\"Robb\",\"Walder\",\"Catelyn\",\"Edmure\",\"Robb\",\"Petyr\",\"Roslin\",\"Edmure\",\"Hoster\",\"Jeyne\",\"Lysa\",\"Petyr\",\"Robb\",\"Roslin\",\"Sansa\",\"Stannis\",\"Eddard\",\"Roslin\",\"Hoster\",\"Robb\",\"Lysa\",\"Robb\",\"Jon Arryn\",\"Marillion\",\"Petyr\",\"Robert Arryn\",\"Sansa\",\"Robb\",\"Sansa\",\"Eddard\",\"Ramsay\",\"Rickard\",\"Sansa\",\"Stannis\",\"Eddard\",\"Kevan\",\"Margaery\",\"Marillion\",\"Myrcella\",\"Olenna\",\"Renly\",\"Robert Arryn\",\"Shae\",\"Davos\",\"Melisandre\",\"Renly\",\"Rhaegar\",\"Meryn\",\"Varys\",\"Chataya\",\"Varys\",\"Kevan\",\"Renly\",\"Karl\",\"Gilly\",\"Drogo\",\"Irri\",\"Daenerys\",\"Jorah\",\"Daenerys\",\"Irri\",\"Jorah\",\"Daenerys\",\"Missandei\",\"Aegon\",\"Jorah\",\"Kraznys\",\"Missandei\",\"Rakharo\",\"Rhaegar\",\"Viserys\",\"Worm\",\"Rhaegar\",\"Viserys\",\"Cressen\",\"Salladhor\",\"Melisandre\",\"Shireen\",\"Margaery\",\"Myrcella\",\"Margaery\",\"Bowen\",\"Lancel\",\"Val\",\"Rattleshirt\",\"Ygritte\",\"Ygritte\",\"Robert Arryn\"],\"start\":[\"Aemon\",\"Aemon\",\"Aemon\",\"Aemon\",\"Aemon\",\"Grenn\",\"Grenn\",\"Grenn\",\"Samwell\",\"Samwell\",\"Samwell\",\"Samwell\",\"Samwell\",\"Samwell\",\"Samwell\",\"Samwell\",\"Samwell\",\"Samwell\",\"Samwell\",\"Samwell\",\"Samwell\",\"Aerys\",\"Aerys\",\"Aerys\",\"Aerys\",\"Jaime\",\"Jaime\",\"Jaime\",\"Jaime\",\"Jaime\",\"Jaime\",\"Jaime\",\"Jaime\",\"Jaime\",\"Jaime\",\"Jaime\",\"Jaime\",\"Jaime\",\"Jaime\",\"Jaime\",\"Jaime\",\"Jaime\",\"Jaime\",\"Jaime\",\"Jaime\",\"Jaime\",\"Jaime\",\"Jaime\",\"Robert\",\"Robert\",\"Robert\",\"Robert\",\"Robert\",\"Robert\",\"Robert\",\"Robert\",\"Robert\",\"Robert\",\"Robert\",\"Robert\",\"Robert\",\"Robert\",\"Robert\",\"Tyrion\",\"Tyrion\",\"Tyrion\",\"Tyrion\",\"Tyrion\",\"Tyrion\",\"Tyrion\",\"Tyrion\",\"Tyrion\",\"Tyrion\",\"Tyrion\",\"Tyrion\",\"Tyrion\",\"Tyrion\",\"Tyrion\",\"Tyrion\",\"Tyrion\",\"Tyrion\",\"Tyrion\",\"Tyrion\",\"Tyrion\",\"Tyrion\",\"Tyrion\",\"Tyrion\",\"Tyrion\",\"Tyrion\",\"Tyrion\",\"Tyrion\",\"Tyrion\",\"Tyrion\",\"Tyrion\",\"Tyrion\",\"Tyrion\",\"Tywin\",\"Tywin\",\"Tywin\",\"Tywin\",\"Tywin\",\"Tywin\",\"Tywin\",\"Tywin\",\"Tywin\",\"Tywin\",\"Tywin\",\"Tywin\",\"Tywin\",\"Tywin\",\"Tywin\",\"Tywin\",\"Tywin\",\"Tywin\",\"Alliser\",\"Alliser\",\"Alliser\",\"Mance\",\"Mance\",\"Mance\",\"Mance\",\"Mance\",\"Mance\",\"Mance\",\"Mance\",\"Mance\",\"Mance\",\"Amory\",\"Oberyn\",\"Oberyn\",\"Oberyn\",\"Oberyn\",\"Arya\",\"Arya\",\"Arya\",\"Arya\",\"Arya\",\"Arya\",\"Arya\",\"Arya\",\"Arya\",\"Arya\",\"Arya\",\"Arya\",\"Arya\",\"Arya\",\"Arya\",\"Arya\",\"Anguy\",\"Beric\",\"Beric\",\"Beric\",\"Beric\",\"Bran\",\"Bran\",\"Bran\",\"Bran\",\"Bran\",\"Bran\",\"Bran\",\"Bran\",\"Bran\",\"Bran\",\"Bran\",\"Bran\",\"Brynden\",\"Brynden\",\"Brynden\",\"Brynden\",\"Brynden\",\"Brynden\",\"Cersei\",\"Cersei\",\"Cersei\",\"Cersei\",\"Cersei\",\"Cersei\",\"Cersei\",\"Cersei\",\"Cersei\",\"Cersei\",\"Cersei\",\"Cersei\",\"Cersei\",\"Cersei\",\"Cersei\",\"Gendry\",\"Gendry\",\"Gregor\",\"Gregor\",\"Gregor\",\"Gregor\",\"Gregor\",\"Gregor\",\"Joffrey\",\"Joffrey\",\"Joffrey\",\"Joffrey\",\"Joffrey\",\"Joffrey\",\"Joffrey\",\"Joffrey\",\"Joffrey\",\"Joffrey\",\"Joffrey\",\"Jon\",\"Jon\",\"Jon\",\"Jon\",\"Jon\",\"Jon\",\"Jon\",\"Jon\",\"Jon\",\"Jon\",\"Jon\",\"Jon\",\"Jon\",\"Jon\",\"Jon\",\"Jon\",\"Jon\",\"Jon\",\"Rickon\",\"Rickon\",\"Rickon\",\"Rickon\",\"Roose\",\"Roose\",\"Roose\",\"Sandor\",\"Sandor\",\"Sandor\",\"Sandor\",\"Sandor\",\"Balon\",\"Balon\",\"Balon\",\"Loras\",\"Loras\",\"Loras\",\"Loras\",\"Loras\",\"Belwas\",\"Belwas\",\"Belwas\",\"Belwas\",\"Barristan\",\"Barristan\",\"Barristan\",\"Hodor\",\"Hodor\",\"Hodor\",\"Jojen\",\"Luwin\",\"Theon\",\"Brienne\",\"Brienne\",\"Brienne\",\"Bronn\",\"Podrick\",\"Podrick\",\"Lothar\",\"Lothar\",\"Lothar\",\"Lothar\",\"Walder\",\"Walder\",\"Walder\",\"Walder\",\"Walder\",\"Catelyn\",\"Catelyn\",\"Catelyn\",\"Catelyn\",\"Catelyn\",\"Catelyn\",\"Catelyn\",\"Catelyn\",\"Catelyn\",\"Catelyn\",\"Edmure\",\"Edmure\",\"Edmure\",\"Hoster\",\"Jeyne\",\"Lysa\",\"Lysa\",\"Lysa\",\"Lysa\",\"Lysa\",\"Petyr\",\"Petyr\",\"Robb\",\"Robb\",\"Robb\",\"Robb\",\"Robb\",\"Sansa\",\"Sansa\",\"Sansa\",\"Sansa\",\"Sansa\",\"Sansa\",\"Sansa\",\"Sansa\",\"Sansa\",\"Stannis\",\"Stannis\",\"Stannis\",\"Elia\",\"Ilyn\",\"Pycelle\",\"Shae\",\"Shae\",\"Varys\",\"Varys\",\"Craster\",\"Craster\",\"Daario\",\"Daario\",\"Daario\",\"Daario\",\"Drogo\",\"Drogo\",\"Drogo\",\"Irri\",\"Irri\",\"Daenerys\",\"Daenerys\",\"Daenerys\",\"Daenerys\",\"Daenerys\",\"Daenerys\",\"Daenerys\",\"Daenerys\",\"Jorah\",\"Rhaegar\",\"Davos\",\"Davos\",\"Davos\",\"Davos\",\"Renly\",\"Tommen\",\"Tommen\",\"Janos\",\"Kevan\",\"Dalla\",\"Qhorin\",\"Qhorin\",\"Rattleshirt\",\"Marillion\"]},\"selected\":{\"id\":\"3371\"},\"selection_policy\":{\"id\":\"3370\"}},\"id\":\"3169\",\"type\":\"ColumnDataSource\"},{\"attributes\":{\"coordinates\":null,\"edge_renderer\":{\"id\":\"3170\"},\"group\":null,\"inspection_policy\":{\"id\":\"3361\"},\"layout_provider\":{\"id\":\"3172\"},\"node_renderer\":{\"id\":\"3166\"},\"selection_policy\":{\"id\":\"3360\"}},\"id\":\"3163\",\"type\":\"GraphRenderer\"},{\"attributes\":{\"coordinates\":null,\"formatter\":{\"id\":\"3366\"},\"group\":null,\"major_label_policy\":{\"id\":\"3367\"},\"ticker\":{\"id\":\"3143\"}},\"id\":\"3142\",\"type\":\"LinearAxis\"},{\"attributes\":{},\"id\":\"3360\",\"type\":\"NodesOnly\"},{\"attributes\":{},\"id\":\"3147\",\"type\":\"BasicTicker\"},{\"attributes\":{},\"id\":\"3153\",\"type\":\"ResetTool\"},{\"attributes\":{},\"id\":\"3140\",\"type\":\"LinearScale\"},{\"attributes\":{},\"id\":\"3151\",\"type\":\"WheelZoomTool\"},{\"attributes\":{\"line_alpha\":{\"value\":0.5}},\"id\":\"3178\",\"type\":\"MultiLine\"},{\"attributes\":{},\"id\":\"3369\",\"type\":\"Selection\"},{\"attributes\":{},\"id\":\"3364\",\"type\":\"AllLabels\"},{\"attributes\":{},\"id\":\"3152\",\"type\":\"SaveTool\"},{\"attributes\":{},\"id\":\"3370\",\"type\":\"UnionRenderers\"},{\"attributes\":{},\"id\":\"3363\",\"type\":\"BasicTickFormatter\"},{\"attributes\":{\"end\":10.1,\"start\":-10.1},\"id\":\"3131\",\"type\":\"Range1d\"},{\"attributes\":{\"source\":{\"id\":\"3165\"}},\"id\":\"3167\",\"type\":\"CDSView\"},{\"attributes\":{\"callback\":null},\"id\":\"3154\",\"type\":\"TapTool\"},{\"attributes\":{},\"id\":\"3366\",\"type\":\"BasicTickFormatter\"},{\"attributes\":{\"coordinates\":null,\"data_source\":{\"id\":\"3169\"},\"glyph\":{\"id\":\"3178\"},\"group\":null,\"hover_glyph\":null,\"view\":{\"id\":\"3171\"}},\"id\":\"3170\",\"type\":\"GlyphRenderer\"},{\"attributes\":{},\"id\":\"3361\",\"type\":\"NodesOnly\"},{\"attributes\":{\"data\":{\"adjusted_node_size\":[10,9,20,9,29,23,41,27,8,17,6,12,24,7,11,19,13,25,9,17,23,31,11,9,18,10,11,14,9,11,6,9,9,7,10,7,9,12,9,10,10,13,23,13,8,7,15,12,30,9,31,19,10,11,12,9,10,12,10,6,9,9,9,19,6,11,6,7,6,11,8,6,10,6,6,17,8,9,6,13,10,11,7,11,12,9,8,9,6,10,9,7,9,9,7,6,7,8,8,7,8,7,6,7,6,6,6],\"degree\":[5,4,15,4,24,18,36,22,3,12,1,7,19,2,6,14,8,20,4,12,18,26,6,4,13,5,6,9,4,6,1,4,4,2,5,2,4,7,4,5,5,8,18,8,3,2,10,7,25,4,26,14,5,6,7,4,5,7,5,1,4,4,4,14,1,6,1,2,1,6,3,1,5,1,1,12,3,4,1,8,5,6,2,6,7,4,3,4,1,5,4,2,4,4,2,1,2,3,3,2,3,2,1,2,1,1,1],\"index\":[\"Aemon\",\"Grenn\",\"Samwell\",\"Aerys\",\"Jaime\",\"Robert\",\"Tyrion\",\"Tywin\",\"Alliser\",\"Mance\",\"Amory\",\"Oberyn\",\"Arya\",\"Anguy\",\"Beric\",\"Bran\",\"Brynden\",\"Cersei\",\"Gendry\",\"Gregor\",\"Joffrey\",\"Jon\",\"Rickon\",\"Roose\",\"Sandor\",\"Thoros\",\"Balon\",\"Loras\",\"Belwas\",\"Barristan\",\"Illyrio\",\"Hodor\",\"Jojen\",\"Luwin\",\"Meera\",\"Nan\",\"Theon\",\"Brienne\",\"Bronn\",\"Podrick\",\"Lothar\",\"Walder\",\"Catelyn\",\"Edmure\",\"Hoster\",\"Jeyne\",\"Lysa\",\"Petyr\",\"Robb\",\"Roslin\",\"Sansa\",\"Stannis\",\"Elia\",\"Ilyn\",\"Meryn\",\"Pycelle\",\"Shae\",\"Varys\",\"Craster\",\"Karl\",\"Daario\",\"Drogo\",\"Irri\",\"Daenerys\",\"Aegon\",\"Jorah\",\"Kraznys\",\"Missandei\",\"Rakharo\",\"Rhaegar\",\"Viserys\",\"Worm\",\"Davos\",\"Cressen\",\"Salladhor\",\"Eddard\",\"Eddison\",\"Gilly\",\"Qyburn\",\"Renly\",\"Tommen\",\"Janos\",\"Bowen\",\"Kevan\",\"Margaery\",\"Myrcella\",\"Dalla\",\"Melisandre\",\"Orell\",\"Qhorin\",\"Rattleshirt\",\"Styr\",\"Val\",\"Ygritte\",\"Jon Arryn\",\"Lancel\",\"Olenna\",\"Marillion\",\"Robert Arryn\",\"Ellaria\",\"Mace\",\"Rickard\",\"Ramsay\",\"Chataya\",\"Shireen\",\"Doran\",\"Walton\"],\"modularity_class\":[1,1,1,0,0,3,0,0,1,1,0,0,2,4,4,2,2,2,4,0,0,1,2,2,0,4,0,0,3,3,3,1,1,2,1,2,2,2,0,0,2,2,2,2,2,2,2,2,2,2,2,1,0,0,0,0,0,0,1,1,3,3,3,3,3,3,3,3,3,3,3,3,1,1,1,2,1,1,0,0,0,1,1,0,0,0,1,1,1,1,1,1,1,1,3,0,0,2,2,0,0,2,2,0,1,0,0],\"modularity_color\":[\"#66c2a5\",\"#66c2a5\",\"#66c2a5\",\"#3288bd\",\"#3288bd\",\"#e6f598\",\"#3288bd\",\"#3288bd\",\"#66c2a5\",\"#66c2a5\",\"#3288bd\",\"#3288bd\",\"#abdda4\",\"#fee08b\",\"#fee08b\",\"#abdda4\",\"#abdda4\",\"#abdda4\",\"#fee08b\",\"#3288bd\",\"#3288bd\",\"#66c2a5\",\"#abdda4\",\"#abdda4\",\"#3288bd\",\"#fee08b\",\"#3288bd\",\"#3288bd\",\"#e6f598\",\"#e6f598\",\"#e6f598\",\"#66c2a5\",\"#66c2a5\",\"#abdda4\",\"#66c2a5\",\"#abdda4\",\"#abdda4\",\"#abdda4\",\"#3288bd\",\"#3288bd\",\"#abdda4\",\"#abdda4\",\"#abdda4\",\"#abdda4\",\"#abdda4\",\"#abdda4\",\"#abdda4\",\"#abdda4\",\"#abdda4\",\"#abdda4\",\"#abdda4\",\"#66c2a5\",\"#3288bd\",\"#3288bd\",\"#3288bd\",\"#3288bd\",\"#3288bd\",\"#3288bd\",\"#66c2a5\",\"#66c2a5\",\"#e6f598\",\"#e6f598\",\"#e6f598\",\"#e6f598\",\"#e6f598\",\"#e6f598\",\"#e6f598\",\"#e6f598\",\"#e6f598\",\"#e6f598\",\"#e6f598\",\"#e6f598\",\"#66c2a5\",\"#66c2a5\",\"#66c2a5\",\"#abdda4\",\"#66c2a5\",\"#66c2a5\",\"#3288bd\",\"#3288bd\",\"#3288bd\",\"#66c2a5\",\"#66c2a5\",\"#3288bd\",\"#3288bd\",\"#3288bd\",\"#66c2a5\",\"#66c2a5\",\"#66c2a5\",\"#66c2a5\",\"#66c2a5\",\"#66c2a5\",\"#66c2a5\",\"#66c2a5\",\"#e6f598\",\"#3288bd\",\"#3288bd\",\"#abdda4\",\"#abdda4\",\"#3288bd\",\"#3288bd\",\"#abdda4\",\"#abdda4\",\"#3288bd\",\"#66c2a5\",\"#3288bd\",\"#3288bd\"]},\"selected\":{\"id\":\"3369\"},\"selection_policy\":{\"id\":\"3368\"}},\"id\":\"3165\",\"type\":\"ColumnDataSource\"},{\"attributes\":{},\"id\":\"3143\",\"type\":\"BasicTicker\"},{\"attributes\":{\"source\":{\"id\":\"3169\"}},\"id\":\"3171\",\"type\":\"CDSView\"},{\"attributes\":{},\"id\":\"3150\",\"type\":\"PanTool\"},{\"attributes\":{},\"id\":\"3371\",\"type\":\"Selection\"},{\"attributes\":{\"fill_color\":{\"field\":\"modularity_color\"},\"size\":{\"field\":\"adjusted_node_size\"}},\"id\":\"3173\",\"type\":\"Circle\"},{\"attributes\":{\"end\":10.1,\"start\":-10.1},\"id\":\"3132\",\"type\":\"Range1d\"},{\"attributes\":{\"axis\":{\"id\":\"3146\"},\"coordinates\":null,\"dimension\":1,\"group\":null,\"ticker\":null},\"id\":\"3149\",\"type\":\"Grid\"},{\"attributes\":{\"graph_layout\":{\"Aegon\":[-4.103288498986175,8.713038567994603],\"Aemon\":[0.8328566337315689,-2.5585249508157175],\"Aerys\":[-2.303903467889411,0.7042595750740233],\"Alliser\":[1.3085599981303713,-5.312211145909477],\"Amory\":[0.7332436116066622,5.043787479133845],\"Anguy\":[2.745118927127454,2.572335024651973],\"Arya\":[0.899961718217891,0.16377583938230517],\"Balon\":[0.11549177803994498,-1.0612482916628958],\"Barristan\":[-2.900163756145251,4.274117224008652],\"Belwas\":[-4.31112513291254,7.263977972952692],\"Beric\":[1.5408629516128396,1.6874959496303625],\"Bowen\":[1.1704700619303583,-6.193106657308993],\"Bran\":[2.5654909911760835,-2.0726854090910924],\"Brienne\":[0.48425808669178744,-0.5388449880636694],\"Bronn\":[-2.7210781450109245,-0.44470617605055607],\"Brynden\":[2.4870027305965077,0.39729362186391143],\"Catelyn\":[1.3227204386965212,0.4010616341494818],\"Cersei\":[-1.0349537893441922,0.24951892987049867],\"Chataya\":[-2.1702288959484126,2.8322078439309677],\"Craster\":[0.9233814461863868,-6.790317340646134],\"Cressen\":[8.758756840436364,-3.7659186927940085],\"Daario\":[-6.287451777971925,6.661479065712577],\"Daenerys\":[-4.387157989092149,6.084329496490014],\"Dalla\":[-0.17016847420796857,-5.532485696422813],\"Davos\":[6.236487178541184,-2.6181209116139805],\"Doran\":[0.08134657786401367,3.5092098678161596],\"Drogo\":[-5.870956947176301,7.092199677887857],\"Eddard\":[0.830375264238552,-0.5238405352507808],\"Eddison\":[2.99308357303838,-5.40904468897217],\"Edmure\":[2.2423654764849474,1.3719289712339784],\"Elia\":[-2.074478778491675,2.0967387087643954],\"Ellaria\":[-0.7491057774281402,3.1783871731310507],\"Gendry\":[1.1674867424121695,2.5671639968535067],\"Gilly\":[0.7118791590878744,-5.962388735465781],\"Gregor\":[-1.2725174588962793,0.8125964521854941],\"Grenn\":[2.318630351993475,-4.632934289447894],\"Hodor\":[3.8303154119697895,-2.412004103402085],\"Hoster\":[1.6247636658015323,2.487603471787166],\"Illyrio\":[-5.190998542280197,10.0],\"Ilyn\":[-1.907098089633526,0.30208291401793097],\"Irri\":[-6.524679947363355,7.446230251804798],\"Jaime\":[-0.6186349771866826,0.7759875265328956],\"Janos\":[0.43025113245986146,-3.8650787228949497],\"Jeyne\":[3.3935274831212143,0.9770744442073637],\"Joffrey\":[-0.8282647415036372,-0.29105944423456104],\"Jojen\":[3.973015141950806,-3.9169286044031177],\"Jon\":[1.386313801369004,-3.5825826561807994],\"Jon Arryn\":[-2.868126832255836,2.4676889176184535],\"Jorah\":[-4.817591809866676,5.891180113267457],\"Karl\":[0.6931789485687951,-9.649865024466957],\"Kevan\":[-2.8662157210036976,-1.0144808456892116],\"Kraznys\":[-5.437844070732497,8.52228093550933],\"Lancel\":[-5.777598598795428,-1.9397489897060833],\"Loras\":[-1.0610478850654887,-1.3996017929541575],\"Lothar\":[3.7595339625252944,1.0300986584281107],\"Luwin\":[5.3738771701774075,-2.689234606085651],\"Lysa\":[-0.9153505523541146,1.2783861552653677],\"Mace\":[0.11848835404967614,0.3885405283374572],\"Mance\":[1.0255256962851567,-5.570837188020427],\"Margaery\":[-1.848737025389268,-1.3830657752566762],\"Marillion\":[-3.1524392675313475,0.4701369453985288],\"Meera\":[3.2548403494338385,-3.859830901813701],\"Melisandre\":[3.576383758760656,-3.1776805013381213],\"Meryn\":[-1.7619504206834131,0.8744820368715102],\"Missandei\":[-6.091515808649621,8.193687763759177],\"Myrcella\":[-2.400300181404923,-1.4759851151484753],\"Nan\":[5.302529963616156,-3.391400616296416],\"Oberyn\":[-0.32698908947394417,2.094729081285808],\"Olenna\":[-2.292128060459458,-2.8447955113240946],\"Orell\":[3.581586534476679,-6.009176912022572],\"Petyr\":[0.6674935765225907,0.6675779840023979],\"Podrick\":[-1.787209931292494,-1.6702772003993047],\"Pycelle\":[-2.4600161911824157,1.084634469746502],\"Qhorin\":[2.16548005884938,-5.849058168880377],\"Qyburn\":[-0.858135782429854,4.019131248424525],\"Rakharo\":[-6.716106323182948,8.01866340150362],\"Ramsay\":[5.006821358632052,-0.0828984949908616],\"Rattleshirt\":[2.4156838143334496,-6.352618413199466],\"Renly\":[-1.0926581013121386,-0.8051369255986366],\"Rhaegar\":[-3.4328764472405964,3.9816619515010734],\"Rickard\":[4.297227549773926,0.17413491623846358],\"Rickon\":[1.7769474321108771,-1.346285020938624],\"Robb\":[1.8185204056099191,-0.46412891781037224],\"Robert\":[-1.061534057135175,1.0689399717510064],\"Robert Arryn\":[-3.2235136341423125,-0.06603913319005697],\"Roose\":[2.4780315450611843,-0.2966564543963226],\"Roslin\":[3.5459579949155624,1.8952626832069386],\"Salladhor\":[8.997575465581091,-3.0780220157405522],\"Samwell\":[1.8989968499131988,-4.339756781750862],\"Sandor\":[-0.08601630221318904,1.0179824916475178],\"Sansa\":[-0.530376784875142,-0.714998546763076],\"Shae\":[-2.0056941058254534,1.3630016528291269],\"Shireen\":[8.99867548194844,-2.3592648170303323],\"Stannis\":[1.3034114279575,-1.4011244863360286],\"Styr\":[1.3983918484856708,-6.79779548254053],\"Theon\":[2.7396884071591767,-2.4627901741142235],\"Thoros\":[0.6080169109720757,2.1609500178879433],\"Tommen\":[-2.0841794669794402,-0.8262898234707018],\"Tyrion\":[-0.9295162350618633,0.3815067972366467],\"Tywin\":[-0.3851916477955141,-0.24202235859949237],\"Val\":[-0.22346642278944534,-3.84520119222649],\"Varys\":[-2.355836308779192,-0.017122365653874202],\"Viserys\":[-3.0760567953276934,3.6375273086715016],\"Walder\":[2.2360119602108166,0.8359251028447502],\"Walton\":[-3.9550954493573856,1.5435293070815799],\"Worm\":[-4.8203164403376215,8.735022728835007],\"Ygritte\":[1.9809929379501758,-6.555322255834114]}},\"id\":\"3172\",\"type\":\"StaticLayoutProvider\"},{\"attributes\":{\"callback\":null,\"tooltips\":[[\"Character\",\"@index\"],[\"Degree\",\"@degree\"],[\"Modularity Class\",\"@modularity_class\"],[\"Modularity Color\",\"$color[swatch]:modularity_color\"]]},\"id\":\"3155\",\"type\":\"HoverTool\"},{\"attributes\":{},\"id\":\"3138\",\"type\":\"LinearScale\"}],\"root_ids\":[\"3133\"]},\"title\":\"Bokeh Application\",\"version\":\"2.4.3\"}};\n  const render_items = [{\"docid\":\"2ce5347a-6760-421c-b3f4-667c2f2fc5db\",\"root_ids\":[\"3133\"],\"roots\":{\"3133\":\"ca786aec-40f6-4385-be57-2d02183cc15a\"}}];\n  root.Bokeh.embed.embed_items_notebook(docs_json, render_items);\n  }\n  if (root.Bokeh !== undefined) {\n    embed_document(root);\n  } else {\n    let attempts = 0;\n    const timer = setInterval(function(root) {\n      if (root.Bokeh !== undefined) {\n        clearInterval(timer);\n        embed_document(root);\n      } else {\n        attempts++;\n        if (attempts > 100) {\n          clearInterval(timer);\n          console.log(\"Bokeh: ERROR: Unable to run BokehJS code because BokehJS library is missing\");\n        }\n      }\n    }, 10, root)\n  }\n})(window);",
      "application/vnd.bokehjs_exec.v0+json": ""
     },
     "metadata": {
      "application/vnd.bokehjs_exec.v0+json": {
       "id": "3133"
      }
     },
     "output_type": "display_data"
    }
   ],
   "source": [
    "#Choose attributes from G network to size and color by — setting manual size (e.g. 10) or color (e.g. 'skyblue') also allowed\n",
    "size_by_this_attribute = 'adjusted_node_size'\n",
    "color_by_this_attribute = 'modularity_color'\n",
    "#Pick a color palette — Blues8, Reds8, Purples8, Oranges8, Viridis8\n",
    "color_palette = Blues8\n",
    "#Choose a title!\n",
    "title = 'Game of Thrones Network'\n",
    "\n",
    "#Establish which categories will appear when hovering over each node\n",
    "HOVER_TOOLTIPS = [\n",
    "       (\"Character\", \"@index\"),\n",
    "        (\"Degree\", \"@degree\"),\n",
    "         (\"Modularity Class\", \"@modularity_class\"),\n",
    "        (\"Modularity Color\", \"$color[swatch]:modularity_color\"),\n",
    "]\n",
    "\n",
    "#Create a plot — set dimensions, toolbar, and title\n",
    "plot = figure(tooltips = HOVER_TOOLTIPS,\n",
    "              tools=\"pan,wheel_zoom,save,reset, tap\", active_scroll='wheel_zoom',\n",
    "            x_range=Range1d(-10.1, 10.1), y_range=Range1d(-10.1, 10.1), title=title)\n",
    "\n",
    "#Create a network graph object\n",
    "# https://networkx.github.io/documentation/networkx-1.9/reference/generated/networkx.drawing.layout.spring_layout.html\n",
    "network_graph = from_networkx(G, networkx.spring_layout, scale=10, center=(0, 0))\n",
    "\n",
    "#Set node sizes and colors according to node degree (color as category from attribute)\n",
    "network_graph.node_renderer.glyph = Circle(size=size_by_this_attribute, fill_color=color_by_this_attribute)\n",
    "\n",
    "#Set edge opacity and width\n",
    "network_graph.edge_renderer.glyph = MultiLine(line_alpha=0.5, line_width=1)\n",
    "\n",
    "plot.renderers.append(network_graph)\n",
    "\n",
    "show(plot)\n",
    "#save(plot, filename=f\"{title}.html\")"
   ]
  },
  {
   "attachments": {},
   "cell_type": "markdown",
   "metadata": {},
   "source": [
    "## Network with Responsive Highlighting"
   ]
  },
  {
   "attachments": {},
   "cell_type": "markdown",
   "metadata": {},
   "source": [
    "The code below shows how to create responsive highlighting when a user hovers over nodes or edges, which you can read more about in [Bokeh's NetworkX Integration documentation](https://docs.bokeh.org/en/latest/docs/user_guide/graph.html?highlight=networks#interaction-policies). "
   ]
  },
  {
   "attachments": {},
   "cell_type": "markdown",
   "metadata": {},
   "source": [
    "**Include  EdgesAndLinkedNodes, NodesAndLinkedEdges**"
   ]
  },
  {
   "cell_type": "code",
   "execution_count": 6,
   "metadata": {},
   "outputs": [],
   "source": [
    "from bokeh.io import output_notebook, show, save\n",
    "from bokeh.models import Range1d, Circle, ColumnDataSource, MultiLine, EdgesAndLinkedNodes, NodesAndLinkedEdges\n",
    "from bokeh.plotting import figure\n",
    "from bokeh.plotting import from_networkx\n",
    "from bokeh.palettes import Blues8, Reds8, Purples8, Oranges8, Viridis8, Spectral8\n",
    "from bokeh.transform import linear_cmap\n",
    "from networkx.algorithms import community"
   ]
  },
  {
   "attachments": {},
   "cell_type": "markdown",
   "metadata": {},
   "source": [
    "**Calculate degree for each node and add as node attribute**"
   ]
  },
  {
   "cell_type": "code",
   "execution_count": 7,
   "metadata": {},
   "outputs": [],
   "source": [
    "degrees = dict(networkx.degree(G))\n",
    "networkx.set_node_attributes(G, name='degree', values=degrees)"
   ]
  },
  {
   "attachments": {},
   "cell_type": "markdown",
   "metadata": {},
   "source": [
    "**Slightly adjust degree so that the nodes with very small degrees are still visible**"
   ]
  },
  {
   "cell_type": "code",
   "execution_count": 8,
   "metadata": {
    "tags": [
     "hide-input"
    ]
   },
   "outputs": [],
   "source": [
    "number_to_adjust_by = 5\n",
    "adjusted_node_size = dict([(node, degree+number_to_adjust_by) for node, degree in networkx.degree(G)])\n",
    "networkx.set_node_attributes(G, name='adjusted_node_size', values=adjusted_node_size)"
   ]
  },
  {
   "attachments": {},
   "cell_type": "markdown",
   "metadata": {},
   "source": [
    "**Calculate communities**"
   ]
  },
  {
   "cell_type": "code",
   "execution_count": 17,
   "metadata": {
    "tags": [
     "hide-input"
    ]
   },
   "outputs": [],
   "source": [
    "communities = community.greedy_modularity_communities(G)"
   ]
  },
  {
   "attachments": {},
   "cell_type": "markdown",
   "metadata": {},
   "source": [
    "**Add modularity class and color as attributes to network graph**"
   ]
  },
  {
   "cell_type": "code",
   "execution_count": 18,
   "metadata": {
    "tags": [
     "hide-input"
    ]
   },
   "outputs": [],
   "source": [
    "# Create empty dictionaries\n",
    "modularity_class = {}\n",
    "modularity_color = {}\n",
    "#Loop through each community in the network\n",
    "for community_number, community in enumerate(communities):\n",
    "    #For each member of the community, add their community number and a distinct color\n",
    "    for name in community: \n",
    "        modularity_class[name] = community_number\n",
    "        modularity_color[name] = Spectral8[community_number]"
   ]
  },
  {
   "cell_type": "code",
   "execution_count": 19,
   "metadata": {
    "tags": [
     "hide-input"
    ]
   },
   "outputs": [],
   "source": [
    "# Add modularity class and color as attributes from the network above\n",
    "networkx.set_node_attributes(G, modularity_class, 'modularity_class')\n",
    "networkx.set_node_attributes(G, modularity_color, 'modularity_color')"
   ]
  },
  {
   "cell_type": "code",
   "execution_count": 45,
   "metadata": {},
   "outputs": [
    {
     "data": {
      "text/html": [
       "\n",
       "  <div class=\"bk-root\" id=\"6100677c-7809-43d8-ae3f-eba355fc4766\" data-root-id=\"4723\"></div>\n"
      ]
     },
     "metadata": {},
     "output_type": "display_data"
    },
    {
     "data": {
      "application/javascript": "(function(root) {\n  function embed_document(root) {\n  const docs_json = {\"9a3b26d2-430f-47f0-9bd2-32dfc70f0a04\":{\"defs\":[],\"roots\":{\"references\":[{\"attributes\":{\"below\":[{\"id\":\"4732\"}],\"center\":[{\"id\":\"4735\"},{\"id\":\"4739\"}],\"left\":[{\"id\":\"4736\"}],\"renderers\":[{\"id\":\"4751\"}],\"title\":{\"id\":\"4724\"},\"toolbar\":{\"id\":\"4745\"},\"x_range\":{\"id\":\"4721\"},\"x_scale\":{\"id\":\"4728\"},\"y_range\":{\"id\":\"4722\"},\"y_scale\":{\"id\":\"4730\"}},\"id\":\"4723\",\"subtype\":\"Figure\",\"type\":\"Plot\"},{\"attributes\":{},\"id\":\"5056\",\"type\":\"BasicTickFormatter\"},{\"attributes\":{\"callback\":null,\"tooltips\":[[\"Character\",\"@index\"],[\"Degree\",\"@degree\"],[\"Modularity Class\",\"@modularity_class\"]]},\"id\":\"4744\",\"type\":\"HoverTool\"},{\"attributes\":{},\"id\":\"4728\",\"type\":\"LinearScale\"},{\"attributes\":{},\"id\":\"4793\",\"type\":\"NodesAndLinkedEdges\"},{\"attributes\":{},\"id\":\"5054\",\"type\":\"AllLabels\"},{\"attributes\":{},\"id\":\"5053\",\"type\":\"BasicTickFormatter\"},{\"attributes\":{\"coordinates\":null,\"data_source\":{\"id\":\"4753\"},\"glyph\":{\"id\":\"4761\"},\"group\":null,\"hover_glyph\":{\"id\":\"4766\"},\"selection_glyph\":{\"id\":\"4771\"},\"view\":{\"id\":\"4755\"}},\"id\":\"4754\",\"type\":\"GlyphRenderer\"},{\"attributes\":{\"coordinates\":null,\"group\":null,\"text\":\"Game of Thrones Network\"},\"id\":\"4724\",\"type\":\"Title\"},{\"attributes\":{\"axis\":{\"id\":\"4732\"},\"coordinates\":null,\"group\":null,\"ticker\":null},\"id\":\"4735\",\"type\":\"Grid\"},{\"attributes\":{\"end\":10.1,\"start\":-10.1},\"id\":\"4721\",\"type\":\"Range1d\"},{\"attributes\":{\"end\":10.1,\"start\":-10.1},\"id\":\"4722\",\"type\":\"Range1d\"},{\"attributes\":{},\"id\":\"5060\",\"type\":\"UnionRenderers\"},{\"attributes\":{},\"id\":\"5058\",\"type\":\"UnionRenderers\"},{\"attributes\":{\"fill_color\":{\"value\":\"white\"},\"line_width\":{\"value\":2},\"size\":{\"field\":\"adjusted_node_size\"}},\"id\":\"4771\",\"type\":\"Circle\"},{\"attributes\":{\"source\":{\"id\":\"4753\"}},\"id\":\"4755\",\"type\":\"CDSView\"},{\"attributes\":{},\"id\":\"4730\",\"type\":\"LinearScale\"},{\"attributes\":{\"fill_color\":{\"value\":\"white\"},\"line_width\":{\"value\":2},\"size\":{\"field\":\"adjusted_node_size\"}},\"id\":\"4766\",\"type\":\"Circle\"},{\"attributes\":{},\"id\":\"4791\",\"type\":\"NodesAndLinkedEdges\"},{\"attributes\":{},\"id\":\"5061\",\"type\":\"Selection\"},{\"attributes\":{\"coordinates\":null,\"edge_renderer\":{\"id\":\"4758\"},\"group\":null,\"inspection_policy\":{\"id\":\"4793\"},\"layout_provider\":{\"id\":\"4760\"},\"node_renderer\":{\"id\":\"4754\"},\"selection_policy\":{\"id\":\"4791\"}},\"id\":\"4751\",\"type\":\"GraphRenderer\"},{\"attributes\":{\"active_scroll\":{\"id\":\"4741\"},\"tools\":[{\"id\":\"4740\"},{\"id\":\"4741\"},{\"id\":\"4742\"},{\"id\":\"4743\"},{\"id\":\"4744\"}]},\"id\":\"4745\",\"type\":\"Toolbar\"},{\"attributes\":{\"line_width\":{\"value\":2}},\"id\":\"4781\",\"type\":\"MultiLine\"},{\"attributes\":{\"coordinates\":null,\"formatter\":{\"id\":\"5056\"},\"group\":null,\"major_label_policy\":{\"id\":\"5057\"},\"ticker\":{\"id\":\"4733\"}},\"id\":\"4732\",\"type\":\"LinearAxis\"},{\"attributes\":{},\"id\":\"5059\",\"type\":\"Selection\"},{\"attributes\":{},\"id\":\"4743\",\"type\":\"ResetTool\"},{\"attributes\":{},\"id\":\"4742\",\"type\":\"SaveTool\"},{\"attributes\":{\"graph_layout\":{\"Aegon\":[2.0993818043321024,-9.776406814183469],\"Aemon\":[-1.4220674912509077,2.289299891526026],\"Aerys\":[1.1137137852782426,-2.030701085651378],\"Alliser\":[-0.1212247450373415,5.479393062698164],\"Amory\":[6.54018010156697,1.0410127307226626],\"Anguy\":[-2.617712373245609,-2.438407865720442],\"Arya\":[-0.5359538111359727,-0.28612899375544276],\"Balon\":[0.32811278336548727,0.32349968979806915],\"Barristan\":[1.3852864435747514,-4.8299185641683495],\"Belwas\":[2.760392630145892,-7.687457715807868],\"Beric\":[-1.3817712316504938,-1.8277514071093257],\"Bowen\":[-2.043131760798655,5.612516620450269],\"Bran\":[-0.8528370897153235,2.595336330198379],\"Brienne\":[-0.05589476070849472,-0.4031477580633742],\"Bronn\":[3.3912116343757748,-0.6099855775857097],\"Brynden\":[-2.0978447664621482,-0.1035225920220825],\"Catelyn\":[-0.860206639975463,0.11166484466920786],\"Cersei\":[1.2304448630559393,-0.8111890558800727],\"Chataya\":[4.387448359462656,-1.5432077327301905],\"Craster\":[-1.0965839467080183,6.8474905132100226],\"Cressen\":[-7.749848255969846,4.83305651235478],\"Daario\":[1.2353966375972465,-8.714185939366171],\"Daenerys\":[1.185517732056741,-7.062839452930259],\"Dalla\":[0.40114479208890974,5.645527984225298],\"Davos\":[-5.511366893248991,3.2664746351156912],\"Doran\":[4.967843059033,-0.8392642646525512],\"Drogo\":[1.8249644762804695,-8.747091517880541],\"Eddard\":[-0.4253318885945434,0.4351747629766322],\"Eddison\":[-2.9151088367906315,5.281794153772406],\"Edmure\":[-2.1204637144061866,-0.6902540699533436],\"Elia\":[1.6321639399718069,-2.6880934506285286],\"Ellaria\":[4.766624867279685,0.18380890754920423],\"Gendry\":[-1.338691791434419,-2.633709487573961],\"Gilly\":[-1.1425524725166096,5.9927639787836045],\"Gregor\":[1.7802443689645302,-1.0853542574758757],\"Grenn\":[-2.493533868211903,4.470642365994844],\"Hodor\":[-2.8367489377796353,2.639506806490476],\"Hoster\":[-1.8283374022996808,0.8646309862738114],\"Illyrio\":[4.312711121832291,-9.882568279062154],\"Ilyn\":[2.120697027153262,-1.8969976036856802],\"Irri\":[1.2457676943600795,-9.416787913635325],\"Jaime\":[0.5698259253057681,-1.1966492456448412],\"Janos\":[-0.16049786203174488,3.7574673315584706],\"Jeyne\":[-3.208410772094258,0.5132082316856356],\"Joffrey\":[1.1924370896389733,-0.3329249461703231],\"Jojen\":[-3.120133801578227,3.9985545561773748],\"Jon\":[-1.0638071086325671,3.6176383227689746],\"Jon Arryn\":[0.48847753342930644,1.4033141933333202],\"Jorah\":[1.7407557407080883,-7.13798405558952],\"Karl\":[-1.080177101111545,9.635970434942902],\"Kevan\":[0.43431725712115765,-1.8840937731252285],\"Kraznys\":[2.7183284146846045,-9.284275340630662],\"Lancel\":[-1.651762413990439,-4.237247275457333],\"Loras\":[1.7629764531716272,0.5133605998156161],\"Lothar\":[-3.245415951959907,-0.48335399659323297],\"Luwin\":[0.7755519491894094,5.0715064732006025],\"Lysa\":[0.9094952568182028,1.2649684588922638],\"Mace\":[3.3594264600661643,0.9716620588267738],\"Mance\":[-0.7191162251530183,5.53450136930995],\"Margaery\":[2.4230275900329397,0.4534521648240251],\"Marillion\":[2.204071594596988,2.7191563854214493],\"Meera\":[-2.4839616853422863,3.8219090271652743],\"Melisandre\":[-3.2495234210908577,3.2720986564100585],\"Meryn\":[1.6563613573335065,-1.890126336536843],\"Missandei\":[1.2522942563358856,-10.000000000000002],\"Myrcella\":[2.972037404225077,0.2137318463063318],\"Nan\":[1.2356242149024703,4.861163770566453],\"Oberyn\":[3.617862345483837,0.1878566519183597],\"Olenna\":[3.298966084447571,1.9012811407862358],\"Orell\":[-3.125600738485338,6.1531438251221875],\"Petyr\":[-0.06566477221025664,0.6621348437011307],\"Podrick\":[2.7352731331426314,0.8178666020857654],\"Pycelle\":[2.7771922919266063,-1.418505255944069],\"Qhorin\":[-1.6774285650042033,5.845008551859269],\"Qyburn\":[-0.11182390597545684,-4.109712604970748],\"Rakharo\":[-0.1795494733025267,-9.311380288336471],\"Ramsay\":[-4.487767247481823,0.6083183216331831],\"Rattleshirt\":[-1.9518326715212209,6.441660680815408],\"Renly\":[1.201637676835883,0.0964698725316031],\"Rhaegar\":[1.0736067909893725,-4.805854709331905],\"Rickard\":[-3.964570875444272,-0.1473325176423755],\"Rickon\":[-0.706647659954479,1.5818636636509729],\"Robb\":[-1.288690682109624,0.5877835614665433],\"Robert\":[0.170242516036795,-1.264739307405094],\"Robert Arryn\":[2.612726310575508,2.483783583579007],\"Roose\":[-1.6748874646514325,-1.0101372434859757],\"Roslin\":[-3.173241226084838,-1.135998972908591],\"Salladhor\":[-8.173477362320801,3.503069737943768],\"Samwell\":[-1.6648033305843373,4.3604992899351345],\"Sandor\":[0.3553799151467294,-1.45860129727758],\"Sansa\":[0.9500381054575803,0.7103881136372343],\"Shae\":[3.0532246094798343,-0.913055745246924],\"Shireen\":[-8.094181688931886,4.203246227238825],\"Stannis\":[-1.0616738381843358,1.3213472266977118],\"Styr\":[-0.2173190610268123,6.576700544822118],\"Theon\":[-1.98615122184333,2.4936816988975585],\"Thoros\":[-0.7879966911589196,-2.4437936328440606],\"Tommen\":[2.517000450882298,-0.4547517815961571],\"Tyrion\":[1.684422550890811,-0.35783573123785894],\"Tywin\":[0.8998993856435499,0.10785830310030958],\"Val\":[0.5119831663685832,3.7323930447946694],\"Varys\":[2.1326663274213638,-1.2408855188148793],\"Viserys\":[1.9036091953944072,-4.30592593559658],\"Walder\":[-1.7181175376970248,-0.2781354813118327],\"Walton\":[2.6962519217599112,-3.5553378117179535],\"Worm\":[0.3745612418731095,-9.774204553723315],\"Ygritte\":[-1.4293556041937838,6.524200614430504]}},\"id\":\"4760\",\"type\":\"StaticLayoutProvider\"},{\"attributes\":{\"line_alpha\":{\"value\":0.5}},\"id\":\"4776\",\"type\":\"MultiLine\"},{\"attributes\":{},\"id\":\"4740\",\"type\":\"PanTool\"},{\"attributes\":{\"line_width\":{\"value\":2}},\"id\":\"4786\",\"type\":\"MultiLine\"},{\"attributes\":{},\"id\":\"4741\",\"type\":\"WheelZoomTool\"},{\"attributes\":{\"fill_color\":{\"field\":\"modularity_color\"},\"size\":{\"field\":\"adjusted_node_size\"}},\"id\":\"4761\",\"type\":\"Circle\"},{\"attributes\":{\"coordinates\":null,\"data_source\":{\"id\":\"4757\"},\"glyph\":{\"id\":\"4776\"},\"group\":null,\"hover_glyph\":{\"id\":\"4786\"},\"selection_glyph\":{\"id\":\"4781\"},\"view\":{\"id\":\"4759\"}},\"id\":\"4758\",\"type\":\"GlyphRenderer\"},{\"attributes\":{},\"id\":\"4737\",\"type\":\"BasicTicker\"},{\"attributes\":{\"source\":{\"id\":\"4757\"}},\"id\":\"4759\",\"type\":\"CDSView\"},{\"attributes\":{\"axis\":{\"id\":\"4736\"},\"coordinates\":null,\"dimension\":1,\"group\":null,\"ticker\":null},\"id\":\"4739\",\"type\":\"Grid\"},{\"attributes\":{\"coordinates\":null,\"formatter\":{\"id\":\"5053\"},\"group\":null,\"major_label_policy\":{\"id\":\"5054\"},\"ticker\":{\"id\":\"4737\"}},\"id\":\"4736\",\"type\":\"LinearAxis\"},{\"attributes\":{\"data\":{\"adjusted_node_size\":[10,9,20,9,29,23,41,27,8,17,6,12,24,7,11,19,13,25,9,17,23,31,11,9,18,10,11,14,9,11,6,9,9,7,10,7,9,12,9,10,10,13,23,13,8,7,15,12,30,9,31,19,10,11,12,9,10,12,10,6,9,9,9,19,6,11,6,7,6,11,8,6,10,6,6,17,8,9,6,13,10,11,7,11,12,9,8,9,6,10,9,7,9,9,7,6,7,8,8,7,8,7,6,7,6,6,6],\"degree\":[5,4,15,4,24,18,36,22,3,12,1,7,19,2,6,14,8,20,4,12,18,26,6,4,13,5,6,9,4,6,1,4,4,2,5,2,4,7,4,5,5,8,18,8,3,2,10,7,25,4,26,14,5,6,7,4,5,7,5,1,4,4,4,14,1,6,1,2,1,6,3,1,5,1,1,12,3,4,1,8,5,6,2,6,7,4,3,4,1,5,4,2,4,4,2,1,2,3,3,2,3,2,1,2,1,1,1],\"index\":[\"Aemon\",\"Grenn\",\"Samwell\",\"Aerys\",\"Jaime\",\"Robert\",\"Tyrion\",\"Tywin\",\"Alliser\",\"Mance\",\"Amory\",\"Oberyn\",\"Arya\",\"Anguy\",\"Beric\",\"Bran\",\"Brynden\",\"Cersei\",\"Gendry\",\"Gregor\",\"Joffrey\",\"Jon\",\"Rickon\",\"Roose\",\"Sandor\",\"Thoros\",\"Balon\",\"Loras\",\"Belwas\",\"Barristan\",\"Illyrio\",\"Hodor\",\"Jojen\",\"Luwin\",\"Meera\",\"Nan\",\"Theon\",\"Brienne\",\"Bronn\",\"Podrick\",\"Lothar\",\"Walder\",\"Catelyn\",\"Edmure\",\"Hoster\",\"Jeyne\",\"Lysa\",\"Petyr\",\"Robb\",\"Roslin\",\"Sansa\",\"Stannis\",\"Elia\",\"Ilyn\",\"Meryn\",\"Pycelle\",\"Shae\",\"Varys\",\"Craster\",\"Karl\",\"Daario\",\"Drogo\",\"Irri\",\"Daenerys\",\"Aegon\",\"Jorah\",\"Kraznys\",\"Missandei\",\"Rakharo\",\"Rhaegar\",\"Viserys\",\"Worm\",\"Davos\",\"Cressen\",\"Salladhor\",\"Eddard\",\"Eddison\",\"Gilly\",\"Qyburn\",\"Renly\",\"Tommen\",\"Janos\",\"Bowen\",\"Kevan\",\"Margaery\",\"Myrcella\",\"Dalla\",\"Melisandre\",\"Orell\",\"Qhorin\",\"Rattleshirt\",\"Styr\",\"Val\",\"Ygritte\",\"Jon Arryn\",\"Lancel\",\"Olenna\",\"Marillion\",\"Robert Arryn\",\"Ellaria\",\"Mace\",\"Rickard\",\"Ramsay\",\"Chataya\",\"Shireen\",\"Doran\",\"Walton\"],\"modularity_class\":[1,1,1,0,0,3,0,0,1,1,0,0,2,4,4,2,2,2,4,0,0,1,2,2,0,4,0,0,3,3,3,1,1,2,1,2,2,2,0,0,2,2,2,2,2,2,2,2,2,2,2,1,0,0,0,0,0,0,1,1,3,3,3,3,3,3,3,3,3,3,3,3,1,1,1,2,1,1,0,0,0,1,1,0,0,0,1,1,1,1,1,1,1,1,3,0,0,2,2,0,0,2,2,0,1,0,0],\"modularity_color\":[\"#66c2a5\",\"#66c2a5\",\"#66c2a5\",\"#3288bd\",\"#3288bd\",\"#e6f598\",\"#3288bd\",\"#3288bd\",\"#66c2a5\",\"#66c2a5\",\"#3288bd\",\"#3288bd\",\"#abdda4\",\"#fee08b\",\"#fee08b\",\"#abdda4\",\"#abdda4\",\"#abdda4\",\"#fee08b\",\"#3288bd\",\"#3288bd\",\"#66c2a5\",\"#abdda4\",\"#abdda4\",\"#3288bd\",\"#fee08b\",\"#3288bd\",\"#3288bd\",\"#e6f598\",\"#e6f598\",\"#e6f598\",\"#66c2a5\",\"#66c2a5\",\"#abdda4\",\"#66c2a5\",\"#abdda4\",\"#abdda4\",\"#abdda4\",\"#3288bd\",\"#3288bd\",\"#abdda4\",\"#abdda4\",\"#abdda4\",\"#abdda4\",\"#abdda4\",\"#abdda4\",\"#abdda4\",\"#abdda4\",\"#abdda4\",\"#abdda4\",\"#abdda4\",\"#66c2a5\",\"#3288bd\",\"#3288bd\",\"#3288bd\",\"#3288bd\",\"#3288bd\",\"#3288bd\",\"#66c2a5\",\"#66c2a5\",\"#e6f598\",\"#e6f598\",\"#e6f598\",\"#e6f598\",\"#e6f598\",\"#e6f598\",\"#e6f598\",\"#e6f598\",\"#e6f598\",\"#e6f598\",\"#e6f598\",\"#e6f598\",\"#66c2a5\",\"#66c2a5\",\"#66c2a5\",\"#abdda4\",\"#66c2a5\",\"#66c2a5\",\"#3288bd\",\"#3288bd\",\"#3288bd\",\"#66c2a5\",\"#66c2a5\",\"#3288bd\",\"#3288bd\",\"#3288bd\",\"#66c2a5\",\"#66c2a5\",\"#66c2a5\",\"#66c2a5\",\"#66c2a5\",\"#66c2a5\",\"#66c2a5\",\"#66c2a5\",\"#e6f598\",\"#3288bd\",\"#3288bd\",\"#abdda4\",\"#abdda4\",\"#3288bd\",\"#3288bd\",\"#abdda4\",\"#abdda4\",\"#3288bd\",\"#66c2a5\",\"#3288bd\",\"#3288bd\"]},\"selected\":{\"id\":\"5059\"},\"selection_policy\":{\"id\":\"5058\"}},\"id\":\"4753\",\"type\":\"ColumnDataSource\"},{\"attributes\":{},\"id\":\"5057\",\"type\":\"AllLabels\"},{\"attributes\":{\"data\":{\"Weight\":[5,31,30,4,4,8,25,43,11,11,52,7,5,6,34,12,36,6,10,5,13,18,6,5,8,11,19,36,6,6,4,88,5,4,6,15,16,11,11,7,17,5,8,31,15,10,13,10,4,16,5,10,5,6,6,5,4,5,4,6,5,9,11,5,5,46,54,5,4,12,77,4,31,5,5,5,4,22,5,5,11,6,9,7,5,25,12,28,11,6,4,21,6,18,39,4,4,12,5,4,16,7,13,14,5,6,4,5,5,15,4,4,6,4,5,9,15,4,69,11,8,7,10,9,7,8,12,5,24,4,6,6,11,23,9,6,5,43,7,6,7,8,5,46,18,18,15,22,4,4,21,8,15,96,46,12,4,54,14,35,11,4,15,23,10,4,5,8,7,4,17,4,5,4,4,6,7,23,10,4,6,4,4,6,4,16,7,5,5,9,7,7,12,5,4,8,7,28,5,5,14,10,9,10,35,8,7,6,4,9,8,4,7,6,31,20,9,16,8,12,54,14,4,8,8,15,7,4,4,4,5,4,4,10,6,4,6,4,7,9,5,8,14,18,10,26,13,20,11,5,35,41,5,33,4,11,7,6,5,19,4,8,4,4,10,12,19,9,26,6,6,16,9,10,8,5,43,6,8,4,5,16,9,32,6,18,5,10,29,9,28,5,28,13,4,7,15,4,6,5,36,9,4,7,4,6,8,32,20,15,7,5,4,4,8,5,4,6,17,4,5,14,7,18,7,6,17,4,8,47,10,26,7,12,8,14,5,7,4,16,30,5,7,5,5,5,7,7,6,7,9,4],\"end\":[\"Grenn\",\"Samwell\",\"Jon\",\"Robert\",\"Stannis\",\"Eddison\",\"Jon\",\"Samwell\",\"Bran\",\"Jojen\",\"Jon\",\"Meera\",\"Melisandre\",\"Bowen\",\"Craster\",\"Eddison\",\"Gilly\",\"Janos\",\"Mance\",\"Qhorin\",\"Stannis\",\"Jaime\",\"Robert\",\"Tyrion\",\"Tywin\",\"Arya\",\"Catelyn\",\"Cersei\",\"Eddard\",\"Balon\",\"Barristan\",\"Brienne\",\"Edmure\",\"Elia\",\"Gregor\",\"Joffrey\",\"Loras\",\"Meryn\",\"Qyburn\",\"Renly\",\"Robert\",\"Stannis\",\"Tommen\",\"Tyrion\",\"Robb\",\"Sansa\",\"Tywin\",\"Walton\",\"Arya\",\"Cersei\",\"Daenerys\",\"Eddard\",\"Jon\",\"Jon Arryn\",\"Rhaegar\",\"Barristan\",\"Renly\",\"Stannis\",\"Thoros\",\"Sandor\",\"Sansa\",\"Tyrion\",\"Tywin\",\"Arya\",\"Catelyn\",\"Cersei\",\"Joffrey\",\"Lysa\",\"Myrcella\",\"Robb\",\"Sansa\",\"Balon\",\"Bronn\",\"Chataya\",\"Doran\",\"Elia\",\"Ellaria\",\"Gregor\",\"Ilyn\",\"Janos\",\"Kevan\",\"Loras\",\"Mace\",\"Margaery\",\"Meryn\",\"Oberyn\",\"Petyr\",\"Podrick\",\"Pycelle\",\"Renly\",\"Sandor\",\"Shae\",\"Stannis\",\"Varys\",\"Tywin\",\"Viserys\",\"Lysa\",\"Robb\",\"Balon\",\"Brynden\",\"Cersei\",\"Gregor\",\"Joffrey\",\"Kevan\",\"Mace\",\"Oberyn\",\"Petyr\",\"Podrick\",\"Pycelle\",\"Stannis\",\"Tommen\",\"Val\",\"Varys\",\"Walder\",\"Mance\",\"Janos\",\"Jon\",\"Janos\",\"Jon\",\"Craster\",\"Dalla\",\"Gilly\",\"Qhorin\",\"Rattleshirt\",\"Styr\",\"Val\",\"Ygritte\",\"Oberyn\",\"Gregor\",\"Joffrey\",\"Ellaria\",\"Mace\",\"Anguy\",\"Beric\",\"Bran\",\"Brynden\",\"Cersei\",\"Gendry\",\"Gregor\",\"Joffrey\",\"Jon\",\"Rickon\",\"Roose\",\"Sandor\",\"Thoros\",\"Eddard\",\"Robb\",\"Sansa\",\"Beric\",\"Gendry\",\"Thoros\",\"Eddard\",\"Sandor\",\"Hodor\",\"Jojen\",\"Jon\",\"Luwin\",\"Meera\",\"Nan\",\"Rickon\",\"Theon\",\"Catelyn\",\"Eddard\",\"Robb\",\"Sansa\",\"Lothar\",\"Walder\",\"Catelyn\",\"Edmure\",\"Rickard\",\"Robb\",\"Catelyn\",\"Brienne\",\"Bronn\",\"Elia\",\"Gregor\",\"Ilyn\",\"Joffrey\",\"Meryn\",\"Pycelle\",\"Sandor\",\"Shae\",\"Varys\",\"Eddard\",\"Lysa\",\"Sansa\",\"Thoros\",\"Sandor\",\"Bronn\",\"Elia\",\"Ilyn\",\"Meryn\",\"Sandor\",\"Joffrey\",\"Ilyn\",\"Kevan\",\"Loras\",\"Margaery\",\"Meryn\",\"Myrcella\",\"Sandor\",\"Stannis\",\"Tommen\",\"Robb\",\"Sansa\",\"Eddard\",\"Craster\",\"Dalla\",\"Eddison\",\"Gilly\",\"Janos\",\"Meera\",\"Melisandre\",\"Orell\",\"Qhorin\",\"Rattleshirt\",\"Stannis\",\"Styr\",\"Theon\",\"Val\",\"Ygritte\",\"Robb\",\"Sansa\",\"Eddard\",\"Theon\",\"Robb\",\"Sansa\",\"Catelyn\",\"Robb\",\"Brienne\",\"Eddard\",\"Ilyn\",\"Meryn\",\"Thoros\",\"Sansa\",\"Loras\",\"Robb\",\"Stannis\",\"Brienne\",\"Margaery\",\"Olenna\",\"Renly\",\"Sansa\",\"Barristan\",\"Illyrio\",\"Daenerys\",\"Jorah\",\"Daenerys\",\"Jorah\",\"Rhaegar\",\"Jojen\",\"Meera\",\"Robb\",\"Meera\",\"Nan\",\"Robb\",\"Catelyn\",\"Robb\",\"Sansa\",\"Podrick\",\"Margaery\",\"Sansa\",\"Edmure\",\"Roslin\",\"Robb\",\"Walder\",\"Catelyn\",\"Edmure\",\"Robb\",\"Petyr\",\"Roslin\",\"Edmure\",\"Hoster\",\"Jeyne\",\"Lysa\",\"Petyr\",\"Robb\",\"Roslin\",\"Sansa\",\"Stannis\",\"Eddard\",\"Roslin\",\"Hoster\",\"Robb\",\"Lysa\",\"Robb\",\"Jon Arryn\",\"Marillion\",\"Petyr\",\"Robert Arryn\",\"Sansa\",\"Robb\",\"Sansa\",\"Eddard\",\"Ramsay\",\"Rickard\",\"Sansa\",\"Stannis\",\"Eddard\",\"Kevan\",\"Margaery\",\"Marillion\",\"Myrcella\",\"Olenna\",\"Renly\",\"Robert Arryn\",\"Shae\",\"Davos\",\"Melisandre\",\"Renly\",\"Rhaegar\",\"Meryn\",\"Varys\",\"Chataya\",\"Varys\",\"Kevan\",\"Renly\",\"Karl\",\"Gilly\",\"Drogo\",\"Irri\",\"Daenerys\",\"Jorah\",\"Daenerys\",\"Irri\",\"Jorah\",\"Daenerys\",\"Missandei\",\"Aegon\",\"Jorah\",\"Kraznys\",\"Missandei\",\"Rakharo\",\"Rhaegar\",\"Viserys\",\"Worm\",\"Rhaegar\",\"Viserys\",\"Cressen\",\"Salladhor\",\"Melisandre\",\"Shireen\",\"Margaery\",\"Myrcella\",\"Margaery\",\"Bowen\",\"Lancel\",\"Val\",\"Rattleshirt\",\"Ygritte\",\"Ygritte\",\"Robert Arryn\"],\"start\":[\"Aemon\",\"Aemon\",\"Aemon\",\"Aemon\",\"Aemon\",\"Grenn\",\"Grenn\",\"Grenn\",\"Samwell\",\"Samwell\",\"Samwell\",\"Samwell\",\"Samwell\",\"Samwell\",\"Samwell\",\"Samwell\",\"Samwell\",\"Samwell\",\"Samwell\",\"Samwell\",\"Samwell\",\"Aerys\",\"Aerys\",\"Aerys\",\"Aerys\",\"Jaime\",\"Jaime\",\"Jaime\",\"Jaime\",\"Jaime\",\"Jaime\",\"Jaime\",\"Jaime\",\"Jaime\",\"Jaime\",\"Jaime\",\"Jaime\",\"Jaime\",\"Jaime\",\"Jaime\",\"Jaime\",\"Jaime\",\"Jaime\",\"Jaime\",\"Jaime\",\"Jaime\",\"Jaime\",\"Jaime\",\"Robert\",\"Robert\",\"Robert\",\"Robert\",\"Robert\",\"Robert\",\"Robert\",\"Robert\",\"Robert\",\"Robert\",\"Robert\",\"Robert\",\"Robert\",\"Robert\",\"Robert\",\"Tyrion\",\"Tyrion\",\"Tyrion\",\"Tyrion\",\"Tyrion\",\"Tyrion\",\"Tyrion\",\"Tyrion\",\"Tyrion\",\"Tyrion\",\"Tyrion\",\"Tyrion\",\"Tyrion\",\"Tyrion\",\"Tyrion\",\"Tyrion\",\"Tyrion\",\"Tyrion\",\"Tyrion\",\"Tyrion\",\"Tyrion\",\"Tyrion\",\"Tyrion\",\"Tyrion\",\"Tyrion\",\"Tyrion\",\"Tyrion\",\"Tyrion\",\"Tyrion\",\"Tyrion\",\"Tyrion\",\"Tyrion\",\"Tyrion\",\"Tywin\",\"Tywin\",\"Tywin\",\"Tywin\",\"Tywin\",\"Tywin\",\"Tywin\",\"Tywin\",\"Tywin\",\"Tywin\",\"Tywin\",\"Tywin\",\"Tywin\",\"Tywin\",\"Tywin\",\"Tywin\",\"Tywin\",\"Tywin\",\"Alliser\",\"Alliser\",\"Alliser\",\"Mance\",\"Mance\",\"Mance\",\"Mance\",\"Mance\",\"Mance\",\"Mance\",\"Mance\",\"Mance\",\"Mance\",\"Amory\",\"Oberyn\",\"Oberyn\",\"Oberyn\",\"Oberyn\",\"Arya\",\"Arya\",\"Arya\",\"Arya\",\"Arya\",\"Arya\",\"Arya\",\"Arya\",\"Arya\",\"Arya\",\"Arya\",\"Arya\",\"Arya\",\"Arya\",\"Arya\",\"Arya\",\"Anguy\",\"Beric\",\"Beric\",\"Beric\",\"Beric\",\"Bran\",\"Bran\",\"Bran\",\"Bran\",\"Bran\",\"Bran\",\"Bran\",\"Bran\",\"Bran\",\"Bran\",\"Bran\",\"Bran\",\"Brynden\",\"Brynden\",\"Brynden\",\"Brynden\",\"Brynden\",\"Brynden\",\"Cersei\",\"Cersei\",\"Cersei\",\"Cersei\",\"Cersei\",\"Cersei\",\"Cersei\",\"Cersei\",\"Cersei\",\"Cersei\",\"Cersei\",\"Cersei\",\"Cersei\",\"Cersei\",\"Cersei\",\"Gendry\",\"Gendry\",\"Gregor\",\"Gregor\",\"Gregor\",\"Gregor\",\"Gregor\",\"Gregor\",\"Joffrey\",\"Joffrey\",\"Joffrey\",\"Joffrey\",\"Joffrey\",\"Joffrey\",\"Joffrey\",\"Joffrey\",\"Joffrey\",\"Joffrey\",\"Joffrey\",\"Jon\",\"Jon\",\"Jon\",\"Jon\",\"Jon\",\"Jon\",\"Jon\",\"Jon\",\"Jon\",\"Jon\",\"Jon\",\"Jon\",\"Jon\",\"Jon\",\"Jon\",\"Jon\",\"Jon\",\"Jon\",\"Rickon\",\"Rickon\",\"Rickon\",\"Rickon\",\"Roose\",\"Roose\",\"Roose\",\"Sandor\",\"Sandor\",\"Sandor\",\"Sandor\",\"Sandor\",\"Balon\",\"Balon\",\"Balon\",\"Loras\",\"Loras\",\"Loras\",\"Loras\",\"Loras\",\"Belwas\",\"Belwas\",\"Belwas\",\"Belwas\",\"Barristan\",\"Barristan\",\"Barristan\",\"Hodor\",\"Hodor\",\"Hodor\",\"Jojen\",\"Luwin\",\"Theon\",\"Brienne\",\"Brienne\",\"Brienne\",\"Bronn\",\"Podrick\",\"Podrick\",\"Lothar\",\"Lothar\",\"Lothar\",\"Lothar\",\"Walder\",\"Walder\",\"Walder\",\"Walder\",\"Walder\",\"Catelyn\",\"Catelyn\",\"Catelyn\",\"Catelyn\",\"Catelyn\",\"Catelyn\",\"Catelyn\",\"Catelyn\",\"Catelyn\",\"Catelyn\",\"Edmure\",\"Edmure\",\"Edmure\",\"Hoster\",\"Jeyne\",\"Lysa\",\"Lysa\",\"Lysa\",\"Lysa\",\"Lysa\",\"Petyr\",\"Petyr\",\"Robb\",\"Robb\",\"Robb\",\"Robb\",\"Robb\",\"Sansa\",\"Sansa\",\"Sansa\",\"Sansa\",\"Sansa\",\"Sansa\",\"Sansa\",\"Sansa\",\"Sansa\",\"Stannis\",\"Stannis\",\"Stannis\",\"Elia\",\"Ilyn\",\"Pycelle\",\"Shae\",\"Shae\",\"Varys\",\"Varys\",\"Craster\",\"Craster\",\"Daario\",\"Daario\",\"Daario\",\"Daario\",\"Drogo\",\"Drogo\",\"Drogo\",\"Irri\",\"Irri\",\"Daenerys\",\"Daenerys\",\"Daenerys\",\"Daenerys\",\"Daenerys\",\"Daenerys\",\"Daenerys\",\"Daenerys\",\"Jorah\",\"Rhaegar\",\"Davos\",\"Davos\",\"Davos\",\"Davos\",\"Renly\",\"Tommen\",\"Tommen\",\"Janos\",\"Kevan\",\"Dalla\",\"Qhorin\",\"Qhorin\",\"Rattleshirt\",\"Marillion\"]},\"selected\":{\"id\":\"5061\"},\"selection_policy\":{\"id\":\"5060\"}},\"id\":\"4757\",\"type\":\"ColumnDataSource\"},{\"attributes\":{},\"id\":\"4733\",\"type\":\"BasicTicker\"}],\"root_ids\":[\"4723\"]},\"title\":\"Bokeh Application\",\"version\":\"2.4.3\"}};\n  const render_items = [{\"docid\":\"9a3b26d2-430f-47f0-9bd2-32dfc70f0a04\",\"root_ids\":[\"4723\"],\"roots\":{\"4723\":\"6100677c-7809-43d8-ae3f-eba355fc4766\"}}];\n  root.Bokeh.embed.embed_items_notebook(docs_json, render_items);\n  }\n  if (root.Bokeh !== undefined) {\n    embed_document(root);\n  } else {\n    let attempts = 0;\n    const timer = setInterval(function(root) {\n      if (root.Bokeh !== undefined) {\n        clearInterval(timer);\n        embed_document(root);\n      } else {\n        attempts++;\n        if (attempts > 100) {\n          clearInterval(timer);\n          console.log(\"Bokeh: ERROR: Unable to run BokehJS code because BokehJS library is missing\");\n        }\n      }\n    }, 10, root)\n  }\n})(window);",
      "application/vnd.bokehjs_exec.v0+json": ""
     },
     "metadata": {
      "application/vnd.bokehjs_exec.v0+json": {
       "id": "4723"
      }
     },
     "output_type": "display_data"
    }
   ],
   "source": [
    "from bokeh.models import EdgesAndLinkedNodes, NodesAndLinkedEdges\n",
    "\n",
    "#Choose colors for node and edge highlighting\n",
    "node_highlight_color = 'white'\n",
    "edge_highlight_color = 'black'\n",
    "\n",
    "#Choose attributes from G network to size and color by — setting manual size (e.g. 10) or color (e.g. 'skyblue') also allowed\n",
    "size_by_this_attribute = 'adjusted_node_size'\n",
    "color_by_this_attribute = 'modularity_color'\n",
    "\n",
    "#Pick a color palette — Blues8, Reds8, Purples8, Oranges8, Viridis8\n",
    "color_palette = Blues8\n",
    "\n",
    "#Choose a title!\n",
    "title = 'Game of Thrones Network'\n",
    "\n",
    "#Establish which categories will appear when hovering over each node\n",
    "HOVER_TOOLTIPS = [\n",
    "       (\"Character\", \"@index\"),\n",
    "        (\"Degree\", \"@degree\"),\n",
    "         (\"Modularity Class\", \"@modularity_class\"),\n",
    "        #(\"Modularity Color\", \"$color[swatch]:modularity_color\"),\n",
    "]\n",
    "\n",
    "#Create a plot — set dimensions, toolbar, and title\n",
    "plot = figure(tooltips = HOVER_TOOLTIPS,\n",
    "              tools=\"pan,wheel_zoom,save,reset\", active_scroll='wheel_zoom',\n",
    "            x_range=Range1d(-10.1, 10.1), y_range=Range1d(-10.1, 10.1), title=title)\n",
    "\n",
    "#Create a network graph object\n",
    "# https://networkx.github.io/documentation/networkx-1.9/reference/generated/networkx.drawing.layout.spring_layout.html\n",
    "network_graph = from_networkx(G, networkx.spring_layout, scale=10, center=(0, 0))\n",
    "\n",
    "#Set node sizes and colors according to node degree (color as category from attribute)\n",
    "network_graph.node_renderer.glyph = Circle(size=size_by_this_attribute, fill_color=color_by_this_attribute)\n",
    "#Set node highlight colors\n",
    "network_graph.node_renderer.hover_glyph = Circle(size=size_by_this_attribute, fill_color=node_highlight_color, line_width=2)\n",
    "network_graph.node_renderer.selection_glyph = Circle(size=size_by_this_attribute, fill_color=node_highlight_color, line_width=2)\n",
    "\n",
    "#Set edge opacity and width\n",
    "network_graph.edge_renderer.glyph = MultiLine(line_alpha=0.5, line_width=1)\n",
    "#Set edge highlight colors\n",
    "network_graph.edge_renderer.selection_glyph = MultiLine(line_color=edge_highlight_color, line_width=2)\n",
    "network_graph.edge_renderer.hover_glyph = MultiLine(line_color=edge_highlight_color, line_width=2)\n",
    "\n",
    "#Highlight nodes and edges\n",
    "network_graph.selection_policy = NodesAndLinkedEdges()\n",
    "network_graph.inspection_policy = NodesAndLinkedEdges()\n",
    "\n",
    "plot.renderers.append(network_graph)\n",
    "\n",
    "show(plot)\n",
    "#save(plot, filename=f\"{title}.html\")"
   ]
  },
  {
   "attachments": {},
   "cell_type": "markdown",
   "metadata": {},
   "source": [
    "## Network with Labels"
   ]
  },
  {
   "attachments": {},
   "cell_type": "markdown",
   "metadata": {},
   "source": [
    "The code below shows how to create node labels, which you can read more about in [Bokeh's label documentation](https://docs.bokeh.org/en/latest/docs/user_guide/annotations.html#labels)."
   ]
  },
  {
   "attachments": {},
   "cell_type": "markdown",
   "metadata": {},
   "source": [
    "**Include  LabelSet**"
   ]
  },
  {
   "cell_type": "code",
   "execution_count": 46,
   "metadata": {},
   "outputs": [],
   "source": [
    "from bokeh.io import output_notebook, show, save\n",
    "from bokeh.models import Range1d, Circle, ColumnDataSource, MultiLine, EdgesAndLinkedNodes, NodesAndLinkedEdges, LabelSet\n",
    "from bokeh.plotting import figure\n",
    "from bokeh.plotting import from_networkx\n",
    "from bokeh.palettes import Blues8, Reds8, Purples8, Oranges8, Viridis8, Spectral8\n",
    "from bokeh.transform import linear_cmap\n",
    "from networkx.algorithms import community"
   ]
  },
  {
   "attachments": {},
   "cell_type": "markdown",
   "metadata": {},
   "source": [
    "**Calculate degree for each node and add as node attribute**"
   ]
  },
  {
   "cell_type": "code",
   "execution_count": 47,
   "metadata": {
    "tags": [
     "hide-input"
    ]
   },
   "outputs": [],
   "source": [
    "degrees = dict(networkx.degree(G))\n",
    "networkx.set_node_attributes(G, name='degree', values=degrees)"
   ]
  },
  {
   "attachments": {},
   "cell_type": "markdown",
   "metadata": {},
   "source": [
    "**Slightly adjust degree so that the nodes with very small degrees are still visible**"
   ]
  },
  {
   "cell_type": "code",
   "execution_count": 48,
   "metadata": {
    "tags": [
     "hide-input"
    ]
   },
   "outputs": [],
   "source": [
    "number_to_adjust_by = 5\n",
    "adjusted_node_size = dict([(node, degree+number_to_adjust_by) for node, degree in networkx.degree(G)])\n",
    "networkx.set_node_attributes(G, name='adjusted_node_size', values=adjusted_node_size)"
   ]
  },
  {
   "attachments": {},
   "cell_type": "markdown",
   "metadata": {},
   "source": [
    "**Calculate communities**"
   ]
  },
  {
   "cell_type": "code",
   "execution_count": 17,
   "metadata": {
    "tags": [
     "hide-input"
    ]
   },
   "outputs": [],
   "source": [
    "communities = community.greedy_modularity_communities(G)"
   ]
  },
  {
   "attachments": {},
   "cell_type": "markdown",
   "metadata": {},
   "source": [
    "**Add modularity class and color as attributes to network graph**"
   ]
  },
  {
   "cell_type": "code",
   "execution_count": 18,
   "metadata": {
    "tags": [
     "hide-input"
    ]
   },
   "outputs": [],
   "source": [
    "# Create empty dictionaries\n",
    "modularity_class = {}\n",
    "modularity_color = {}\n",
    "#Loop through each community in the network\n",
    "for community_number, community in enumerate(communities):\n",
    "    #For each member of the community, add their community number and a distinct color\n",
    "    for name in community: \n",
    "        modularity_class[name] = community_number\n",
    "        modularity_color[name] = Spectral8[community_number]"
   ]
  },
  {
   "cell_type": "code",
   "execution_count": 49,
   "metadata": {},
   "outputs": [
    {
     "data": {
      "text/html": [
       "\n",
       "  <div class=\"bk-root\" id=\"d0bb4065-99ae-4f37-abb1-883b3c6fa480\" data-root-id=\"5171\"></div>\n"
      ]
     },
     "metadata": {},
     "output_type": "display_data"
    },
    {
     "data": {
      "application/javascript": "(function(root) {\n  function embed_document(root) {\n  const docs_json = {\"c80c63e5-d20e-4ff9-a3f9-e6e16b7f3c64\":{\"defs\":[],\"roots\":{\"references\":[{\"attributes\":{\"below\":[{\"id\":\"5180\"}],\"center\":[{\"id\":\"5183\"},{\"id\":\"5187\"}],\"left\":[{\"id\":\"5184\"}],\"renderers\":[{\"id\":\"5199\"},{\"id\":\"5244\"}],\"title\":{\"id\":\"5172\"},\"toolbar\":{\"id\":\"5193\"},\"x_range\":{\"id\":\"5169\"},\"x_scale\":{\"id\":\"5176\"},\"y_range\":{\"id\":\"5170\"},\"y_scale\":{\"id\":\"5178\"}},\"id\":\"5171\",\"subtype\":\"Figure\",\"type\":\"Plot\"},{\"attributes\":{},\"id\":\"5176\",\"type\":\"LinearScale\"},{\"attributes\":{},\"id\":\"5178\",\"type\":\"LinearScale\"},{\"attributes\":{},\"id\":\"5532\",\"type\":\"UnionRenderers\"},{\"attributes\":{},\"id\":\"5529\",\"type\":\"Selection\"},{\"attributes\":{},\"id\":\"5530\",\"type\":\"UnionRenderers\"},{\"attributes\":{\"line_alpha\":{\"value\":0.3}},\"id\":\"5224\",\"type\":\"MultiLine\"},{\"attributes\":{},\"id\":\"5241\",\"type\":\"NodesAndLinkedEdges\"},{\"attributes\":{\"axis\":{\"id\":\"5180\"},\"coordinates\":null,\"group\":null,\"ticker\":null},\"id\":\"5183\",\"type\":\"Grid\"},{\"attributes\":{\"axis\":{\"id\":\"5184\"},\"coordinates\":null,\"dimension\":1,\"group\":null,\"ticker\":null},\"id\":\"5187\",\"type\":\"Grid\"},{\"attributes\":{},\"id\":\"5189\",\"type\":\"WheelZoomTool\"},{\"attributes\":{},\"id\":\"5524\",\"type\":\"AllLabels\"},{\"attributes\":{},\"id\":\"5528\",\"type\":\"UnionRenderers\"},{\"attributes\":{\"coordinates\":null,\"formatter\":{\"id\":\"5526\"},\"group\":null,\"major_label_policy\":{\"id\":\"5527\"},\"ticker\":{\"id\":\"5181\"}},\"id\":\"5180\",\"type\":\"LinearAxis\"},{\"attributes\":{},\"id\":\"5526\",\"type\":\"BasicTickFormatter\"},{\"attributes\":{\"coordinates\":null,\"formatter\":{\"id\":\"5523\"},\"group\":null,\"major_label_policy\":{\"id\":\"5524\"},\"ticker\":{\"id\":\"5185\"}},\"id\":\"5184\",\"type\":\"LinearAxis\"},{\"attributes\":{\"data\":{\"name\":[\"Aemon\",\"Grenn\",\"Samwell\",\"Aerys\",\"Jaime\",\"Robert\",\"Tyrion\",\"Tywin\",\"Alliser\",\"Mance\",\"Amory\",\"Oberyn\",\"Arya\",\"Anguy\",\"Beric\",\"Bran\",\"Brynden\",\"Cersei\",\"Gendry\",\"Gregor\",\"Joffrey\",\"Jon\",\"Rickon\",\"Roose\",\"Sandor\",\"Thoros\",\"Balon\",\"Loras\",\"Belwas\",\"Barristan\",\"Illyrio\",\"Hodor\",\"Jojen\",\"Luwin\",\"Meera\",\"Nan\",\"Theon\",\"Brienne\",\"Bronn\",\"Podrick\",\"Lothar\",\"Walder\",\"Catelyn\",\"Edmure\",\"Hoster\",\"Jeyne\",\"Lysa\",\"Petyr\",\"Robb\",\"Roslin\",\"Sansa\",\"Stannis\",\"Elia\",\"Ilyn\",\"Meryn\",\"Pycelle\",\"Shae\",\"Varys\",\"Craster\",\"Karl\",\"Daario\",\"Drogo\",\"Irri\",\"Daenerys\",\"Aegon\",\"Jorah\",\"Kraznys\",\"Missandei\",\"Rakharo\",\"Rhaegar\",\"Viserys\",\"Worm\",\"Davos\",\"Cressen\",\"Salladhor\",\"Eddard\",\"Eddison\",\"Gilly\",\"Qyburn\",\"Renly\",\"Tommen\",\"Janos\",\"Bowen\",\"Kevan\",\"Margaery\",\"Myrcella\",\"Dalla\",\"Melisandre\",\"Orell\",\"Qhorin\",\"Rattleshirt\",\"Styr\",\"Val\",\"Ygritte\",\"Jon Arryn\",\"Lancel\",\"Olenna\",\"Marillion\",\"Robert Arryn\",\"Ellaria\",\"Mace\",\"Rickard\",\"Ramsay\",\"Chataya\",\"Shireen\",\"Doran\",\"Walton\"],\"x\":[-0.2856768643888709,-0.09814344859319739,1.2446187073050818,-1.1715898861425391,-0.04898376291825053,-0.8415364849642654,0.15200866804227636,1.0086259504670951,0.6453449762146649,1.704577920363582,-3.075832306078329,-1.2988855331184823,1.8543193137213558,4.9872090722002484,3.280197370459959,3.368514474251586,3.904832720336272,0.8453003661772313,3.281236607103726,-0.29049451645350244,0.4989660006439764,1.3878956087047376,2.844682255451381,3.8685234264947725,1.1721377986323822,1.9957836735607966,0.6126753485667842,0.5283220368579881,-6.895346556837275,-4.086132292422857,-8.943999016216543,4.438053027185678,3.9645514388192478,6.493528775660411,3.2893438730115685,6.169700528807845,3.341430370338427,2.1348596397213355,-0.3421799031495714,0.5815621406933245,5.368826286819723,4.200855606579726,2.8253364697985077,3.8379033353716996,4.783112257582935,5.258007238968715,2.655808009341874,2.709949981257449,2.8250605928482693,5.756932692388958,1.6253756209106873,-0.01437739688892283,-1.7985435813780848,0.6933535976824761,-0.05719364888505043,1.724786615013425,1.539093770038721,0.895219055160834,2.816520211971259,3.9695284189887396,-8.23379723031802,-8.364206806286067,-9.183713884521163,-6.821575993122566,-9.612747365570018,-6.486257592688694,-9.360570528690442,-9.626052183899182,-10.0,-4.216096026107357,-3.9508247571069877,-9.932376662328283,-4.605006817849985,-7.445680815455729,-7.3621807669033545,1.6025022231695782,0.31665137326970194,2.4108845519282784,-3.165490307124237,-0.43085149235971465,-1.073269983620742,0.41650899530517727,-0.6831529180529161,1.2854247875775515,-0.4242061170838186,-0.01927002211734157,2.7207019437126134,-1.3925689245518724,0.3649378810785084,1.3757856479045907,1.233438594871504,2.371260704452695,1.8298720229400356,1.7764950711528318,1.3358758036770526,2.1328701635476524,1.6514470820950775,3.538277034674501,3.9900102281290653,-2.1274908222838405,-0.8806382695490673,5.557335487379708,6.433467093616652,0.5727431295172147,-7.1482000022649625,-1.156827045850225,-3.0489931363753997],\"y\":[2.6411530869921718,4.503014209189215,3.7745066349585636,-1.0882071963940196,-1.1245676592394147,-0.047067199288775646,-2.2737261269781337,-1.7431331679904811,4.6815190269524996,4.801817919859688,-6.762729298900881,-3.959391096836923,-0.4618862451898749,-0.9201565779521782,-0.6568251858960962,1.6408017350000614,-0.36336275136525403,-2.099985810088912,-1.7979276347735254,-2.2815979339070425,-2.069234859362665,3.097166821208442,0.6575490124009025,-1.7019399016942516,-1.311179695917255,-0.634847248169158,-0.6696719406665423,-2.6913695461337963,3.145952151611953,1.1261865148284775,5.2354018171778325,2.462422719330008,3.8668403168969787,2.858385378641106,3.642988701574661,3.454940508536372,2.1569879550177973,-1.6496570059916489,-4.240329922477963,-3.953775981162972,-0.42835886017914276,-1.3249000094135834,-1.1941853371143292,-1.1862357198292244,-2.9180500447234445,-1.711164693745645,-3.0255501929425015,-2.181247970682482,-0.2302202194368222,-1.2991064779244605,-1.8204543314035575,0.42632492258374294,-1.3326509827599295,-3.159589701393575,-2.866186219159383,-3.5964570721620324,-4.161984454333608,-3.576979855313309,6.105705267809254,8.927407251637545,2.7512061866532056,2.142777131343822,2.3621093750508715,1.2963783708306609,0.29352910965920614,1.9974567952610498,3.196134263801279,1.6098345732619994,2.208126858111576,0.492561191595677,-0.6910720863154667,0.9467663980317823,0.27096160353016,-0.7011320430843743,0.0313345421943858,0.18043715094224888,5.412923676881053,5.340390437986926,-1.9622856197607452,-1.6514634700285138,-2.7450239391593967,2.5955516197568738,4.955616395424262,-4.399307540835683,-3.2184972462849393,-3.8054275445788357,4.482560054318302,2.3136124574654966,6.475567912580745,5.575576655992004,6.227869436376428,6.218587282934719,2.353815502197207,6.251650130472473,-2.4432613081408707,-7.682979868262287,-4.96809918283773,-4.535496105814802,-4.168939840390738,-4.797966362146252,-4.212908619136054,0.6432578106674008,0.2680124895706209,-5.663089748822283,-1.3595170926914955,-5.72120585466136,-2.858111763253033]},\"selected\":{\"id\":\"5529\"},\"selection_policy\":{\"id\":\"5528\"}},\"id\":\"5243\",\"type\":\"ColumnDataSource\"},{\"attributes\":{\"data\":{\"adjusted_node_size\":[10,9,20,9,29,23,41,27,8,17,6,12,24,7,11,19,13,25,9,17,23,31,11,9,18,10,11,14,9,11,6,9,9,7,10,7,9,12,9,10,10,13,23,13,8,7,15,12,30,9,31,19,10,11,12,9,10,12,10,6,9,9,9,19,6,11,6,7,6,11,8,6,10,6,6,17,8,9,6,13,10,11,7,11,12,9,8,9,6,10,9,7,9,9,7,6,7,8,8,7,8,7,6,7,6,6,6],\"degree\":[5,4,15,4,24,18,36,22,3,12,1,7,19,2,6,14,8,20,4,12,18,26,6,4,13,5,6,9,4,6,1,4,4,2,5,2,4,7,4,5,5,8,18,8,3,2,10,7,25,4,26,14,5,6,7,4,5,7,5,1,4,4,4,14,1,6,1,2,1,6,3,1,5,1,1,12,3,4,1,8,5,6,2,6,7,4,3,4,1,5,4,2,4,4,2,1,2,3,3,2,3,2,1,2,1,1,1],\"index\":[\"Aemon\",\"Grenn\",\"Samwell\",\"Aerys\",\"Jaime\",\"Robert\",\"Tyrion\",\"Tywin\",\"Alliser\",\"Mance\",\"Amory\",\"Oberyn\",\"Arya\",\"Anguy\",\"Beric\",\"Bran\",\"Brynden\",\"Cersei\",\"Gendry\",\"Gregor\",\"Joffrey\",\"Jon\",\"Rickon\",\"Roose\",\"Sandor\",\"Thoros\",\"Balon\",\"Loras\",\"Belwas\",\"Barristan\",\"Illyrio\",\"Hodor\",\"Jojen\",\"Luwin\",\"Meera\",\"Nan\",\"Theon\",\"Brienne\",\"Bronn\",\"Podrick\",\"Lothar\",\"Walder\",\"Catelyn\",\"Edmure\",\"Hoster\",\"Jeyne\",\"Lysa\",\"Petyr\",\"Robb\",\"Roslin\",\"Sansa\",\"Stannis\",\"Elia\",\"Ilyn\",\"Meryn\",\"Pycelle\",\"Shae\",\"Varys\",\"Craster\",\"Karl\",\"Daario\",\"Drogo\",\"Irri\",\"Daenerys\",\"Aegon\",\"Jorah\",\"Kraznys\",\"Missandei\",\"Rakharo\",\"Rhaegar\",\"Viserys\",\"Worm\",\"Davos\",\"Cressen\",\"Salladhor\",\"Eddard\",\"Eddison\",\"Gilly\",\"Qyburn\",\"Renly\",\"Tommen\",\"Janos\",\"Bowen\",\"Kevan\",\"Margaery\",\"Myrcella\",\"Dalla\",\"Melisandre\",\"Orell\",\"Qhorin\",\"Rattleshirt\",\"Styr\",\"Val\",\"Ygritte\",\"Jon Arryn\",\"Lancel\",\"Olenna\",\"Marillion\",\"Robert Arryn\",\"Ellaria\",\"Mace\",\"Rickard\",\"Ramsay\",\"Chataya\",\"Shireen\",\"Doran\",\"Walton\"],\"modularity_class\":[1,1,1,0,0,3,0,0,1,1,0,0,2,4,4,2,2,2,4,0,0,1,2,2,0,4,0,0,3,3,3,1,1,2,1,2,2,2,0,0,2,2,2,2,2,2,2,2,2,2,2,1,0,0,0,0,0,0,1,1,3,3,3,3,3,3,3,3,3,3,3,3,1,1,1,2,1,1,0,0,0,1,1,0,0,0,1,1,1,1,1,1,1,1,3,0,0,2,2,0,0,2,2,0,1,0,0],\"modularity_color\":[\"#66c2a5\",\"#66c2a5\",\"#66c2a5\",\"#3288bd\",\"#3288bd\",\"#e6f598\",\"#3288bd\",\"#3288bd\",\"#66c2a5\",\"#66c2a5\",\"#3288bd\",\"#3288bd\",\"#abdda4\",\"#fee08b\",\"#fee08b\",\"#abdda4\",\"#abdda4\",\"#abdda4\",\"#fee08b\",\"#3288bd\",\"#3288bd\",\"#66c2a5\",\"#abdda4\",\"#abdda4\",\"#3288bd\",\"#fee08b\",\"#3288bd\",\"#3288bd\",\"#e6f598\",\"#e6f598\",\"#e6f598\",\"#66c2a5\",\"#66c2a5\",\"#abdda4\",\"#66c2a5\",\"#abdda4\",\"#abdda4\",\"#abdda4\",\"#3288bd\",\"#3288bd\",\"#abdda4\",\"#abdda4\",\"#abdda4\",\"#abdda4\",\"#abdda4\",\"#abdda4\",\"#abdda4\",\"#abdda4\",\"#abdda4\",\"#abdda4\",\"#abdda4\",\"#66c2a5\",\"#3288bd\",\"#3288bd\",\"#3288bd\",\"#3288bd\",\"#3288bd\",\"#3288bd\",\"#66c2a5\",\"#66c2a5\",\"#e6f598\",\"#e6f598\",\"#e6f598\",\"#e6f598\",\"#e6f598\",\"#e6f598\",\"#e6f598\",\"#e6f598\",\"#e6f598\",\"#e6f598\",\"#e6f598\",\"#e6f598\",\"#66c2a5\",\"#66c2a5\",\"#66c2a5\",\"#abdda4\",\"#66c2a5\",\"#66c2a5\",\"#3288bd\",\"#3288bd\",\"#3288bd\",\"#66c2a5\",\"#66c2a5\",\"#3288bd\",\"#3288bd\",\"#3288bd\",\"#66c2a5\",\"#66c2a5\",\"#66c2a5\",\"#66c2a5\",\"#66c2a5\",\"#66c2a5\",\"#66c2a5\",\"#66c2a5\",\"#e6f598\",\"#3288bd\",\"#3288bd\",\"#abdda4\",\"#abdda4\",\"#3288bd\",\"#3288bd\",\"#abdda4\",\"#abdda4\",\"#3288bd\",\"#66c2a5\",\"#3288bd\",\"#3288bd\"]},\"selected\":{\"id\":\"5531\"},\"selection_policy\":{\"id\":\"5530\"}},\"id\":\"5201\",\"type\":\"ColumnDataSource\"},{\"attributes\":{\"end\":10.1,\"start\":-10.1},\"id\":\"5169\",\"type\":\"Range1d\"},{\"attributes\":{\"coordinates\":null,\"data_source\":{\"id\":\"5201\"},\"glyph\":{\"id\":\"5209\"},\"group\":null,\"hover_glyph\":{\"id\":\"5214\"},\"selection_glyph\":{\"id\":\"5219\"},\"view\":{\"id\":\"5203\"}},\"id\":\"5202\",\"type\":\"GlyphRenderer\"},{\"attributes\":{},\"id\":\"5239\",\"type\":\"NodesAndLinkedEdges\"},{\"attributes\":{\"line_width\":{\"value\":2}},\"id\":\"5234\",\"type\":\"MultiLine\"},{\"attributes\":{},\"id\":\"5185\",\"type\":\"BasicTicker\"},{\"attributes\":{\"coordinates\":null,\"data_source\":{\"id\":\"5205\"},\"glyph\":{\"id\":\"5224\"},\"group\":null,\"hover_glyph\":{\"id\":\"5234\"},\"selection_glyph\":{\"id\":\"5229\"},\"view\":{\"id\":\"5207\"}},\"id\":\"5206\",\"type\":\"GlyphRenderer\"},{\"attributes\":{\"coordinates\":null,\"group\":null,\"text\":\"Game of Thrones Network\"},\"id\":\"5172\",\"type\":\"Title\"},{\"attributes\":{},\"id\":\"5181\",\"type\":\"BasicTicker\"},{\"attributes\":{\"background_fill_alpha\":{\"value\":0.7},\"background_fill_color\":{\"value\":\"white\"},\"coordinates\":null,\"group\":null,\"source\":{\"id\":\"5243\"},\"text\":{\"field\":\"name\"},\"text_font_size\":{\"value\":\"10px\"},\"x\":{\"field\":\"x\"},\"y\":{\"field\":\"y\"}},\"id\":\"5244\",\"type\":\"LabelSet\"},{\"attributes\":{\"callback\":null,\"tooltips\":[[\"Character\",\"@index\"],[\"Degree\",\"@degree\"]]},\"id\":\"5192\",\"type\":\"HoverTool\"},{\"attributes\":{},\"id\":\"5190\",\"type\":\"SaveTool\"},{\"attributes\":{\"data\":{\"Weight\":[5,31,30,4,4,8,25,43,11,11,52,7,5,6,34,12,36,6,10,5,13,18,6,5,8,11,19,36,6,6,4,88,5,4,6,15,16,11,11,7,17,5,8,31,15,10,13,10,4,16,5,10,5,6,6,5,4,5,4,6,5,9,11,5,5,46,54,5,4,12,77,4,31,5,5,5,4,22,5,5,11,6,9,7,5,25,12,28,11,6,4,21,6,18,39,4,4,12,5,4,16,7,13,14,5,6,4,5,5,15,4,4,6,4,5,9,15,4,69,11,8,7,10,9,7,8,12,5,24,4,6,6,11,23,9,6,5,43,7,6,7,8,5,46,18,18,15,22,4,4,21,8,15,96,46,12,4,54,14,35,11,4,15,23,10,4,5,8,7,4,17,4,5,4,4,6,7,23,10,4,6,4,4,6,4,16,7,5,5,9,7,7,12,5,4,8,7,28,5,5,14,10,9,10,35,8,7,6,4,9,8,4,7,6,31,20,9,16,8,12,54,14,4,8,8,15,7,4,4,4,5,4,4,10,6,4,6,4,7,9,5,8,14,18,10,26,13,20,11,5,35,41,5,33,4,11,7,6,5,19,4,8,4,4,10,12,19,9,26,6,6,16,9,10,8,5,43,6,8,4,5,16,9,32,6,18,5,10,29,9,28,5,28,13,4,7,15,4,6,5,36,9,4,7,4,6,8,32,20,15,7,5,4,4,8,5,4,6,17,4,5,14,7,18,7,6,17,4,8,47,10,26,7,12,8,14,5,7,4,16,30,5,7,5,5,5,7,7,6,7,9,4],\"end\":[\"Grenn\",\"Samwell\",\"Jon\",\"Robert\",\"Stannis\",\"Eddison\",\"Jon\",\"Samwell\",\"Bran\",\"Jojen\",\"Jon\",\"Meera\",\"Melisandre\",\"Bowen\",\"Craster\",\"Eddison\",\"Gilly\",\"Janos\",\"Mance\",\"Qhorin\",\"Stannis\",\"Jaime\",\"Robert\",\"Tyrion\",\"Tywin\",\"Arya\",\"Catelyn\",\"Cersei\",\"Eddard\",\"Balon\",\"Barristan\",\"Brienne\",\"Edmure\",\"Elia\",\"Gregor\",\"Joffrey\",\"Loras\",\"Meryn\",\"Qyburn\",\"Renly\",\"Robert\",\"Stannis\",\"Tommen\",\"Tyrion\",\"Robb\",\"Sansa\",\"Tywin\",\"Walton\",\"Arya\",\"Cersei\",\"Daenerys\",\"Eddard\",\"Jon\",\"Jon Arryn\",\"Rhaegar\",\"Barristan\",\"Renly\",\"Stannis\",\"Thoros\",\"Sandor\",\"Sansa\",\"Tyrion\",\"Tywin\",\"Arya\",\"Catelyn\",\"Cersei\",\"Joffrey\",\"Lysa\",\"Myrcella\",\"Robb\",\"Sansa\",\"Balon\",\"Bronn\",\"Chataya\",\"Doran\",\"Elia\",\"Ellaria\",\"Gregor\",\"Ilyn\",\"Janos\",\"Kevan\",\"Loras\",\"Mace\",\"Margaery\",\"Meryn\",\"Oberyn\",\"Petyr\",\"Podrick\",\"Pycelle\",\"Renly\",\"Sandor\",\"Shae\",\"Stannis\",\"Varys\",\"Tywin\",\"Viserys\",\"Lysa\",\"Robb\",\"Balon\",\"Brynden\",\"Cersei\",\"Gregor\",\"Joffrey\",\"Kevan\",\"Mace\",\"Oberyn\",\"Petyr\",\"Podrick\",\"Pycelle\",\"Stannis\",\"Tommen\",\"Val\",\"Varys\",\"Walder\",\"Mance\",\"Janos\",\"Jon\",\"Janos\",\"Jon\",\"Craster\",\"Dalla\",\"Gilly\",\"Qhorin\",\"Rattleshirt\",\"Styr\",\"Val\",\"Ygritte\",\"Oberyn\",\"Gregor\",\"Joffrey\",\"Ellaria\",\"Mace\",\"Anguy\",\"Beric\",\"Bran\",\"Brynden\",\"Cersei\",\"Gendry\",\"Gregor\",\"Joffrey\",\"Jon\",\"Rickon\",\"Roose\",\"Sandor\",\"Thoros\",\"Eddard\",\"Robb\",\"Sansa\",\"Beric\",\"Gendry\",\"Thoros\",\"Eddard\",\"Sandor\",\"Hodor\",\"Jojen\",\"Jon\",\"Luwin\",\"Meera\",\"Nan\",\"Rickon\",\"Theon\",\"Catelyn\",\"Eddard\",\"Robb\",\"Sansa\",\"Lothar\",\"Walder\",\"Catelyn\",\"Edmure\",\"Rickard\",\"Robb\",\"Catelyn\",\"Brienne\",\"Bronn\",\"Elia\",\"Gregor\",\"Ilyn\",\"Joffrey\",\"Meryn\",\"Pycelle\",\"Sandor\",\"Shae\",\"Varys\",\"Eddard\",\"Lysa\",\"Sansa\",\"Thoros\",\"Sandor\",\"Bronn\",\"Elia\",\"Ilyn\",\"Meryn\",\"Sandor\",\"Joffrey\",\"Ilyn\",\"Kevan\",\"Loras\",\"Margaery\",\"Meryn\",\"Myrcella\",\"Sandor\",\"Stannis\",\"Tommen\",\"Robb\",\"Sansa\",\"Eddard\",\"Craster\",\"Dalla\",\"Eddison\",\"Gilly\",\"Janos\",\"Meera\",\"Melisandre\",\"Orell\",\"Qhorin\",\"Rattleshirt\",\"Stannis\",\"Styr\",\"Theon\",\"Val\",\"Ygritte\",\"Robb\",\"Sansa\",\"Eddard\",\"Theon\",\"Robb\",\"Sansa\",\"Catelyn\",\"Robb\",\"Brienne\",\"Eddard\",\"Ilyn\",\"Meryn\",\"Thoros\",\"Sansa\",\"Loras\",\"Robb\",\"Stannis\",\"Brienne\",\"Margaery\",\"Olenna\",\"Renly\",\"Sansa\",\"Barristan\",\"Illyrio\",\"Daenerys\",\"Jorah\",\"Daenerys\",\"Jorah\",\"Rhaegar\",\"Jojen\",\"Meera\",\"Robb\",\"Meera\",\"Nan\",\"Robb\",\"Catelyn\",\"Robb\",\"Sansa\",\"Podrick\",\"Margaery\",\"Sansa\",\"Edmure\",\"Roslin\",\"Robb\",\"Walder\",\"Catelyn\",\"Edmure\",\"Robb\",\"Petyr\",\"Roslin\",\"Edmure\",\"Hoster\",\"Jeyne\",\"Lysa\",\"Petyr\",\"Robb\",\"Roslin\",\"Sansa\",\"Stannis\",\"Eddard\",\"Roslin\",\"Hoster\",\"Robb\",\"Lysa\",\"Robb\",\"Jon Arryn\",\"Marillion\",\"Petyr\",\"Robert Arryn\",\"Sansa\",\"Robb\",\"Sansa\",\"Eddard\",\"Ramsay\",\"Rickard\",\"Sansa\",\"Stannis\",\"Eddard\",\"Kevan\",\"Margaery\",\"Marillion\",\"Myrcella\",\"Olenna\",\"Renly\",\"Robert Arryn\",\"Shae\",\"Davos\",\"Melisandre\",\"Renly\",\"Rhaegar\",\"Meryn\",\"Varys\",\"Chataya\",\"Varys\",\"Kevan\",\"Renly\",\"Karl\",\"Gilly\",\"Drogo\",\"Irri\",\"Daenerys\",\"Jorah\",\"Daenerys\",\"Irri\",\"Jorah\",\"Daenerys\",\"Missandei\",\"Aegon\",\"Jorah\",\"Kraznys\",\"Missandei\",\"Rakharo\",\"Rhaegar\",\"Viserys\",\"Worm\",\"Rhaegar\",\"Viserys\",\"Cressen\",\"Salladhor\",\"Melisandre\",\"Shireen\",\"Margaery\",\"Myrcella\",\"Margaery\",\"Bowen\",\"Lancel\",\"Val\",\"Rattleshirt\",\"Ygritte\",\"Ygritte\",\"Robert Arryn\"],\"start\":[\"Aemon\",\"Aemon\",\"Aemon\",\"Aemon\",\"Aemon\",\"Grenn\",\"Grenn\",\"Grenn\",\"Samwell\",\"Samwell\",\"Samwell\",\"Samwell\",\"Samwell\",\"Samwell\",\"Samwell\",\"Samwell\",\"Samwell\",\"Samwell\",\"Samwell\",\"Samwell\",\"Samwell\",\"Aerys\",\"Aerys\",\"Aerys\",\"Aerys\",\"Jaime\",\"Jaime\",\"Jaime\",\"Jaime\",\"Jaime\",\"Jaime\",\"Jaime\",\"Jaime\",\"Jaime\",\"Jaime\",\"Jaime\",\"Jaime\",\"Jaime\",\"Jaime\",\"Jaime\",\"Jaime\",\"Jaime\",\"Jaime\",\"Jaime\",\"Jaime\",\"Jaime\",\"Jaime\",\"Jaime\",\"Robert\",\"Robert\",\"Robert\",\"Robert\",\"Robert\",\"Robert\",\"Robert\",\"Robert\",\"Robert\",\"Robert\",\"Robert\",\"Robert\",\"Robert\",\"Robert\",\"Robert\",\"Tyrion\",\"Tyrion\",\"Tyrion\",\"Tyrion\",\"Tyrion\",\"Tyrion\",\"Tyrion\",\"Tyrion\",\"Tyrion\",\"Tyrion\",\"Tyrion\",\"Tyrion\",\"Tyrion\",\"Tyrion\",\"Tyrion\",\"Tyrion\",\"Tyrion\",\"Tyrion\",\"Tyrion\",\"Tyrion\",\"Tyrion\",\"Tyrion\",\"Tyrion\",\"Tyrion\",\"Tyrion\",\"Tyrion\",\"Tyrion\",\"Tyrion\",\"Tyrion\",\"Tyrion\",\"Tyrion\",\"Tyrion\",\"Tyrion\",\"Tywin\",\"Tywin\",\"Tywin\",\"Tywin\",\"Tywin\",\"Tywin\",\"Tywin\",\"Tywin\",\"Tywin\",\"Tywin\",\"Tywin\",\"Tywin\",\"Tywin\",\"Tywin\",\"Tywin\",\"Tywin\",\"Tywin\",\"Tywin\",\"Alliser\",\"Alliser\",\"Alliser\",\"Mance\",\"Mance\",\"Mance\",\"Mance\",\"Mance\",\"Mance\",\"Mance\",\"Mance\",\"Mance\",\"Mance\",\"Amory\",\"Oberyn\",\"Oberyn\",\"Oberyn\",\"Oberyn\",\"Arya\",\"Arya\",\"Arya\",\"Arya\",\"Arya\",\"Arya\",\"Arya\",\"Arya\",\"Arya\",\"Arya\",\"Arya\",\"Arya\",\"Arya\",\"Arya\",\"Arya\",\"Arya\",\"Anguy\",\"Beric\",\"Beric\",\"Beric\",\"Beric\",\"Bran\",\"Bran\",\"Bran\",\"Bran\",\"Bran\",\"Bran\",\"Bran\",\"Bran\",\"Bran\",\"Bran\",\"Bran\",\"Bran\",\"Brynden\",\"Brynden\",\"Brynden\",\"Brynden\",\"Brynden\",\"Brynden\",\"Cersei\",\"Cersei\",\"Cersei\",\"Cersei\",\"Cersei\",\"Cersei\",\"Cersei\",\"Cersei\",\"Cersei\",\"Cersei\",\"Cersei\",\"Cersei\",\"Cersei\",\"Cersei\",\"Cersei\",\"Gendry\",\"Gendry\",\"Gregor\",\"Gregor\",\"Gregor\",\"Gregor\",\"Gregor\",\"Gregor\",\"Joffrey\",\"Joffrey\",\"Joffrey\",\"Joffrey\",\"Joffrey\",\"Joffrey\",\"Joffrey\",\"Joffrey\",\"Joffrey\",\"Joffrey\",\"Joffrey\",\"Jon\",\"Jon\",\"Jon\",\"Jon\",\"Jon\",\"Jon\",\"Jon\",\"Jon\",\"Jon\",\"Jon\",\"Jon\",\"Jon\",\"Jon\",\"Jon\",\"Jon\",\"Jon\",\"Jon\",\"Jon\",\"Rickon\",\"Rickon\",\"Rickon\",\"Rickon\",\"Roose\",\"Roose\",\"Roose\",\"Sandor\",\"Sandor\",\"Sandor\",\"Sandor\",\"Sandor\",\"Balon\",\"Balon\",\"Balon\",\"Loras\",\"Loras\",\"Loras\",\"Loras\",\"Loras\",\"Belwas\",\"Belwas\",\"Belwas\",\"Belwas\",\"Barristan\",\"Barristan\",\"Barristan\",\"Hodor\",\"Hodor\",\"Hodor\",\"Jojen\",\"Luwin\",\"Theon\",\"Brienne\",\"Brienne\",\"Brienne\",\"Bronn\",\"Podrick\",\"Podrick\",\"Lothar\",\"Lothar\",\"Lothar\",\"Lothar\",\"Walder\",\"Walder\",\"Walder\",\"Walder\",\"Walder\",\"Catelyn\",\"Catelyn\",\"Catelyn\",\"Catelyn\",\"Catelyn\",\"Catelyn\",\"Catelyn\",\"Catelyn\",\"Catelyn\",\"Catelyn\",\"Edmure\",\"Edmure\",\"Edmure\",\"Hoster\",\"Jeyne\",\"Lysa\",\"Lysa\",\"Lysa\",\"Lysa\",\"Lysa\",\"Petyr\",\"Petyr\",\"Robb\",\"Robb\",\"Robb\",\"Robb\",\"Robb\",\"Sansa\",\"Sansa\",\"Sansa\",\"Sansa\",\"Sansa\",\"Sansa\",\"Sansa\",\"Sansa\",\"Sansa\",\"Stannis\",\"Stannis\",\"Stannis\",\"Elia\",\"Ilyn\",\"Pycelle\",\"Shae\",\"Shae\",\"Varys\",\"Varys\",\"Craster\",\"Craster\",\"Daario\",\"Daario\",\"Daario\",\"Daario\",\"Drogo\",\"Drogo\",\"Drogo\",\"Irri\",\"Irri\",\"Daenerys\",\"Daenerys\",\"Daenerys\",\"Daenerys\",\"Daenerys\",\"Daenerys\",\"Daenerys\",\"Daenerys\",\"Jorah\",\"Rhaegar\",\"Davos\",\"Davos\",\"Davos\",\"Davos\",\"Renly\",\"Tommen\",\"Tommen\",\"Janos\",\"Kevan\",\"Dalla\",\"Qhorin\",\"Qhorin\",\"Rattleshirt\",\"Marillion\"]},\"selected\":{\"id\":\"5533\"},\"selection_policy\":{\"id\":\"5532\"}},\"id\":\"5205\",\"type\":\"ColumnDataSource\"},{\"attributes\":{\"graph_layout\":{\"Aegon\":[-9.612747365570018,0.29352910965920614],\"Aemon\":[-0.2856768643888709,2.6411530869921718],\"Aerys\":[-1.1715898861425391,-1.0882071963940196],\"Alliser\":[0.6453449762146649,4.6815190269524996],\"Amory\":[-3.075832306078329,-6.762729298900881],\"Anguy\":[4.9872090722002484,-0.9201565779521782],\"Arya\":[1.8543193137213558,-0.4618862451898749],\"Balon\":[0.6126753485667842,-0.6696719406665423],\"Barristan\":[-4.086132292422857,1.1261865148284775],\"Belwas\":[-6.895346556837275,3.145952151611953],\"Beric\":[3.280197370459959,-0.6568251858960962],\"Bowen\":[-0.6831529180529161,4.955616395424262],\"Bran\":[3.368514474251586,1.6408017350000614],\"Brienne\":[2.1348596397213355,-1.6496570059916489],\"Bronn\":[-0.3421799031495714,-4.240329922477963],\"Brynden\":[3.904832720336272,-0.36336275136525403],\"Catelyn\":[2.8253364697985077,-1.1941853371143292],\"Cersei\":[0.8453003661772313,-2.099985810088912],\"Chataya\":[0.5727431295172147,-5.663089748822283],\"Craster\":[2.816520211971259,6.105705267809254],\"Cressen\":[-7.445680815455729,-0.7011320430843743],\"Daario\":[-8.23379723031802,2.7512061866532056],\"Daenerys\":[-6.821575993122566,1.2963783708306609],\"Dalla\":[2.7207019437126134,4.482560054318302],\"Davos\":[-4.605006817849985,0.27096160353016],\"Doran\":[-1.156827045850225,-5.72120585466136],\"Drogo\":[-8.364206806286067,2.142777131343822],\"Eddard\":[1.6025022231695782,0.18043715094224888],\"Eddison\":[0.31665137326970194,5.412923676881053],\"Edmure\":[3.8379033353716996,-1.1862357198292244],\"Elia\":[-1.7985435813780848,-1.3326509827599295],\"Ellaria\":[-2.1274908222838405,-4.797966362146252],\"Gendry\":[3.281236607103726,-1.7979276347735254],\"Gilly\":[2.4108845519282784,5.340390437986926],\"Gregor\":[-0.29049451645350244,-2.2815979339070425],\"Grenn\":[-0.09814344859319739,4.503014209189215],\"Hodor\":[4.438053027185678,2.462422719330008],\"Hoster\":[4.783112257582935,-2.9180500447234445],\"Illyrio\":[-8.943999016216543,5.2354018171778325],\"Ilyn\":[0.6933535976824761,-3.159589701393575],\"Irri\":[-9.183713884521163,2.3621093750508715],\"Jaime\":[-0.04898376291825053,-1.1245676592394147],\"Janos\":[0.41650899530517727,2.5955516197568738],\"Jeyne\":[5.258007238968715,-1.711164693745645],\"Joffrey\":[0.4989660006439764,-2.069234859362665],\"Jojen\":[3.9645514388192478,3.8668403168969787],\"Jon\":[1.3878956087047376,3.097166821208442],\"Jon Arryn\":[1.3358758036770526,-2.4432613081408707],\"Jorah\":[-6.486257592688694,1.9974567952610498],\"Karl\":[3.9695284189887396,8.927407251637545],\"Kevan\":[1.2854247875775515,-4.399307540835683],\"Kraznys\":[-9.360570528690442,3.196134263801279],\"Lancel\":[2.1328701635476524,-7.682979868262287],\"Loras\":[0.5283220368579881,-2.6913695461337963],\"Lothar\":[5.368826286819723,-0.42835886017914276],\"Luwin\":[6.493528775660411,2.858385378641106],\"Lysa\":[2.655808009341874,-3.0255501929425015],\"Mace\":[-0.8806382695490673,-4.212908619136054],\"Mance\":[1.704577920363582,4.801817919859688],\"Margaery\":[-0.4242061170838186,-3.2184972462849393],\"Marillion\":[3.538277034674501,-4.535496105814802],\"Meera\":[3.2893438730115685,3.642988701574661],\"Melisandre\":[-1.3925689245518724,2.3136124574654966],\"Meryn\":[-0.05719364888505043,-2.866186219159383],\"Missandei\":[-9.626052183899182,1.6098345732619994],\"Myrcella\":[-0.01927002211734157,-3.8054275445788357],\"Nan\":[6.169700528807845,3.454940508536372],\"Oberyn\":[-1.2988855331184823,-3.959391096836923],\"Olenna\":[1.6514470820950775,-4.96809918283773],\"Orell\":[0.3649378810785084,6.475567912580745],\"Petyr\":[2.709949981257449,-2.181247970682482],\"Podrick\":[0.5815621406933245,-3.953775981162972],\"Pycelle\":[1.724786615013425,-3.5964570721620324],\"Qhorin\":[1.3757856479045907,5.575576655992004],\"Qyburn\":[-3.165490307124237,-1.9622856197607452],\"Rakharo\":[-10.0,2.208126858111576],\"Ramsay\":[6.433467093616652,0.2680124895706209],\"Rattleshirt\":[1.233438594871504,6.227869436376428],\"Renly\":[-0.43085149235971465,-1.6514634700285138],\"Rhaegar\":[-4.216096026107357,0.492561191595677],\"Rickard\":[5.557335487379708,0.6432578106674008],\"Rickon\":[2.844682255451381,0.6575490124009025],\"Robb\":[2.8250605928482693,-0.2302202194368222],\"Robert\":[-0.8415364849642654,-0.047067199288775646],\"Robert Arryn\":[3.9900102281290653,-4.168939840390738],\"Roose\":[3.8685234264947725,-1.7019399016942516],\"Roslin\":[5.756932692388958,-1.2991064779244605],\"Salladhor\":[-7.3621807669033545,0.0313345421943858],\"Samwell\":[1.2446187073050818,3.7745066349585636],\"Sandor\":[1.1721377986323822,-1.311179695917255],\"Sansa\":[1.6253756209106873,-1.8204543314035575],\"Shae\":[1.539093770038721,-4.161984454333608],\"Shireen\":[-7.1482000022649625,-1.3595170926914955],\"Stannis\":[-0.01437739688892283,0.42632492258374294],\"Styr\":[2.371260704452695,6.218587282934719],\"Theon\":[3.341430370338427,2.1569879550177973],\"Thoros\":[1.9957836735607966,-0.634847248169158],\"Tommen\":[-1.073269983620742,-2.7450239391593967],\"Tyrion\":[0.15200866804227636,-2.2737261269781337],\"Tywin\":[1.0086259504670951,-1.7431331679904811],\"Val\":[1.8298720229400356,2.353815502197207],\"Varys\":[0.895219055160834,-3.576979855313309],\"Viserys\":[-3.9508247571069877,-0.6910720863154667],\"Walder\":[4.200855606579726,-1.3249000094135834],\"Walton\":[-3.0489931363753997,-2.858111763253033],\"Worm\":[-9.932376662328283,0.9467663980317823],\"Ygritte\":[1.7764950711528318,6.251650130472473]}},\"id\":\"5208\",\"type\":\"StaticLayoutProvider\"},{\"attributes\":{\"line_width\":{\"value\":2}},\"id\":\"5229\",\"type\":\"MultiLine\"},{\"attributes\":{},\"id\":\"5533\",\"type\":\"Selection\"},{\"attributes\":{\"fill_color\":{\"field\":\"modularity_color\"},\"size\":{\"field\":\"adjusted_node_size\"}},\"id\":\"5209\",\"type\":\"Circle\"},{\"attributes\":{},\"id\":\"5523\",\"type\":\"BasicTickFormatter\"},{\"attributes\":{},\"id\":\"5191\",\"type\":\"ResetTool\"},{\"attributes\":{\"fill_color\":{\"value\":\"white\"},\"line_width\":{\"value\":2},\"size\":{\"field\":\"adjusted_node_size\"}},\"id\":\"5219\",\"type\":\"Circle\"},{\"attributes\":{\"coordinates\":null,\"edge_renderer\":{\"id\":\"5206\"},\"group\":null,\"inspection_policy\":{\"id\":\"5241\"},\"layout_provider\":{\"id\":\"5208\"},\"node_renderer\":{\"id\":\"5202\"},\"selection_policy\":{\"id\":\"5239\"}},\"id\":\"5199\",\"type\":\"GraphRenderer\"},{\"attributes\":{},\"id\":\"5188\",\"type\":\"PanTool\"},{\"attributes\":{},\"id\":\"5527\",\"type\":\"AllLabels\"},{\"attributes\":{\"source\":{\"id\":\"5201\"}},\"id\":\"5203\",\"type\":\"CDSView\"},{\"attributes\":{\"active_scroll\":{\"id\":\"5189\"},\"tools\":[{\"id\":\"5188\"},{\"id\":\"5189\"},{\"id\":\"5190\"},{\"id\":\"5191\"},{\"id\":\"5192\"}]},\"id\":\"5193\",\"type\":\"Toolbar\"},{\"attributes\":{\"fill_color\":{\"value\":\"white\"},\"line_width\":{\"value\":2},\"size\":{\"field\":\"adjusted_node_size\"}},\"id\":\"5214\",\"type\":\"Circle\"},{\"attributes\":{\"source\":{\"id\":\"5205\"}},\"id\":\"5207\",\"type\":\"CDSView\"},{\"attributes\":{\"end\":10.1,\"start\":-10.1},\"id\":\"5170\",\"type\":\"Range1d\"},{\"attributes\":{},\"id\":\"5531\",\"type\":\"Selection\"}],\"root_ids\":[\"5171\"]},\"title\":\"Bokeh Application\",\"version\":\"2.4.3\"}};\n  const render_items = [{\"docid\":\"c80c63e5-d20e-4ff9-a3f9-e6e16b7f3c64\",\"root_ids\":[\"5171\"],\"roots\":{\"5171\":\"d0bb4065-99ae-4f37-abb1-883b3c6fa480\"}}];\n  root.Bokeh.embed.embed_items_notebook(docs_json, render_items);\n  }\n  if (root.Bokeh !== undefined) {\n    embed_document(root);\n  } else {\n    let attempts = 0;\n    const timer = setInterval(function(root) {\n      if (root.Bokeh !== undefined) {\n        clearInterval(timer);\n        embed_document(root);\n      } else {\n        attempts++;\n        if (attempts > 100) {\n          clearInterval(timer);\n          console.log(\"Bokeh: ERROR: Unable to run BokehJS code because BokehJS library is missing\");\n        }\n      }\n    }, 10, root)\n  }\n})(window);",
      "application/vnd.bokehjs_exec.v0+json": ""
     },
     "metadata": {
      "application/vnd.bokehjs_exec.v0+json": {
       "id": "5171"
      }
     },
     "output_type": "display_data"
    }
   ],
   "source": [
    "#Choose colors for node and edge highlighting\n",
    "node_highlight_color = 'white'\n",
    "edge_highlight_color = 'black'\n",
    "\n",
    "#Choose attributes from G network to size and color by — setting manual size (e.g. 10) or color (e.g. 'skyblue') also allowed\n",
    "size_by_this_attribute = 'adjusted_node_size'\n",
    "color_by_this_attribute = 'modularity_color'\n",
    "\n",
    "#Pick a color palette — Blues8, Reds8, Purples8, Oranges8, Viridis8\n",
    "color_palette = Blues8\n",
    "\n",
    "#Choose a title!\n",
    "title = 'Game of Thrones Network'\n",
    "\n",
    "#Establish which categories will appear when hovering over each node\n",
    "HOVER_TOOLTIPS = [\n",
    "       (\"Character\", \"@index\"),\n",
    "        (\"Degree\", \"@degree\"),\n",
    "        #(\"Modularity Class\", \"@modularity_class\"),\n",
    "        #(\"Modularity Color\", \"$color[swatch]:modularity_color\"),\n",
    "]\n",
    "\n",
    "#Create a plot — set dimensions, toolbar, and title\n",
    "plot = figure(tooltips = HOVER_TOOLTIPS,\n",
    "              tools=\"pan,wheel_zoom,save,reset\", active_scroll='wheel_zoom',\n",
    "            x_range=Range1d(-10.1, 10.1), y_range=Range1d(-10.1, 10.1), title=title)\n",
    "\n",
    "#Create a network graph object\n",
    "# https://networkx.github.io/documentation/networkx-1.9/reference/generated/networkx.drawing.layout.spring_layout.html\n",
    "network_graph = from_networkx(G, networkx.spring_layout, scale=10, center=(0, 0))\n",
    "\n",
    "#Set node sizes and colors according to node degree (color as category from attribute)\n",
    "network_graph.node_renderer.glyph = Circle(size=size_by_this_attribute, fill_color=color_by_this_attribute)\n",
    "#Set node highlight colors\n",
    "network_graph.node_renderer.hover_glyph = Circle(size=size_by_this_attribute, fill_color=node_highlight_color, line_width=2)\n",
    "network_graph.node_renderer.selection_glyph = Circle(size=size_by_this_attribute, fill_color=node_highlight_color, line_width=2)\n",
    "\n",
    "#Set edge opacity and width\n",
    "network_graph.edge_renderer.glyph = MultiLine(line_alpha=0.3, line_width=1)\n",
    "#Set edge highlight colors\n",
    "network_graph.edge_renderer.selection_glyph = MultiLine(line_color=edge_highlight_color, line_width=2)\n",
    "network_graph.edge_renderer.hover_glyph = MultiLine(line_color=edge_highlight_color, line_width=2)\n",
    "\n",
    "#Highlight nodes and edges\n",
    "network_graph.selection_policy = NodesAndLinkedEdges()\n",
    "network_graph.inspection_policy = NodesAndLinkedEdges()\n",
    "\n",
    "plot.renderers.append(network_graph)\n",
    "\n",
    "#Add Labels\n",
    "x, y = zip(*network_graph.layout_provider.graph_layout.values())\n",
    "node_labels = list(G.nodes())\n",
    "source = ColumnDataSource({'x': x, 'y': y, 'name': [node_labels[i] for i in range(len(x))]})\n",
    "labels = LabelSet(x='x', y='y', text='name', source=source, background_fill_color='white', text_font_size='10px', background_fill_alpha=.7)\n",
    "plot.renderers.append(labels)\n",
    "\n",
    "show(plot)\n",
    "#save(plot, filename=f\"{title}.html\")"
   ]
  },
  {
   "cell_type": "code",
   "execution_count": null,
   "metadata": {},
   "outputs": [],
   "source": []
  }
 ],
 "metadata": {
  "kernelspec": {
   "display_name": "Python 3",
   "language": "python",
   "name": "python3"
  },
  "language_info": {
   "codemirror_mode": {
    "name": "ipython",
    "version": 3
   },
   "file_extension": ".py",
   "mimetype": "text/x-python",
   "name": "python",
   "nbconvert_exporter": "python",
   "pygments_lexer": "ipython3",
   "version": "3.10.0"
  }
 },
 "nbformat": 4,
 "nbformat_minor": 4
}
