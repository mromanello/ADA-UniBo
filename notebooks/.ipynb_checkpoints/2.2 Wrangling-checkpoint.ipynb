{
 "cells": [
  {
   "cell_type": "markdown",
   "metadata": {},
   "source": [
    "# 2.2 Wrangling"
   ]
  },
  {
   "cell_type": "markdown",
   "metadata": {},
   "source": [
    "In this notebook, we practice with operations on tidy data frames."
   ]
  },
  {
   "cell_type": "code",
   "execution_count": 1,
   "metadata": {},
   "outputs": [],
   "source": [
    "# imports\n",
    "\n",
    "import pandas as pd\n",
    "import json, os, codecs\n",
    "from collections import defaultdict, OrderedDict\n",
    "import seaborn as sns"
   ]
  },
  {
   "cell_type": "markdown",
   "metadata": {},
   "source": [
    "## Import the dataset\n",
    "Let us import the tidy sample dataset in memory."
   ]
  },
  {
   "cell_type": "code",
   "execution_count": 2,
   "metadata": {},
   "outputs": [],
   "source": [
    "root_folder = \"../data/bl_books/sample_tidy/\"\n",
    "df_book = pd.read_csv(os.path.join(root_folder,\"df_book.csv\"))\n",
    "df_author = pd.read_csv(os.path.join(root_folder,\"df_author.csv\"))\n",
    "df_author_book = pd.read_csv(os.path.join(root_folder,\"df_author_book.csv\"))\n",
    "df_book_text = pd.read_csv(os.path.join(root_folder,\"df_book_text.csv\"))"
   ]
  },
  {
   "cell_type": "markdown",
   "metadata": {},
   "source": [
    "## Take a look\n",
    "Let's take another look to the dataset to refresh out memories."
   ]
  },
  {
   "cell_type": "code",
   "execution_count": 3,
   "metadata": {},
   "outputs": [
    {
     "data": {
      "text/html": [
       "<div>\n",
       "<style scoped>\n",
       "    .dataframe tbody tr th:only-of-type {\n",
       "        vertical-align: middle;\n",
       "    }\n",
       "\n",
       "    .dataframe tbody tr th {\n",
       "        vertical-align: top;\n",
       "    }\n",
       "\n",
       "    .dataframe thead th {\n",
       "        text-align: right;\n",
       "    }\n",
       "</style>\n",
       "<table border=\"1\" class=\"dataframe\">\n",
       "  <thead>\n",
       "    <tr style=\"text-align: right;\">\n",
       "      <th></th>\n",
       "      <th>datefield</th>\n",
       "      <th>publisher</th>\n",
       "      <th>title</th>\n",
       "      <th>edition</th>\n",
       "      <th>place</th>\n",
       "      <th>issuance</th>\n",
       "      <th>first_pdf</th>\n",
       "      <th>number_volumes</th>\n",
       "      <th>identifier</th>\n",
       "      <th>fulltext_filename</th>\n",
       "      <th>type</th>\n",
       "      <th>genre</th>\n",
       "    </tr>\n",
       "  </thead>\n",
       "  <tbody>\n",
       "    <tr>\n",
       "      <th>0</th>\n",
       "      <td>1841.0</td>\n",
       "      <td>Privately printed</td>\n",
       "      <td>The Poetical Aviary, with a bird's-eye view of...</td>\n",
       "      <td>NaN</td>\n",
       "      <td>Calcutta</td>\n",
       "      <td>monographic</td>\n",
       "      <td>lsidyv35c55757</td>\n",
       "      <td>1</td>\n",
       "      <td>196</td>\n",
       "      <td>000000196_01_text.json</td>\n",
       "      <td>poet</td>\n",
       "      <td>Poetry</td>\n",
       "    </tr>\n",
       "  </tbody>\n",
       "</table>\n",
       "</div>"
      ],
      "text/plain": [
       "   datefield          publisher  \\\n",
       "0     1841.0  Privately printed   \n",
       "\n",
       "                                               title edition     place  \\\n",
       "0  The Poetical Aviary, with a bird's-eye view of...     NaN  Calcutta   \n",
       "\n",
       "      issuance       first_pdf  number_volumes  identifier  \\\n",
       "0  monographic  lsidyv35c55757               1         196   \n",
       "\n",
       "        fulltext_filename  type   genre  \n",
       "0  000000196_01_text.json  poet  Poetry  "
      ]
     },
     "execution_count": 3,
     "metadata": {},
     "output_type": "execute_result"
    }
   ],
   "source": [
    "df_book.head(1)"
   ]
  },
  {
   "cell_type": "code",
   "execution_count": 4,
   "metadata": {},
   "outputs": [
    {
     "data": {
      "text/html": [
       "<div>\n",
       "<style scoped>\n",
       "    .dataframe tbody tr th:only-of-type {\n",
       "        vertical-align: middle;\n",
       "    }\n",
       "\n",
       "    .dataframe tbody tr th {\n",
       "        vertical-align: top;\n",
       "    }\n",
       "\n",
       "    .dataframe thead th {\n",
       "        text-align: right;\n",
       "    }\n",
       "</style>\n",
       "<table border=\"1\" class=\"dataframe\">\n",
       "  <thead>\n",
       "    <tr style=\"text-align: right;\">\n",
       "      <th></th>\n",
       "      <th>name</th>\n",
       "    </tr>\n",
       "  </thead>\n",
       "  <tbody>\n",
       "    <tr>\n",
       "      <th>0</th>\n",
       "      <td>A. A.</td>\n",
       "    </tr>\n",
       "    <tr>\n",
       "      <th>1</th>\n",
       "      <td>Abbott, Evelyn</td>\n",
       "    </tr>\n",
       "    <tr>\n",
       "      <th>2</th>\n",
       "      <td>A'BECKETT, Gilbert Abbott.</td>\n",
       "    </tr>\n",
       "    <tr>\n",
       "      <th>3</th>\n",
       "      <td>Laffan, De Courcy - Mrs</td>\n",
       "    </tr>\n",
       "    <tr>\n",
       "      <th>4</th>\n",
       "      <td>Adams, W. H. Davenport (William Henry Davenport)</td>\n",
       "    </tr>\n",
       "  </tbody>\n",
       "</table>\n",
       "</div>"
      ],
      "text/plain": [
       "                                               name\n",
       "0                                             A. A.\n",
       "1                                    Abbott, Evelyn\n",
       "2                        A'BECKETT, Gilbert Abbott.\n",
       "3                           Laffan, De Courcy - Mrs\n",
       "4  Adams, W. H. Davenport (William Henry Davenport)"
      ]
     },
     "execution_count": 4,
     "metadata": {},
     "output_type": "execute_result"
    }
   ],
   "source": [
    "df_author.head(5)"
   ]
  },
  {
   "cell_type": "code",
   "execution_count": 5,
   "metadata": {},
   "outputs": [
    {
     "data": {
      "text/html": [
       "<div>\n",
       "<style scoped>\n",
       "    .dataframe tbody tr th:only-of-type {\n",
       "        vertical-align: middle;\n",
       "    }\n",
       "\n",
       "    .dataframe tbody tr th {\n",
       "        vertical-align: top;\n",
       "    }\n",
       "\n",
       "    .dataframe thead th {\n",
       "        text-align: right;\n",
       "    }\n",
       "</style>\n",
       "<table border=\"1\" class=\"dataframe\">\n",
       "  <thead>\n",
       "    <tr style=\"text-align: right;\">\n",
       "      <th></th>\n",
       "      <th>book_id</th>\n",
       "      <th>author_id</th>\n",
       "    </tr>\n",
       "  </thead>\n",
       "  <tbody>\n",
       "    <tr>\n",
       "      <th>0</th>\n",
       "      <td>196</td>\n",
       "      <td>0</td>\n",
       "    </tr>\n",
       "    <tr>\n",
       "      <th>1</th>\n",
       "      <td>4047</td>\n",
       "      <td>1</td>\n",
       "    </tr>\n",
       "    <tr>\n",
       "      <th>2</th>\n",
       "      <td>5382</td>\n",
       "      <td>2</td>\n",
       "    </tr>\n",
       "    <tr>\n",
       "      <th>3</th>\n",
       "      <td>14627</td>\n",
       "      <td>3</td>\n",
       "    </tr>\n",
       "    <tr>\n",
       "      <th>4</th>\n",
       "      <td>17057</td>\n",
       "      <td>4</td>\n",
       "    </tr>\n",
       "  </tbody>\n",
       "</table>\n",
       "</div>"
      ],
      "text/plain": [
       "   book_id  author_id\n",
       "0      196          0\n",
       "1     4047          1\n",
       "2     5382          2\n",
       "3    14627          3\n",
       "4    17057          4"
      ]
     },
     "execution_count": 5,
     "metadata": {},
     "output_type": "execute_result"
    }
   ],
   "source": [
    "df_author_book.head(5)"
   ]
  },
  {
   "cell_type": "code",
   "execution_count": 6,
   "metadata": {},
   "outputs": [
    {
     "data": {
      "text/html": [
       "<div>\n",
       "<style scoped>\n",
       "    .dataframe tbody tr th:only-of-type {\n",
       "        vertical-align: middle;\n",
       "    }\n",
       "\n",
       "    .dataframe tbody tr th {\n",
       "        vertical-align: top;\n",
       "    }\n",
       "\n",
       "    .dataframe thead th {\n",
       "        text-align: right;\n",
       "    }\n",
       "</style>\n",
       "<table border=\"1\" class=\"dataframe\">\n",
       "  <thead>\n",
       "    <tr style=\"text-align: right;\">\n",
       "      <th></th>\n",
       "      <th>fulltext_filename</th>\n",
       "      <th>fulltext</th>\n",
       "      <th>book_id</th>\n",
       "    </tr>\n",
       "  </thead>\n",
       "  <tbody>\n",
       "    <tr>\n",
       "      <th>0</th>\n",
       "      <td>000551646_01_text.json</td>\n",
       "      <td>' -■\" ' LiLitr-- )Wm&amp;, HISTORY OF THE...</td>\n",
       "      <td>551646</td>\n",
       "    </tr>\n",
       "    <tr>\n",
       "      <th>1</th>\n",
       "      <td>002674278_01_text.json</td>\n",
       "      <td>The Great Revolution of 1840. REMINISC...</td>\n",
       "      <td>2674278</td>\n",
       "    </tr>\n",
       "    <tr>\n",
       "      <th>2</th>\n",
       "      <td>001975731_01_text.json</td>\n",
       "      <td>THE REAR-GUARD OF THE REVOLUTION. BY E...</td>\n",
       "      <td>1975731</td>\n",
       "    </tr>\n",
       "  </tbody>\n",
       "</table>\n",
       "</div>"
      ],
      "text/plain": [
       "        fulltext_filename                                           fulltext  \\\n",
       "0  000551646_01_text.json           ' -■\" ' LiLitr-- )Wm&, HISTORY OF THE...   \n",
       "1  002674278_01_text.json          The Great Revolution of 1840. REMINISC...   \n",
       "2  001975731_01_text.json          THE REAR-GUARD OF THE REVOLUTION. BY E...   \n",
       "\n",
       "   book_id  \n",
       "0   551646  \n",
       "1  2674278  \n",
       "2  1975731  "
      ]
     },
     "execution_count": 6,
     "metadata": {},
     "output_type": "execute_result"
    }
   ],
   "source": [
    "df_book_text.head(3)"
   ]
  },
  {
   "cell_type": "code",
   "execution_count": 7,
   "metadata": {},
   "outputs": [
    {
     "data": {
      "text/plain": [
       "(452, 12)"
      ]
     },
     "execution_count": 7,
     "metadata": {},
     "output_type": "execute_result"
    }
   ],
   "source": [
    "df_book.shape"
   ]
  },
  {
   "cell_type": "code",
   "execution_count": 8,
   "metadata": {},
   "outputs": [],
   "source": [
    "# let's create a few smaller datasets to play with transformations, via selection\n",
    "\n",
    "df_book_tragedy = df_book[df_book[\"type\"] == \"tragedy\"]\n",
    "df_book_comedy = df_book[df_book[\"type\"] == \"comedy\"]"
   ]
  },
  {
   "cell_type": "code",
   "execution_count": 11,
   "metadata": {},
   "outputs": [
    {
     "data": {
      "text/plain": [
       "(32, 12)"
      ]
     },
     "execution_count": 11,
     "metadata": {},
     "output_type": "execute_result"
    }
   ],
   "source": [
    "df_book_tragedy.shape"
   ]
  },
  {
   "cell_type": "code",
   "execution_count": 10,
   "metadata": {},
   "outputs": [
    {
     "data": {
      "text/plain": [
       "(18, 12)"
      ]
     },
     "execution_count": 10,
     "metadata": {},
     "output_type": "execute_result"
    }
   ],
   "source": [
    "df_book_comedy.shape"
   ]
  },
  {
   "cell_type": "code",
   "execution_count": 9,
   "metadata": {},
   "outputs": [
    {
     "data": {
      "text/html": [
       "<div>\n",
       "<style scoped>\n",
       "    .dataframe tbody tr th:only-of-type {\n",
       "        vertical-align: middle;\n",
       "    }\n",
       "\n",
       "    .dataframe tbody tr th {\n",
       "        vertical-align: top;\n",
       "    }\n",
       "\n",
       "    .dataframe thead th {\n",
       "        text-align: right;\n",
       "    }\n",
       "</style>\n",
       "<table border=\"1\" class=\"dataframe\">\n",
       "  <thead>\n",
       "    <tr style=\"text-align: right;\">\n",
       "      <th></th>\n",
       "      <th>datefield</th>\n",
       "      <th>publisher</th>\n",
       "      <th>title</th>\n",
       "      <th>edition</th>\n",
       "      <th>place</th>\n",
       "      <th>issuance</th>\n",
       "      <th>first_pdf</th>\n",
       "      <th>number_volumes</th>\n",
       "      <th>identifier</th>\n",
       "      <th>fulltext_filename</th>\n",
       "      <th>type</th>\n",
       "      <th>genre</th>\n",
       "    </tr>\n",
       "  </thead>\n",
       "  <tbody>\n",
       "    <tr>\n",
       "      <th>16</th>\n",
       "      <td>1887.0</td>\n",
       "      <td>J. W. Jarvis &amp; Son</td>\n",
       "      <td>Arden of Feversham, a tragedy: reprinted from ...</td>\n",
       "      <td>NaN</td>\n",
       "      <td>London</td>\n",
       "      <td>monographic</td>\n",
       "      <td>lsidyv35e77d2f</td>\n",
       "      <td>1</td>\n",
       "      <td>106624</td>\n",
       "      <td>000106624_01_text.json</td>\n",
       "      <td>tragedy</td>\n",
       "      <td>Drama</td>\n",
       "    </tr>\n",
       "    <tr>\n",
       "      <th>22</th>\n",
       "      <td>1776.0</td>\n",
       "      <td>J. Dodsley</td>\n",
       "      <td>Semiramis, a tragedy, etc. [In verse.]</td>\n",
       "      <td>NaN</td>\n",
       "      <td>London</td>\n",
       "      <td>monographic</td>\n",
       "      <td>lsidyv36799899</td>\n",
       "      <td>1</td>\n",
       "      <td>154917</td>\n",
       "      <td>000154917_01_text.json</td>\n",
       "      <td>tragedy</td>\n",
       "      <td>Drama</td>\n",
       "    </tr>\n",
       "    <tr>\n",
       "      <th>31</th>\n",
       "      <td>1794.0</td>\n",
       "      <td>For the Author</td>\n",
       "      <td>The Fall of the French Monarchy; or, Louis XVI...</td>\n",
       "      <td>NaN</td>\n",
       "      <td>London</td>\n",
       "      <td>monographic</td>\n",
       "      <td>lsidyv3679ae3b</td>\n",
       "      <td>1</td>\n",
       "      <td>215686</td>\n",
       "      <td>000215686_01_text.json</td>\n",
       "      <td>tragedy</td>\n",
       "      <td>Drama</td>\n",
       "    </tr>\n",
       "    <tr>\n",
       "      <th>65</th>\n",
       "      <td>1884.0</td>\n",
       "      <td>G. Bell &amp; Sons</td>\n",
       "      <td>[Strafford: an historical tragedy.]</td>\n",
       "      <td>[Another edition.] With notes and preface by E...</td>\n",
       "      <td>London</td>\n",
       "      <td>monographic</td>\n",
       "      <td>lsidyv35e8b99c</td>\n",
       "      <td>1</td>\n",
       "      <td>499453</td>\n",
       "      <td>000499453_01_text.json</td>\n",
       "      <td>tragedy</td>\n",
       "      <td>Drama</td>\n",
       "    </tr>\n",
       "    <tr>\n",
       "      <th>70</th>\n",
       "      <td>1821.0</td>\n",
       "      <td>John Murray</td>\n",
       "      <td>Sardanapalus, a tragedy. The Two Foscari, a tr...</td>\n",
       "      <td>NaN</td>\n",
       "      <td>London</td>\n",
       "      <td>monographic</td>\n",
       "      <td>lsidyv386108c3</td>\n",
       "      <td>1</td>\n",
       "      <td>558547</td>\n",
       "      <td>000558547_01_text.json</td>\n",
       "      <td>tragedy</td>\n",
       "      <td>Drama</td>\n",
       "    </tr>\n",
       "  </tbody>\n",
       "</table>\n",
       "</div>"
      ],
      "text/plain": [
       "    datefield           publisher  \\\n",
       "16     1887.0  J. W. Jarvis & Son   \n",
       "22     1776.0          J. Dodsley   \n",
       "31     1794.0      For the Author   \n",
       "65     1884.0      G. Bell & Sons   \n",
       "70     1821.0         John Murray   \n",
       "\n",
       "                                                title  \\\n",
       "16  Arden of Feversham, a tragedy: reprinted from ...   \n",
       "22             Semiramis, a tragedy, etc. [In verse.]   \n",
       "31  The Fall of the French Monarchy; or, Louis XVI...   \n",
       "65                [Strafford: an historical tragedy.]   \n",
       "70  Sardanapalus, a tragedy. The Two Foscari, a tr...   \n",
       "\n",
       "                                              edition   place     issuance  \\\n",
       "16                                                NaN  London  monographic   \n",
       "22                                                NaN  London  monographic   \n",
       "31                                                NaN  London  monographic   \n",
       "65  [Another edition.] With notes and preface by E...  London  monographic   \n",
       "70                                                NaN  London  monographic   \n",
       "\n",
       "         first_pdf  number_volumes  identifier       fulltext_filename  \\\n",
       "16  lsidyv35e77d2f               1      106624  000106624_01_text.json   \n",
       "22  lsidyv36799899               1      154917  000154917_01_text.json   \n",
       "31  lsidyv3679ae3b               1      215686  000215686_01_text.json   \n",
       "65  lsidyv35e8b99c               1      499453  000499453_01_text.json   \n",
       "70  lsidyv386108c3               1      558547  000558547_01_text.json   \n",
       "\n",
       "       type  genre  \n",
       "16  tragedy  Drama  \n",
       "22  tragedy  Drama  \n",
       "31  tragedy  Drama  \n",
       "65  tragedy  Drama  \n",
       "70  tragedy  Drama  "
      ]
     },
     "execution_count": 9,
     "metadata": {},
     "output_type": "execute_result"
    }
   ],
   "source": [
    "df_book_tragedy.head()"
   ]
  },
  {
   "cell_type": "markdown",
   "metadata": {},
   "source": [
    "## Set operations"
   ]
  },
  {
   "cell_type": "code",
   "execution_count": 12,
   "metadata": {},
   "outputs": [],
   "source": [
    "# A refresher in python\n",
    "\n",
    "A = set([1,2,3,4,4,5])\n",
    "B = set([1,4,5,6,7,8])"
   ]
  },
  {
   "cell_type": "code",
   "execution_count": 13,
   "metadata": {},
   "outputs": [
    {
     "name": "stdout",
     "output_type": "stream",
     "text": [
      "{1, 2, 3, 4, 5}\n"
     ]
    }
   ],
   "source": [
    "print(A)"
   ]
  },
  {
   "cell_type": "code",
   "execution_count": 14,
   "metadata": {},
   "outputs": [
    {
     "name": "stdout",
     "output_type": "stream",
     "text": [
      "{1, 2, 3, 4, 5, 6, 7, 8}\n"
     ]
    }
   ],
   "source": [
    "print(A.union(B))"
   ]
  },
  {
   "cell_type": "code",
   "execution_count": 15,
   "metadata": {},
   "outputs": [
    {
     "name": "stdout",
     "output_type": "stream",
     "text": [
      "{2, 3}\n"
     ]
    }
   ],
   "source": [
    "print(A.difference(B))"
   ]
  },
  {
   "cell_type": "code",
   "execution_count": 16,
   "metadata": {},
   "outputs": [
    {
     "name": "stdout",
     "output_type": "stream",
     "text": [
      "{1, 4, 5}\n"
     ]
    }
   ],
   "source": [
    "print(A.intersection(B))"
   ]
  },
  {
   "cell_type": "code",
   "execution_count": 17,
   "metadata": {},
   "outputs": [
    {
     "data": {
      "text/plain": [
       "(32, 12)"
      ]
     },
     "execution_count": 17,
     "metadata": {},
     "output_type": "execute_result"
    }
   ],
   "source": [
    "df_book_tragedy.shape"
   ]
  },
  {
   "cell_type": "code",
   "execution_count": 18,
   "metadata": {},
   "outputs": [
    {
     "data": {
      "text/plain": [
       "(18, 12)"
      ]
     },
     "execution_count": 18,
     "metadata": {},
     "output_type": "execute_result"
    }
   ],
   "source": [
    "df_book_comedy.shape"
   ]
  },
  {
   "cell_type": "markdown",
   "metadata": {},
   "source": [
    "### Projection"
   ]
  },
  {
   "cell_type": "code",
   "execution_count": 19,
   "metadata": {},
   "outputs": [
    {
     "data": {
      "text/html": [
       "<div>\n",
       "<style scoped>\n",
       "    .dataframe tbody tr th:only-of-type {\n",
       "        vertical-align: middle;\n",
       "    }\n",
       "\n",
       "    .dataframe tbody tr th {\n",
       "        vertical-align: top;\n",
       "    }\n",
       "\n",
       "    .dataframe thead th {\n",
       "        text-align: right;\n",
       "    }\n",
       "</style>\n",
       "<table border=\"1\" class=\"dataframe\">\n",
       "  <thead>\n",
       "    <tr style=\"text-align: right;\">\n",
       "      <th></th>\n",
       "      <th>identifier</th>\n",
       "      <th>title</th>\n",
       "    </tr>\n",
       "  </thead>\n",
       "  <tbody>\n",
       "    <tr>\n",
       "      <th>71</th>\n",
       "      <td>558610</td>\n",
       "      <td>Arnaldo; Gaddo; and other unacknowledged poems...</td>\n",
       "    </tr>\n",
       "    <tr>\n",
       "      <th>75</th>\n",
       "      <td>570834</td>\n",
       "      <td>['Tis Well it's no Worse: a comedy, etc. [Adap...</td>\n",
       "    </tr>\n",
       "    <tr>\n",
       "      <th>115</th>\n",
       "      <td>835116</td>\n",
       "      <td>The Jew: a comedy, etc</td>\n",
       "    </tr>\n",
       "    <tr>\n",
       "      <th>117</th>\n",
       "      <td>849202</td>\n",
       "      <td>Psyche debauch'd, a comedy, as it was acted at...</td>\n",
       "    </tr>\n",
       "    <tr>\n",
       "      <th>177</th>\n",
       "      <td>1552331</td>\n",
       "      <td>The Womens Conquest. A tragicomedy [in five ac...</td>\n",
       "    </tr>\n",
       "    <tr>\n",
       "      <th>183</th>\n",
       "      <td>1593978</td>\n",
       "      <td>Thomas Hardy's works</td>\n",
       "    </tr>\n",
       "    <tr>\n",
       "      <th>184</th>\n",
       "      <td>1594129</td>\n",
       "      <td>The hand of Ethelberta. A comedy in chapters ....</td>\n",
       "    </tr>\n",
       "    <tr>\n",
       "      <th>196</th>\n",
       "      <td>1710613</td>\n",
       "      <td>Love's Frailties: a comedy in five acts [in pr...</td>\n",
       "    </tr>\n",
       "    <tr>\n",
       "      <th>206</th>\n",
       "      <td>1793956</td>\n",
       "      <td>The Wedding Day; a comedy in two acts [and in ...</td>\n",
       "    </tr>\n",
       "    <tr>\n",
       "      <th>221</th>\n",
       "      <td>1920080</td>\n",
       "      <td>Looking Glass for my Poli-comedie actors in Eu...</td>\n",
       "    </tr>\n",
       "  </tbody>\n",
       "</table>\n",
       "</div>"
      ],
      "text/plain": [
       "     identifier                                              title\n",
       "71       558610  Arnaldo; Gaddo; and other unacknowledged poems...\n",
       "75       570834  ['Tis Well it's no Worse: a comedy, etc. [Adap...\n",
       "115      835116                             The Jew: a comedy, etc\n",
       "117      849202  Psyche debauch'd, a comedy, as it was acted at...\n",
       "177     1552331  The Womens Conquest. A tragicomedy [in five ac...\n",
       "183     1593978                               Thomas Hardy's works\n",
       "184     1594129  The hand of Ethelberta. A comedy in chapters ....\n",
       "196     1710613  Love's Frailties: a comedy in five acts [in pr...\n",
       "206     1793956  The Wedding Day; a comedy in two acts [and in ...\n",
       "221     1920080  Looking Glass for my Poli-comedie actors in Eu..."
      ]
     },
     "execution_count": 19,
     "metadata": {},
     "output_type": "execute_result"
    }
   ],
   "source": [
    "df_book_comedy[[\"identifier\",\"title\"]].head(10)"
   ]
  },
  {
   "cell_type": "markdown",
   "metadata": {},
   "source": [
    "### Union"
   ]
  },
  {
   "cell_type": "code",
   "execution_count": 20,
   "metadata": {},
   "outputs": [],
   "source": [
    "df_temp = pd.concat([df_book_tragedy, df_book_comedy])"
   ]
  },
  {
   "cell_type": "code",
   "execution_count": 21,
   "metadata": {},
   "outputs": [
    {
     "data": {
      "text/plain": [
       "(50, 12)"
      ]
     },
     "execution_count": 21,
     "metadata": {},
     "output_type": "execute_result"
    }
   ],
   "source": [
    "df_temp.shape"
   ]
  },
  {
   "cell_type": "code",
   "execution_count": 42,
   "metadata": {},
   "outputs": [
    {
     "data": {
      "text/plain": [
       "(64, 13)"
      ]
     },
     "execution_count": 42,
     "metadata": {},
     "output_type": "execute_result"
    }
   ],
   "source": [
    "pd.concat([df_book_tragedy, df_book_tragedy]).reset_index(drop=False).shape"
   ]
  },
  {
   "cell_type": "code",
   "execution_count": 23,
   "metadata": {},
   "outputs": [],
   "source": [
    "df_temp = pd.concat([df_book_tragedy, df_book_comedy]).reset_index(drop=True)"
   ]
  },
  {
   "cell_type": "code",
   "execution_count": 25,
   "metadata": {},
   "outputs": [
    {
     "data": {
      "text/plain": [
       "(50, 12)"
      ]
     },
     "execution_count": 25,
     "metadata": {},
     "output_type": "execute_result"
    }
   ],
   "source": [
    "df_temp.shape"
   ]
  },
  {
   "cell_type": "markdown",
   "metadata": {},
   "source": [
    "### Difference"
   ]
  },
  {
   "cell_type": "code",
   "execution_count": 30,
   "metadata": {},
   "outputs": [
    {
     "data": {
      "text/plain": [
       "(32, 12)"
      ]
     },
     "execution_count": 30,
     "metadata": {},
     "output_type": "execute_result"
    }
   ],
   "source": [
    "df_book_tragedy[~df_book_tragedy.index.isin(df_book_comedy.index)].shape"
   ]
  },
  {
   "cell_type": "code",
   "execution_count": 31,
   "metadata": {},
   "outputs": [
    {
     "data": {
      "text/plain": [
       "array([False, False, False, False, False, False, False, False, False,\n",
       "       False, False, False, False, False, False, False, False, False,\n",
       "       False, False, False, False, False, False, False, False, False,\n",
       "       False, False, False, False, False])"
      ]
     },
     "execution_count": 31,
     "metadata": {},
     "output_type": "execute_result"
    }
   ],
   "source": [
    "df_book_tragedy.index.isin(df_book_comedy.index)"
   ]
  },
  {
   "cell_type": "code",
   "execution_count": 32,
   "metadata": {},
   "outputs": [
    {
     "data": {
      "text/plain": [
       "array([ True,  True,  True,  True,  True,  True,  True,  True,  True,\n",
       "        True,  True,  True,  True,  True,  True,  True,  True,  True,\n",
       "        True,  True,  True,  True,  True,  True,  True,  True,  True,\n",
       "        True,  True,  True,  True,  True])"
      ]
     },
     "execution_count": 32,
     "metadata": {},
     "output_type": "execute_result"
    }
   ],
   "source": [
    "~df_book_tragedy.index.isin(df_book_comedy.index)"
   ]
  },
  {
   "cell_type": "code",
   "execution_count": 33,
   "metadata": {},
   "outputs": [
    {
     "data": {
      "text/plain": [
       "(0, 12)"
      ]
     },
     "execution_count": 33,
     "metadata": {},
     "output_type": "execute_result"
    }
   ],
   "source": [
    "df_book_tragedy[~df_book_tragedy.index.isin(df_book_tragedy.index)].shape"
   ]
  },
  {
   "cell_type": "markdown",
   "metadata": {},
   "source": [
    "### Intersection"
   ]
  },
  {
   "cell_type": "code",
   "execution_count": 34,
   "metadata": {},
   "outputs": [
    {
     "data": {
      "text/plain": [
       "(32, 12)"
      ]
     },
     "execution_count": 34,
     "metadata": {},
     "output_type": "execute_result"
    }
   ],
   "source": [
    "pd.merge(right=df_book_tragedy, left=df_book_tragedy, how=\"inner\").shape"
   ]
  },
  {
   "cell_type": "code",
   "execution_count": 35,
   "metadata": {},
   "outputs": [
    {
     "data": {
      "text/plain": [
       "(0, 12)"
      ]
     },
     "execution_count": 35,
     "metadata": {},
     "output_type": "execute_result"
    }
   ],
   "source": [
    "pd.merge(right=df_book_tragedy, left=df_book_comedy, how=\"inner\").shape"
   ]
  },
  {
   "cell_type": "markdown",
   "metadata": {},
   "source": [
    "## Joins"
   ]
  },
  {
   "cell_type": "markdown",
   "metadata": {},
   "source": [
    "![](https://www.datasciencemadesimple.com/wp-content/uploads/2017/09/join-or-merge-in-python-pandas-1.png?ezimgfmt=ng:webp/ngcb1)\n",
    "\n",
    "- **Inner Join** or Natural join: To keep only rows that match from the data frames, specify the argument `how=‘inner’`.\n",
    "- **Outer Join** or Full outer join:To keep all rows from both data frames, specify `how=‘outer’`.\n",
    "- **Left Join** or Left outer join:To include all the rows of your data frame x and only those from y that match, specify `how=‘left’`.\n",
    "- **Right Join** or Right outer join:To include all the rows of your data frame y and only those from x that match, specify `how=‘right’`."
   ]
  },
  {
   "cell_type": "code",
   "execution_count": 36,
   "metadata": {},
   "outputs": [],
   "source": [
    "# Inner between books and authors passing by the intermediate table author_book"
   ]
  },
  {
   "cell_type": "code",
   "execution_count": 60,
   "metadata": {},
   "outputs": [
    {
     "data": {
      "text/html": [
       "<div>\n",
       "<style scoped>\n",
       "    .dataframe tbody tr th:only-of-type {\n",
       "        vertical-align: middle;\n",
       "    }\n",
       "\n",
       "    .dataframe tbody tr th {\n",
       "        vertical-align: top;\n",
       "    }\n",
       "\n",
       "    .dataframe thead th {\n",
       "        text-align: right;\n",
       "    }\n",
       "</style>\n",
       "<table border=\"1\" class=\"dataframe\">\n",
       "  <thead>\n",
       "    <tr style=\"text-align: right;\">\n",
       "      <th></th>\n",
       "      <th>datefield</th>\n",
       "      <th>publisher</th>\n",
       "      <th>title</th>\n",
       "      <th>edition</th>\n",
       "      <th>place</th>\n",
       "      <th>issuance</th>\n",
       "      <th>first_pdf</th>\n",
       "      <th>number_volumes</th>\n",
       "      <th>identifier</th>\n",
       "      <th>fulltext_filename</th>\n",
       "      <th>type</th>\n",
       "      <th>genre</th>\n",
       "    </tr>\n",
       "  </thead>\n",
       "  <tbody>\n",
       "    <tr>\n",
       "      <th>16</th>\n",
       "      <td>1887.0</td>\n",
       "      <td>J. W. Jarvis &amp; Son</td>\n",
       "      <td>Arden of Feversham, a tragedy: reprinted from ...</td>\n",
       "      <td>NaN</td>\n",
       "      <td>London</td>\n",
       "      <td>monographic</td>\n",
       "      <td>lsidyv35e77d2f</td>\n",
       "      <td>1</td>\n",
       "      <td>106624</td>\n",
       "      <td>000106624_01_text.json</td>\n",
       "      <td>tragedy</td>\n",
       "      <td>Drama</td>\n",
       "    </tr>\n",
       "    <tr>\n",
       "      <th>22</th>\n",
       "      <td>1776.0</td>\n",
       "      <td>J. Dodsley</td>\n",
       "      <td>Semiramis, a tragedy, etc. [In verse.]</td>\n",
       "      <td>NaN</td>\n",
       "      <td>London</td>\n",
       "      <td>monographic</td>\n",
       "      <td>lsidyv36799899</td>\n",
       "      <td>1</td>\n",
       "      <td>154917</td>\n",
       "      <td>000154917_01_text.json</td>\n",
       "      <td>tragedy</td>\n",
       "      <td>Drama</td>\n",
       "    </tr>\n",
       "    <tr>\n",
       "      <th>31</th>\n",
       "      <td>1794.0</td>\n",
       "      <td>For the Author</td>\n",
       "      <td>The Fall of the French Monarchy; or, Louis XVI...</td>\n",
       "      <td>NaN</td>\n",
       "      <td>London</td>\n",
       "      <td>monographic</td>\n",
       "      <td>lsidyv3679ae3b</td>\n",
       "      <td>1</td>\n",
       "      <td>215686</td>\n",
       "      <td>000215686_01_text.json</td>\n",
       "      <td>tragedy</td>\n",
       "      <td>Drama</td>\n",
       "    </tr>\n",
       "    <tr>\n",
       "      <th>65</th>\n",
       "      <td>1884.0</td>\n",
       "      <td>G. Bell &amp; Sons</td>\n",
       "      <td>[Strafford: an historical tragedy.]</td>\n",
       "      <td>[Another edition.] With notes and preface by E...</td>\n",
       "      <td>London</td>\n",
       "      <td>monographic</td>\n",
       "      <td>lsidyv35e8b99c</td>\n",
       "      <td>1</td>\n",
       "      <td>499453</td>\n",
       "      <td>000499453_01_text.json</td>\n",
       "      <td>tragedy</td>\n",
       "      <td>Drama</td>\n",
       "    </tr>\n",
       "    <tr>\n",
       "      <th>70</th>\n",
       "      <td>1821.0</td>\n",
       "      <td>John Murray</td>\n",
       "      <td>Sardanapalus, a tragedy. The Two Foscari, a tr...</td>\n",
       "      <td>NaN</td>\n",
       "      <td>London</td>\n",
       "      <td>monographic</td>\n",
       "      <td>lsidyv386108c3</td>\n",
       "      <td>1</td>\n",
       "      <td>558547</td>\n",
       "      <td>000558547_01_text.json</td>\n",
       "      <td>tragedy</td>\n",
       "      <td>Drama</td>\n",
       "    </tr>\n",
       "  </tbody>\n",
       "</table>\n",
       "</div>"
      ],
      "text/plain": [
       "    datefield           publisher  \\\n",
       "16     1887.0  J. W. Jarvis & Son   \n",
       "22     1776.0          J. Dodsley   \n",
       "31     1794.0      For the Author   \n",
       "65     1884.0      G. Bell & Sons   \n",
       "70     1821.0         John Murray   \n",
       "\n",
       "                                                title  \\\n",
       "16  Arden of Feversham, a tragedy: reprinted from ...   \n",
       "22             Semiramis, a tragedy, etc. [In verse.]   \n",
       "31  The Fall of the French Monarchy; or, Louis XVI...   \n",
       "65                [Strafford: an historical tragedy.]   \n",
       "70  Sardanapalus, a tragedy. The Two Foscari, a tr...   \n",
       "\n",
       "                                              edition   place     issuance  \\\n",
       "16                                                NaN  London  monographic   \n",
       "22                                                NaN  London  monographic   \n",
       "31                                                NaN  London  monographic   \n",
       "65  [Another edition.] With notes and preface by E...  London  monographic   \n",
       "70                                                NaN  London  monographic   \n",
       "\n",
       "         first_pdf  number_volumes  identifier       fulltext_filename  \\\n",
       "16  lsidyv35e77d2f               1      106624  000106624_01_text.json   \n",
       "22  lsidyv36799899               1      154917  000154917_01_text.json   \n",
       "31  lsidyv3679ae3b               1      215686  000215686_01_text.json   \n",
       "65  lsidyv35e8b99c               1      499453  000499453_01_text.json   \n",
       "70  lsidyv386108c3               1      558547  000558547_01_text.json   \n",
       "\n",
       "       type  genre  \n",
       "16  tragedy  Drama  \n",
       "22  tragedy  Drama  \n",
       "31  tragedy  Drama  \n",
       "65  tragedy  Drama  \n",
       "70  tragedy  Drama  "
      ]
     },
     "execution_count": 60,
     "metadata": {},
     "output_type": "execute_result"
    }
   ],
   "source": [
    "df_book_tragedy.head(5)"
   ]
  },
  {
   "cell_type": "code",
   "execution_count": 61,
   "metadata": {},
   "outputs": [],
   "source": [
    "df_book_tragedy_authors = pd.merge(right=df_book_tragedy, \n",
    "                                   left=df_author_book, how=\"inner\", \n",
    "                                   right_on=\"identifier\", left_on=\"book_id\")"
   ]
  },
  {
   "cell_type": "code",
   "execution_count": 62,
   "metadata": {},
   "outputs": [
    {
     "data": {
      "text/html": [
       "<div>\n",
       "<style scoped>\n",
       "    .dataframe tbody tr th:only-of-type {\n",
       "        vertical-align: middle;\n",
       "    }\n",
       "\n",
       "    .dataframe tbody tr th {\n",
       "        vertical-align: top;\n",
       "    }\n",
       "\n",
       "    .dataframe thead th {\n",
       "        text-align: right;\n",
       "    }\n",
       "</style>\n",
       "<table border=\"1\" class=\"dataframe\">\n",
       "  <thead>\n",
       "    <tr style=\"text-align: right;\">\n",
       "      <th></th>\n",
       "      <th>book_id</th>\n",
       "      <th>author_id</th>\n",
       "      <th>datefield</th>\n",
       "      <th>publisher</th>\n",
       "      <th>title</th>\n",
       "      <th>edition</th>\n",
       "      <th>place</th>\n",
       "      <th>issuance</th>\n",
       "      <th>first_pdf</th>\n",
       "      <th>number_volumes</th>\n",
       "      <th>identifier</th>\n",
       "      <th>fulltext_filename</th>\n",
       "      <th>type</th>\n",
       "      <th>genre</th>\n",
       "    </tr>\n",
       "  </thead>\n",
       "  <tbody>\n",
       "    <tr>\n",
       "      <th>0</th>\n",
       "      <td>106624</td>\n",
       "      <td>14</td>\n",
       "      <td>1887.0</td>\n",
       "      <td>J. W. Jarvis &amp; Son</td>\n",
       "      <td>Arden of Feversham, a tragedy: reprinted from ...</td>\n",
       "      <td>NaN</td>\n",
       "      <td>London</td>\n",
       "      <td>monographic</td>\n",
       "      <td>lsidyv35e77d2f</td>\n",
       "      <td>1</td>\n",
       "      <td>106624</td>\n",
       "      <td>000106624_01_text.json</td>\n",
       "      <td>tragedy</td>\n",
       "      <td>Drama</td>\n",
       "    </tr>\n",
       "    <tr>\n",
       "      <th>1</th>\n",
       "      <td>154917</td>\n",
       "      <td>20</td>\n",
       "      <td>1776.0</td>\n",
       "      <td>J. Dodsley</td>\n",
       "      <td>Semiramis, a tragedy, etc. [In verse.]</td>\n",
       "      <td>NaN</td>\n",
       "      <td>London</td>\n",
       "      <td>monographic</td>\n",
       "      <td>lsidyv36799899</td>\n",
       "      <td>1</td>\n",
       "      <td>154917</td>\n",
       "      <td>000154917_01_text.json</td>\n",
       "      <td>tragedy</td>\n",
       "      <td>Drama</td>\n",
       "    </tr>\n",
       "    <tr>\n",
       "      <th>2</th>\n",
       "      <td>215686</td>\n",
       "      <td>29</td>\n",
       "      <td>1794.0</td>\n",
       "      <td>For the Author</td>\n",
       "      <td>The Fall of the French Monarchy; or, Louis XVI...</td>\n",
       "      <td>NaN</td>\n",
       "      <td>London</td>\n",
       "      <td>monographic</td>\n",
       "      <td>lsidyv3679ae3b</td>\n",
       "      <td>1</td>\n",
       "      <td>215686</td>\n",
       "      <td>000215686_01_text.json</td>\n",
       "      <td>tragedy</td>\n",
       "      <td>Drama</td>\n",
       "    </tr>\n",
       "  </tbody>\n",
       "</table>\n",
       "</div>"
      ],
      "text/plain": [
       "   book_id  author_id  datefield           publisher  \\\n",
       "0   106624         14     1887.0  J. W. Jarvis & Son   \n",
       "1   154917         20     1776.0          J. Dodsley   \n",
       "2   215686         29     1794.0      For the Author   \n",
       "\n",
       "                                               title edition   place  \\\n",
       "0  Arden of Feversham, a tragedy: reprinted from ...     NaN  London   \n",
       "1             Semiramis, a tragedy, etc. [In verse.]     NaN  London   \n",
       "2  The Fall of the French Monarchy; or, Louis XVI...     NaN  London   \n",
       "\n",
       "      issuance       first_pdf  number_volumes  identifier  \\\n",
       "0  monographic  lsidyv35e77d2f               1      106624   \n",
       "1  monographic  lsidyv36799899               1      154917   \n",
       "2  monographic  lsidyv3679ae3b               1      215686   \n",
       "\n",
       "        fulltext_filename     type  genre  \n",
       "0  000106624_01_text.json  tragedy  Drama  \n",
       "1  000154917_01_text.json  tragedy  Drama  \n",
       "2  000215686_01_text.json  tragedy  Drama  "
      ]
     },
     "execution_count": 62,
     "metadata": {},
     "output_type": "execute_result"
    }
   ],
   "source": [
    "df_book_tragedy_authors.head(3)"
   ]
  },
  {
   "cell_type": "code",
   "execution_count": 63,
   "metadata": {},
   "outputs": [],
   "source": [
    "df_book_tragedy_authors = pd.merge(right=df_book_tragedy_authors, \n",
    "                                   left=df_author, how=\"inner\", right_on=\"author_id\", \n",
    "                                   left_index=True)"
   ]
  },
  {
   "cell_type": "code",
   "execution_count": 64,
   "metadata": {},
   "outputs": [
    {
     "data": {
      "text/html": [
       "<div>\n",
       "<style scoped>\n",
       "    .dataframe tbody tr th:only-of-type {\n",
       "        vertical-align: middle;\n",
       "    }\n",
       "\n",
       "    .dataframe tbody tr th {\n",
       "        vertical-align: top;\n",
       "    }\n",
       "\n",
       "    .dataframe thead th {\n",
       "        text-align: right;\n",
       "    }\n",
       "</style>\n",
       "<table border=\"1\" class=\"dataframe\">\n",
       "  <thead>\n",
       "    <tr style=\"text-align: right;\">\n",
       "      <th></th>\n",
       "      <th>name</th>\n",
       "      <th>book_id</th>\n",
       "      <th>author_id</th>\n",
       "      <th>datefield</th>\n",
       "      <th>publisher</th>\n",
       "      <th>title</th>\n",
       "      <th>edition</th>\n",
       "      <th>place</th>\n",
       "      <th>issuance</th>\n",
       "      <th>first_pdf</th>\n",
       "      <th>number_volumes</th>\n",
       "      <th>identifier</th>\n",
       "      <th>fulltext_filename</th>\n",
       "      <th>type</th>\n",
       "      <th>genre</th>\n",
       "    </tr>\n",
       "  </thead>\n",
       "  <tbody>\n",
       "    <tr>\n",
       "      <th>12</th>\n",
       "      <td>NaN</td>\n",
       "      <td>1256889</td>\n",
       "      <td>7</td>\n",
       "      <td>1874.0</td>\n",
       "      <td>NaN</td>\n",
       "      <td>The Maid of Florence; or, a Woman's Vengeance....</td>\n",
       "      <td>NaN</td>\n",
       "      <td>London</td>\n",
       "      <td>monographic</td>\n",
       "      <td>lsidyv35e87a54</td>\n",
       "      <td>1</td>\n",
       "      <td>1256889</td>\n",
       "      <td>001256889_01_text.json</td>\n",
       "      <td>tragedy</td>\n",
       "      <td>Drama</td>\n",
       "    </tr>\n",
       "    <tr>\n",
       "      <th>19</th>\n",
       "      <td>NaN</td>\n",
       "      <td>2422448</td>\n",
       "      <td>7</td>\n",
       "      <td>1775.0</td>\n",
       "      <td>NaN</td>\n",
       "      <td>Matilda: a tragedy [in five acts and in verse]...</td>\n",
       "      <td>NaN</td>\n",
       "      <td>London</td>\n",
       "      <td>monographic</td>\n",
       "      <td>lsidyv367991fa</td>\n",
       "      <td>1</td>\n",
       "      <td>2422448</td>\n",
       "      <td>002422448_01_text.json</td>\n",
       "      <td>tragedy</td>\n",
       "      <td>Drama</td>\n",
       "    </tr>\n",
       "    <tr>\n",
       "      <th>22</th>\n",
       "      <td>NaN</td>\n",
       "      <td>3091234</td>\n",
       "      <td>7</td>\n",
       "      <td>1861.0</td>\n",
       "      <td>NaN</td>\n",
       "      <td>Richard Cœur de Lion, an historical tragedy [i...</td>\n",
       "      <td>NaN</td>\n",
       "      <td>London</td>\n",
       "      <td>monographic</td>\n",
       "      <td>lsidyv35e86dc3</td>\n",
       "      <td>1</td>\n",
       "      <td>3091234</td>\n",
       "      <td>003091234_01_text.json</td>\n",
       "      <td>tragedy</td>\n",
       "      <td>Drama</td>\n",
       "    </tr>\n",
       "  </tbody>\n",
       "</table>\n",
       "</div>"
      ],
      "text/plain": [
       "   name  book_id  author_id  datefield publisher  \\\n",
       "12  NaN  1256889          7     1874.0       NaN   \n",
       "19  NaN  2422448          7     1775.0       NaN   \n",
       "22  NaN  3091234          7     1861.0       NaN   \n",
       "\n",
       "                                                title edition   place  \\\n",
       "12  The Maid of Florence; or, a Woman's Vengeance....     NaN  London   \n",
       "19  Matilda: a tragedy [in five acts and in verse]...     NaN  London   \n",
       "22  Richard Cœur de Lion, an historical tragedy [i...     NaN  London   \n",
       "\n",
       "       issuance       first_pdf  number_volumes  identifier  \\\n",
       "12  monographic  lsidyv35e87a54               1     1256889   \n",
       "19  monographic  lsidyv367991fa               1     2422448   \n",
       "22  monographic  lsidyv35e86dc3               1     3091234   \n",
       "\n",
       "         fulltext_filename     type  genre  \n",
       "12  001256889_01_text.json  tragedy  Drama  \n",
       "19  002422448_01_text.json  tragedy  Drama  \n",
       "22  003091234_01_text.json  tragedy  Drama  "
      ]
     },
     "execution_count": 64,
     "metadata": {},
     "output_type": "execute_result"
    }
   ],
   "source": [
    "df_book_tragedy_authors.head(3)"
   ]
  },
  {
   "cell_type": "code",
   "execution_count": 65,
   "metadata": {},
   "outputs": [],
   "source": [
    "df_book_tragedy_authors = df_book_tragedy_authors[[\"author_id\",\"name\",\"title\",\"datefield\",\"identifier\"]]"
   ]
  },
  {
   "cell_type": "code",
   "execution_count": 66,
   "metadata": {},
   "outputs": [
    {
     "data": {
      "text/html": [
       "<div>\n",
       "<style scoped>\n",
       "    .dataframe tbody tr th:only-of-type {\n",
       "        vertical-align: middle;\n",
       "    }\n",
       "\n",
       "    .dataframe tbody tr th {\n",
       "        vertical-align: top;\n",
       "    }\n",
       "\n",
       "    .dataframe thead th {\n",
       "        text-align: right;\n",
       "    }\n",
       "</style>\n",
       "<table border=\"1\" class=\"dataframe\">\n",
       "  <thead>\n",
       "    <tr style=\"text-align: right;\">\n",
       "      <th></th>\n",
       "      <th>author_id</th>\n",
       "      <th>name</th>\n",
       "      <th>title</th>\n",
       "      <th>datefield</th>\n",
       "      <th>identifier</th>\n",
       "    </tr>\n",
       "  </thead>\n",
       "  <tbody>\n",
       "    <tr>\n",
       "      <th>12</th>\n",
       "      <td>7</td>\n",
       "      <td>NaN</td>\n",
       "      <td>The Maid of Florence; or, a Woman's Vengeance....</td>\n",
       "      <td>1874.0</td>\n",
       "      <td>1256889</td>\n",
       "    </tr>\n",
       "    <tr>\n",
       "      <th>19</th>\n",
       "      <td>7</td>\n",
       "      <td>NaN</td>\n",
       "      <td>Matilda: a tragedy [in five acts and in verse]...</td>\n",
       "      <td>1775.0</td>\n",
       "      <td>2422448</td>\n",
       "    </tr>\n",
       "    <tr>\n",
       "      <th>22</th>\n",
       "      <td>7</td>\n",
       "      <td>NaN</td>\n",
       "      <td>Richard Cœur de Lion, an historical tragedy [i...</td>\n",
       "      <td>1861.0</td>\n",
       "      <td>3091234</td>\n",
       "    </tr>\n",
       "  </tbody>\n",
       "</table>\n",
       "</div>"
      ],
      "text/plain": [
       "    author_id name                                              title  \\\n",
       "12          7  NaN  The Maid of Florence; or, a Woman's Vengeance....   \n",
       "19          7  NaN  Matilda: a tragedy [in five acts and in verse]...   \n",
       "22          7  NaN  Richard Cœur de Lion, an historical tragedy [i...   \n",
       "\n",
       "    datefield  identifier  \n",
       "12     1874.0     1256889  \n",
       "19     1775.0     2422448  \n",
       "22     1861.0     3091234  "
      ]
     },
     "execution_count": 66,
     "metadata": {},
     "output_type": "execute_result"
    }
   ],
   "source": [
    "df_book_tragedy_authors.head(3)"
   ]
  },
  {
   "cell_type": "code",
   "execution_count": 67,
   "metadata": {},
   "outputs": [
    {
     "data": {
      "text/html": [
       "<div>\n",
       "<style scoped>\n",
       "    .dataframe tbody tr th:only-of-type {\n",
       "        vertical-align: middle;\n",
       "    }\n",
       "\n",
       "    .dataframe tbody tr th {\n",
       "        vertical-align: top;\n",
       "    }\n",
       "\n",
       "    .dataframe thead th {\n",
       "        text-align: right;\n",
       "    }\n",
       "</style>\n",
       "<table border=\"1\" class=\"dataframe\">\n",
       "  <thead>\n",
       "    <tr style=\"text-align: right;\">\n",
       "      <th></th>\n",
       "      <th>datefield</th>\n",
       "      <th>publisher</th>\n",
       "      <th>title</th>\n",
       "      <th>edition</th>\n",
       "      <th>place</th>\n",
       "      <th>issuance</th>\n",
       "      <th>first_pdf</th>\n",
       "      <th>number_volumes</th>\n",
       "      <th>identifier</th>\n",
       "      <th>fulltext_filename</th>\n",
       "      <th>type</th>\n",
       "      <th>genre</th>\n",
       "    </tr>\n",
       "  </thead>\n",
       "  <tbody>\n",
       "    <tr>\n",
       "      <th>151</th>\n",
       "      <td>1874.0</td>\n",
       "      <td>NaN</td>\n",
       "      <td>The Maid of Florence; or, a Woman's Vengeance....</td>\n",
       "      <td>NaN</td>\n",
       "      <td>London</td>\n",
       "      <td>monographic</td>\n",
       "      <td>lsidyv35e87a54</td>\n",
       "      <td>1</td>\n",
       "      <td>1256889</td>\n",
       "      <td>001256889_01_text.json</td>\n",
       "      <td>tragedy</td>\n",
       "      <td>Drama</td>\n",
       "    </tr>\n",
       "  </tbody>\n",
       "</table>\n",
       "</div>"
      ],
      "text/plain": [
       "     datefield publisher                                              title  \\\n",
       "151     1874.0       NaN  The Maid of Florence; or, a Woman's Vengeance....   \n",
       "\n",
       "    edition   place     issuance       first_pdf  number_volumes  identifier  \\\n",
       "151     NaN  London  monographic  lsidyv35e87a54               1     1256889   \n",
       "\n",
       "          fulltext_filename     type  genre  \n",
       "151  001256889_01_text.json  tragedy  Drama  "
      ]
     },
     "execution_count": 67,
     "metadata": {},
     "output_type": "execute_result"
    }
   ],
   "source": [
    "df_book[df_book[\"identifier\"] == 1256889]"
   ]
  },
  {
   "cell_type": "code",
   "execution_count": 68,
   "metadata": {},
   "outputs": [
    {
     "data": {
      "text/html": [
       "<div>\n",
       "<style scoped>\n",
       "    .dataframe tbody tr th:only-of-type {\n",
       "        vertical-align: middle;\n",
       "    }\n",
       "\n",
       "    .dataframe tbody tr th {\n",
       "        vertical-align: top;\n",
       "    }\n",
       "\n",
       "    .dataframe thead th {\n",
       "        text-align: right;\n",
       "    }\n",
       "</style>\n",
       "<table border=\"1\" class=\"dataframe\">\n",
       "  <thead>\n",
       "    <tr style=\"text-align: right;\">\n",
       "      <th></th>\n",
       "      <th>book_id</th>\n",
       "      <th>author_id</th>\n",
       "    </tr>\n",
       "  </thead>\n",
       "  <tbody>\n",
       "    <tr>\n",
       "      <th>151</th>\n",
       "      <td>1256889</td>\n",
       "      <td>7</td>\n",
       "    </tr>\n",
       "  </tbody>\n",
       "</table>\n",
       "</div>"
      ],
      "text/plain": [
       "     book_id  author_id\n",
       "151  1256889          7"
      ]
     },
     "execution_count": 68,
     "metadata": {},
     "output_type": "execute_result"
    }
   ],
   "source": [
    "df_author_book[df_author_book[\"book_id\"] == 1256889]"
   ]
  },
  {
   "cell_type": "code",
   "execution_count": 69,
   "metadata": {},
   "outputs": [
    {
     "data": {
      "text/html": [
       "<div>\n",
       "<style scoped>\n",
       "    .dataframe tbody tr th:only-of-type {\n",
       "        vertical-align: middle;\n",
       "    }\n",
       "\n",
       "    .dataframe tbody tr th {\n",
       "        vertical-align: top;\n",
       "    }\n",
       "\n",
       "    .dataframe thead th {\n",
       "        text-align: right;\n",
       "    }\n",
       "</style>\n",
       "<table border=\"1\" class=\"dataframe\">\n",
       "  <thead>\n",
       "    <tr style=\"text-align: right;\">\n",
       "      <th></th>\n",
       "      <th>name</th>\n",
       "    </tr>\n",
       "  </thead>\n",
       "  <tbody>\n",
       "    <tr>\n",
       "      <th>7</th>\n",
       "      <td>NaN</td>\n",
       "    </tr>\n",
       "  </tbody>\n",
       "</table>\n",
       "</div>"
      ],
      "text/plain": [
       "  name\n",
       "7  NaN"
      ]
     },
     "execution_count": 69,
     "metadata": {},
     "output_type": "execute_result"
    }
   ],
   "source": [
    "df_author[df_author.index == 7]"
   ]
  },
  {
   "cell_type": "markdown",
   "metadata": {},
   "source": [
    "**Question**: try to drop the author_id 7 (no or unknown author) from the df_author table, and try to inner join again. What happens?"
   ]
  },
  {
   "cell_type": "code",
   "execution_count": 73,
   "metadata": {},
   "outputs": [
    {
     "name": "stdout",
     "output_type": "stream",
     "text": [
      "(365, 1)\n",
      "(364, 1)\n"
     ]
    }
   ],
   "source": [
    "print(df_author.shape)\n",
    "df_author_reduced = df_author[~df_author[\"name\"].isna()]\n",
    "print(df_author_reduced.shape)"
   ]
  },
  {
   "cell_type": "code",
   "execution_count": 48,
   "metadata": {},
   "outputs": [],
   "source": [
    "# Left"
   ]
  },
  {
   "cell_type": "code",
   "execution_count": 77,
   "metadata": {},
   "outputs": [
    {
     "data": {
      "text/plain": [
       "name    BEECHAM, John.\n",
       "Name: 31, dtype: object"
      ]
     },
     "execution_count": 77,
     "metadata": {},
     "output_type": "execute_result"
    }
   ],
   "source": [
    "df_author_reduced.loc[31]"
   ]
  },
  {
   "cell_type": "code",
   "execution_count": 49,
   "metadata": {},
   "outputs": [
    {
     "data": {
      "text/html": [
       "<div>\n",
       "<style scoped>\n",
       "    .dataframe tbody tr th:only-of-type {\n",
       "        vertical-align: middle;\n",
       "    }\n",
       "\n",
       "    .dataframe tbody tr th {\n",
       "        vertical-align: top;\n",
       "    }\n",
       "\n",
       "    .dataframe thead th {\n",
       "        text-align: right;\n",
       "    }\n",
       "</style>\n",
       "<table border=\"1\" class=\"dataframe\">\n",
       "  <thead>\n",
       "    <tr style=\"text-align: right;\">\n",
       "      <th></th>\n",
       "      <th>name_x</th>\n",
       "      <th>author_id</th>\n",
       "      <th>name_y</th>\n",
       "      <th>title</th>\n",
       "      <th>datefield</th>\n",
       "      <th>identifier</th>\n",
       "    </tr>\n",
       "  </thead>\n",
       "  <tbody>\n",
       "    <tr>\n",
       "      <th>31</th>\n",
       "      <td>A. A.</td>\n",
       "      <td>0</td>\n",
       "      <td>NaN</td>\n",
       "      <td>NaN</td>\n",
       "      <td>NaN</td>\n",
       "      <td>NaN</td>\n",
       "    </tr>\n",
       "    <tr>\n",
       "      <th>31</th>\n",
       "      <td>Abbott, Evelyn</td>\n",
       "      <td>1</td>\n",
       "      <td>NaN</td>\n",
       "      <td>NaN</td>\n",
       "      <td>NaN</td>\n",
       "      <td>NaN</td>\n",
       "    </tr>\n",
       "    <tr>\n",
       "      <th>31</th>\n",
       "      <td>A'BECKETT, Gilbert Abbott.</td>\n",
       "      <td>2</td>\n",
       "      <td>NaN</td>\n",
       "      <td>NaN</td>\n",
       "      <td>NaN</td>\n",
       "      <td>NaN</td>\n",
       "    </tr>\n",
       "    <tr>\n",
       "      <th>31</th>\n",
       "      <td>Laffan, De Courcy - Mrs</td>\n",
       "      <td>3</td>\n",
       "      <td>NaN</td>\n",
       "      <td>NaN</td>\n",
       "      <td>NaN</td>\n",
       "      <td>NaN</td>\n",
       "    </tr>\n",
       "    <tr>\n",
       "      <th>31</th>\n",
       "      <td>Adams, W. H. Davenport (William Henry Davenport)</td>\n",
       "      <td>4</td>\n",
       "      <td>NaN</td>\n",
       "      <td>NaN</td>\n",
       "      <td>NaN</td>\n",
       "      <td>NaN</td>\n",
       "    </tr>\n",
       "    <tr>\n",
       "      <th>31</th>\n",
       "      <td>ALGIE, James.</td>\n",
       "      <td>5</td>\n",
       "      <td>NaN</td>\n",
       "      <td>NaN</td>\n",
       "      <td>NaN</td>\n",
       "      <td>NaN</td>\n",
       "    </tr>\n",
       "    <tr>\n",
       "      <th>31</th>\n",
       "      <td>ALLAN, J. T.</td>\n",
       "      <td>6</td>\n",
       "      <td>NaN</td>\n",
       "      <td>NaN</td>\n",
       "      <td>NaN</td>\n",
       "      <td>NaN</td>\n",
       "    </tr>\n",
       "    <tr>\n",
       "      <th>31</th>\n",
       "      <td>Andersen, H. C. (Hans Christian)</td>\n",
       "      <td>8</td>\n",
       "      <td>NaN</td>\n",
       "      <td>NaN</td>\n",
       "      <td>NaN</td>\n",
       "      <td>NaN</td>\n",
       "    </tr>\n",
       "    <tr>\n",
       "      <th>31</th>\n",
       "      <td>ANDERSON, Alexander - of Kirkconnell</td>\n",
       "      <td>9</td>\n",
       "      <td>NaN</td>\n",
       "      <td>NaN</td>\n",
       "      <td>NaN</td>\n",
       "      <td>NaN</td>\n",
       "    </tr>\n",
       "    <tr>\n",
       "      <th>31</th>\n",
       "      <td>ANDREWS, Christopher Columbus.</td>\n",
       "      <td>10</td>\n",
       "      <td>NaN</td>\n",
       "      <td>NaN</td>\n",
       "      <td>NaN</td>\n",
       "      <td>NaN</td>\n",
       "    </tr>\n",
       "  </tbody>\n",
       "</table>\n",
       "</div>"
      ],
      "text/plain": [
       "                                              name_x  author_id name_y title  \\\n",
       "31                                             A. A.          0    NaN   NaN   \n",
       "31                                    Abbott, Evelyn          1    NaN   NaN   \n",
       "31                        A'BECKETT, Gilbert Abbott.          2    NaN   NaN   \n",
       "31                           Laffan, De Courcy - Mrs          3    NaN   NaN   \n",
       "31  Adams, W. H. Davenport (William Henry Davenport)          4    NaN   NaN   \n",
       "31                                     ALGIE, James.          5    NaN   NaN   \n",
       "31                                      ALLAN, J. T.          6    NaN   NaN   \n",
       "31                  Andersen, H. C. (Hans Christian)          8    NaN   NaN   \n",
       "31              ANDERSON, Alexander - of Kirkconnell          9    NaN   NaN   \n",
       "31                    ANDREWS, Christopher Columbus.         10    NaN   NaN   \n",
       "\n",
       "    datefield  identifier  \n",
       "31        NaN         NaN  \n",
       "31        NaN         NaN  \n",
       "31        NaN         NaN  \n",
       "31        NaN         NaN  \n",
       "31        NaN         NaN  \n",
       "31        NaN         NaN  \n",
       "31        NaN         NaN  \n",
       "31        NaN         NaN  \n",
       "31        NaN         NaN  \n",
       "31        NaN         NaN  "
      ]
     },
     "execution_count": 49,
     "metadata": {},
     "output_type": "execute_result"
    }
   ],
   "source": [
    "pd.merge(right=df_book_tragedy_authors, left=df_author_reduced, how=\"left\", right_on=\"author_id\", left_index=True).head(10)"
   ]
  },
  {
   "cell_type": "code",
   "execution_count": 50,
   "metadata": {},
   "outputs": [],
   "source": [
    "# Right"
   ]
  },
  {
   "cell_type": "code",
   "execution_count": 51,
   "metadata": {},
   "outputs": [
    {
     "data": {
      "text/html": [
       "<div>\n",
       "<style scoped>\n",
       "    .dataframe tbody tr th:only-of-type {\n",
       "        vertical-align: middle;\n",
       "    }\n",
       "\n",
       "    .dataframe tbody tr th {\n",
       "        vertical-align: top;\n",
       "    }\n",
       "\n",
       "    .dataframe thead th {\n",
       "        text-align: right;\n",
       "    }\n",
       "</style>\n",
       "<table border=\"1\" class=\"dataframe\">\n",
       "  <thead>\n",
       "    <tr style=\"text-align: right;\">\n",
       "      <th></th>\n",
       "      <th>name_x</th>\n",
       "      <th>author_id</th>\n",
       "      <th>name_y</th>\n",
       "      <th>title</th>\n",
       "      <th>datefield</th>\n",
       "      <th>identifier</th>\n",
       "    </tr>\n",
       "  </thead>\n",
       "  <tbody>\n",
       "    <tr>\n",
       "      <th>12</th>\n",
       "      <td>NaN</td>\n",
       "      <td>7</td>\n",
       "      <td>NaN</td>\n",
       "      <td>The Maid of Florence; or, a Woman's Vengeance....</td>\n",
       "      <td>1874.0</td>\n",
       "      <td>1256889</td>\n",
       "    </tr>\n",
       "    <tr>\n",
       "      <th>19</th>\n",
       "      <td>NaN</td>\n",
       "      <td>7</td>\n",
       "      <td>NaN</td>\n",
       "      <td>Matilda: a tragedy [in five acts and in verse]...</td>\n",
       "      <td>1775.0</td>\n",
       "      <td>2422448</td>\n",
       "    </tr>\n",
       "    <tr>\n",
       "      <th>22</th>\n",
       "      <td>NaN</td>\n",
       "      <td>7</td>\n",
       "      <td>NaN</td>\n",
       "      <td>Richard Cœur de Lion, an historical tragedy [i...</td>\n",
       "      <td>1861.0</td>\n",
       "      <td>3091234</td>\n",
       "    </tr>\n",
       "    <tr>\n",
       "      <th>26</th>\n",
       "      <td>NaN</td>\n",
       "      <td>7</td>\n",
       "      <td>NaN</td>\n",
       "      <td>The King's Stratagem, or the Pearl of Poland. ...</td>\n",
       "      <td>1874.0</td>\n",
       "      <td>3492293</td>\n",
       "    </tr>\n",
       "    <tr>\n",
       "      <th>27</th>\n",
       "      <td>NaN</td>\n",
       "      <td>7</td>\n",
       "      <td>NaN</td>\n",
       "      <td>The Count de Villeroi; or, the fate of Patriot...</td>\n",
       "      <td>1794.0</td>\n",
       "      <td>3795731</td>\n",
       "    </tr>\n",
       "    <tr>\n",
       "      <th>0</th>\n",
       "      <td>ARDEN, Thomas - of Faversham</td>\n",
       "      <td>14</td>\n",
       "      <td>ARDEN, Thomas - of Faversham</td>\n",
       "      <td>Arden of Feversham, a tragedy: reprinted from ...</td>\n",
       "      <td>1887.0</td>\n",
       "      <td>106624</td>\n",
       "    </tr>\n",
       "    <tr>\n",
       "      <th>1</th>\n",
       "      <td>AYSCOUGH, George Edward.</td>\n",
       "      <td>20</td>\n",
       "      <td>AYSCOUGH, George Edward.</td>\n",
       "      <td>Semiramis, a tragedy, etc. [In verse.]</td>\n",
       "      <td>1776.0</td>\n",
       "      <td>154917</td>\n",
       "    </tr>\n",
       "    <tr>\n",
       "      <th>2</th>\n",
       "      <td>BARTHOLOMEW, John - Dramatist</td>\n",
       "      <td>29</td>\n",
       "      <td>BARTHOLOMEW, John - Dramatist</td>\n",
       "      <td>The Fall of the French Monarchy; or, Louis XVI...</td>\n",
       "      <td>1794.0</td>\n",
       "      <td>215686</td>\n",
       "    </tr>\n",
       "    <tr>\n",
       "      <th>3</th>\n",
       "      <td>BROWNING, Robert - the Poet</td>\n",
       "      <td>60</td>\n",
       "      <td>BROWNING, Robert - the Poet</td>\n",
       "      <td>[Strafford: an historical tragedy.]</td>\n",
       "      <td>1884.0</td>\n",
       "      <td>499453</td>\n",
       "    </tr>\n",
       "    <tr>\n",
       "      <th>4</th>\n",
       "      <td>Byron, George Gordon Byron - Baron</td>\n",
       "      <td>65</td>\n",
       "      <td>Byron, George Gordon Byron - Baron</td>\n",
       "      <td>Sardanapalus, a tragedy. The Two Foscari, a tr...</td>\n",
       "      <td>1821.0</td>\n",
       "      <td>558547</td>\n",
       "    </tr>\n",
       "  </tbody>\n",
       "</table>\n",
       "</div>"
      ],
      "text/plain": [
       "                                name_x  author_id  \\\n",
       "12                                 NaN          7   \n",
       "19                                 NaN          7   \n",
       "22                                 NaN          7   \n",
       "26                                 NaN          7   \n",
       "27                                 NaN          7   \n",
       "0         ARDEN, Thomas - of Faversham         14   \n",
       "1             AYSCOUGH, George Edward.         20   \n",
       "2        BARTHOLOMEW, John - Dramatist         29   \n",
       "3          BROWNING, Robert - the Poet         60   \n",
       "4   Byron, George Gordon Byron - Baron         65   \n",
       "\n",
       "                                name_y  \\\n",
       "12                                 NaN   \n",
       "19                                 NaN   \n",
       "22                                 NaN   \n",
       "26                                 NaN   \n",
       "27                                 NaN   \n",
       "0         ARDEN, Thomas - of Faversham   \n",
       "1             AYSCOUGH, George Edward.   \n",
       "2        BARTHOLOMEW, John - Dramatist   \n",
       "3          BROWNING, Robert - the Poet   \n",
       "4   Byron, George Gordon Byron - Baron   \n",
       "\n",
       "                                                title  datefield  identifier  \n",
       "12  The Maid of Florence; or, a Woman's Vengeance....     1874.0     1256889  \n",
       "19  Matilda: a tragedy [in five acts and in verse]...     1775.0     2422448  \n",
       "22  Richard Cœur de Lion, an historical tragedy [i...     1861.0     3091234  \n",
       "26  The King's Stratagem, or the Pearl of Poland. ...     1874.0     3492293  \n",
       "27  The Count de Villeroi; or, the fate of Patriot...     1794.0     3795731  \n",
       "0   Arden of Feversham, a tragedy: reprinted from ...     1887.0      106624  \n",
       "1              Semiramis, a tragedy, etc. [In verse.]     1776.0      154917  \n",
       "2   The Fall of the French Monarchy; or, Louis XVI...     1794.0      215686  \n",
       "3                 [Strafford: an historical tragedy.]     1884.0      499453  \n",
       "4   Sardanapalus, a tragedy. The Two Foscari, a tr...     1821.0      558547  "
      ]
     },
     "execution_count": 51,
     "metadata": {},
     "output_type": "execute_result"
    }
   ],
   "source": [
    "pd.merge(right=df_book_tragedy_authors, left=df_author_reduced, how=\"right\", right_on=\"author_id\", left_index=True).head(10)"
   ]
  },
  {
   "cell_type": "code",
   "execution_count": 52,
   "metadata": {},
   "outputs": [],
   "source": [
    "# Question above"
   ]
  },
  {
   "cell_type": "code",
   "execution_count": 53,
   "metadata": {},
   "outputs": [
    {
     "data": {
      "text/html": [
       "<div>\n",
       "<style scoped>\n",
       "    .dataframe tbody tr th:only-of-type {\n",
       "        vertical-align: middle;\n",
       "    }\n",
       "\n",
       "    .dataframe tbody tr th {\n",
       "        vertical-align: top;\n",
       "    }\n",
       "\n",
       "    .dataframe thead th {\n",
       "        text-align: right;\n",
       "    }\n",
       "</style>\n",
       "<table border=\"1\" class=\"dataframe\">\n",
       "  <thead>\n",
       "    <tr style=\"text-align: right;\">\n",
       "      <th></th>\n",
       "      <th>name_x</th>\n",
       "      <th>author_id</th>\n",
       "      <th>name_y</th>\n",
       "      <th>title</th>\n",
       "      <th>datefield</th>\n",
       "      <th>identifier</th>\n",
       "    </tr>\n",
       "  </thead>\n",
       "  <tbody>\n",
       "    <tr>\n",
       "      <th>0</th>\n",
       "      <td>ARDEN, Thomas - of Faversham</td>\n",
       "      <td>14</td>\n",
       "      <td>ARDEN, Thomas - of Faversham</td>\n",
       "      <td>Arden of Feversham, a tragedy: reprinted from ...</td>\n",
       "      <td>1887.0</td>\n",
       "      <td>106624</td>\n",
       "    </tr>\n",
       "    <tr>\n",
       "      <th>1</th>\n",
       "      <td>AYSCOUGH, George Edward.</td>\n",
       "      <td>20</td>\n",
       "      <td>AYSCOUGH, George Edward.</td>\n",
       "      <td>Semiramis, a tragedy, etc. [In verse.]</td>\n",
       "      <td>1776.0</td>\n",
       "      <td>154917</td>\n",
       "    </tr>\n",
       "    <tr>\n",
       "      <th>2</th>\n",
       "      <td>BARTHOLOMEW, John - Dramatist</td>\n",
       "      <td>29</td>\n",
       "      <td>BARTHOLOMEW, John - Dramatist</td>\n",
       "      <td>The Fall of the French Monarchy; or, Louis XVI...</td>\n",
       "      <td>1794.0</td>\n",
       "      <td>215686</td>\n",
       "    </tr>\n",
       "    <tr>\n",
       "      <th>3</th>\n",
       "      <td>BROWNING, Robert - the Poet</td>\n",
       "      <td>60</td>\n",
       "      <td>BROWNING, Robert - the Poet</td>\n",
       "      <td>[Strafford: an historical tragedy.]</td>\n",
       "      <td>1884.0</td>\n",
       "      <td>499453</td>\n",
       "    </tr>\n",
       "    <tr>\n",
       "      <th>4</th>\n",
       "      <td>Byron, George Gordon Byron - Baron</td>\n",
       "      <td>65</td>\n",
       "      <td>Byron, George Gordon Byron - Baron</td>\n",
       "      <td>Sardanapalus, a tragedy. The Two Foscari, a tr...</td>\n",
       "      <td>1821.0</td>\n",
       "      <td>558547</td>\n",
       "    </tr>\n",
       "    <tr>\n",
       "      <th>5</th>\n",
       "      <td>CAUNTER, Richard Macdonald.</td>\n",
       "      <td>78</td>\n",
       "      <td>CAUNTER, Richard Macdonald.</td>\n",
       "      <td>Attila, a tragedy; and other poems</td>\n",
       "      <td>1832.0</td>\n",
       "      <td>638231</td>\n",
       "    </tr>\n",
       "    <tr>\n",
       "      <th>6</th>\n",
       "      <td>CLARKE, Joseph Ignatius Constantine.</td>\n",
       "      <td>83</td>\n",
       "      <td>CLARKE, Joseph Ignatius Constantine.</td>\n",
       "      <td>Robert Emmet. A tragedy of Irish history. [A p...</td>\n",
       "      <td>1888.0</td>\n",
       "      <td>715387</td>\n",
       "    </tr>\n",
       "    <tr>\n",
       "      <th>7</th>\n",
       "      <td>Cumberland, Richard</td>\n",
       "      <td>102</td>\n",
       "      <td>Cumberland, Richard</td>\n",
       "      <td>The Battle of Hastings, a tragedy, etc</td>\n",
       "      <td>1778.0</td>\n",
       "      <td>835040</td>\n",
       "    </tr>\n",
       "    <tr>\n",
       "      <th>8</th>\n",
       "      <td>DE LA PASTURE, Elizabeth Lydia Rosabelle - aft...</td>\n",
       "      <td>111</td>\n",
       "      <td>DE LA PASTURE, Elizabeth Lydia Rosabelle - aft...</td>\n",
       "      <td>A Toy Tragedy</td>\n",
       "      <td>1894.0</td>\n",
       "      <td>897980</td>\n",
       "    </tr>\n",
       "    <tr>\n",
       "      <th>9</th>\n",
       "      <td>Dryden, John.</td>\n",
       "      <td>119</td>\n",
       "      <td>Dryden, John.</td>\n",
       "      <td>The Duke of Guise. A tragedy. Acted by their M...</td>\n",
       "      <td>1683.0</td>\n",
       "      <td>987705</td>\n",
       "    </tr>\n",
       "  </tbody>\n",
       "</table>\n",
       "</div>"
      ],
      "text/plain": [
       "                                              name_x  author_id  \\\n",
       "0                       ARDEN, Thomas - of Faversham         14   \n",
       "1                           AYSCOUGH, George Edward.         20   \n",
       "2                      BARTHOLOMEW, John - Dramatist         29   \n",
       "3                        BROWNING, Robert - the Poet         60   \n",
       "4                 Byron, George Gordon Byron - Baron         65   \n",
       "5                        CAUNTER, Richard Macdonald.         78   \n",
       "6               CLARKE, Joseph Ignatius Constantine.         83   \n",
       "7                                Cumberland, Richard        102   \n",
       "8  DE LA PASTURE, Elizabeth Lydia Rosabelle - aft...        111   \n",
       "9                                      Dryden, John.        119   \n",
       "\n",
       "                                              name_y  \\\n",
       "0                       ARDEN, Thomas - of Faversham   \n",
       "1                           AYSCOUGH, George Edward.   \n",
       "2                      BARTHOLOMEW, John - Dramatist   \n",
       "3                        BROWNING, Robert - the Poet   \n",
       "4                 Byron, George Gordon Byron - Baron   \n",
       "5                        CAUNTER, Richard Macdonald.   \n",
       "6               CLARKE, Joseph Ignatius Constantine.   \n",
       "7                                Cumberland, Richard   \n",
       "8  DE LA PASTURE, Elizabeth Lydia Rosabelle - aft...   \n",
       "9                                      Dryden, John.   \n",
       "\n",
       "                                               title  datefield  identifier  \n",
       "0  Arden of Feversham, a tragedy: reprinted from ...     1887.0      106624  \n",
       "1             Semiramis, a tragedy, etc. [In verse.]     1776.0      154917  \n",
       "2  The Fall of the French Monarchy; or, Louis XVI...     1794.0      215686  \n",
       "3                [Strafford: an historical tragedy.]     1884.0      499453  \n",
       "4  Sardanapalus, a tragedy. The Two Foscari, a tr...     1821.0      558547  \n",
       "5                 Attila, a tragedy; and other poems     1832.0      638231  \n",
       "6  Robert Emmet. A tragedy of Irish history. [A p...     1888.0      715387  \n",
       "7             The Battle of Hastings, a tragedy, etc     1778.0      835040  \n",
       "8                                      A Toy Tragedy     1894.0      897980  \n",
       "9  The Duke of Guise. A tragedy. Acted by their M...     1683.0      987705  "
      ]
     },
     "execution_count": 53,
     "metadata": {},
     "output_type": "execute_result"
    }
   ],
   "source": [
    "pd.merge(right=df_book_tragedy_authors, left=df_author_reduced, how=\"inner\", right_on=\"author_id\", left_index=True).head(10)"
   ]
  },
  {
   "cell_type": "markdown",
   "metadata": {},
   "source": [
    "**Questions**:\n",
    "\n",
    "* Add the authors to the 'df_book_comedy' dataframe, dropping books without an author.\n",
    "* How many books has the most prolific author in our dataset authored?\n",
    "* Create a dataframe without the repeated name_y and name_x columns above."
   ]
  },
  {
   "cell_type": "code",
   "execution_count": 57,
   "metadata": {},
   "outputs": [
    {
     "data": {
      "text/html": [
       "<div>\n",
       "<style scoped>\n",
       "    .dataframe tbody tr th:only-of-type {\n",
       "        vertical-align: middle;\n",
       "    }\n",
       "\n",
       "    .dataframe tbody tr th {\n",
       "        vertical-align: top;\n",
       "    }\n",
       "\n",
       "    .dataframe thead th {\n",
       "        text-align: right;\n",
       "    }\n",
       "</style>\n",
       "<table border=\"1\" class=\"dataframe\">\n",
       "  <thead>\n",
       "    <tr style=\"text-align: right;\">\n",
       "      <th></th>\n",
       "      <th>author_id</th>\n",
       "      <th>name</th>\n",
       "      <th>title</th>\n",
       "      <th>datefield</th>\n",
       "      <th>identifier</th>\n",
       "    </tr>\n",
       "  </thead>\n",
       "  <tbody>\n",
       "    <tr>\n",
       "      <th>0</th>\n",
       "      <td>14</td>\n",
       "      <td>ARDEN, Thomas - of Faversham</td>\n",
       "      <td>Arden of Feversham, a tragedy: reprinted from ...</td>\n",
       "      <td>1887.0</td>\n",
       "      <td>106624</td>\n",
       "    </tr>\n",
       "    <tr>\n",
       "      <th>1</th>\n",
       "      <td>20</td>\n",
       "      <td>AYSCOUGH, George Edward.</td>\n",
       "      <td>Semiramis, a tragedy, etc. [In verse.]</td>\n",
       "      <td>1776.0</td>\n",
       "      <td>154917</td>\n",
       "    </tr>\n",
       "    <tr>\n",
       "      <th>2</th>\n",
       "      <td>29</td>\n",
       "      <td>BARTHOLOMEW, John - Dramatist</td>\n",
       "      <td>The Fall of the French Monarchy; or, Louis XVI...</td>\n",
       "      <td>1794.0</td>\n",
       "      <td>215686</td>\n",
       "    </tr>\n",
       "    <tr>\n",
       "      <th>3</th>\n",
       "      <td>60</td>\n",
       "      <td>BROWNING, Robert - the Poet</td>\n",
       "      <td>[Strafford: an historical tragedy.]</td>\n",
       "      <td>1884.0</td>\n",
       "      <td>499453</td>\n",
       "    </tr>\n",
       "    <tr>\n",
       "      <th>4</th>\n",
       "      <td>65</td>\n",
       "      <td>Byron, George Gordon Byron - Baron</td>\n",
       "      <td>Sardanapalus, a tragedy. The Two Foscari, a tr...</td>\n",
       "      <td>1821.0</td>\n",
       "      <td>558547</td>\n",
       "    </tr>\n",
       "    <tr>\n",
       "      <th>5</th>\n",
       "      <td>78</td>\n",
       "      <td>CAUNTER, Richard Macdonald.</td>\n",
       "      <td>Attila, a tragedy; and other poems</td>\n",
       "      <td>1832.0</td>\n",
       "      <td>638231</td>\n",
       "    </tr>\n",
       "    <tr>\n",
       "      <th>6</th>\n",
       "      <td>83</td>\n",
       "      <td>CLARKE, Joseph Ignatius Constantine.</td>\n",
       "      <td>Robert Emmet. A tragedy of Irish history. [A p...</td>\n",
       "      <td>1888.0</td>\n",
       "      <td>715387</td>\n",
       "    </tr>\n",
       "    <tr>\n",
       "      <th>7</th>\n",
       "      <td>102</td>\n",
       "      <td>Cumberland, Richard</td>\n",
       "      <td>The Battle of Hastings, a tragedy, etc</td>\n",
       "      <td>1778.0</td>\n",
       "      <td>835040</td>\n",
       "    </tr>\n",
       "    <tr>\n",
       "      <th>8</th>\n",
       "      <td>111</td>\n",
       "      <td>DE LA PASTURE, Elizabeth Lydia Rosabelle - aft...</td>\n",
       "      <td>A Toy Tragedy</td>\n",
       "      <td>1894.0</td>\n",
       "      <td>897980</td>\n",
       "    </tr>\n",
       "    <tr>\n",
       "      <th>9</th>\n",
       "      <td>119</td>\n",
       "      <td>Dryden, John.</td>\n",
       "      <td>The Duke of Guise. A tragedy. Acted by their M...</td>\n",
       "      <td>1683.0</td>\n",
       "      <td>987705</td>\n",
       "    </tr>\n",
       "    <tr>\n",
       "      <th>10</th>\n",
       "      <td>119</td>\n",
       "      <td>Dryden, John.</td>\n",
       "      <td>[The Duke of Guise. A tragedy. Acted by their ...</td>\n",
       "      <td>1687.0</td>\n",
       "      <td>987706</td>\n",
       "    </tr>\n",
       "    <tr>\n",
       "      <th>11</th>\n",
       "      <td>123</td>\n",
       "      <td>ELLMS, Charles.</td>\n",
       "      <td>The Tragedy of the Seas; or sorrow on the ocea...</td>\n",
       "      <td>1841.0</td>\n",
       "      <td>1061079</td>\n",
       "    </tr>\n",
       "    <tr>\n",
       "      <th>13</th>\n",
       "      <td>145</td>\n",
       "      <td>Baring-Gould, S. (Sabine)</td>\n",
       "      <td>The Tragedy of the Cæsars. A study of the char...</td>\n",
       "      <td>1892.0</td>\n",
       "      <td>1476310</td>\n",
       "    </tr>\n",
       "    <tr>\n",
       "      <th>14</th>\n",
       "      <td>159</td>\n",
       "      <td>HAYNES, James - Dramatic Writer</td>\n",
       "      <td>Durazzo: a tragedy, in five acts, [in verse.]</td>\n",
       "      <td>1823.0</td>\n",
       "      <td>1626894</td>\n",
       "    </tr>\n",
       "    <tr>\n",
       "      <th>15</th>\n",
       "      <td>163</td>\n",
       "      <td>HEY, Richard - L.L.D</td>\n",
       "      <td>The Captive Monarch. A Tragedy, in five acts [...</td>\n",
       "      <td>1794.0</td>\n",
       "      <td>1675057</td>\n",
       "    </tr>\n",
       "    <tr>\n",
       "      <th>16</th>\n",
       "      <td>169</td>\n",
       "      <td>HOOLE, John.</td>\n",
       "      <td>Cleonice, Princess of Bithynia; a tragedy [in ...</td>\n",
       "      <td>1775.0</td>\n",
       "      <td>1728296</td>\n",
       "    </tr>\n",
       "    <tr>\n",
       "      <th>17</th>\n",
       "      <td>213</td>\n",
       "      <td>MACGLASHAN, Charles Fayette.</td>\n",
       "      <td>History of the Donner Party. A tragedy of the ...</td>\n",
       "      <td>1881.0</td>\n",
       "      <td>2315082</td>\n",
       "    </tr>\n",
       "    <tr>\n",
       "      <th>18</th>\n",
       "      <td>221</td>\n",
       "      <td>MARTIN, Theodore - Sir, K.C.B</td>\n",
       "      <td>Madonna Pia, a tragedy and three other dramas....</td>\n",
       "      <td>1894.0</td>\n",
       "      <td>2401931</td>\n",
       "    </tr>\n",
       "    <tr>\n",
       "      <th>20</th>\n",
       "      <td>227</td>\n",
       "      <td>MERIVALE, Herman Charles.</td>\n",
       "      <td>Florien; a tragedy, in five acts, and other poems</td>\n",
       "      <td>1884.0</td>\n",
       "      <td>2464633</td>\n",
       "    </tr>\n",
       "    <tr>\n",
       "      <th>21</th>\n",
       "      <td>270</td>\n",
       "      <td>Porter, Helen.</td>\n",
       "      <td>Helen Porter ... By the author of “Mildred Win...</td>\n",
       "      <td>1850.0</td>\n",
       "      <td>2962407</td>\n",
       "    </tr>\n",
       "    <tr>\n",
       "      <th>23</th>\n",
       "      <td>288</td>\n",
       "      <td>ROSS, Malcolm - Earl of Ross</td>\n",
       "      <td>The Earl of Ross: a tragedy in five acts [and ...</td>\n",
       "      <td>1823.0</td>\n",
       "      <td>3164359</td>\n",
       "    </tr>\n",
       "    <tr>\n",
       "      <th>24</th>\n",
       "      <td>289</td>\n",
       "      <td>RUSSELL, William Clark.</td>\n",
       "      <td>The Tragedy of Ida Noble, etc. [A novel.]</td>\n",
       "      <td>1893.0</td>\n",
       "      <td>3194997</td>\n",
       "    </tr>\n",
       "    <tr>\n",
       "      <th>25</th>\n",
       "      <td>293</td>\n",
       "      <td>Savage, Richard</td>\n",
       "      <td>Sir Thomas Overbury: a tragedy. Altered from t...</td>\n",
       "      <td>1777.0</td>\n",
       "      <td>3259081</td>\n",
       "    </tr>\n",
       "    <tr>\n",
       "      <th>28</th>\n",
       "      <td>346</td>\n",
       "      <td>WHITE, Edmund H.</td>\n",
       "      <td>Athelstan, a tragedy. Life and Death, an alleg...</td>\n",
       "      <td>1847.0</td>\n",
       "      <td>3906470</td>\n",
       "    </tr>\n",
       "    <tr>\n",
       "      <th>29</th>\n",
       "      <td>351</td>\n",
       "      <td>WILLIAMS, C. H.</td>\n",
       "      <td>Sesostris; or, the Priest and the King. A trag...</td>\n",
       "      <td>1853.0</td>\n",
       "      <td>3931298</td>\n",
       "    </tr>\n",
       "    <tr>\n",
       "      <th>30</th>\n",
       "      <td>356</td>\n",
       "      <td>WILSON, William Bender.</td>\n",
       "      <td>A Few Acts and Actors in the Tragedy of the Ci...</td>\n",
       "      <td>1892.0</td>\n",
       "      <td>3947861</td>\n",
       "    </tr>\n",
       "    <tr>\n",
       "      <th>31</th>\n",
       "      <td>364</td>\n",
       "      <td>Nutt, D. - Miss</td>\n",
       "      <td>Anne Boleyn. A tragedy in five acts. By the au...</td>\n",
       "      <td>1881.0</td>\n",
       "      <td>4088697</td>\n",
       "    </tr>\n",
       "  </tbody>\n",
       "</table>\n",
       "</div>"
      ],
      "text/plain": [
       "    author_id                                               name  \\\n",
       "0          14                       ARDEN, Thomas - of Faversham   \n",
       "1          20                           AYSCOUGH, George Edward.   \n",
       "2          29                      BARTHOLOMEW, John - Dramatist   \n",
       "3          60                        BROWNING, Robert - the Poet   \n",
       "4          65                 Byron, George Gordon Byron - Baron   \n",
       "5          78                        CAUNTER, Richard Macdonald.   \n",
       "6          83               CLARKE, Joseph Ignatius Constantine.   \n",
       "7         102                                Cumberland, Richard   \n",
       "8         111  DE LA PASTURE, Elizabeth Lydia Rosabelle - aft...   \n",
       "9         119                                      Dryden, John.   \n",
       "10        119                                      Dryden, John.   \n",
       "11        123                                    ELLMS, Charles.   \n",
       "13        145                          Baring-Gould, S. (Sabine)   \n",
       "14        159                    HAYNES, James - Dramatic Writer   \n",
       "15        163                               HEY, Richard - L.L.D   \n",
       "16        169                                       HOOLE, John.   \n",
       "17        213                       MACGLASHAN, Charles Fayette.   \n",
       "18        221                      MARTIN, Theodore - Sir, K.C.B   \n",
       "20        227                          MERIVALE, Herman Charles.   \n",
       "21        270                                     Porter, Helen.   \n",
       "23        288                       ROSS, Malcolm - Earl of Ross   \n",
       "24        289                            RUSSELL, William Clark.   \n",
       "25        293                                    Savage, Richard   \n",
       "28        346                                   WHITE, Edmund H.   \n",
       "29        351                                    WILLIAMS, C. H.   \n",
       "30        356                            WILSON, William Bender.   \n",
       "31        364                                    Nutt, D. - Miss   \n",
       "\n",
       "                                                title  datefield  identifier  \n",
       "0   Arden of Feversham, a tragedy: reprinted from ...     1887.0      106624  \n",
       "1              Semiramis, a tragedy, etc. [In verse.]     1776.0      154917  \n",
       "2   The Fall of the French Monarchy; or, Louis XVI...     1794.0      215686  \n",
       "3                 [Strafford: an historical tragedy.]     1884.0      499453  \n",
       "4   Sardanapalus, a tragedy. The Two Foscari, a tr...     1821.0      558547  \n",
       "5                  Attila, a tragedy; and other poems     1832.0      638231  \n",
       "6   Robert Emmet. A tragedy of Irish history. [A p...     1888.0      715387  \n",
       "7              The Battle of Hastings, a tragedy, etc     1778.0      835040  \n",
       "8                                       A Toy Tragedy     1894.0      897980  \n",
       "9   The Duke of Guise. A tragedy. Acted by their M...     1683.0      987705  \n",
       "10  [The Duke of Guise. A tragedy. Acted by their ...     1687.0      987706  \n",
       "11  The Tragedy of the Seas; or sorrow on the ocea...     1841.0     1061079  \n",
       "13  The Tragedy of the Cæsars. A study of the char...     1892.0     1476310  \n",
       "14      Durazzo: a tragedy, in five acts, [in verse.]     1823.0     1626894  \n",
       "15  The Captive Monarch. A Tragedy, in five acts [...     1794.0     1675057  \n",
       "16  Cleonice, Princess of Bithynia; a tragedy [in ...     1775.0     1728296  \n",
       "17  History of the Donner Party. A tragedy of the ...     1881.0     2315082  \n",
       "18  Madonna Pia, a tragedy and three other dramas....     1894.0     2401931  \n",
       "20  Florien; a tragedy, in five acts, and other poems     1884.0     2464633  \n",
       "21  Helen Porter ... By the author of “Mildred Win...     1850.0     2962407  \n",
       "23  The Earl of Ross: a tragedy in five acts [and ...     1823.0     3164359  \n",
       "24          The Tragedy of Ida Noble, etc. [A novel.]     1893.0     3194997  \n",
       "25  Sir Thomas Overbury: a tragedy. Altered from t...     1777.0     3259081  \n",
       "28  Athelstan, a tragedy. Life and Death, an alleg...     1847.0     3906470  \n",
       "29  Sesostris; or, the Priest and the King. A trag...     1853.0     3931298  \n",
       "30  A Few Acts and Actors in the Tragedy of the Ci...     1892.0     3947861  \n",
       "31  Anne Boleyn. A tragedy in five acts. By the au...     1881.0     4088697  "
      ]
     },
     "execution_count": 57,
     "metadata": {},
     "output_type": "execute_result"
    }
   ],
   "source": [
    "df_book_tragedy_authors.dropna(how=\"any\", axis=0)"
   ]
  },
  {
   "cell_type": "code",
   "execution_count": 58,
   "metadata": {},
   "outputs": [],
   "source": [
    "from collections import Counter\n",
    "\n",
    "c = Counter(df_author_book.author_id.values)"
   ]
  },
  {
   "cell_type": "code",
   "execution_count": 59,
   "metadata": {},
   "outputs": [
    {
     "data": {
      "text/plain": [
       "[(7, 67),\n",
       " (60, 2),\n",
       " (65, 2),\n",
       " (85, 2),\n",
       " (102, 2),\n",
       " (119, 2),\n",
       " (136, 2),\n",
       " (148, 2),\n",
       " (156, 2),\n",
       " (193, 2)]"
      ]
     },
     "execution_count": 59,
     "metadata": {},
     "output_type": "execute_result"
    }
   ],
   "source": [
    "c.most_common()[:10]"
   ]
  },
  {
   "cell_type": "code",
   "execution_count": 60,
   "metadata": {},
   "outputs": [
    {
     "data": {
      "text/html": [
       "<div>\n",
       "<style scoped>\n",
       "    .dataframe tbody tr th:only-of-type {\n",
       "        vertical-align: middle;\n",
       "    }\n",
       "\n",
       "    .dataframe tbody tr th {\n",
       "        vertical-align: top;\n",
       "    }\n",
       "\n",
       "    .dataframe thead th {\n",
       "        text-align: right;\n",
       "    }\n",
       "</style>\n",
       "<table border=\"1\" class=\"dataframe\">\n",
       "  <thead>\n",
       "    <tr style=\"text-align: right;\">\n",
       "      <th></th>\n",
       "      <th>name</th>\n",
       "    </tr>\n",
       "  </thead>\n",
       "  <tbody>\n",
       "    <tr>\n",
       "      <th>7</th>\n",
       "      <td>NaN</td>\n",
       "    </tr>\n",
       "  </tbody>\n",
       "</table>\n",
       "</div>"
      ],
      "text/plain": [
       "  name\n",
       "7  NaN"
      ]
     },
     "execution_count": 60,
     "metadata": {},
     "output_type": "execute_result"
    }
   ],
   "source": [
    "df_author[df_author.index == 7]"
   ]
  },
  {
   "cell_type": "code",
   "execution_count": 61,
   "metadata": {},
   "outputs": [
    {
     "data": {
      "text/html": [
       "<div>\n",
       "<style scoped>\n",
       "    .dataframe tbody tr th:only-of-type {\n",
       "        vertical-align: middle;\n",
       "    }\n",
       "\n",
       "    .dataframe tbody tr th {\n",
       "        vertical-align: top;\n",
       "    }\n",
       "\n",
       "    .dataframe thead th {\n",
       "        text-align: right;\n",
       "    }\n",
       "</style>\n",
       "<table border=\"1\" class=\"dataframe\">\n",
       "  <thead>\n",
       "    <tr style=\"text-align: right;\">\n",
       "      <th></th>\n",
       "      <th>name</th>\n",
       "    </tr>\n",
       "  </thead>\n",
       "  <tbody>\n",
       "    <tr>\n",
       "      <th>60</th>\n",
       "      <td>BROWNING, Robert - the Poet</td>\n",
       "    </tr>\n",
       "  </tbody>\n",
       "</table>\n",
       "</div>"
      ],
      "text/plain": [
       "                           name\n",
       "60  BROWNING, Robert - the Poet"
      ]
     },
     "execution_count": 61,
     "metadata": {},
     "output_type": "execute_result"
    }
   ],
   "source": [
    "df_author[df_author.index == 60]"
   ]
  },
  {
   "cell_type": "markdown",
   "metadata": {},
   "source": [
    "## Pivoting\n",
    "\n",
    "This is bonus content!\n",
    "\n",
    "For more (including stacking with multi-indexes and unpivoting or melting), see https://pandas.pydata.org/pandas-docs/stable/user_guide/reshaping.html"
   ]
  },
  {
   "cell_type": "code",
   "execution_count": 62,
   "metadata": {},
   "outputs": [],
   "source": [
    "data = {'place': [\"London\",\"London\",\"Berlin\",\"Berlin\",\"Rome\",\"Rome\"],\n",
    "       'year': [1800, 1900, 1800, 1900, 1800, 1900],\n",
    "       'values': [10,20,30,40,50,60]}\n",
    "toy_df = pd.DataFrame(data, columns=['place','year','values'])"
   ]
  },
  {
   "cell_type": "code",
   "execution_count": 63,
   "metadata": {},
   "outputs": [
    {
     "data": {
      "text/html": [
       "<div>\n",
       "<style scoped>\n",
       "    .dataframe tbody tr th:only-of-type {\n",
       "        vertical-align: middle;\n",
       "    }\n",
       "\n",
       "    .dataframe tbody tr th {\n",
       "        vertical-align: top;\n",
       "    }\n",
       "\n",
       "    .dataframe thead th {\n",
       "        text-align: right;\n",
       "    }\n",
       "</style>\n",
       "<table border=\"1\" class=\"dataframe\">\n",
       "  <thead>\n",
       "    <tr style=\"text-align: right;\">\n",
       "      <th></th>\n",
       "      <th>place</th>\n",
       "      <th>year</th>\n",
       "      <th>values</th>\n",
       "    </tr>\n",
       "  </thead>\n",
       "  <tbody>\n",
       "    <tr>\n",
       "      <th>0</th>\n",
       "      <td>London</td>\n",
       "      <td>1800</td>\n",
       "      <td>10</td>\n",
       "    </tr>\n",
       "    <tr>\n",
       "      <th>1</th>\n",
       "      <td>London</td>\n",
       "      <td>1900</td>\n",
       "      <td>20</td>\n",
       "    </tr>\n",
       "    <tr>\n",
       "      <th>2</th>\n",
       "      <td>Berlin</td>\n",
       "      <td>1800</td>\n",
       "      <td>30</td>\n",
       "    </tr>\n",
       "    <tr>\n",
       "      <th>3</th>\n",
       "      <td>Berlin</td>\n",
       "      <td>1900</td>\n",
       "      <td>40</td>\n",
       "    </tr>\n",
       "    <tr>\n",
       "      <th>4</th>\n",
       "      <td>Rome</td>\n",
       "      <td>1800</td>\n",
       "      <td>50</td>\n",
       "    </tr>\n",
       "    <tr>\n",
       "      <th>5</th>\n",
       "      <td>Rome</td>\n",
       "      <td>1900</td>\n",
       "      <td>60</td>\n",
       "    </tr>\n",
       "  </tbody>\n",
       "</table>\n",
       "</div>"
      ],
      "text/plain": [
       "    place  year  values\n",
       "0  London  1800      10\n",
       "1  London  1900      20\n",
       "2  Berlin  1800      30\n",
       "3  Berlin  1900      40\n",
       "4    Rome  1800      50\n",
       "5    Rome  1900      60"
      ]
     },
     "execution_count": 63,
     "metadata": {},
     "output_type": "execute_result"
    }
   ],
   "source": [
    "toy_df"
   ]
  },
  {
   "cell_type": "code",
   "execution_count": 64,
   "metadata": {},
   "outputs": [],
   "source": [
    "pivoted = toy_df.pivot(index='year', columns='place', values='values')"
   ]
  },
  {
   "cell_type": "code",
   "execution_count": 65,
   "metadata": {},
   "outputs": [
    {
     "data": {
      "text/html": [
       "<div>\n",
       "<style scoped>\n",
       "    .dataframe tbody tr th:only-of-type {\n",
       "        vertical-align: middle;\n",
       "    }\n",
       "\n",
       "    .dataframe tbody tr th {\n",
       "        vertical-align: top;\n",
       "    }\n",
       "\n",
       "    .dataframe thead th {\n",
       "        text-align: right;\n",
       "    }\n",
       "</style>\n",
       "<table border=\"1\" class=\"dataframe\">\n",
       "  <thead>\n",
       "    <tr style=\"text-align: right;\">\n",
       "      <th>place</th>\n",
       "      <th>Berlin</th>\n",
       "      <th>London</th>\n",
       "      <th>Rome</th>\n",
       "    </tr>\n",
       "    <tr>\n",
       "      <th>year</th>\n",
       "      <th></th>\n",
       "      <th></th>\n",
       "      <th></th>\n",
       "    </tr>\n",
       "  </thead>\n",
       "  <tbody>\n",
       "    <tr>\n",
       "      <th>1800</th>\n",
       "      <td>30</td>\n",
       "      <td>10</td>\n",
       "      <td>50</td>\n",
       "    </tr>\n",
       "    <tr>\n",
       "      <th>1900</th>\n",
       "      <td>40</td>\n",
       "      <td>20</td>\n",
       "      <td>60</td>\n",
       "    </tr>\n",
       "  </tbody>\n",
       "</table>\n",
       "</div>"
      ],
      "text/plain": [
       "place  Berlin  London  Rome\n",
       "year                       \n",
       "1800       30      10    50\n",
       "1900       40      20    60"
      ]
     },
     "execution_count": 65,
     "metadata": {},
     "output_type": "execute_result"
    }
   ],
   "source": [
    "pivoted"
   ]
  }
 ],
 "metadata": {
  "kernelspec": {
   "display_name": "Python 3 (ipykernel)",
   "language": "python",
   "name": "python3"
  },
  "language_info": {
   "codemirror_mode": {
    "name": "ipython",
    "version": 3
   },
   "file_extension": ".py",
   "mimetype": "text/x-python",
   "name": "python",
   "nbconvert_exporter": "python",
   "pygments_lexer": "ipython3",
   "version": "3.10.0"
  }
 },
 "nbformat": 4,
 "nbformat_minor": 4
}
