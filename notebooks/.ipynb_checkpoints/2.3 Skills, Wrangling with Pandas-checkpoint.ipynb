{
 "cells": [
  {
   "cell_type": "markdown",
   "metadata": {},
   "source": [
    "# 2.3 Skills/Wrangling with 🐼\n",
    "\n",
    "In this notebook, we will focus on one skill in data analysis, namely the ability to add select, aggregate and transform data in a dataframe."
   ]
  },
  {
   "cell_type": "markdown",
   "metadata": {},
   "source": [
    "### Imports"
   ]
  },
  {
   "cell_type": "code",
   "execution_count": 1,
   "metadata": {},
   "outputs": [],
   "source": [
    "import pandas as pd"
   ]
  },
  {
   "cell_type": "markdown",
   "metadata": {},
   "source": [
    "### Load dataset"
   ]
  },
  {
   "cell_type": "markdown",
   "metadata": {},
   "source": [
    "Let's read in a CSV file containing an export of [Elon Musk's tweets](https://twitter.com/elonmusk), exported from Twitter's API. "
   ]
  },
  {
   "cell_type": "code",
   "execution_count": 2,
   "metadata": {},
   "outputs": [],
   "source": [
    "dataset_path = '../data/musk_tweets/elonmusk_tweets.csv'\n",
    "df = pd.read_csv(dataset_path)"
   ]
  },
  {
   "cell_type": "code",
   "execution_count": 3,
   "metadata": {},
   "outputs": [
    {
     "name": "stdout",
     "output_type": "stream",
     "text": [
      "<class 'pandas.core.frame.DataFrame'>\n",
      "RangeIndex: 2819 entries, 0 to 2818\n",
      "Data columns (total 3 columns):\n",
      " #   Column      Non-Null Count  Dtype \n",
      "---  ------      --------------  ----- \n",
      " 0   id          2819 non-null   int64 \n",
      " 1   created_at  2819 non-null   object\n",
      " 2   text        2819 non-null   object\n",
      "dtypes: int64(1), object(2)\n",
      "memory usage: 66.2+ KB\n"
     ]
    }
   ],
   "source": [
    "df.info()"
   ]
  },
  {
   "cell_type": "code",
   "execution_count": 4,
   "metadata": {},
   "outputs": [],
   "source": [
    "df.set_index('id', drop=True, inplace=True)"
   ]
  },
  {
   "cell_type": "markdown",
   "metadata": {},
   "source": [
    "Let's give this dataset a bit more structure:\n",
    "- the `id` column can be transformed into the dataframe's index, thus enabling us e.g. to select a tweet by id;\n",
    "- `created_at` contains a timestamp, thus it can easily be converted into a `datetime` value\n",
    "- but what's going on with the text column ??"
   ]
  },
  {
   "cell_type": "code",
   "execution_count": 5,
   "metadata": {},
   "outputs": [],
   "source": [
    "df.created_at = pd.to_datetime(df.created_at)"
   ]
  },
  {
   "cell_type": "code",
   "execution_count": 6,
   "metadata": {},
   "outputs": [
    {
     "name": "stdout",
     "output_type": "stream",
     "text": [
      "<class 'pandas.core.frame.DataFrame'>\n",
      "Int64Index: 2819 entries, 849636868052275200 to 15434727182\n",
      "Data columns (total 2 columns):\n",
      " #   Column      Non-Null Count  Dtype         \n",
      "---  ------      --------------  -----         \n",
      " 0   created_at  2819 non-null   datetime64[ns]\n",
      " 1   text        2819 non-null   object        \n",
      "dtypes: datetime64[ns](1), object(1)\n",
      "memory usage: 66.1+ KB\n"
     ]
    }
   ],
   "source": [
    "df.info()"
   ]
  },
  {
   "cell_type": "markdown",
   "metadata": {},
   "source": [
    "### Selection"
   ]
  },
  {
   "cell_type": "markdown",
   "metadata": {},
   "source": [
    "#### Renaming columns"
   ]
  },
  {
   "cell_type": "markdown",
   "metadata": {},
   "source": [
    "An operation on dataframes that you'll find yourself doing very often is to rename the columns. "
   ]
  },
  {
   "cell_type": "markdown",
   "metadata": {},
   "source": [
    "The first way of renaming columns is by manipulating directly the dataframe's index via the `columns` property."
   ]
  },
  {
   "cell_type": "code",
   "execution_count": 7,
   "metadata": {},
   "outputs": [
    {
     "data": {
      "text/plain": [
       "Index(['created_at', 'text'], dtype='object')"
      ]
     },
     "execution_count": 7,
     "metadata": {},
     "output_type": "execute_result"
    }
   ],
   "source": [
    "df.columns"
   ]
  },
  {
   "cell_type": "markdown",
   "metadata": {},
   "source": [
    "We can change the column names by assigning to `columns` a list having as values the new column names.\n",
    "\n",
    "**NB**: the size of the list and new number of colums must match!"
   ]
  },
  {
   "cell_type": "code",
   "execution_count": 8,
   "metadata": {},
   "outputs": [],
   "source": [
    "# here we renamed the column `text` => `tweet`\n",
    "df.columns = ['created_at', 'tweet']"
   ]
  },
  {
   "cell_type": "code",
   "execution_count": 9,
   "metadata": {},
   "outputs": [
    {
     "data": {
      "text/html": [
       "<div>\n",
       "<style scoped>\n",
       "    .dataframe tbody tr th:only-of-type {\n",
       "        vertical-align: middle;\n",
       "    }\n",
       "\n",
       "    .dataframe tbody tr th {\n",
       "        vertical-align: top;\n",
       "    }\n",
       "\n",
       "    .dataframe thead th {\n",
       "        text-align: right;\n",
       "    }\n",
       "</style>\n",
       "<table border=\"1\" class=\"dataframe\">\n",
       "  <thead>\n",
       "    <tr style=\"text-align: right;\">\n",
       "      <th></th>\n",
       "      <th>created_at</th>\n",
       "      <th>tweet</th>\n",
       "    </tr>\n",
       "    <tr>\n",
       "      <th>id</th>\n",
       "      <th></th>\n",
       "      <th></th>\n",
       "    </tr>\n",
       "  </thead>\n",
       "  <tbody>\n",
       "    <tr>\n",
       "      <th>849636868052275200</th>\n",
       "      <td>2017-04-05 14:56:29</td>\n",
       "      <td>b'And so the robots spared humanity ... https:...</td>\n",
       "    </tr>\n",
       "    <tr>\n",
       "      <th>848988730585096192</th>\n",
       "      <td>2017-04-03 20:01:01</td>\n",
       "      <td>b\"@ForIn2020 @waltmossberg @mims @defcon_5 Exa...</td>\n",
       "    </tr>\n",
       "    <tr>\n",
       "      <th>848943072423497728</th>\n",
       "      <td>2017-04-03 16:59:35</td>\n",
       "      <td>b'@waltmossberg @mims @defcon_5 Et tu, Walt?'</td>\n",
       "    </tr>\n",
       "    <tr>\n",
       "      <th>848935705057280001</th>\n",
       "      <td>2017-04-03 16:30:19</td>\n",
       "      <td>b'Stormy weather in Shortville ...'</td>\n",
       "    </tr>\n",
       "    <tr>\n",
       "      <th>848416049573658624</th>\n",
       "      <td>2017-04-02 06:05:23</td>\n",
       "      <td>b\"@DaveLeeBBC @verge Coal is dying due to nat ...</td>\n",
       "    </tr>\n",
       "  </tbody>\n",
       "</table>\n",
       "</div>"
      ],
      "text/plain": [
       "                            created_at  \\\n",
       "id                                       \n",
       "849636868052275200 2017-04-05 14:56:29   \n",
       "848988730585096192 2017-04-03 20:01:01   \n",
       "848943072423497728 2017-04-03 16:59:35   \n",
       "848935705057280001 2017-04-03 16:30:19   \n",
       "848416049573658624 2017-04-02 06:05:23   \n",
       "\n",
       "                                                                tweet  \n",
       "id                                                                     \n",
       "849636868052275200  b'And so the robots spared humanity ... https:...  \n",
       "848988730585096192  b\"@ForIn2020 @waltmossberg @mims @defcon_5 Exa...  \n",
       "848943072423497728      b'@waltmossberg @mims @defcon_5 Et tu, Walt?'  \n",
       "848935705057280001                b'Stormy weather in Shortville ...'  \n",
       "848416049573658624  b\"@DaveLeeBBC @verge Coal is dying due to nat ...  "
      ]
     },
     "execution_count": 9,
     "metadata": {},
     "output_type": "execute_result"
    }
   ],
   "source": [
    "# let's check that the change did take place\n",
    "df.head()"
   ]
  },
  {
   "cell_type": "markdown",
   "metadata": {},
   "source": [
    "The second way of renaming colums is to use the method `rename()` of a dataframe. The `columns` parameter takes a dictionary of mappings between old and new column names.\n",
    "\n",
    "```python\n",
    "mapping_dict = {\n",
    "    \"old_column_name\": \"new_column_name\"\n",
    "}\n",
    "```"
   ]
  },
  {
   "cell_type": "code",
   "execution_count": 10,
   "metadata": {},
   "outputs": [],
   "source": [
    "# let's change column `tweet` => `text`\n",
    "df = df.rename(columns={\"tweet\": \"text\"})"
   ]
  },
  {
   "cell_type": "code",
   "execution_count": 11,
   "metadata": {},
   "outputs": [
    {
     "data": {
      "text/html": [
       "<div>\n",
       "<style scoped>\n",
       "    .dataframe tbody tr th:only-of-type {\n",
       "        vertical-align: middle;\n",
       "    }\n",
       "\n",
       "    .dataframe tbody tr th {\n",
       "        vertical-align: top;\n",
       "    }\n",
       "\n",
       "    .dataframe thead th {\n",
       "        text-align: right;\n",
       "    }\n",
       "</style>\n",
       "<table border=\"1\" class=\"dataframe\">\n",
       "  <thead>\n",
       "    <tr style=\"text-align: right;\">\n",
       "      <th></th>\n",
       "      <th>created_at</th>\n",
       "      <th>text</th>\n",
       "    </tr>\n",
       "    <tr>\n",
       "      <th>id</th>\n",
       "      <th></th>\n",
       "      <th></th>\n",
       "    </tr>\n",
       "  </thead>\n",
       "  <tbody>\n",
       "    <tr>\n",
       "      <th>849636868052275200</th>\n",
       "      <td>2017-04-05 14:56:29</td>\n",
       "      <td>b'And so the robots spared humanity ... https:...</td>\n",
       "    </tr>\n",
       "    <tr>\n",
       "      <th>848988730585096192</th>\n",
       "      <td>2017-04-03 20:01:01</td>\n",
       "      <td>b\"@ForIn2020 @waltmossberg @mims @defcon_5 Exa...</td>\n",
       "    </tr>\n",
       "    <tr>\n",
       "      <th>848943072423497728</th>\n",
       "      <td>2017-04-03 16:59:35</td>\n",
       "      <td>b'@waltmossberg @mims @defcon_5 Et tu, Walt?'</td>\n",
       "    </tr>\n",
       "    <tr>\n",
       "      <th>848935705057280001</th>\n",
       "      <td>2017-04-03 16:30:19</td>\n",
       "      <td>b'Stormy weather in Shortville ...'</td>\n",
       "    </tr>\n",
       "    <tr>\n",
       "      <th>848416049573658624</th>\n",
       "      <td>2017-04-02 06:05:23</td>\n",
       "      <td>b\"@DaveLeeBBC @verge Coal is dying due to nat ...</td>\n",
       "    </tr>\n",
       "  </tbody>\n",
       "</table>\n",
       "</div>"
      ],
      "text/plain": [
       "                            created_at  \\\n",
       "id                                       \n",
       "849636868052275200 2017-04-05 14:56:29   \n",
       "848988730585096192 2017-04-03 20:01:01   \n",
       "848943072423497728 2017-04-03 16:59:35   \n",
       "848935705057280001 2017-04-03 16:30:19   \n",
       "848416049573658624 2017-04-02 06:05:23   \n",
       "\n",
       "                                                                 text  \n",
       "id                                                                     \n",
       "849636868052275200  b'And so the robots spared humanity ... https:...  \n",
       "848988730585096192  b\"@ForIn2020 @waltmossberg @mims @defcon_5 Exa...  \n",
       "848943072423497728      b'@waltmossberg @mims @defcon_5 Et tu, Walt?'  \n",
       "848935705057280001                b'Stormy weather in Shortville ...'  \n",
       "848416049573658624  b\"@DaveLeeBBC @verge Coal is dying due to nat ...  "
      ]
     },
     "execution_count": 11,
     "metadata": {},
     "output_type": "execute_result"
    }
   ],
   "source": [
    "df.head()"
   ]
  },
  {
   "cell_type": "markdown",
   "metadata": {},
   "source": [
    "**Question**: in which cases is it more convenient to use the second method over the first?"
   ]
  },
  {
   "cell_type": "markdown",
   "metadata": {},
   "source": [
    "#### Selecting columns"
   ]
  },
  {
   "cell_type": "code",
   "execution_count": 12,
   "metadata": {},
   "outputs": [
    {
     "data": {
      "text/plain": [
       "id\n",
       "849636868052275200   2017-04-05 14:56:29\n",
       "848988730585096192   2017-04-03 20:01:01\n",
       "848943072423497728   2017-04-03 16:59:35\n",
       "848935705057280001   2017-04-03 16:30:19\n",
       "848416049573658624   2017-04-02 06:05:23\n",
       "Name: created_at, dtype: datetime64[ns]"
      ]
     },
     "execution_count": 12,
     "metadata": {},
     "output_type": "execute_result"
    }
   ],
   "source": [
    "# this selects one single column and returns as a Series\n",
    "df[\"created_at\"].head()"
   ]
  },
  {
   "cell_type": "code",
   "execution_count": 13,
   "metadata": {},
   "outputs": [
    {
     "data": {
      "text/plain": [
       "pandas.core.series.Series"
      ]
     },
     "execution_count": 13,
     "metadata": {},
     "output_type": "execute_result"
    }
   ],
   "source": [
    "type(df[\"created_at\"])"
   ]
  },
  {
   "cell_type": "code",
   "execution_count": 14,
   "metadata": {},
   "outputs": [
    {
     "data": {
      "text/html": [
       "<div>\n",
       "<style scoped>\n",
       "    .dataframe tbody tr th:only-of-type {\n",
       "        vertical-align: middle;\n",
       "    }\n",
       "\n",
       "    .dataframe tbody tr th {\n",
       "        vertical-align: top;\n",
       "    }\n",
       "\n",
       "    .dataframe thead th {\n",
       "        text-align: right;\n",
       "    }\n",
       "</style>\n",
       "<table border=\"1\" class=\"dataframe\">\n",
       "  <thead>\n",
       "    <tr style=\"text-align: right;\">\n",
       "      <th></th>\n",
       "      <th>created_at</th>\n",
       "    </tr>\n",
       "    <tr>\n",
       "      <th>id</th>\n",
       "      <th></th>\n",
       "    </tr>\n",
       "  </thead>\n",
       "  <tbody>\n",
       "    <tr>\n",
       "      <th>849636868052275200</th>\n",
       "      <td>2017-04-05 14:56:29</td>\n",
       "    </tr>\n",
       "    <tr>\n",
       "      <th>848988730585096192</th>\n",
       "      <td>2017-04-03 20:01:01</td>\n",
       "    </tr>\n",
       "    <tr>\n",
       "      <th>848943072423497728</th>\n",
       "      <td>2017-04-03 16:59:35</td>\n",
       "    </tr>\n",
       "    <tr>\n",
       "      <th>848935705057280001</th>\n",
       "      <td>2017-04-03 16:30:19</td>\n",
       "    </tr>\n",
       "    <tr>\n",
       "      <th>848416049573658624</th>\n",
       "      <td>2017-04-02 06:05:23</td>\n",
       "    </tr>\n",
       "  </tbody>\n",
       "</table>\n",
       "</div>"
      ],
      "text/plain": [
       "                            created_at\n",
       "id                                    \n",
       "849636868052275200 2017-04-05 14:56:29\n",
       "848988730585096192 2017-04-03 20:01:01\n",
       "848943072423497728 2017-04-03 16:59:35\n",
       "848935705057280001 2017-04-03 16:30:19\n",
       "848416049573658624 2017-04-02 06:05:23"
      ]
     },
     "execution_count": 14,
     "metadata": {},
     "output_type": "execute_result"
    }
   ],
   "source": [
    "# whereas this syntax selects one single column\n",
    "# but returns a Dataframe\n",
    "df[[\"created_at\"]].head()"
   ]
  },
  {
   "cell_type": "code",
   "execution_count": 15,
   "metadata": {},
   "outputs": [
    {
     "data": {
      "text/plain": [
       "pandas.core.frame.DataFrame"
      ]
     },
     "execution_count": 15,
     "metadata": {},
     "output_type": "execute_result"
    }
   ],
   "source": [
    "type(df[[\"created_at\"]])"
   ]
  },
  {
   "cell_type": "markdown",
   "metadata": {},
   "source": [
    "### Transformation\n",
    "\n",
    "\n",
    "The two main functions used to manipulate and transform values in a dataframe are:\n",
    "- `map()`\n",
    "- `apply()`\n",
    "\n",
    "In this section we'll be using both to enrich our datasets with useful information (useful for exploration, for later visualizations, etc.)."
   ]
  },
  {
   "cell_type": "markdown",
   "metadata": {},
   "source": [
    "#### Add link to original tweet"
   ]
  },
  {
   "cell_type": "markdown",
   "metadata": {},
   "source": [
    "The `map()` method can be called on a column, as well as on the dataframe's index.\n",
    "\n",
    "When passed as a parameter to `map`, the functional programming-stlye function `lambda` can be used to transform any value from that column into another one.   "
   ]
  },
  {
   "cell_type": "code",
   "execution_count": 16,
   "metadata": {},
   "outputs": [],
   "source": [
    "df['tweet_link'] = df.index.map(lambda x: f'https://twitter.com/i/web/status/{x}')"
   ]
  },
  {
   "cell_type": "code",
   "execution_count": 17,
   "metadata": {},
   "outputs": [
    {
     "data": {
      "text/html": [
       "<style type=\"text/css\">\n",
       "</style>\n",
       "<table id=\"T_ae77d\">\n",
       "  <thead>\n",
       "    <tr>\n",
       "      <th class=\"blank level0\" >&nbsp;</th>\n",
       "      <th id=\"T_ae77d_level0_col0\" class=\"col_heading level0 col0\" >created_at</th>\n",
       "      <th id=\"T_ae77d_level0_col1\" class=\"col_heading level0 col1\" >text</th>\n",
       "      <th id=\"T_ae77d_level0_col2\" class=\"col_heading level0 col2\" >tweet_link</th>\n",
       "    </tr>\n",
       "    <tr>\n",
       "      <th class=\"index_name level0\" >id</th>\n",
       "      <th class=\"blank col0\" >&nbsp;</th>\n",
       "      <th class=\"blank col1\" >&nbsp;</th>\n",
       "      <th class=\"blank col2\" >&nbsp;</th>\n",
       "    </tr>\n",
       "  </thead>\n",
       "  <tbody>\n",
       "    <tr>\n",
       "      <th id=\"T_ae77d_level0_row0\" class=\"row_heading level0 row0\" >849636868052275200</th>\n",
       "      <td id=\"T_ae77d_row0_col0\" class=\"data row0 col0\" >2017-04-05 14:56:29</td>\n",
       "      <td id=\"T_ae77d_row0_col1\" class=\"data row0 col1\" >b'And so the robots spared humanity ... https://t.co/v7JUJQWfCv'</td>\n",
       "      <td id=\"T_ae77d_row0_col2\" class=\"data row0 col2\" ><a target=\"_blank\" href=\"https://twitter.com/i/web/status/849636868052275200\">https://twitter.com/i/web/status/849636868052275200</a></td>\n",
       "    </tr>\n",
       "    <tr>\n",
       "      <th id=\"T_ae77d_level0_row1\" class=\"row_heading level0 row1\" >848988730585096192</th>\n",
       "      <td id=\"T_ae77d_row1_col0\" class=\"data row1 col0\" >2017-04-03 20:01:01</td>\n",
       "      <td id=\"T_ae77d_row1_col1\" class=\"data row1 col1\" >b\"@ForIn2020 @waltmossberg @mims @defcon_5 Exactly. Tesla is absurdly overvalued if based on the past, but that's irr\\xe2\\x80\\xa6 https://t.co/qQcTqkzgMl\"</td>\n",
       "      <td id=\"T_ae77d_row1_col2\" class=\"data row1 col2\" ><a target=\"_blank\" href=\"https://twitter.com/i/web/status/848988730585096192\">https://twitter.com/i/web/status/848988730585096192</a></td>\n",
       "    </tr>\n",
       "    <tr>\n",
       "      <th id=\"T_ae77d_level0_row2\" class=\"row_heading level0 row2\" >848943072423497728</th>\n",
       "      <td id=\"T_ae77d_row2_col0\" class=\"data row2 col0\" >2017-04-03 16:59:35</td>\n",
       "      <td id=\"T_ae77d_row2_col1\" class=\"data row2 col1\" >b'@waltmossberg @mims @defcon_5 Et tu, Walt?'</td>\n",
       "      <td id=\"T_ae77d_row2_col2\" class=\"data row2 col2\" ><a target=\"_blank\" href=\"https://twitter.com/i/web/status/848943072423497728\">https://twitter.com/i/web/status/848943072423497728</a></td>\n",
       "    </tr>\n",
       "    <tr>\n",
       "      <th id=\"T_ae77d_level0_row3\" class=\"row_heading level0 row3\" >848935705057280000</th>\n",
       "      <td id=\"T_ae77d_row3_col0\" class=\"data row3 col0\" >2017-04-03 16:30:19</td>\n",
       "      <td id=\"T_ae77d_row3_col1\" class=\"data row3 col1\" >b'Stormy weather in Shortville ...'</td>\n",
       "      <td id=\"T_ae77d_row3_col2\" class=\"data row3 col2\" ><a target=\"_blank\" href=\"https://twitter.com/i/web/status/848935705057280001\">https://twitter.com/i/web/status/848935705057280001</a></td>\n",
       "    </tr>\n",
       "    <tr>\n",
       "      <th id=\"T_ae77d_level0_row4\" class=\"row_heading level0 row4\" >848416049573658624</th>\n",
       "      <td id=\"T_ae77d_row4_col0\" class=\"data row4 col0\" >2017-04-02 06:05:23</td>\n",
       "      <td id=\"T_ae77d_row4_col1\" class=\"data row4 col1\" >b\"@DaveLeeBBC @verge Coal is dying due to nat gas fracking. It's basically dead.\"</td>\n",
       "      <td id=\"T_ae77d_row4_col2\" class=\"data row4 col2\" ><a target=\"_blank\" href=\"https://twitter.com/i/web/status/848416049573658624\">https://twitter.com/i/web/status/848416049573658624</a></td>\n",
       "    </tr>\n",
       "  </tbody>\n",
       "</table>\n"
      ],
      "text/plain": [
       "<pandas.io.formats.style.Styler at 0x1163c9360>"
      ]
     },
     "execution_count": 17,
     "metadata": {},
     "output_type": "execute_result"
    }
   ],
   "source": [
    "pd.set_option(\"display.max_colwidth\", 10000)\n",
    "\n",
    "def make_clickable(val):\n",
    "    # target _blank to open new window\n",
    "    return '<a target=\"_blank\" href=\"{}\">{}</a>'.format(val, val)\n",
    "\n",
    "df.head().style.format({'tweet_link': make_clickable})\n",
    "\n",
    "# to apply the style to the entire dataframe just remove\n",
    "# `.head` from the line above"
   ]
  },
  {
   "cell_type": "markdown",
   "metadata": {},
   "source": [
    "#### Add colums with mentions"
   ]
  },
  {
   "cell_type": "code",
   "execution_count": 18,
   "metadata": {},
   "outputs": [],
   "source": [
    "import re\n",
    "\n",
    "def find_mentions(tweet_text):\n",
    "    handle_regexp = r'@[a-zA-Z0-9_]{1,15}'\n",
    "    return re.findall(handle_regexp, tweet_text)"
   ]
  },
  {
   "cell_type": "code",
   "execution_count": 19,
   "metadata": {},
   "outputs": [],
   "source": [
    "df['tweet_mentions'] = df.text.apply(find_mentions)"
   ]
  },
  {
   "cell_type": "code",
   "execution_count": 20,
   "metadata": {},
   "outputs": [],
   "source": [
    "df['n_mentions'] = df.tweet_mentions.apply(len)"
   ]
  },
  {
   "cell_type": "code",
   "execution_count": 21,
   "metadata": {},
   "outputs": [
    {
     "data": {
      "text/html": [
       "<div>\n",
       "<style scoped>\n",
       "    .dataframe tbody tr th:only-of-type {\n",
       "        vertical-align: middle;\n",
       "    }\n",
       "\n",
       "    .dataframe tbody tr th {\n",
       "        vertical-align: top;\n",
       "    }\n",
       "\n",
       "    .dataframe thead th {\n",
       "        text-align: right;\n",
       "    }\n",
       "</style>\n",
       "<table border=\"1\" class=\"dataframe\">\n",
       "  <thead>\n",
       "    <tr style=\"text-align: right;\">\n",
       "      <th></th>\n",
       "      <th>created_at</th>\n",
       "      <th>text</th>\n",
       "      <th>tweet_link</th>\n",
       "      <th>tweet_mentions</th>\n",
       "      <th>n_mentions</th>\n",
       "    </tr>\n",
       "    <tr>\n",
       "      <th>id</th>\n",
       "      <th></th>\n",
       "      <th></th>\n",
       "      <th></th>\n",
       "      <th></th>\n",
       "      <th></th>\n",
       "    </tr>\n",
       "  </thead>\n",
       "  <tbody>\n",
       "    <tr>\n",
       "      <th>849636868052275200</th>\n",
       "      <td>2017-04-05 14:56:29</td>\n",
       "      <td>b'And so the robots spared humanity ... https://t.co/v7JUJQWfCv'</td>\n",
       "      <td>https://twitter.com/i/web/status/849636868052275200</td>\n",
       "      <td>[]</td>\n",
       "      <td>0</td>\n",
       "    </tr>\n",
       "    <tr>\n",
       "      <th>848988730585096192</th>\n",
       "      <td>2017-04-03 20:01:01</td>\n",
       "      <td>b\"@ForIn2020 @waltmossberg @mims @defcon_5 Exactly. Tesla is absurdly overvalued if based on the past, but that's irr\\xe2\\x80\\xa6 https://t.co/qQcTqkzgMl\"</td>\n",
       "      <td>https://twitter.com/i/web/status/848988730585096192</td>\n",
       "      <td>[@ForIn2020, @waltmossberg, @mims, @defcon_5]</td>\n",
       "      <td>4</td>\n",
       "    </tr>\n",
       "    <tr>\n",
       "      <th>848943072423497728</th>\n",
       "      <td>2017-04-03 16:59:35</td>\n",
       "      <td>b'@waltmossberg @mims @defcon_5 Et tu, Walt?'</td>\n",
       "      <td>https://twitter.com/i/web/status/848943072423497728</td>\n",
       "      <td>[@waltmossberg, @mims, @defcon_5]</td>\n",
       "      <td>3</td>\n",
       "    </tr>\n",
       "    <tr>\n",
       "      <th>848935705057280001</th>\n",
       "      <td>2017-04-03 16:30:19</td>\n",
       "      <td>b'Stormy weather in Shortville ...'</td>\n",
       "      <td>https://twitter.com/i/web/status/848935705057280001</td>\n",
       "      <td>[]</td>\n",
       "      <td>0</td>\n",
       "    </tr>\n",
       "    <tr>\n",
       "      <th>848416049573658624</th>\n",
       "      <td>2017-04-02 06:05:23</td>\n",
       "      <td>b\"@DaveLeeBBC @verge Coal is dying due to nat gas fracking. It's basically dead.\"</td>\n",
       "      <td>https://twitter.com/i/web/status/848416049573658624</td>\n",
       "      <td>[@DaveLeeBBC, @verge]</td>\n",
       "      <td>2</td>\n",
       "    </tr>\n",
       "  </tbody>\n",
       "</table>\n",
       "</div>"
      ],
      "text/plain": [
       "                            created_at  \\\n",
       "id                                       \n",
       "849636868052275200 2017-04-05 14:56:29   \n",
       "848988730585096192 2017-04-03 20:01:01   \n",
       "848943072423497728 2017-04-03 16:59:35   \n",
       "848935705057280001 2017-04-03 16:30:19   \n",
       "848416049573658624 2017-04-02 06:05:23   \n",
       "\n",
       "                                                                                                                                                                          text  \\\n",
       "id                                                                                                                                                                               \n",
       "849636868052275200                                                                                            b'And so the robots spared humanity ... https://t.co/v7JUJQWfCv'   \n",
       "848988730585096192  b\"@ForIn2020 @waltmossberg @mims @defcon_5 Exactly. Tesla is absurdly overvalued if based on the past, but that's irr\\xe2\\x80\\xa6 https://t.co/qQcTqkzgMl\"   \n",
       "848943072423497728                                                                                                               b'@waltmossberg @mims @defcon_5 Et tu, Walt?'   \n",
       "848935705057280001                                                                                                                         b'Stormy weather in Shortville ...'   \n",
       "848416049573658624                                                                           b\"@DaveLeeBBC @verge Coal is dying due to nat gas fracking. It's basically dead.\"   \n",
       "\n",
       "                                                             tweet_link  \\\n",
       "id                                                                        \n",
       "849636868052275200  https://twitter.com/i/web/status/849636868052275200   \n",
       "848988730585096192  https://twitter.com/i/web/status/848988730585096192   \n",
       "848943072423497728  https://twitter.com/i/web/status/848943072423497728   \n",
       "848935705057280001  https://twitter.com/i/web/status/848935705057280001   \n",
       "848416049573658624  https://twitter.com/i/web/status/848416049573658624   \n",
       "\n",
       "                                                   tweet_mentions  n_mentions  \n",
       "id                                                                             \n",
       "849636868052275200                                             []           0  \n",
       "848988730585096192  [@ForIn2020, @waltmossberg, @mims, @defcon_5]           4  \n",
       "848943072423497728              [@waltmossberg, @mims, @defcon_5]           3  \n",
       "848935705057280001                                             []           0  \n",
       "848416049573658624                          [@DaveLeeBBC, @verge]           2  "
      ]
     },
     "execution_count": 21,
     "metadata": {},
     "output_type": "execute_result"
    }
   ],
   "source": [
    "df.head()"
   ]
  },
  {
   "cell_type": "markdown",
   "metadata": {},
   "source": [
    "#### Add column with week day"
   ]
  },
  {
   "cell_type": "code",
   "execution_count": 22,
   "metadata": {},
   "outputs": [],
   "source": [
    "df[\"week_day_name\"] = df.created_at.dt.day_name()"
   ]
  },
  {
   "cell_type": "code",
   "execution_count": 23,
   "metadata": {},
   "outputs": [],
   "source": [
    "df[\"week_day\"] = df.created_at.dt.weekday"
   ]
  },
  {
   "cell_type": "code",
   "execution_count": 24,
   "metadata": {},
   "outputs": [
    {
     "data": {
      "text/html": [
       "<div>\n",
       "<style scoped>\n",
       "    .dataframe tbody tr th:only-of-type {\n",
       "        vertical-align: middle;\n",
       "    }\n",
       "\n",
       "    .dataframe tbody tr th {\n",
       "        vertical-align: top;\n",
       "    }\n",
       "\n",
       "    .dataframe thead th {\n",
       "        text-align: right;\n",
       "    }\n",
       "</style>\n",
       "<table border=\"1\" class=\"dataframe\">\n",
       "  <thead>\n",
       "    <tr style=\"text-align: right;\">\n",
       "      <th></th>\n",
       "      <th>created_at</th>\n",
       "      <th>text</th>\n",
       "      <th>tweet_link</th>\n",
       "      <th>tweet_mentions</th>\n",
       "      <th>n_mentions</th>\n",
       "      <th>week_day_name</th>\n",
       "      <th>week_day</th>\n",
       "    </tr>\n",
       "    <tr>\n",
       "      <th>id</th>\n",
       "      <th></th>\n",
       "      <th></th>\n",
       "      <th></th>\n",
       "      <th></th>\n",
       "      <th></th>\n",
       "      <th></th>\n",
       "      <th></th>\n",
       "    </tr>\n",
       "  </thead>\n",
       "  <tbody>\n",
       "    <tr>\n",
       "      <th>849636868052275200</th>\n",
       "      <td>2017-04-05 14:56:29</td>\n",
       "      <td>b'And so the robots spared humanity ... https://t.co/v7JUJQWfCv'</td>\n",
       "      <td>https://twitter.com/i/web/status/849636868052275200</td>\n",
       "      <td>[]</td>\n",
       "      <td>0</td>\n",
       "      <td>Wednesday</td>\n",
       "      <td>2</td>\n",
       "    </tr>\n",
       "    <tr>\n",
       "      <th>848988730585096192</th>\n",
       "      <td>2017-04-03 20:01:01</td>\n",
       "      <td>b\"@ForIn2020 @waltmossberg @mims @defcon_5 Exactly. Tesla is absurdly overvalued if based on the past, but that's irr\\xe2\\x80\\xa6 https://t.co/qQcTqkzgMl\"</td>\n",
       "      <td>https://twitter.com/i/web/status/848988730585096192</td>\n",
       "      <td>[@ForIn2020, @waltmossberg, @mims, @defcon_5]</td>\n",
       "      <td>4</td>\n",
       "      <td>Monday</td>\n",
       "      <td>0</td>\n",
       "    </tr>\n",
       "    <tr>\n",
       "      <th>848943072423497728</th>\n",
       "      <td>2017-04-03 16:59:35</td>\n",
       "      <td>b'@waltmossberg @mims @defcon_5 Et tu, Walt?'</td>\n",
       "      <td>https://twitter.com/i/web/status/848943072423497728</td>\n",
       "      <td>[@waltmossberg, @mims, @defcon_5]</td>\n",
       "      <td>3</td>\n",
       "      <td>Monday</td>\n",
       "      <td>0</td>\n",
       "    </tr>\n",
       "  </tbody>\n",
       "</table>\n",
       "</div>"
      ],
      "text/plain": [
       "                            created_at  \\\n",
       "id                                       \n",
       "849636868052275200 2017-04-05 14:56:29   \n",
       "848988730585096192 2017-04-03 20:01:01   \n",
       "848943072423497728 2017-04-03 16:59:35   \n",
       "\n",
       "                                                                                                                                                                          text  \\\n",
       "id                                                                                                                                                                               \n",
       "849636868052275200                                                                                            b'And so the robots spared humanity ... https://t.co/v7JUJQWfCv'   \n",
       "848988730585096192  b\"@ForIn2020 @waltmossberg @mims @defcon_5 Exactly. Tesla is absurdly overvalued if based on the past, but that's irr\\xe2\\x80\\xa6 https://t.co/qQcTqkzgMl\"   \n",
       "848943072423497728                                                                                                               b'@waltmossberg @mims @defcon_5 Et tu, Walt?'   \n",
       "\n",
       "                                                             tweet_link  \\\n",
       "id                                                                        \n",
       "849636868052275200  https://twitter.com/i/web/status/849636868052275200   \n",
       "848988730585096192  https://twitter.com/i/web/status/848988730585096192   \n",
       "848943072423497728  https://twitter.com/i/web/status/848943072423497728   \n",
       "\n",
       "                                                   tweet_mentions  n_mentions  \\\n",
       "id                                                                              \n",
       "849636868052275200                                             []           0   \n",
       "848988730585096192  [@ForIn2020, @waltmossberg, @mims, @defcon_5]           4   \n",
       "848943072423497728              [@waltmossberg, @mims, @defcon_5]           3   \n",
       "\n",
       "                   week_day_name  week_day  \n",
       "id                                          \n",
       "849636868052275200     Wednesday         2  \n",
       "848988730585096192        Monday         0  \n",
       "848943072423497728        Monday         0  "
      ]
     },
     "execution_count": 24,
     "metadata": {},
     "output_type": "execute_result"
    }
   ],
   "source": [
    "df.head(3)"
   ]
  },
  {
   "cell_type": "markdown",
   "metadata": {
    "tags": []
   },
   "source": [
    "###  Selecting rows\n",
    "\n",
    "Filtering rows in `pandas` is done by means of `[ ]`, which can contain the row number as well as a condition for the selection."
   ]
  },
  {
   "cell_type": "code",
   "execution_count": 25,
   "metadata": {
    "tags": []
   },
   "outputs": [
    {
     "data": {
      "text/html": [
       "<div>\n",
       "<style scoped>\n",
       "    .dataframe tbody tr th:only-of-type {\n",
       "        vertical-align: middle;\n",
       "    }\n",
       "\n",
       "    .dataframe tbody tr th {\n",
       "        vertical-align: top;\n",
       "    }\n",
       "\n",
       "    .dataframe thead th {\n",
       "        text-align: right;\n",
       "    }\n",
       "</style>\n",
       "<table border=\"1\" class=\"dataframe\">\n",
       "  <thead>\n",
       "    <tr style=\"text-align: right;\">\n",
       "      <th></th>\n",
       "      <th>created_at</th>\n",
       "      <th>text</th>\n",
       "      <th>tweet_link</th>\n",
       "      <th>tweet_mentions</th>\n",
       "      <th>n_mentions</th>\n",
       "      <th>week_day_name</th>\n",
       "      <th>week_day</th>\n",
       "    </tr>\n",
       "    <tr>\n",
       "      <th>id</th>\n",
       "      <th></th>\n",
       "      <th></th>\n",
       "      <th></th>\n",
       "      <th></th>\n",
       "      <th></th>\n",
       "      <th></th>\n",
       "      <th></th>\n",
       "    </tr>\n",
       "  </thead>\n",
       "  <tbody>\n",
       "    <tr>\n",
       "      <th>849636868052275200</th>\n",
       "      <td>2017-04-05 14:56:29</td>\n",
       "      <td>b'And so the robots spared humanity ... https://t.co/v7JUJQWfCv'</td>\n",
       "      <td>https://twitter.com/i/web/status/849636868052275200</td>\n",
       "      <td>[]</td>\n",
       "      <td>0</td>\n",
       "      <td>Wednesday</td>\n",
       "      <td>2</td>\n",
       "    </tr>\n",
       "    <tr>\n",
       "      <th>848988730585096192</th>\n",
       "      <td>2017-04-03 20:01:01</td>\n",
       "      <td>b\"@ForIn2020 @waltmossberg @mims @defcon_5 Exactly. Tesla is absurdly overvalued if based on the past, but that's irr\\xe2\\x80\\xa6 https://t.co/qQcTqkzgMl\"</td>\n",
       "      <td>https://twitter.com/i/web/status/848988730585096192</td>\n",
       "      <td>[@ForIn2020, @waltmossberg, @mims, @defcon_5]</td>\n",
       "      <td>4</td>\n",
       "      <td>Monday</td>\n",
       "      <td>0</td>\n",
       "    </tr>\n",
       "  </tbody>\n",
       "</table>\n",
       "</div>"
      ],
      "text/plain": [
       "                            created_at  \\\n",
       "id                                       \n",
       "849636868052275200 2017-04-05 14:56:29   \n",
       "848988730585096192 2017-04-03 20:01:01   \n",
       "\n",
       "                                                                                                                                                                          text  \\\n",
       "id                                                                                                                                                                               \n",
       "849636868052275200                                                                                            b'And so the robots spared humanity ... https://t.co/v7JUJQWfCv'   \n",
       "848988730585096192  b\"@ForIn2020 @waltmossberg @mims @defcon_5 Exactly. Tesla is absurdly overvalued if based on the past, but that's irr\\xe2\\x80\\xa6 https://t.co/qQcTqkzgMl\"   \n",
       "\n",
       "                                                             tweet_link  \\\n",
       "id                                                                        \n",
       "849636868052275200  https://twitter.com/i/web/status/849636868052275200   \n",
       "848988730585096192  https://twitter.com/i/web/status/848988730585096192   \n",
       "\n",
       "                                                   tweet_mentions  n_mentions  \\\n",
       "id                                                                              \n",
       "849636868052275200                                             []           0   \n",
       "848988730585096192  [@ForIn2020, @waltmossberg, @mims, @defcon_5]           4   \n",
       "\n",
       "                   week_day_name  week_day  \n",
       "id                                          \n",
       "849636868052275200     Wednesday         2  \n",
       "848988730585096192        Monday         0  "
      ]
     },
     "execution_count": 25,
     "metadata": {},
     "output_type": "execute_result"
    }
   ],
   "source": [
    "df[0:2]"
   ]
  },
  {
   "cell_type": "code",
   "execution_count": 26,
   "metadata": {},
   "outputs": [
    {
     "data": {
      "text/plain": [
       "(1674, 7)"
      ]
     },
     "execution_count": 26,
     "metadata": {},
     "output_type": "execute_result"
    }
   ],
   "source": [
    "# equivalent of `df.query('n_mentions > 0')`\n",
    "\n",
    "df[df.n_mentions > 0].shape"
   ]
  },
  {
   "cell_type": "code",
   "execution_count": 27,
   "metadata": {},
   "outputs": [
    {
     "data": {
      "text/plain": [
       "(1145, 7)"
      ]
     },
     "execution_count": 27,
     "metadata": {},
     "output_type": "execute_result"
    }
   ],
   "source": [
    "df[df.n_mentions <= 0].shape"
   ]
  },
  {
   "cell_type": "markdown",
   "metadata": {},
   "source": [
    "#### Strings"
   ]
  },
  {
   "cell_type": "code",
   "execution_count": 28,
   "metadata": {},
   "outputs": [
    {
     "data": {
      "text/plain": [
       "(426, 7)"
      ]
     },
     "execution_count": 28,
     "metadata": {},
     "output_type": "execute_result"
    }
   ],
   "source": [
    "df[df.week_day_name == 'Saturday'].shape"
   ]
  },
  {
   "cell_type": "code",
   "execution_count": 29,
   "metadata": {},
   "outputs": [
    {
     "data": {
      "text/plain": [
       "(848, 7)"
      ]
     },
     "execution_count": 29,
     "metadata": {},
     "output_type": "execute_result"
    }
   ],
   "source": [
    "df[df.week_day_name.str.startswith('S')].shape"
   ]
  },
  {
   "cell_type": "markdown",
   "metadata": {},
   "source": [
    "#### Multiple conditions"
   ]
  },
  {
   "cell_type": "code",
   "execution_count": 30,
   "metadata": {},
   "outputs": [
    {
     "data": {
      "text/plain": [
       "(187, 7)"
      ]
     },
     "execution_count": 30,
     "metadata": {},
     "output_type": "execute_result"
    }
   ],
   "source": [
    "# AND condition with `&`\n",
    "\n",
    "df[\n",
    "    (df.week_day_name == 'Saturday') & (df.n_mentions == 0)\n",
    "].shape"
   ]
  },
  {
   "cell_type": "code",
   "execution_count": 31,
   "metadata": {},
   "outputs": [
    {
     "data": {
      "text/plain": [
       "(187, 7)"
      ]
     },
     "execution_count": 31,
     "metadata": {},
     "output_type": "execute_result"
    }
   ],
   "source": [
    "# equivalent expression with `query()`\n",
    "\n",
    "df.query(\"week_day_name == 'Saturday' and n_mentions == 0\").shape"
   ]
  },
  {
   "cell_type": "code",
   "execution_count": 32,
   "metadata": {},
   "outputs": [
    {
     "data": {
      "text/plain": [
       "(1384, 7)"
      ]
     },
     "execution_count": 32,
     "metadata": {},
     "output_type": "execute_result"
    }
   ],
   "source": [
    "# OR condition with `|`\n",
    "\n",
    "df[\n",
    "    (df.week_day_name == 'Saturday') | (df.n_mentions == 0)\n",
    "].shape"
   ]
  },
  {
   "cell_type": "markdown",
   "metadata": {},
   "source": [
    "#### Add column with day hour"
   ]
  },
  {
   "cell_type": "code",
   "execution_count": 33,
   "metadata": {},
   "outputs": [
    {
     "data": {
      "text/plain": [
       "\u001b[0;31mType:\u001b[0m        DatetimeProperties\n",
       "\u001b[0;31mString form:\u001b[0m <pandas.core.indexes.accessors.DatetimeProperties object at 0x117764ac0>\n",
       "\u001b[0;31mFile:\u001b[0m        ~/.pyenv/versions/3.10.0/envs/ada-dhoxss-2022/lib/python3.10/site-packages/pandas/core/indexes/accessors.py\n",
       "\u001b[0;31mDocstring:\u001b[0m  \n",
       "Accessor object for datetimelike properties of the Series values.\n",
       "\n",
       "Examples\n",
       "--------\n",
       ">>> seconds_series = pd.Series(pd.date_range(\"2000-01-01\", periods=3, freq=\"s\"))\n",
       ">>> seconds_series\n",
       "0   2000-01-01 00:00:00\n",
       "1   2000-01-01 00:00:01\n",
       "2   2000-01-01 00:00:02\n",
       "dtype: datetime64[ns]\n",
       ">>> seconds_series.dt.second\n",
       "0    0\n",
       "1    1\n",
       "2    2\n",
       "dtype: int64\n",
       "\n",
       ">>> hours_series = pd.Series(pd.date_range(\"2000-01-01\", periods=3, freq=\"h\"))\n",
       ">>> hours_series\n",
       "0   2000-01-01 00:00:00\n",
       "1   2000-01-01 01:00:00\n",
       "2   2000-01-01 02:00:00\n",
       "dtype: datetime64[ns]\n",
       ">>> hours_series.dt.hour\n",
       "0    0\n",
       "1    1\n",
       "2    2\n",
       "dtype: int64\n",
       "\n",
       ">>> quarters_series = pd.Series(pd.date_range(\"2000-01-01\", periods=3, freq=\"q\"))\n",
       ">>> quarters_series\n",
       "0   2000-03-31\n",
       "1   2000-06-30\n",
       "2   2000-09-30\n",
       "dtype: datetime64[ns]\n",
       ">>> quarters_series.dt.quarter\n",
       "0    1\n",
       "1    2\n",
       "2    3\n",
       "dtype: int64\n",
       "\n",
       "Returns a Series indexed like the original Series.\n",
       "Raises TypeError if the Series does not contain datetimelike values.\n"
      ]
     },
     "metadata": {},
     "output_type": "display_data"
    }
   ],
   "source": [
    "df.created_at.dt?"
   ]
  },
  {
   "cell_type": "code",
   "execution_count": 34,
   "metadata": {},
   "outputs": [
    {
     "data": {
      "text/plain": [
       "id\n",
       "849636868052275200    14\n",
       "848988730585096192    20\n",
       "848943072423497728    16\n",
       "848935705057280001    16\n",
       "848416049573658624     6\n",
       "Name: created_at, dtype: int64"
      ]
     },
     "execution_count": 34,
     "metadata": {},
     "output_type": "execute_result"
    }
   ],
   "source": [
    "df.created_at.dt.hour.head()"
   ]
  },
  {
   "cell_type": "code",
   "execution_count": 35,
   "metadata": {},
   "outputs": [],
   "source": [
    "df[\"day_hour\"] = df.created_at.dt.hour"
   ]
  },
  {
   "cell_type": "code",
   "execution_count": 36,
   "metadata": {},
   "outputs": [
    {
     "data": {
      "text/html": [
       "<div>\n",
       "<style scoped>\n",
       "    .dataframe tbody tr th:only-of-type {\n",
       "        vertical-align: middle;\n",
       "    }\n",
       "\n",
       "    .dataframe tbody tr th {\n",
       "        vertical-align: top;\n",
       "    }\n",
       "\n",
       "    .dataframe thead th {\n",
       "        text-align: right;\n",
       "    }\n",
       "</style>\n",
       "<table border=\"1\" class=\"dataframe\">\n",
       "  <thead>\n",
       "    <tr style=\"text-align: right;\">\n",
       "      <th></th>\n",
       "      <th>created_at</th>\n",
       "      <th>week_day</th>\n",
       "      <th>day_hour</th>\n",
       "    </tr>\n",
       "    <tr>\n",
       "      <th>id</th>\n",
       "      <th></th>\n",
       "      <th></th>\n",
       "      <th></th>\n",
       "    </tr>\n",
       "  </thead>\n",
       "  <tbody>\n",
       "    <tr>\n",
       "      <th>849636868052275200</th>\n",
       "      <td>2017-04-05 14:56:29</td>\n",
       "      <td>2</td>\n",
       "      <td>14</td>\n",
       "    </tr>\n",
       "    <tr>\n",
       "      <th>848988730585096192</th>\n",
       "      <td>2017-04-03 20:01:01</td>\n",
       "      <td>0</td>\n",
       "      <td>20</td>\n",
       "    </tr>\n",
       "    <tr>\n",
       "      <th>848943072423497728</th>\n",
       "      <td>2017-04-03 16:59:35</td>\n",
       "      <td>0</td>\n",
       "      <td>16</td>\n",
       "    </tr>\n",
       "    <tr>\n",
       "      <th>848935705057280001</th>\n",
       "      <td>2017-04-03 16:30:19</td>\n",
       "      <td>0</td>\n",
       "      <td>16</td>\n",
       "    </tr>\n",
       "  </tbody>\n",
       "</table>\n",
       "</div>"
      ],
      "text/plain": [
       "                            created_at  week_day  day_hour\n",
       "id                                                        \n",
       "849636868052275200 2017-04-05 14:56:29         2        14\n",
       "848988730585096192 2017-04-03 20:01:01         0        20\n",
       "848943072423497728 2017-04-03 16:59:35         0        16\n",
       "848935705057280001 2017-04-03 16:30:19         0        16"
      ]
     },
     "execution_count": 36,
     "metadata": {},
     "output_type": "execute_result"
    }
   ],
   "source": [
    "display_cols = ['created_at', 'week_day', 'day_hour']\n",
    "df[display_cols].head(4)"
   ]
  },
  {
   "cell_type": "markdown",
   "metadata": {},
   "source": [
    "### Aggregation\n",
    "\n",
    "(Figure taken from W. Mckinney's *Python for Data Analysis* 2013, p. 252)\n",
    "\n",
    "<img src='figures/groupby-mechanics.png' width='600px'>"
   ]
  },
  {
   "cell_type": "code",
   "execution_count": 37,
   "metadata": {},
   "outputs": [
    {
     "data": {
      "text/html": [
       "<div>\n",
       "<style scoped>\n",
       "    .dataframe tbody tr th:only-of-type {\n",
       "        vertical-align: middle;\n",
       "    }\n",
       "\n",
       "    .dataframe tbody tr th {\n",
       "        vertical-align: top;\n",
       "    }\n",
       "\n",
       "    .dataframe thead th {\n",
       "        text-align: right;\n",
       "    }\n",
       "</style>\n",
       "<table border=\"1\" class=\"dataframe\">\n",
       "  <thead>\n",
       "    <tr style=\"text-align: right;\">\n",
       "      <th></th>\n",
       "      <th>n_mentions</th>\n",
       "    </tr>\n",
       "  </thead>\n",
       "  <tbody>\n",
       "    <tr>\n",
       "      <th>min</th>\n",
       "      <td>0</td>\n",
       "    </tr>\n",
       "    <tr>\n",
       "      <th>max</th>\n",
       "      <td>6</td>\n",
       "    </tr>\n",
       "    <tr>\n",
       "      <th>sum</th>\n",
       "      <td>2277</td>\n",
       "    </tr>\n",
       "  </tbody>\n",
       "</table>\n",
       "</div>"
      ],
      "text/plain": [
       "     n_mentions\n",
       "min           0\n",
       "max           6\n",
       "sum        2277"
      ]
     },
     "execution_count": 37,
     "metadata": {},
     "output_type": "execute_result"
    }
   ],
   "source": [
    "df.agg({'n_mentions': ['min', 'max', 'sum']})"
   ]
  },
  {
   "cell_type": "markdown",
   "metadata": {},
   "source": [
    "#### Grouping"
   ]
  },
  {
   "cell_type": "code",
   "execution_count": 38,
   "metadata": {},
   "outputs": [
    {
     "data": {
      "text/plain": [
       "\u001b[0;31mSignature:\u001b[0m\n",
       "\u001b[0mdf\u001b[0m\u001b[0;34m.\u001b[0m\u001b[0mgroupby\u001b[0m\u001b[0;34m(\u001b[0m\u001b[0;34m\u001b[0m\n",
       "\u001b[0;34m\u001b[0m    \u001b[0mby\u001b[0m\u001b[0;34m=\u001b[0m\u001b[0;32mNone\u001b[0m\u001b[0;34m,\u001b[0m\u001b[0;34m\u001b[0m\n",
       "\u001b[0;34m\u001b[0m    \u001b[0maxis\u001b[0m\u001b[0;34m:\u001b[0m \u001b[0;34m'Axis'\u001b[0m \u001b[0;34m=\u001b[0m \u001b[0;36m0\u001b[0m\u001b[0;34m,\u001b[0m\u001b[0;34m\u001b[0m\n",
       "\u001b[0;34m\u001b[0m    \u001b[0mlevel\u001b[0m\u001b[0;34m:\u001b[0m \u001b[0;34m'Level | None'\u001b[0m \u001b[0;34m=\u001b[0m \u001b[0;32mNone\u001b[0m\u001b[0;34m,\u001b[0m\u001b[0;34m\u001b[0m\n",
       "\u001b[0;34m\u001b[0m    \u001b[0mas_index\u001b[0m\u001b[0;34m:\u001b[0m \u001b[0;34m'bool'\u001b[0m \u001b[0;34m=\u001b[0m \u001b[0;32mTrue\u001b[0m\u001b[0;34m,\u001b[0m\u001b[0;34m\u001b[0m\n",
       "\u001b[0;34m\u001b[0m    \u001b[0msort\u001b[0m\u001b[0;34m:\u001b[0m \u001b[0;34m'bool'\u001b[0m \u001b[0;34m=\u001b[0m \u001b[0;32mTrue\u001b[0m\u001b[0;34m,\u001b[0m\u001b[0;34m\u001b[0m\n",
       "\u001b[0;34m\u001b[0m    \u001b[0mgroup_keys\u001b[0m\u001b[0;34m:\u001b[0m \u001b[0;34m'bool'\u001b[0m \u001b[0;34m=\u001b[0m \u001b[0;32mTrue\u001b[0m\u001b[0;34m,\u001b[0m\u001b[0;34m\u001b[0m\n",
       "\u001b[0;34m\u001b[0m    \u001b[0msqueeze\u001b[0m\u001b[0;34m:\u001b[0m \u001b[0;34m'bool | lib.NoDefault'\u001b[0m \u001b[0;34m=\u001b[0m \u001b[0;34m<\u001b[0m\u001b[0mno_default\u001b[0m\u001b[0;34m>\u001b[0m\u001b[0;34m,\u001b[0m\u001b[0;34m\u001b[0m\n",
       "\u001b[0;34m\u001b[0m    \u001b[0mobserved\u001b[0m\u001b[0;34m:\u001b[0m \u001b[0;34m'bool'\u001b[0m \u001b[0;34m=\u001b[0m \u001b[0;32mFalse\u001b[0m\u001b[0;34m,\u001b[0m\u001b[0;34m\u001b[0m\n",
       "\u001b[0;34m\u001b[0m    \u001b[0mdropna\u001b[0m\u001b[0;34m:\u001b[0m \u001b[0;34m'bool'\u001b[0m \u001b[0;34m=\u001b[0m \u001b[0;32mTrue\u001b[0m\u001b[0;34m,\u001b[0m\u001b[0;34m\u001b[0m\n",
       "\u001b[0;34m\u001b[0m\u001b[0;34m)\u001b[0m \u001b[0;34m->\u001b[0m \u001b[0;34m'DataFrameGroupBy'\u001b[0m\u001b[0;34m\u001b[0m\u001b[0;34m\u001b[0m\u001b[0m\n",
       "\u001b[0;31mDocstring:\u001b[0m\n",
       "Group DataFrame using a mapper or by a Series of columns.\n",
       "\n",
       "A groupby operation involves some combination of splitting the\n",
       "object, applying a function, and combining the results. This can be\n",
       "used to group large amounts of data and compute operations on these\n",
       "groups.\n",
       "\n",
       "Parameters\n",
       "----------\n",
       "by : mapping, function, label, or list of labels\n",
       "    Used to determine the groups for the groupby.\n",
       "    If ``by`` is a function, it's called on each value of the object's\n",
       "    index. If a dict or Series is passed, the Series or dict VALUES\n",
       "    will be used to determine the groups (the Series' values are first\n",
       "    aligned; see ``.align()`` method). If a list or ndarray of length\n",
       "    equal to the selected axis is passed (see the `groupby user guide\n",
       "    <https://pandas.pydata.org/pandas-docs/stable/user_guide/groupby.html#splitting-an-object-into-groups>`_),\n",
       "    the values are used as-is to determine the groups. A label or list\n",
       "    of labels may be passed to group by the columns in ``self``.\n",
       "    Notice that a tuple is interpreted as a (single) key.\n",
       "axis : {0 or 'index', 1 or 'columns'}, default 0\n",
       "    Split along rows (0) or columns (1).\n",
       "level : int, level name, or sequence of such, default None\n",
       "    If the axis is a MultiIndex (hierarchical), group by a particular\n",
       "    level or levels.\n",
       "as_index : bool, default True\n",
       "    For aggregated output, return object with group labels as the\n",
       "    index. Only relevant for DataFrame input. as_index=False is\n",
       "    effectively \"SQL-style\" grouped output.\n",
       "sort : bool, default True\n",
       "    Sort group keys. Get better performance by turning this off.\n",
       "    Note this does not influence the order of observations within each\n",
       "    group. Groupby preserves the order of rows within each group.\n",
       "group_keys : bool, default True\n",
       "    When calling apply, add group keys to index to identify pieces.\n",
       "squeeze : bool, default False\n",
       "    Reduce the dimensionality of the return type if possible,\n",
       "    otherwise return a consistent type.\n",
       "\n",
       "    .. deprecated:: 1.1.0\n",
       "\n",
       "observed : bool, default False\n",
       "    This only applies if any of the groupers are Categoricals.\n",
       "    If True: only show observed values for categorical groupers.\n",
       "    If False: show all values for categorical groupers.\n",
       "dropna : bool, default True\n",
       "    If True, and if group keys contain NA values, NA values together\n",
       "    with row/column will be dropped.\n",
       "    If False, NA values will also be treated as the key in groups.\n",
       "\n",
       "    .. versionadded:: 1.1.0\n",
       "\n",
       "Returns\n",
       "-------\n",
       "DataFrameGroupBy\n",
       "    Returns a groupby object that contains information about the groups.\n",
       "\n",
       "See Also\n",
       "--------\n",
       "resample : Convenience method for frequency conversion and resampling\n",
       "    of time series.\n",
       "\n",
       "Notes\n",
       "-----\n",
       "See the `user guide\n",
       "<https://pandas.pydata.org/pandas-docs/stable/groupby.html>`__ for more\n",
       "detailed usage and examples, including splitting an object into groups,\n",
       "iterating through groups, selecting a group, aggregation, and more.\n",
       "\n",
       "Examples\n",
       "--------\n",
       ">>> df = pd.DataFrame({'Animal': ['Falcon', 'Falcon',\n",
       "...                               'Parrot', 'Parrot'],\n",
       "...                    'Max Speed': [380., 370., 24., 26.]})\n",
       ">>> df\n",
       "   Animal  Max Speed\n",
       "0  Falcon      380.0\n",
       "1  Falcon      370.0\n",
       "2  Parrot       24.0\n",
       "3  Parrot       26.0\n",
       ">>> df.groupby(['Animal']).mean()\n",
       "        Max Speed\n",
       "Animal\n",
       "Falcon      375.0\n",
       "Parrot       25.0\n",
       "\n",
       "**Hierarchical Indexes**\n",
       "\n",
       "We can groupby different levels of a hierarchical index\n",
       "using the `level` parameter:\n",
       "\n",
       ">>> arrays = [['Falcon', 'Falcon', 'Parrot', 'Parrot'],\n",
       "...           ['Captive', 'Wild', 'Captive', 'Wild']]\n",
       ">>> index = pd.MultiIndex.from_arrays(arrays, names=('Animal', 'Type'))\n",
       ">>> df = pd.DataFrame({'Max Speed': [390., 350., 30., 20.]},\n",
       "...                   index=index)\n",
       ">>> df\n",
       "                Max Speed\n",
       "Animal Type\n",
       "Falcon Captive      390.0\n",
       "       Wild         350.0\n",
       "Parrot Captive       30.0\n",
       "       Wild          20.0\n",
       ">>> df.groupby(level=0).mean()\n",
       "        Max Speed\n",
       "Animal\n",
       "Falcon      370.0\n",
       "Parrot       25.0\n",
       ">>> df.groupby(level=\"Type\").mean()\n",
       "         Max Speed\n",
       "Type\n",
       "Captive      210.0\n",
       "Wild         185.0\n",
       "\n",
       "We can also choose to include NA in group keys or not by setting\n",
       "`dropna` parameter, the default setting is `True`.\n",
       "\n",
       ">>> l = [[1, 2, 3], [1, None, 4], [2, 1, 3], [1, 2, 2]]\n",
       ">>> df = pd.DataFrame(l, columns=[\"a\", \"b\", \"c\"])\n",
       "\n",
       ">>> df.groupby(by=[\"b\"]).sum()\n",
       "    a   c\n",
       "b\n",
       "1.0 2   3\n",
       "2.0 2   5\n",
       "\n",
       ">>> df.groupby(by=[\"b\"], dropna=False).sum()\n",
       "    a   c\n",
       "b\n",
       "1.0 2   3\n",
       "2.0 2   5\n",
       "NaN 1   4\n",
       "\n",
       ">>> l = [[\"a\", 12, 12], [None, 12.3, 33.], [\"b\", 12.3, 123], [\"a\", 1, 1]]\n",
       ">>> df = pd.DataFrame(l, columns=[\"a\", \"b\", \"c\"])\n",
       "\n",
       ">>> df.groupby(by=\"a\").sum()\n",
       "    b     c\n",
       "a\n",
       "a   13.0   13.0\n",
       "b   12.3  123.0\n",
       "\n",
       ">>> df.groupby(by=\"a\", dropna=False).sum()\n",
       "    b     c\n",
       "a\n",
       "a   13.0   13.0\n",
       "b   12.3  123.0\n",
       "NaN 12.3   33.0\n",
       "\u001b[0;31mFile:\u001b[0m      ~/.pyenv/versions/3.10.0/envs/ada-dhoxss-2022/lib/python3.10/site-packages/pandas/core/frame.py\n",
       "\u001b[0;31mType:\u001b[0m      method\n"
      ]
     },
     "metadata": {},
     "output_type": "display_data"
    }
   ],
   "source": [
    "df.groupby?"
   ]
  },
  {
   "cell_type": "code",
   "execution_count": 39,
   "metadata": {},
   "outputs": [],
   "source": [
    "grp_by_day = df.groupby('week_day')"
   ]
  },
  {
   "cell_type": "markdown",
   "metadata": {},
   "source": [
    "The object returned by `gropuby` is a `DataFrameGroupBy` **not** a normal `DataFrame`.\n",
    "\n",
    "However, some methods of the latter work also on the former, e.g. `head` and `tail`"
   ]
  },
  {
   "cell_type": "code",
   "execution_count": 40,
   "metadata": {},
   "outputs": [
    {
     "data": {
      "text/html": [
       "<div>\n",
       "<style scoped>\n",
       "    .dataframe tbody tr th:only-of-type {\n",
       "        vertical-align: middle;\n",
       "    }\n",
       "\n",
       "    .dataframe tbody tr th {\n",
       "        vertical-align: top;\n",
       "    }\n",
       "\n",
       "    .dataframe thead th {\n",
       "        text-align: right;\n",
       "    }\n",
       "</style>\n",
       "<table border=\"1\" class=\"dataframe\">\n",
       "  <thead>\n",
       "    <tr style=\"text-align: right;\">\n",
       "      <th></th>\n",
       "      <th>created_at</th>\n",
       "      <th>text</th>\n",
       "      <th>tweet_link</th>\n",
       "      <th>tweet_mentions</th>\n",
       "      <th>n_mentions</th>\n",
       "      <th>week_day_name</th>\n",
       "      <th>week_day</th>\n",
       "      <th>day_hour</th>\n",
       "    </tr>\n",
       "    <tr>\n",
       "      <th>id</th>\n",
       "      <th></th>\n",
       "      <th></th>\n",
       "      <th></th>\n",
       "      <th></th>\n",
       "      <th></th>\n",
       "      <th></th>\n",
       "      <th></th>\n",
       "      <th></th>\n",
       "    </tr>\n",
       "  </thead>\n",
       "  <tbody>\n",
       "    <tr>\n",
       "      <th>849636868052275200</th>\n",
       "      <td>2017-04-05 14:56:29</td>\n",
       "      <td>b'And so the robots spared humanity ... https://t.co/v7JUJQWfCv'</td>\n",
       "      <td>https://twitter.com/i/web/status/849636868052275200</td>\n",
       "      <td>[]</td>\n",
       "      <td>0</td>\n",
       "      <td>Wednesday</td>\n",
       "      <td>2</td>\n",
       "      <td>14</td>\n",
       "    </tr>\n",
       "    <tr>\n",
       "      <th>848988730585096192</th>\n",
       "      <td>2017-04-03 20:01:01</td>\n",
       "      <td>b\"@ForIn2020 @waltmossberg @mims @defcon_5 Exactly. Tesla is absurdly overvalued if based on the past, but that's irr\\xe2\\x80\\xa6 https://t.co/qQcTqkzgMl\"</td>\n",
       "      <td>https://twitter.com/i/web/status/848988730585096192</td>\n",
       "      <td>[@ForIn2020, @waltmossberg, @mims, @defcon_5]</td>\n",
       "      <td>4</td>\n",
       "      <td>Monday</td>\n",
       "      <td>0</td>\n",
       "      <td>20</td>\n",
       "    </tr>\n",
       "    <tr>\n",
       "      <th>848416049573658624</th>\n",
       "      <td>2017-04-02 06:05:23</td>\n",
       "      <td>b\"@DaveLeeBBC @verge Coal is dying due to nat gas fracking. It's basically dead.\"</td>\n",
       "      <td>https://twitter.com/i/web/status/848416049573658624</td>\n",
       "      <td>[@DaveLeeBBC, @verge]</td>\n",
       "      <td>2</td>\n",
       "      <td>Sunday</td>\n",
       "      <td>6</td>\n",
       "      <td>6</td>\n",
       "    </tr>\n",
       "    <tr>\n",
       "      <th>848244577521647616</th>\n",
       "      <td>2017-04-01 18:44:01</td>\n",
       "      <td>b\"Why did we waste so much time developing silly rockets? Damn you, aliens! So obtuse! You have all this crazy tech, but can't speak English!?\"</td>\n",
       "      <td>https://twitter.com/i/web/status/848244577521647616</td>\n",
       "      <td>[]</td>\n",
       "      <td>0</td>\n",
       "      <td>Saturday</td>\n",
       "      <td>5</td>\n",
       "      <td>18</td>\n",
       "    </tr>\n",
       "    <tr>\n",
       "      <th>847958571895619584</th>\n",
       "      <td>2017-03-31 23:47:32</td>\n",
       "      <td>b'@BadAstronomer We can def bring it back like Dragon. Just a question of how much weight we need to add.'</td>\n",
       "      <td>https://twitter.com/i/web/status/847958571895619584</td>\n",
       "      <td>[@BadAstronomer]</td>\n",
       "      <td>1</td>\n",
       "      <td>Friday</td>\n",
       "      <td>4</td>\n",
       "      <td>23</td>\n",
       "    </tr>\n",
       "    <tr>\n",
       "      <th>847594208219336705</th>\n",
       "      <td>2017-03-30 23:39:41</td>\n",
       "      <td>b'Incredibly proud of the SpaceX team for achieving this milestone in space! Next goal is reflight within 24 hours.'</td>\n",
       "      <td>https://twitter.com/i/web/status/847594208219336705</td>\n",
       "      <td>[]</td>\n",
       "      <td>0</td>\n",
       "      <td>Thursday</td>\n",
       "      <td>3</td>\n",
       "      <td>23</td>\n",
       "    </tr>\n",
       "    <tr>\n",
       "      <th>846772378067648513</th>\n",
       "      <td>2017-03-28 17:14:01</td>\n",
       "      <td>b'@danahull Very few. We have yet to do a China (or Europe) launch of Model 3.'</td>\n",
       "      <td>https://twitter.com/i/web/status/846772378067648513</td>\n",
       "      <td>[@danahull]</td>\n",
       "      <td>1</td>\n",
       "      <td>Tuesday</td>\n",
       "      <td>1</td>\n",
       "      <td>17</td>\n",
       "    </tr>\n",
       "  </tbody>\n",
       "</table>\n",
       "</div>"
      ],
      "text/plain": [
       "                            created_at  \\\n",
       "id                                       \n",
       "849636868052275200 2017-04-05 14:56:29   \n",
       "848988730585096192 2017-04-03 20:01:01   \n",
       "848416049573658624 2017-04-02 06:05:23   \n",
       "848244577521647616 2017-04-01 18:44:01   \n",
       "847958571895619584 2017-03-31 23:47:32   \n",
       "847594208219336705 2017-03-30 23:39:41   \n",
       "846772378067648513 2017-03-28 17:14:01   \n",
       "\n",
       "                                                                                                                                                                          text  \\\n",
       "id                                                                                                                                                                               \n",
       "849636868052275200                                                                                            b'And so the robots spared humanity ... https://t.co/v7JUJQWfCv'   \n",
       "848988730585096192  b\"@ForIn2020 @waltmossberg @mims @defcon_5 Exactly. Tesla is absurdly overvalued if based on the past, but that's irr\\xe2\\x80\\xa6 https://t.co/qQcTqkzgMl\"   \n",
       "848416049573658624                                                                           b\"@DaveLeeBBC @verge Coal is dying due to nat gas fracking. It's basically dead.\"   \n",
       "848244577521647616             b\"Why did we waste so much time developing silly rockets? Damn you, aliens! So obtuse! You have all this crazy tech, but can't speak English!?\"   \n",
       "847958571895619584                                                  b'@BadAstronomer We can def bring it back like Dragon. Just a question of how much weight we need to add.'   \n",
       "847594208219336705                                        b'Incredibly proud of the SpaceX team for achieving this milestone in space! Next goal is reflight within 24 hours.'   \n",
       "846772378067648513                                                                             b'@danahull Very few. We have yet to do a China (or Europe) launch of Model 3.'   \n",
       "\n",
       "                                                             tweet_link  \\\n",
       "id                                                                        \n",
       "849636868052275200  https://twitter.com/i/web/status/849636868052275200   \n",
       "848988730585096192  https://twitter.com/i/web/status/848988730585096192   \n",
       "848416049573658624  https://twitter.com/i/web/status/848416049573658624   \n",
       "848244577521647616  https://twitter.com/i/web/status/848244577521647616   \n",
       "847958571895619584  https://twitter.com/i/web/status/847958571895619584   \n",
       "847594208219336705  https://twitter.com/i/web/status/847594208219336705   \n",
       "846772378067648513  https://twitter.com/i/web/status/846772378067648513   \n",
       "\n",
       "                                                   tweet_mentions  n_mentions  \\\n",
       "id                                                                              \n",
       "849636868052275200                                             []           0   \n",
       "848988730585096192  [@ForIn2020, @waltmossberg, @mims, @defcon_5]           4   \n",
       "848416049573658624                          [@DaveLeeBBC, @verge]           2   \n",
       "848244577521647616                                             []           0   \n",
       "847958571895619584                               [@BadAstronomer]           1   \n",
       "847594208219336705                                             []           0   \n",
       "846772378067648513                                    [@danahull]           1   \n",
       "\n",
       "                   week_day_name  week_day  day_hour  \n",
       "id                                                    \n",
       "849636868052275200     Wednesday         2        14  \n",
       "848988730585096192        Monday         0        20  \n",
       "848416049573658624        Sunday         6         6  \n",
       "848244577521647616      Saturday         5        18  \n",
       "847958571895619584        Friday         4        23  \n",
       "847594208219336705      Thursday         3        23  \n",
       "846772378067648513       Tuesday         1        17  "
      ]
     },
     "execution_count": 40,
     "metadata": {},
     "output_type": "execute_result"
    }
   ],
   "source": [
    "# the head of a DataFrameGroupBy consists of the first\n",
    "# n records for each group (see `help(grp_by_day.head)`)\n",
    "\n",
    "grp_by_day.head(1)"
   ]
  },
  {
   "cell_type": "markdown",
   "metadata": {},
   "source": [
    "`agg` is used to pass an aggregation function to be applied to each group resulting from `groupby`."
   ]
  },
  {
   "cell_type": "code",
   "execution_count": 41,
   "metadata": {},
   "outputs": [
    {
     "data": {
      "text/html": [
       "<div>\n",
       "<style scoped>\n",
       "    .dataframe tbody tr th:only-of-type {\n",
       "        vertical-align: middle;\n",
       "    }\n",
       "\n",
       "    .dataframe tbody tr th {\n",
       "        vertical-align: top;\n",
       "    }\n",
       "\n",
       "    .dataframe thead th {\n",
       "        text-align: right;\n",
       "    }\n",
       "</style>\n",
       "<table border=\"1\" class=\"dataframe\">\n",
       "  <thead>\n",
       "    <tr style=\"text-align: right;\">\n",
       "      <th></th>\n",
       "      <th>created_at</th>\n",
       "      <th>text</th>\n",
       "      <th>tweet_link</th>\n",
       "      <th>tweet_mentions</th>\n",
       "      <th>n_mentions</th>\n",
       "      <th>week_day_name</th>\n",
       "      <th>day_hour</th>\n",
       "    </tr>\n",
       "    <tr>\n",
       "      <th>week_day</th>\n",
       "      <th></th>\n",
       "      <th></th>\n",
       "      <th></th>\n",
       "      <th></th>\n",
       "      <th></th>\n",
       "      <th></th>\n",
       "      <th></th>\n",
       "    </tr>\n",
       "  </thead>\n",
       "  <tbody>\n",
       "    <tr>\n",
       "      <th>0</th>\n",
       "      <td>315</td>\n",
       "      <td>315</td>\n",
       "      <td>315</td>\n",
       "      <td>315</td>\n",
       "      <td>315</td>\n",
       "      <td>315</td>\n",
       "      <td>315</td>\n",
       "    </tr>\n",
       "    <tr>\n",
       "      <th>1</th>\n",
       "      <td>385</td>\n",
       "      <td>385</td>\n",
       "      <td>385</td>\n",
       "      <td>385</td>\n",
       "      <td>385</td>\n",
       "      <td>385</td>\n",
       "      <td>385</td>\n",
       "    </tr>\n",
       "    <tr>\n",
       "      <th>2</th>\n",
       "      <td>380</td>\n",
       "      <td>380</td>\n",
       "      <td>380</td>\n",
       "      <td>380</td>\n",
       "      <td>380</td>\n",
       "      <td>380</td>\n",
       "      <td>380</td>\n",
       "    </tr>\n",
       "    <tr>\n",
       "      <th>3</th>\n",
       "      <td>361</td>\n",
       "      <td>361</td>\n",
       "      <td>361</td>\n",
       "      <td>361</td>\n",
       "      <td>361</td>\n",
       "      <td>361</td>\n",
       "      <td>361</td>\n",
       "    </tr>\n",
       "    <tr>\n",
       "      <th>4</th>\n",
       "      <td>530</td>\n",
       "      <td>530</td>\n",
       "      <td>530</td>\n",
       "      <td>530</td>\n",
       "      <td>530</td>\n",
       "      <td>530</td>\n",
       "      <td>530</td>\n",
       "    </tr>\n",
       "    <tr>\n",
       "      <th>5</th>\n",
       "      <td>426</td>\n",
       "      <td>426</td>\n",
       "      <td>426</td>\n",
       "      <td>426</td>\n",
       "      <td>426</td>\n",
       "      <td>426</td>\n",
       "      <td>426</td>\n",
       "    </tr>\n",
       "    <tr>\n",
       "      <th>6</th>\n",
       "      <td>422</td>\n",
       "      <td>422</td>\n",
       "      <td>422</td>\n",
       "      <td>422</td>\n",
       "      <td>422</td>\n",
       "      <td>422</td>\n",
       "      <td>422</td>\n",
       "    </tr>\n",
       "  </tbody>\n",
       "</table>\n",
       "</div>"
      ],
      "text/plain": [
       "          created_at  text  tweet_link  tweet_mentions  n_mentions  \\\n",
       "week_day                                                             \n",
       "0                315   315         315             315         315   \n",
       "1                385   385         385             385         385   \n",
       "2                380   380         380             380         380   \n",
       "3                361   361         361             361         361   \n",
       "4                530   530         530             530         530   \n",
       "5                426   426         426             426         426   \n",
       "6                422   422         422             422         422   \n",
       "\n",
       "          week_day_name  day_hour  \n",
       "week_day                           \n",
       "0                   315       315  \n",
       "1                   385       385  \n",
       "2                   380       380  \n",
       "3                   361       361  \n",
       "4                   530       530  \n",
       "5                   426       426  \n",
       "6                   422       422  "
      ]
     },
     "execution_count": 41,
     "metadata": {},
     "output_type": "execute_result"
    }
   ],
   "source": [
    "# here we are interested in how many tweets\n",
    "# there are for each group, so we pass `len()`\n",
    "\n",
    "grp_by_day.agg(len)"
   ]
  },
  {
   "cell_type": "code",
   "execution_count": 42,
   "metadata": {},
   "outputs": [
    {
     "data": {
      "text/html": [
       "<div>\n",
       "<style scoped>\n",
       "    .dataframe tbody tr th:only-of-type {\n",
       "        vertical-align: middle;\n",
       "    }\n",
       "\n",
       "    .dataframe tbody tr th {\n",
       "        vertical-align: top;\n",
       "    }\n",
       "\n",
       "    .dataframe thead th {\n",
       "        text-align: right;\n",
       "    }\n",
       "</style>\n",
       "<table border=\"1\" class=\"dataframe\">\n",
       "  <thead>\n",
       "    <tr style=\"text-align: right;\">\n",
       "      <th></th>\n",
       "      <th>tweet_count</th>\n",
       "    </tr>\n",
       "    <tr>\n",
       "      <th>week_day</th>\n",
       "      <th></th>\n",
       "    </tr>\n",
       "  </thead>\n",
       "  <tbody>\n",
       "    <tr>\n",
       "      <th>0</th>\n",
       "      <td>315</td>\n",
       "    </tr>\n",
       "    <tr>\n",
       "      <th>1</th>\n",
       "      <td>385</td>\n",
       "    </tr>\n",
       "    <tr>\n",
       "      <th>2</th>\n",
       "      <td>380</td>\n",
       "    </tr>\n",
       "    <tr>\n",
       "      <th>3</th>\n",
       "      <td>361</td>\n",
       "    </tr>\n",
       "    <tr>\n",
       "      <th>4</th>\n",
       "      <td>530</td>\n",
       "    </tr>\n",
       "    <tr>\n",
       "      <th>5</th>\n",
       "      <td>426</td>\n",
       "    </tr>\n",
       "    <tr>\n",
       "      <th>6</th>\n",
       "      <td>422</td>\n",
       "    </tr>\n",
       "  </tbody>\n",
       "</table>\n",
       "</div>"
      ],
      "text/plain": [
       "          tweet_count\n",
       "week_day             \n",
       "0                 315\n",
       "1                 385\n",
       "2                 380\n",
       "3                 361\n",
       "4                 530\n",
       "5                 426\n",
       "6                 422"
      ]
     },
     "execution_count": 42,
     "metadata": {},
     "output_type": "execute_result"
    }
   ],
   "source": [
    "# however, we are not interested in having the count for all\n",
    "# columns. rather we want to create a new dataframe with renamed\n",
    "# column names\n",
    "\n",
    "grp_by_day.agg({'text': len}).rename({'text': 'tweet_count'}, axis='columns')"
   ]
  },
  {
   "cell_type": "markdown",
   "metadata": {},
   "source": [
    "##### By label (column)"
   ]
  },
  {
   "cell_type": "markdown",
   "metadata": {},
   "source": [
    "Previously we've added a column indicating on which day of the week a given tweet appeared."
   ]
  },
  {
   "cell_type": "code",
   "execution_count": 43,
   "metadata": {},
   "outputs": [],
   "source": [
    "grpby_result_as_series = df.groupby('day_hour')['text'].count()"
   ]
  },
  {
   "cell_type": "code",
   "execution_count": 44,
   "metadata": {},
   "outputs": [
    {
     "data": {
      "text/plain": [
       "day_hour\n",
       "0    144\n",
       "1    183\n",
       "2    119\n",
       "3    104\n",
       "4     98\n",
       "Name: text, dtype: int64"
      ]
     },
     "execution_count": 44,
     "metadata": {},
     "output_type": "execute_result"
    }
   ],
   "source": [
    "grpby_result_as_series.head()"
   ]
  },
  {
   "cell_type": "code",
   "execution_count": 45,
   "metadata": {},
   "outputs": [],
   "source": [
    "grpby_result_as_df = df.groupby('day_hour')[['text']]\\\n",
    "    .count()\\\n",
    "    .rename({'text': 'count'}, axis='columns')"
   ]
  },
  {
   "cell_type": "code",
   "execution_count": 46,
   "metadata": {},
   "outputs": [
    {
     "data": {
      "text/html": [
       "<div>\n",
       "<style scoped>\n",
       "    .dataframe tbody tr th:only-of-type {\n",
       "        vertical-align: middle;\n",
       "    }\n",
       "\n",
       "    .dataframe tbody tr th {\n",
       "        vertical-align: top;\n",
       "    }\n",
       "\n",
       "    .dataframe thead th {\n",
       "        text-align: right;\n",
       "    }\n",
       "</style>\n",
       "<table border=\"1\" class=\"dataframe\">\n",
       "  <thead>\n",
       "    <tr style=\"text-align: right;\">\n",
       "      <th></th>\n",
       "      <th>count</th>\n",
       "    </tr>\n",
       "    <tr>\n",
       "      <th>day_hour</th>\n",
       "      <th></th>\n",
       "    </tr>\n",
       "  </thead>\n",
       "  <tbody>\n",
       "    <tr>\n",
       "      <th>0</th>\n",
       "      <td>144</td>\n",
       "    </tr>\n",
       "    <tr>\n",
       "      <th>1</th>\n",
       "      <td>183</td>\n",
       "    </tr>\n",
       "    <tr>\n",
       "      <th>2</th>\n",
       "      <td>119</td>\n",
       "    </tr>\n",
       "    <tr>\n",
       "      <th>3</th>\n",
       "      <td>104</td>\n",
       "    </tr>\n",
       "    <tr>\n",
       "      <th>4</th>\n",
       "      <td>98</td>\n",
       "    </tr>\n",
       "  </tbody>\n",
       "</table>\n",
       "</div>"
      ],
      "text/plain": [
       "          count\n",
       "day_hour       \n",
       "0           144\n",
       "1           183\n",
       "2           119\n",
       "3           104\n",
       "4            98"
      ]
     },
     "execution_count": 46,
     "metadata": {},
     "output_type": "execute_result"
    }
   ],
   "source": [
    "grpby_result_as_df.head()"
   ]
  },
  {
   "cell_type": "markdown",
   "metadata": {},
   "source": [
    "##### By series or dict"
   ]
  },
  {
   "cell_type": "code",
   "execution_count": 47,
   "metadata": {},
   "outputs": [
    {
     "data": {
      "text/plain": [
       "\u001b[0;31mSignature:\u001b[0m\n",
       "\u001b[0mdf\u001b[0m\u001b[0;34m.\u001b[0m\u001b[0mgroupby\u001b[0m\u001b[0;34m(\u001b[0m\u001b[0;34m\u001b[0m\n",
       "\u001b[0;34m\u001b[0m    \u001b[0mby\u001b[0m\u001b[0;34m=\u001b[0m\u001b[0;32mNone\u001b[0m\u001b[0;34m,\u001b[0m\u001b[0;34m\u001b[0m\n",
       "\u001b[0;34m\u001b[0m    \u001b[0maxis\u001b[0m\u001b[0;34m:\u001b[0m \u001b[0;34m'Axis'\u001b[0m \u001b[0;34m=\u001b[0m \u001b[0;36m0\u001b[0m\u001b[0;34m,\u001b[0m\u001b[0;34m\u001b[0m\n",
       "\u001b[0;34m\u001b[0m    \u001b[0mlevel\u001b[0m\u001b[0;34m:\u001b[0m \u001b[0;34m'Level | None'\u001b[0m \u001b[0;34m=\u001b[0m \u001b[0;32mNone\u001b[0m\u001b[0;34m,\u001b[0m\u001b[0;34m\u001b[0m\n",
       "\u001b[0;34m\u001b[0m    \u001b[0mas_index\u001b[0m\u001b[0;34m:\u001b[0m \u001b[0;34m'bool'\u001b[0m \u001b[0;34m=\u001b[0m \u001b[0;32mTrue\u001b[0m\u001b[0;34m,\u001b[0m\u001b[0;34m\u001b[0m\n",
       "\u001b[0;34m\u001b[0m    \u001b[0msort\u001b[0m\u001b[0;34m:\u001b[0m \u001b[0;34m'bool'\u001b[0m \u001b[0;34m=\u001b[0m \u001b[0;32mTrue\u001b[0m\u001b[0;34m,\u001b[0m\u001b[0;34m\u001b[0m\n",
       "\u001b[0;34m\u001b[0m    \u001b[0mgroup_keys\u001b[0m\u001b[0;34m:\u001b[0m \u001b[0;34m'bool'\u001b[0m \u001b[0;34m=\u001b[0m \u001b[0;32mTrue\u001b[0m\u001b[0;34m,\u001b[0m\u001b[0;34m\u001b[0m\n",
       "\u001b[0;34m\u001b[0m    \u001b[0msqueeze\u001b[0m\u001b[0;34m:\u001b[0m \u001b[0;34m'bool | lib.NoDefault'\u001b[0m \u001b[0;34m=\u001b[0m \u001b[0;34m<\u001b[0m\u001b[0mno_default\u001b[0m\u001b[0;34m>\u001b[0m\u001b[0;34m,\u001b[0m\u001b[0;34m\u001b[0m\n",
       "\u001b[0;34m\u001b[0m    \u001b[0mobserved\u001b[0m\u001b[0;34m:\u001b[0m \u001b[0;34m'bool'\u001b[0m \u001b[0;34m=\u001b[0m \u001b[0;32mFalse\u001b[0m\u001b[0;34m,\u001b[0m\u001b[0;34m\u001b[0m\n",
       "\u001b[0;34m\u001b[0m    \u001b[0mdropna\u001b[0m\u001b[0;34m:\u001b[0m \u001b[0;34m'bool'\u001b[0m \u001b[0;34m=\u001b[0m \u001b[0;32mTrue\u001b[0m\u001b[0;34m,\u001b[0m\u001b[0;34m\u001b[0m\n",
       "\u001b[0;34m\u001b[0m\u001b[0;34m)\u001b[0m \u001b[0;34m->\u001b[0m \u001b[0;34m'DataFrameGroupBy'\u001b[0m\u001b[0;34m\u001b[0m\u001b[0;34m\u001b[0m\u001b[0m\n",
       "\u001b[0;31mDocstring:\u001b[0m\n",
       "Group DataFrame using a mapper or by a Series of columns.\n",
       "\n",
       "A groupby operation involves some combination of splitting the\n",
       "object, applying a function, and combining the results. This can be\n",
       "used to group large amounts of data and compute operations on these\n",
       "groups.\n",
       "\n",
       "Parameters\n",
       "----------\n",
       "by : mapping, function, label, or list of labels\n",
       "    Used to determine the groups for the groupby.\n",
       "    If ``by`` is a function, it's called on each value of the object's\n",
       "    index. If a dict or Series is passed, the Series or dict VALUES\n",
       "    will be used to determine the groups (the Series' values are first\n",
       "    aligned; see ``.align()`` method). If a list or ndarray of length\n",
       "    equal to the selected axis is passed (see the `groupby user guide\n",
       "    <https://pandas.pydata.org/pandas-docs/stable/user_guide/groupby.html#splitting-an-object-into-groups>`_),\n",
       "    the values are used as-is to determine the groups. A label or list\n",
       "    of labels may be passed to group by the columns in ``self``.\n",
       "    Notice that a tuple is interpreted as a (single) key.\n",
       "axis : {0 or 'index', 1 or 'columns'}, default 0\n",
       "    Split along rows (0) or columns (1).\n",
       "level : int, level name, or sequence of such, default None\n",
       "    If the axis is a MultiIndex (hierarchical), group by a particular\n",
       "    level or levels.\n",
       "as_index : bool, default True\n",
       "    For aggregated output, return object with group labels as the\n",
       "    index. Only relevant for DataFrame input. as_index=False is\n",
       "    effectively \"SQL-style\" grouped output.\n",
       "sort : bool, default True\n",
       "    Sort group keys. Get better performance by turning this off.\n",
       "    Note this does not influence the order of observations within each\n",
       "    group. Groupby preserves the order of rows within each group.\n",
       "group_keys : bool, default True\n",
       "    When calling apply, add group keys to index to identify pieces.\n",
       "squeeze : bool, default False\n",
       "    Reduce the dimensionality of the return type if possible,\n",
       "    otherwise return a consistent type.\n",
       "\n",
       "    .. deprecated:: 1.1.0\n",
       "\n",
       "observed : bool, default False\n",
       "    This only applies if any of the groupers are Categoricals.\n",
       "    If True: only show observed values for categorical groupers.\n",
       "    If False: show all values for categorical groupers.\n",
       "dropna : bool, default True\n",
       "    If True, and if group keys contain NA values, NA values together\n",
       "    with row/column will be dropped.\n",
       "    If False, NA values will also be treated as the key in groups.\n",
       "\n",
       "    .. versionadded:: 1.1.0\n",
       "\n",
       "Returns\n",
       "-------\n",
       "DataFrameGroupBy\n",
       "    Returns a groupby object that contains information about the groups.\n",
       "\n",
       "See Also\n",
       "--------\n",
       "resample : Convenience method for frequency conversion and resampling\n",
       "    of time series.\n",
       "\n",
       "Notes\n",
       "-----\n",
       "See the `user guide\n",
       "<https://pandas.pydata.org/pandas-docs/stable/groupby.html>`__ for more\n",
       "detailed usage and examples, including splitting an object into groups,\n",
       "iterating through groups, selecting a group, aggregation, and more.\n",
       "\n",
       "Examples\n",
       "--------\n",
       ">>> df = pd.DataFrame({'Animal': ['Falcon', 'Falcon',\n",
       "...                               'Parrot', 'Parrot'],\n",
       "...                    'Max Speed': [380., 370., 24., 26.]})\n",
       ">>> df\n",
       "   Animal  Max Speed\n",
       "0  Falcon      380.0\n",
       "1  Falcon      370.0\n",
       "2  Parrot       24.0\n",
       "3  Parrot       26.0\n",
       ">>> df.groupby(['Animal']).mean()\n",
       "        Max Speed\n",
       "Animal\n",
       "Falcon      375.0\n",
       "Parrot       25.0\n",
       "\n",
       "**Hierarchical Indexes**\n",
       "\n",
       "We can groupby different levels of a hierarchical index\n",
       "using the `level` parameter:\n",
       "\n",
       ">>> arrays = [['Falcon', 'Falcon', 'Parrot', 'Parrot'],\n",
       "...           ['Captive', 'Wild', 'Captive', 'Wild']]\n",
       ">>> index = pd.MultiIndex.from_arrays(arrays, names=('Animal', 'Type'))\n",
       ">>> df = pd.DataFrame({'Max Speed': [390., 350., 30., 20.]},\n",
       "...                   index=index)\n",
       ">>> df\n",
       "                Max Speed\n",
       "Animal Type\n",
       "Falcon Captive      390.0\n",
       "       Wild         350.0\n",
       "Parrot Captive       30.0\n",
       "       Wild          20.0\n",
       ">>> df.groupby(level=0).mean()\n",
       "        Max Speed\n",
       "Animal\n",
       "Falcon      370.0\n",
       "Parrot       25.0\n",
       ">>> df.groupby(level=\"Type\").mean()\n",
       "         Max Speed\n",
       "Type\n",
       "Captive      210.0\n",
       "Wild         185.0\n",
       "\n",
       "We can also choose to include NA in group keys or not by setting\n",
       "`dropna` parameter, the default setting is `True`.\n",
       "\n",
       ">>> l = [[1, 2, 3], [1, None, 4], [2, 1, 3], [1, 2, 2]]\n",
       ">>> df = pd.DataFrame(l, columns=[\"a\", \"b\", \"c\"])\n",
       "\n",
       ">>> df.groupby(by=[\"b\"]).sum()\n",
       "    a   c\n",
       "b\n",
       "1.0 2   3\n",
       "2.0 2   5\n",
       "\n",
       ">>> df.groupby(by=[\"b\"], dropna=False).sum()\n",
       "    a   c\n",
       "b\n",
       "1.0 2   3\n",
       "2.0 2   5\n",
       "NaN 1   4\n",
       "\n",
       ">>> l = [[\"a\", 12, 12], [None, 12.3, 33.], [\"b\", 12.3, 123], [\"a\", 1, 1]]\n",
       ">>> df = pd.DataFrame(l, columns=[\"a\", \"b\", \"c\"])\n",
       "\n",
       ">>> df.groupby(by=\"a\").sum()\n",
       "    b     c\n",
       "a\n",
       "a   13.0   13.0\n",
       "b   12.3  123.0\n",
       "\n",
       ">>> df.groupby(by=\"a\", dropna=False).sum()\n",
       "    b     c\n",
       "a\n",
       "a   13.0   13.0\n",
       "b   12.3  123.0\n",
       "NaN 12.3   33.0\n",
       "\u001b[0;31mFile:\u001b[0m      ~/.pyenv/versions/3.10.0/envs/ada-dhoxss-2022/lib/python3.10/site-packages/pandas/core/frame.py\n",
       "\u001b[0;31mType:\u001b[0m      method\n"
      ]
     },
     "metadata": {},
     "output_type": "display_data"
    }
   ],
   "source": [
    "df.groupby?"
   ]
  },
  {
   "cell_type": "code",
   "execution_count": 48,
   "metadata": {},
   "outputs": [
    {
     "name": "stdout",
     "output_type": "stream",
     "text": [
      "1 <class 'pandas.core.frame.DataFrame'>\n",
      "2 <class 'pandas.core.frame.DataFrame'>\n",
      "3 <class 'pandas.core.frame.DataFrame'>\n",
      "4 <class 'pandas.core.frame.DataFrame'>\n",
      "5 <class 'pandas.core.frame.DataFrame'>\n",
      "6 <class 'pandas.core.frame.DataFrame'>\n",
      "7 <class 'pandas.core.frame.DataFrame'>\n",
      "8 <class 'pandas.core.frame.DataFrame'>\n",
      "9 <class 'pandas.core.frame.DataFrame'>\n",
      "10 <class 'pandas.core.frame.DataFrame'>\n",
      "11 <class 'pandas.core.frame.DataFrame'>\n",
      "12 <class 'pandas.core.frame.DataFrame'>\n",
      "13 <class 'pandas.core.frame.DataFrame'>\n",
      "14 <class 'pandas.core.frame.DataFrame'>\n",
      "15 <class 'pandas.core.frame.DataFrame'>\n",
      "16 <class 'pandas.core.frame.DataFrame'>\n",
      "17 <class 'pandas.core.frame.DataFrame'>\n",
      "18 <class 'pandas.core.frame.DataFrame'>\n",
      "19 <class 'pandas.core.frame.DataFrame'>\n",
      "20 <class 'pandas.core.frame.DataFrame'>\n",
      "21 <class 'pandas.core.frame.DataFrame'>\n",
      "22 <class 'pandas.core.frame.DataFrame'>\n",
      "23 <class 'pandas.core.frame.DataFrame'>\n",
      "24 <class 'pandas.core.frame.DataFrame'>\n",
      "25 <class 'pandas.core.frame.DataFrame'>\n",
      "26 <class 'pandas.core.frame.DataFrame'>\n",
      "27 <class 'pandas.core.frame.DataFrame'>\n",
      "28 <class 'pandas.core.frame.DataFrame'>\n",
      "29 <class 'pandas.core.frame.DataFrame'>\n",
      "30 <class 'pandas.core.frame.DataFrame'>\n",
      "31 <class 'pandas.core.frame.DataFrame'>\n"
     ]
    }
   ],
   "source": [
    "for group, rows in df.groupby(df.created_at.dt.day):\n",
    "    print(group, type(rows))"
   ]
  },
  {
   "cell_type": "code",
   "execution_count": 49,
   "metadata": {},
   "outputs": [
    {
     "data": {
      "text/html": [
       "<div>\n",
       "<style scoped>\n",
       "    .dataframe tbody tr th:only-of-type {\n",
       "        vertical-align: middle;\n",
       "    }\n",
       "\n",
       "    .dataframe tbody tr th {\n",
       "        vertical-align: top;\n",
       "    }\n",
       "\n",
       "    .dataframe thead th {\n",
       "        text-align: right;\n",
       "    }\n",
       "</style>\n",
       "<table border=\"1\" class=\"dataframe\">\n",
       "  <thead>\n",
       "    <tr style=\"text-align: right;\">\n",
       "      <th></th>\n",
       "      <th>text</th>\n",
       "    </tr>\n",
       "    <tr>\n",
       "      <th>created_at</th>\n",
       "      <th></th>\n",
       "    </tr>\n",
       "  </thead>\n",
       "  <tbody>\n",
       "    <tr>\n",
       "      <th>1</th>\n",
       "      <td>107</td>\n",
       "    </tr>\n",
       "    <tr>\n",
       "      <th>2</th>\n",
       "      <td>107</td>\n",
       "    </tr>\n",
       "    <tr>\n",
       "      <th>3</th>\n",
       "      <td>114</td>\n",
       "    </tr>\n",
       "    <tr>\n",
       "      <th>4</th>\n",
       "      <td>97</td>\n",
       "    </tr>\n",
       "    <tr>\n",
       "      <th>5</th>\n",
       "      <td>117</td>\n",
       "    </tr>\n",
       "  </tbody>\n",
       "</table>\n",
       "</div>"
      ],
      "text/plain": [
       "            text\n",
       "created_at      \n",
       "1            107\n",
       "2            107\n",
       "3            114\n",
       "4             97\n",
       "5            117"
      ]
     },
     "execution_count": 49,
     "metadata": {},
     "output_type": "execute_result"
    }
   ],
   "source": [
    "# here we pass the groups as a series\n",
    "df.groupby(df.created_at.dt.day).agg({'text':len}).head()"
   ]
  },
  {
   "cell_type": "code",
   "execution_count": 50,
   "metadata": {},
   "outputs": [
    {
     "data": {
      "text/html": [
       "<div>\n",
       "<style scoped>\n",
       "    .dataframe tbody tr th:only-of-type {\n",
       "        vertical-align: middle;\n",
       "    }\n",
       "\n",
       "    .dataframe tbody tr th {\n",
       "        vertical-align: top;\n",
       "    }\n",
       "\n",
       "    .dataframe thead th {\n",
       "        text-align: right;\n",
       "    }\n",
       "</style>\n",
       "<table border=\"1\" class=\"dataframe\">\n",
       "  <thead>\n",
       "    <tr style=\"text-align: right;\">\n",
       "      <th></th>\n",
       "      <th>text</th>\n",
       "    </tr>\n",
       "    <tr>\n",
       "      <th>created_at</th>\n",
       "      <th></th>\n",
       "    </tr>\n",
       "  </thead>\n",
       "  <tbody>\n",
       "    <tr>\n",
       "      <th>1</th>\n",
       "      <td>107</td>\n",
       "    </tr>\n",
       "    <tr>\n",
       "      <th>2</th>\n",
       "      <td>107</td>\n",
       "    </tr>\n",
       "    <tr>\n",
       "      <th>3</th>\n",
       "      <td>114</td>\n",
       "    </tr>\n",
       "    <tr>\n",
       "      <th>4</th>\n",
       "      <td>97</td>\n",
       "    </tr>\n",
       "    <tr>\n",
       "      <th>5</th>\n",
       "      <td>117</td>\n",
       "    </tr>\n",
       "  </tbody>\n",
       "</table>\n",
       "</div>"
      ],
      "text/plain": [
       "            text\n",
       "created_at      \n",
       "1            107\n",
       "2            107\n",
       "3            114\n",
       "4             97\n",
       "5            117"
      ]
     },
     "execution_count": 50,
     "metadata": {},
     "output_type": "execute_result"
    }
   ],
   "source": [
    "# here we pass the groups as a series\n",
    "df.groupby(df.created_at.dt.day)[['text']].count().head()"
   ]
  },
  {
   "cell_type": "code",
   "execution_count": 51,
   "metadata": {},
   "outputs": [
    {
     "data": {
      "text/html": [
       "<div>\n",
       "<style scoped>\n",
       "    .dataframe tbody tr th:only-of-type {\n",
       "        vertical-align: middle;\n",
       "    }\n",
       "\n",
       "    .dataframe tbody tr th {\n",
       "        vertical-align: top;\n",
       "    }\n",
       "\n",
       "    .dataframe thead th {\n",
       "        text-align: right;\n",
       "    }\n",
       "</style>\n",
       "<table border=\"1\" class=\"dataframe\">\n",
       "  <thead>\n",
       "    <tr style=\"text-align: right;\">\n",
       "      <th></th>\n",
       "      <th>text</th>\n",
       "    </tr>\n",
       "    <tr>\n",
       "      <th>created_at</th>\n",
       "      <th></th>\n",
       "    </tr>\n",
       "  </thead>\n",
       "  <tbody>\n",
       "    <tr>\n",
       "      <th>0</th>\n",
       "      <td>144</td>\n",
       "    </tr>\n",
       "    <tr>\n",
       "      <th>1</th>\n",
       "      <td>183</td>\n",
       "    </tr>\n",
       "    <tr>\n",
       "      <th>2</th>\n",
       "      <td>119</td>\n",
       "    </tr>\n",
       "    <tr>\n",
       "      <th>3</th>\n",
       "      <td>104</td>\n",
       "    </tr>\n",
       "    <tr>\n",
       "      <th>4</th>\n",
       "      <td>98</td>\n",
       "    </tr>\n",
       "  </tbody>\n",
       "</table>\n",
       "</div>"
      ],
      "text/plain": [
       "            text\n",
       "created_at      \n",
       "0            144\n",
       "1            183\n",
       "2            119\n",
       "3            104\n",
       "4             98"
      ]
     },
     "execution_count": 51,
     "metadata": {},
     "output_type": "execute_result"
    }
   ],
   "source": [
    "df.groupby(df.created_at.dt.hour)[['text']].count().head()"
   ]
  },
  {
   "cell_type": "markdown",
   "metadata": {},
   "source": [
    "##### By multiple labels (columns)"
   ]
  },
  {
   "cell_type": "code",
   "execution_count": 52,
   "metadata": {},
   "outputs": [],
   "source": [
    "# here we group based on the values of two columns\n",
    "# instead of one\n",
    "\n",
    "x = df.groupby(['week_day', 'day_hour'])[['text']].count()"
   ]
  },
  {
   "cell_type": "code",
   "execution_count": 53,
   "metadata": {},
   "outputs": [
    {
     "data": {
      "text/html": [
       "<div>\n",
       "<style scoped>\n",
       "    .dataframe tbody tr th:only-of-type {\n",
       "        vertical-align: middle;\n",
       "    }\n",
       "\n",
       "    .dataframe tbody tr th {\n",
       "        vertical-align: top;\n",
       "    }\n",
       "\n",
       "    .dataframe thead th {\n",
       "        text-align: right;\n",
       "    }\n",
       "</style>\n",
       "<table border=\"1\" class=\"dataframe\">\n",
       "  <thead>\n",
       "    <tr style=\"text-align: right;\">\n",
       "      <th></th>\n",
       "      <th></th>\n",
       "      <th>text</th>\n",
       "    </tr>\n",
       "    <tr>\n",
       "      <th>week_day</th>\n",
       "      <th>day_hour</th>\n",
       "      <th></th>\n",
       "    </tr>\n",
       "  </thead>\n",
       "  <tbody>\n",
       "    <tr>\n",
       "      <th rowspan=\"5\" valign=\"top\">0</th>\n",
       "      <th>0</th>\n",
       "      <td>11</td>\n",
       "    </tr>\n",
       "    <tr>\n",
       "      <th>1</th>\n",
       "      <td>23</td>\n",
       "    </tr>\n",
       "    <tr>\n",
       "      <th>2</th>\n",
       "      <td>17</td>\n",
       "    </tr>\n",
       "    <tr>\n",
       "      <th>3</th>\n",
       "      <td>7</td>\n",
       "    </tr>\n",
       "    <tr>\n",
       "      <th>4</th>\n",
       "      <td>12</td>\n",
       "    </tr>\n",
       "  </tbody>\n",
       "</table>\n",
       "</div>"
      ],
      "text/plain": [
       "                   text\n",
       "week_day day_hour      \n",
       "0        0           11\n",
       "         1           23\n",
       "         2           17\n",
       "         3            7\n",
       "         4           12"
      ]
     },
     "execution_count": 53,
     "metadata": {},
     "output_type": "execute_result"
    }
   ],
   "source": [
    "x.head()"
   ]
  },
  {
   "cell_type": "markdown",
   "metadata": {},
   "source": [
    "#### Aggregation methods\n",
    "\n",
    "**Summary**:\n",
    "\n",
    "- `count`: Number of non-NA values\n",
    "- `sum`: Sum of non-NA values\n",
    "- `mean`: Mean of non-NA values\n",
    "- `median`: Arithmetic median of non-NA values\n",
    "- `std`, `var`: standard deviation and variance\n",
    "- `min`, `max`: Minimum and maximum of non-NA values"
   ]
  },
  {
   "cell_type": "markdown",
   "metadata": {},
   "source": [
    "They can be used on a single series:"
   ]
  },
  {
   "cell_type": "code",
   "execution_count": 54,
   "metadata": {},
   "outputs": [
    {
     "data": {
      "text/plain": [
       "6"
      ]
     },
     "execution_count": 54,
     "metadata": {},
     "output_type": "execute_result"
    }
   ],
   "source": [
    "df.n_mentions.max()"
   ]
  },
  {
   "cell_type": "markdown",
   "metadata": {},
   "source": [
    "On the entire dataframe:"
   ]
  },
  {
   "cell_type": "code",
   "execution_count": 55,
   "metadata": {},
   "outputs": [
    {
     "name": "stderr",
     "output_type": "stream",
     "text": [
      "/var/folders/8s/rnkbnf8549qclh_gcb_qj_yw0000gv/T/ipykernel_87451/3698961737.py:1: FutureWarning: DataFrame.mean and DataFrame.median with numeric_only=None will include datetime64 and datetime64tz columns in a future version.\n",
      "  df.mean()\n",
      "/var/folders/8s/rnkbnf8549qclh_gcb_qj_yw0000gv/T/ipykernel_87451/3698961737.py:1: FutureWarning: Dropping of nuisance columns in DataFrame reductions (with 'numeric_only=None') is deprecated; in a future version this will raise TypeError.  Select only valid columns before calling the reduction.\n",
      "  df.mean()\n"
     ]
    },
    {
     "data": {
      "text/plain": [
       "n_mentions     0.807733\n",
       "week_day       3.196169\n",
       "day_hour      12.782547\n",
       "dtype: float64"
      ]
     },
     "execution_count": 55,
     "metadata": {},
     "output_type": "execute_result"
    }
   ],
   "source": [
    "df.mean()"
   ]
  },
  {
   "cell_type": "markdown",
   "metadata": {},
   "source": [
    "Or also as aggregation functions within a groupby:"
   ]
  },
  {
   "cell_type": "code",
   "execution_count": 56,
   "metadata": {},
   "outputs": [
    {
     "data": {
      "text/html": [
       "<div>\n",
       "<style scoped>\n",
       "    .dataframe tbody tr th:only-of-type {\n",
       "        vertical-align: middle;\n",
       "    }\n",
       "\n",
       "    .dataframe tbody tr th {\n",
       "        vertical-align: top;\n",
       "    }\n",
       "\n",
       "    .dataframe thead tr th {\n",
       "        text-align: left;\n",
       "    }\n",
       "\n",
       "    .dataframe thead tr:last-of-type th {\n",
       "        text-align: right;\n",
       "    }\n",
       "</style>\n",
       "<table border=\"1\" class=\"dataframe\">\n",
       "  <thead>\n",
       "    <tr>\n",
       "      <th></th>\n",
       "      <th colspan=\"6\" halign=\"left\">n_mentions</th>\n",
       "    </tr>\n",
       "    <tr>\n",
       "      <th></th>\n",
       "      <th>count</th>\n",
       "      <th>mean</th>\n",
       "      <th>min</th>\n",
       "      <th>max</th>\n",
       "      <th>std</th>\n",
       "      <th>var</th>\n",
       "    </tr>\n",
       "    <tr>\n",
       "      <th>week_day</th>\n",
       "      <th></th>\n",
       "      <th></th>\n",
       "      <th></th>\n",
       "      <th></th>\n",
       "      <th></th>\n",
       "      <th></th>\n",
       "    </tr>\n",
       "  </thead>\n",
       "  <tbody>\n",
       "    <tr>\n",
       "      <th>0</th>\n",
       "      <td>315</td>\n",
       "      <td>0.812698</td>\n",
       "      <td>0</td>\n",
       "      <td>5</td>\n",
       "      <td>0.964248</td>\n",
       "      <td>0.929775</td>\n",
       "    </tr>\n",
       "    <tr>\n",
       "      <th>1</th>\n",
       "      <td>385</td>\n",
       "      <td>0.729870</td>\n",
       "      <td>0</td>\n",
       "      <td>6</td>\n",
       "      <td>0.874861</td>\n",
       "      <td>0.765381</td>\n",
       "    </tr>\n",
       "    <tr>\n",
       "      <th>2</th>\n",
       "      <td>380</td>\n",
       "      <td>0.786842</td>\n",
       "      <td>0</td>\n",
       "      <td>4</td>\n",
       "      <td>0.768328</td>\n",
       "      <td>0.590328</td>\n",
       "    </tr>\n",
       "    <tr>\n",
       "      <th>3</th>\n",
       "      <td>361</td>\n",
       "      <td>0.781163</td>\n",
       "      <td>0</td>\n",
       "      <td>4</td>\n",
       "      <td>0.832853</td>\n",
       "      <td>0.693644</td>\n",
       "    </tr>\n",
       "    <tr>\n",
       "      <th>4</th>\n",
       "      <td>530</td>\n",
       "      <td>0.879245</td>\n",
       "      <td>0</td>\n",
       "      <td>5</td>\n",
       "      <td>0.901869</td>\n",
       "      <td>0.813368</td>\n",
       "    </tr>\n",
       "    <tr>\n",
       "      <th>5</th>\n",
       "      <td>426</td>\n",
       "      <td>0.727700</td>\n",
       "      <td>0</td>\n",
       "      <td>5</td>\n",
       "      <td>0.800607</td>\n",
       "      <td>0.640972</td>\n",
       "    </tr>\n",
       "    <tr>\n",
       "      <th>6</th>\n",
       "      <td>422</td>\n",
       "      <td>0.907583</td>\n",
       "      <td>0</td>\n",
       "      <td>6</td>\n",
       "      <td>0.851707</td>\n",
       "      <td>0.725406</td>\n",
       "    </tr>\n",
       "  </tbody>\n",
       "</table>\n",
       "</div>"
      ],
      "text/plain": [
       "         n_mentions                                      \n",
       "              count      mean min max       std       var\n",
       "week_day                                                 \n",
       "0               315  0.812698   0   5  0.964248  0.929775\n",
       "1               385  0.729870   0   6  0.874861  0.765381\n",
       "2               380  0.786842   0   4  0.768328  0.590328\n",
       "3               361  0.781163   0   4  0.832853  0.693644\n",
       "4               530  0.879245   0   5  0.901869  0.813368\n",
       "5               426  0.727700   0   5  0.800607  0.640972\n",
       "6               422  0.907583   0   6  0.851707  0.725406"
      ]
     },
     "execution_count": 56,
     "metadata": {},
     "output_type": "execute_result"
    }
   ],
   "source": [
    "df.groupby('week_day').agg(\n",
    "    {\n",
    "        # each key in this dict specifies\n",
    "        # a given column\n",
    "        'n_mentions':[\n",
    "            # the list contains aggregation functions\n",
    "            # to be applied to this column\n",
    "            'count',\n",
    "            'mean',\n",
    "            'min',\n",
    "            'max',\n",
    "            'std',\n",
    "            'var'\n",
    "        ]\n",
    "    }\n",
    ")"
   ]
  },
  {
   "cell_type": "markdown",
   "metadata": {},
   "source": [
    "#### Sorting"
   ]
  },
  {
   "cell_type": "markdown",
   "metadata": {},
   "source": [
    "To sort the values of  a dataframe we use its `sort_values` method:\n",
    "- `by`: specifies the name of the column to be used for sorting\n",
    "- `ascending` (default = `True`): specifies whether the sorting should be *ascending* (A-Z, 0-9) or `descending` (Z-A, 9-0) "
   ]
  },
  {
   "cell_type": "code",
   "execution_count": 57,
   "metadata": {},
   "outputs": [
    {
     "data": {
      "text/html": [
       "<div>\n",
       "<style scoped>\n",
       "    .dataframe tbody tr th:only-of-type {\n",
       "        vertical-align: middle;\n",
       "    }\n",
       "\n",
       "    .dataframe tbody tr th {\n",
       "        vertical-align: top;\n",
       "    }\n",
       "\n",
       "    .dataframe thead th {\n",
       "        text-align: right;\n",
       "    }\n",
       "</style>\n",
       "<table border=\"1\" class=\"dataframe\">\n",
       "  <thead>\n",
       "    <tr style=\"text-align: right;\">\n",
       "      <th></th>\n",
       "      <th>created_at</th>\n",
       "      <th>text</th>\n",
       "      <th>tweet_link</th>\n",
       "      <th>tweet_mentions</th>\n",
       "      <th>n_mentions</th>\n",
       "      <th>week_day_name</th>\n",
       "      <th>week_day</th>\n",
       "      <th>day_hour</th>\n",
       "    </tr>\n",
       "    <tr>\n",
       "      <th>id</th>\n",
       "      <th></th>\n",
       "      <th></th>\n",
       "      <th></th>\n",
       "      <th></th>\n",
       "      <th></th>\n",
       "      <th></th>\n",
       "      <th></th>\n",
       "      <th></th>\n",
       "    </tr>\n",
       "  </thead>\n",
       "  <tbody>\n",
       "    <tr>\n",
       "      <th>15434727182</th>\n",
       "      <td>2010-06-04 18:31:57</td>\n",
       "      <td>b'Please ignore prior tweets, as that was someone pretending to be me :)  This is actually me.'</td>\n",
       "      <td>https://twitter.com/i/web/status/15434727182</td>\n",
       "      <td>[]</td>\n",
       "      <td>0</td>\n",
       "      <td>Friday</td>\n",
       "      <td>4</td>\n",
       "      <td>18</td>\n",
       "    </tr>\n",
       "    <tr>\n",
       "      <th>142179928203460608</th>\n",
       "      <td>2011-12-01 09:55:11</td>\n",
       "      <td>b\"Went to Iceland on Sat to ride bumper cars on ice!  No, not the country, Vlad's rink in Van Nuys. Awesome family fun :) http://t.co/rBQXJ9IT\"</td>\n",
       "      <td>https://twitter.com/i/web/status/142179928203460608</td>\n",
       "      <td>[]</td>\n",
       "      <td>0</td>\n",
       "      <td>Thursday</td>\n",
       "      <td>3</td>\n",
       "      <td>9</td>\n",
       "    </tr>\n",
       "    <tr>\n",
       "      <th>142188458125963264</th>\n",
       "      <td>2011-12-01 10:29:04</td>\n",
       "      <td>b'I made the volume on the Model S http://t.co/wMCnT53M go to 11.  Now I just need to work in a miniature Stonehenge...'</td>\n",
       "      <td>https://twitter.com/i/web/status/142188458125963264</td>\n",
       "      <td>[]</td>\n",
       "      <td>0</td>\n",
       "      <td>Thursday</td>\n",
       "      <td>3</td>\n",
       "      <td>10</td>\n",
       "    </tr>\n",
       "    <tr>\n",
       "      <th>142880871391838208</th>\n",
       "      <td>2011-12-03 08:20:28</td>\n",
       "      <td>b'Great Voltaire quote, arguably better than Twain. Hearing news of his own death, Voltaire replied the reports were true, only premature.'</td>\n",
       "      <td>https://twitter.com/i/web/status/142880871391838208</td>\n",
       "      <td>[]</td>\n",
       "      <td>0</td>\n",
       "      <td>Saturday</td>\n",
       "      <td>5</td>\n",
       "      <td>8</td>\n",
       "    </tr>\n",
       "    <tr>\n",
       "      <th>142881284019060736</th>\n",
       "      <td>2011-12-03 08:22:07</td>\n",
       "      <td>b'That was a total non sequitur btw'</td>\n",
       "      <td>https://twitter.com/i/web/status/142881284019060736</td>\n",
       "      <td>[]</td>\n",
       "      <td>0</td>\n",
       "      <td>Saturday</td>\n",
       "      <td>5</td>\n",
       "      <td>8</td>\n",
       "    </tr>\n",
       "  </tbody>\n",
       "</table>\n",
       "</div>"
      ],
      "text/plain": [
       "                            created_at  \\\n",
       "id                                       \n",
       "15434727182        2010-06-04 18:31:57   \n",
       "142179928203460608 2011-12-01 09:55:11   \n",
       "142188458125963264 2011-12-01 10:29:04   \n",
       "142880871391838208 2011-12-03 08:20:28   \n",
       "142881284019060736 2011-12-03 08:22:07   \n",
       "\n",
       "                                                                                                                                                               text  \\\n",
       "id                                                                                                                                                                    \n",
       "15434727182                                                         b'Please ignore prior tweets, as that was someone pretending to be me :)  This is actually me.'   \n",
       "142179928203460608  b\"Went to Iceland on Sat to ride bumper cars on ice!  No, not the country, Vlad's rink in Van Nuys. Awesome family fun :) http://t.co/rBQXJ9IT\"   \n",
       "142188458125963264                         b'I made the volume on the Model S http://t.co/wMCnT53M go to 11.  Now I just need to work in a miniature Stonehenge...'   \n",
       "142880871391838208      b'Great Voltaire quote, arguably better than Twain. Hearing news of his own death, Voltaire replied the reports were true, only premature.'   \n",
       "142881284019060736                                                                                                             b'That was a total non sequitur btw'   \n",
       "\n",
       "                                                             tweet_link  \\\n",
       "id                                                                        \n",
       "15434727182                https://twitter.com/i/web/status/15434727182   \n",
       "142179928203460608  https://twitter.com/i/web/status/142179928203460608   \n",
       "142188458125963264  https://twitter.com/i/web/status/142188458125963264   \n",
       "142880871391838208  https://twitter.com/i/web/status/142880871391838208   \n",
       "142881284019060736  https://twitter.com/i/web/status/142881284019060736   \n",
       "\n",
       "                   tweet_mentions  n_mentions week_day_name  week_day  \\\n",
       "id                                                                      \n",
       "15434727182                    []           0        Friday         4   \n",
       "142179928203460608             []           0      Thursday         3   \n",
       "142188458125963264             []           0      Thursday         3   \n",
       "142880871391838208             []           0      Saturday         5   \n",
       "142881284019060736             []           0      Saturday         5   \n",
       "\n",
       "                    day_hour  \n",
       "id                            \n",
       "15434727182               18  \n",
       "142179928203460608         9  \n",
       "142188458125963264        10  \n",
       "142880871391838208         8  \n",
       "142881284019060736         8  "
      ]
     },
     "execution_count": 57,
     "metadata": {},
     "output_type": "execute_result"
    }
   ],
   "source": [
    "df.sort_values(by='created_at', ascending=True).head()"
   ]
  },
  {
   "cell_type": "code",
   "execution_count": 58,
   "metadata": {},
   "outputs": [
    {
     "data": {
      "text/html": [
       "<div>\n",
       "<style scoped>\n",
       "    .dataframe tbody tr th:only-of-type {\n",
       "        vertical-align: middle;\n",
       "    }\n",
       "\n",
       "    .dataframe tbody tr th {\n",
       "        vertical-align: top;\n",
       "    }\n",
       "\n",
       "    .dataframe thead th {\n",
       "        text-align: right;\n",
       "    }\n",
       "</style>\n",
       "<table border=\"1\" class=\"dataframe\">\n",
       "  <thead>\n",
       "    <tr style=\"text-align: right;\">\n",
       "      <th></th>\n",
       "      <th>created_at</th>\n",
       "      <th>text</th>\n",
       "      <th>tweet_link</th>\n",
       "      <th>tweet_mentions</th>\n",
       "      <th>n_mentions</th>\n",
       "      <th>week_day_name</th>\n",
       "      <th>week_day</th>\n",
       "      <th>day_hour</th>\n",
       "    </tr>\n",
       "    <tr>\n",
       "      <th>id</th>\n",
       "      <th></th>\n",
       "      <th></th>\n",
       "      <th></th>\n",
       "      <th></th>\n",
       "      <th></th>\n",
       "      <th></th>\n",
       "      <th></th>\n",
       "      <th></th>\n",
       "    </tr>\n",
       "  </thead>\n",
       "  <tbody>\n",
       "    <tr>\n",
       "      <th>752721031735812096</th>\n",
       "      <td>2016-07-12 04:27:33</td>\n",
       "      <td>b\"@kumailn @RealDaveBarton @JuddApatow @SiliconHBO @FredericLambert @MikeJudge can't wait to see the costume\"</td>\n",
       "      <td>https://twitter.com/i/web/status/752721031735812096</td>\n",
       "      <td>[@kumailn, @RealDaveBarton, @JuddApatow, @SiliconHBO, @FredericLambert, @MikeJudge]</td>\n",
       "      <td>6</td>\n",
       "      <td>Tuesday</td>\n",
       "      <td>1</td>\n",
       "      <td>4</td>\n",
       "    </tr>\n",
       "    <tr>\n",
       "      <th>303244501957365760</th>\n",
       "      <td>2013-02-17 20:48:17</td>\n",
       "      <td>b'RT @LawrenceChanin: @TeslaRoadTrip @avantgame @TEDchris @elonmusk @nytimes   \\nThe driving public is the winner thanks to the efforts of  ...'</td>\n",
       "      <td>https://twitter.com/i/web/status/303244501957365760</td>\n",
       "      <td>[@LawrenceChanin, @TeslaRoadTrip, @avantgame, @TEDchris, @elonmusk, @nytimes]</td>\n",
       "      <td>6</td>\n",
       "      <td>Sunday</td>\n",
       "      <td>6</td>\n",
       "      <td>20</td>\n",
       "    </tr>\n",
       "    <tr>\n",
       "      <th>845289977051148289</th>\n",
       "      <td>2017-03-24 15:03:29</td>\n",
       "      <td>b'@faultywarrior @matt_trulli @FredericLambert @TimShelton @JimPengelly Let me just go fetch my magic wand ...'</td>\n",
       "      <td>https://twitter.com/i/web/status/845289977051148289</td>\n",
       "      <td>[@faultywarrior, @matt_trulli, @FredericLambert, @TimShelton, @JimPengelly]</td>\n",
       "      <td>5</td>\n",
       "      <td>Friday</td>\n",
       "      <td>4</td>\n",
       "      <td>15</td>\n",
       "    </tr>\n",
       "    <tr>\n",
       "      <th>672792504895434753</th>\n",
       "      <td>2015-12-04 15:00:07</td>\n",
       "      <td>b\"RT @WSJLife: Supermodel @KarlieKloss blasts off to the future at @elonmusk's @spacex HQ https://t.co/PfE2bWcQwM @wsjmag https://t.co/zc7QM9\\xe2\\x80\\xa6\"</td>\n",
       "      <td>https://twitter.com/i/web/status/672792504895434753</td>\n",
       "      <td>[@WSJLife, @KarlieKloss, @elonmusk, @spacex, @wsjmag]</td>\n",
       "      <td>5</td>\n",
       "      <td>Friday</td>\n",
       "      <td>4</td>\n",
       "      <td>15</td>\n",
       "    </tr>\n",
       "    <tr>\n",
       "      <th>191005784862236672</th>\n",
       "      <td>2012-04-14 03:31:42</td>\n",
       "      <td>b'RT @SethGreen: My love @ClareGrant &amp; @elonmusk partied with the space cheese on our tour of @SpaceX &amp; @TeslaMotors ...which was AWESO\\xe2\\x80\\xa6 h ...'</td>\n",
       "      <td>https://twitter.com/i/web/status/191005784862236672</td>\n",
       "      <td>[@SethGreen, @ClareGrant, @elonmusk, @SpaceX, @TeslaMotors]</td>\n",
       "      <td>5</td>\n",
       "      <td>Saturday</td>\n",
       "      <td>5</td>\n",
       "      <td>3</td>\n",
       "    </tr>\n",
       "  </tbody>\n",
       "</table>\n",
       "</div>"
      ],
      "text/plain": [
       "                            created_at  \\\n",
       "id                                       \n",
       "752721031735812096 2016-07-12 04:27:33   \n",
       "303244501957365760 2013-02-17 20:48:17   \n",
       "845289977051148289 2017-03-24 15:03:29   \n",
       "672792504895434753 2015-12-04 15:00:07   \n",
       "191005784862236672 2012-04-14 03:31:42   \n",
       "\n",
       "                                                                                                                                                                          text  \\\n",
       "id                                                                                                                                                                               \n",
       "752721031735812096                                               b\"@kumailn @RealDaveBarton @JuddApatow @SiliconHBO @FredericLambert @MikeJudge can't wait to see the costume\"   \n",
       "303244501957365760            b'RT @LawrenceChanin: @TeslaRoadTrip @avantgame @TEDchris @elonmusk @nytimes   \\nThe driving public is the winner thanks to the efforts of  ...'   \n",
       "845289977051148289                                             b'@faultywarrior @matt_trulli @FredericLambert @TimShelton @JimPengelly Let me just go fetch my magic wand ...'   \n",
       "672792504895434753  b\"RT @WSJLife: Supermodel @KarlieKloss blasts off to the future at @elonmusk's @spacex HQ https://t.co/PfE2bWcQwM @wsjmag https://t.co/zc7QM9\\xe2\\x80\\xa6\"   \n",
       "191005784862236672  b'RT @SethGreen: My love @ClareGrant & @elonmusk partied with the space cheese on our tour of @SpaceX & @TeslaMotors ...which was AWESO\\xe2\\x80\\xa6 h ...'   \n",
       "\n",
       "                                                             tweet_link  \\\n",
       "id                                                                        \n",
       "752721031735812096  https://twitter.com/i/web/status/752721031735812096   \n",
       "303244501957365760  https://twitter.com/i/web/status/303244501957365760   \n",
       "845289977051148289  https://twitter.com/i/web/status/845289977051148289   \n",
       "672792504895434753  https://twitter.com/i/web/status/672792504895434753   \n",
       "191005784862236672  https://twitter.com/i/web/status/191005784862236672   \n",
       "\n",
       "                                                                                         tweet_mentions  \\\n",
       "id                                                                                                        \n",
       "752721031735812096  [@kumailn, @RealDaveBarton, @JuddApatow, @SiliconHBO, @FredericLambert, @MikeJudge]   \n",
       "303244501957365760        [@LawrenceChanin, @TeslaRoadTrip, @avantgame, @TEDchris, @elonmusk, @nytimes]   \n",
       "845289977051148289          [@faultywarrior, @matt_trulli, @FredericLambert, @TimShelton, @JimPengelly]   \n",
       "672792504895434753                                [@WSJLife, @KarlieKloss, @elonmusk, @spacex, @wsjmag]   \n",
       "191005784862236672                          [@SethGreen, @ClareGrant, @elonmusk, @SpaceX, @TeslaMotors]   \n",
       "\n",
       "                    n_mentions week_day_name  week_day  day_hour  \n",
       "id                                                                \n",
       "752721031735812096           6       Tuesday         1         4  \n",
       "303244501957365760           6        Sunday         6        20  \n",
       "845289977051148289           5        Friday         4        15  \n",
       "672792504895434753           5        Friday         4        15  \n",
       "191005784862236672           5      Saturday         5         3  "
      ]
     },
     "execution_count": 58,
     "metadata": {},
     "output_type": "execute_result"
    }
   ],
   "source": [
    "df.sort_values(by='n_mentions', ascending=False).head()"
   ]
  },
  {
   "cell_type": "markdown",
   "metadata": {},
   "source": [
    "### Save\n",
    "\n",
    "Before continuing with the plotting, let's save our enhanced dataframe, so that we can come back to it without having to redo the same manipulations on it.\n",
    "\n",
    "`pandas` provides a number of handy functions to export dataframes in a variety of formats."
   ]
  },
  {
   "cell_type": "markdown",
   "metadata": {},
   "source": [
    "Here we use `to_pickle` to serialize the dataframe into a binary format, by using behind the scenes Python's `pickle` library. "
   ]
  },
  {
   "cell_type": "code",
   "execution_count": 59,
   "metadata": {},
   "outputs": [],
   "source": [
    "df.to_pickle(\"./musk_tweets_enhanced.pkl\")"
   ]
  },
  {
   "cell_type": "code",
   "execution_count": 61,
   "metadata": {},
   "outputs": [
    {
     "name": "stdout",
     "output_type": "stream",
     "text": [
      "-rw-r--r--   1 matteo  wheel   624884 Jul 12 08:17 musk_tweets_enhanced.pkl\n"
     ]
    }
   ],
   "source": [
    "ls -al | grep pkl"
   ]
  }
 ],
 "metadata": {
  "kernelspec": {
   "display_name": "Python 3 (ipykernel)",
   "language": "python",
   "name": "python3"
  },
  "language_info": {
   "codemirror_mode": {
    "name": "ipython",
    "version": 3
   },
   "file_extension": ".py",
   "mimetype": "text/x-python",
   "name": "python",
   "nbconvert_exporter": "python",
   "pygments_lexer": "ipython3",
   "version": "3.10.0"
  },
  "toc": {
   "base_numbering": 1,
   "nav_menu": {},
   "number_sections": false,
   "sideBar": true,
   "skip_h1_title": false,
   "title_cell": "Table of Contents",
   "title_sidebar": "Contents",
   "toc_cell": false,
   "toc_position": {
    "height": "calc(100% - 180px)",
    "left": "10px",
    "top": "150px",
    "width": "384px"
   },
   "toc_section_display": true,
   "toc_window_display": true
  }
 },
 "nbformat": 4,
 "nbformat_minor": 4
}
