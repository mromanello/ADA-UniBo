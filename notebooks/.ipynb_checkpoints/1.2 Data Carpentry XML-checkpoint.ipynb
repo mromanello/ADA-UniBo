{
 "cells": [
  {
   "cell_type": "markdown",
   "metadata": {},
   "source": [
    "# 1.2 Import\n",
    "\n",
    "One \"Swiss knife\" tool (or library) for each format:\n",
    "- XML: `BeautifoulSoup`\n",
    "- JSON: `jq`\n",
    "- CSV: `csvkit`\n",
    "\n",
    "<img src='https://cdn-images-1.medium.com/max/1600/1*Emm10TxVEOvWqwF9oPJb1w.jpeg' width='300px'>"
   ]
  },
  {
   "cell_type": "markdown",
   "metadata": {},
   "source": [
    "## XML"
   ]
  },
  {
   "cell_type": "markdown",
   "metadata": {},
   "source": [
    "### `BeautifulSoup`"
   ]
  },
  {
   "cell_type": "markdown",
   "metadata": {},
   "source": [
    "There are several Python libraries to parse XML but `BeautifulSoup` is somehow the swiss knife of XML parsing.\n",
    "\n",
    "It can parse HTML, XML, as well as ill-formed or broken XML documents (very useful for legacy XML or even SGML data)."
   ]
  },
  {
   "cell_type": "code",
   "execution_count": 5,
   "metadata": {},
   "outputs": [],
   "source": [
    "import os\n",
    "import bs4\n",
    "from bs4 import BeautifulSoup"
   ]
  },
  {
   "cell_type": "code",
   "execution_count": 6,
   "metadata": {},
   "outputs": [],
   "source": [
    "data_folder = '../data/altoxml/'"
   ]
  },
  {
   "cell_type": "code",
   "execution_count": 7,
   "metadata": {},
   "outputs": [],
   "source": [
    "# let's get the path of XML files\n",
    "# we filter only files with XML extension\n",
    "# it can be useful to ignore e.g. `.DS_Store` files (under MacOS)\n",
    "\n",
    "xml_files = [\n",
    "    os.path.join(data_folder, file)\n",
    "    for file in os.listdir(data_folder)\n",
    "    if \".xml\" in file\n",
    "]"
   ]
  },
  {
   "cell_type": "code",
   "execution_count": 8,
   "metadata": {},
   "outputs": [
    {
     "data": {
      "text/plain": [
       "['../data/altoxml/27971740_1890-04-01_38_077_0_003.xml',\n",
       " '../data/altoxml/27971740_1890-04-01_38_077_0_002.xml',\n",
       " '../data/altoxml/27971740_1890-04-01_38_077_0_001.xml',\n",
       " '../data/altoxml/27971740_1890-04-01_38_077_0_004.xml']"
      ]
     },
     "execution_count": 8,
     "metadata": {},
     "output_type": "execute_result"
    }
   ],
   "source": [
    "xml_files"
   ]
  },
  {
   "cell_type": "code",
   "execution_count": 10,
   "metadata": {},
   "outputs": [],
   "source": [
    "xml_files = []\n",
    "for file in os.listdir(data_folder):\n",
    "    if \".xml\" in file:\n",
    "        xml_files.append(os.path.join(data_folder, file))\n",
    "    "
   ]
  },
  {
   "cell_type": "code",
   "execution_count": 11,
   "metadata": {},
   "outputs": [
    {
     "data": {
      "text/plain": [
       "['../data/altoxml/27971740_1890-04-01_38_077_0_003.xml',\n",
       " '../data/altoxml/27971740_1890-04-01_38_077_0_002.xml',\n",
       " '../data/altoxml/27971740_1890-04-01_38_077_0_001.xml',\n",
       " '../data/altoxml/27971740_1890-04-01_38_077_0_004.xml']"
      ]
     },
     "execution_count": 11,
     "metadata": {},
     "output_type": "execute_result"
    }
   ],
   "source": [
    "xml_files"
   ]
  },
  {
   "cell_type": "code",
   "execution_count": 15,
   "metadata": {},
   "outputs": [
    {
     "name": "stdout",
     "output_type": "stream",
     "text": [
      "﻿<?xml version=\"1.0\" encoding=\"UTF-8\" standalone=\"yes\" ?>\n",
      "<alto xmlns=\"http://www.loc.gov/standards/alto/ns-v2#\" xmlns:xlink=\"http://www.w3.org/1999/xlink\" xmlns:xsi=\"http://www.w3.org/2001/XMLSchema-instance\" xsi:schemaLocation=\"http://www.loc.gov/standards/alto/ns-v2# http://www.loc.gov/standards/alto/alto-v2.0.xsd\">\n",
      "    <Description>\n",
      "        <MeasurementUnit>pixel</MeasurementUnit>\n",
      "        <OCRProcessing ID=\"IdOcr\">\n",
      "            <ocrProcessingStep>\n",
      "                <processingDateTime>2014-10-22</processingDateTime>\n",
      "                <processingSoftware>\n",
      "                    <softwareCreator>ABBYY</softwareCreator>\n",
      "                    <softwareName>ABBYY FineReader Engine</softwareName>\n",
      "                    <softwareVersion>11</softwareVersion>\n",
      "                </processingSoftware>\n",
      "            </ocrProcessingStep>\n",
      "        </OCRProcessing>\n",
      "    </Description>\n",
      "    <Styles>\n",
      "        <TextStyle ID=\"font0\" FONTFAMILY=\"Arial\" FONTSIZE=\"5\" />\n",
      "        <TextStyle ID=\"font1\" FONTFAMILY=\"Arial\" FONTSIZE=\"6\" />\n",
      "        <TextStyle ID=\"font2\" FONTFAMILY=\"Arial\" FONTSIZE=\"7\" />\n",
      "        <TextStyle ID=\"font3\" FONTFAMILY=\"Times New Roman\" FONTSIZE=\"6\" />\n",
      "        <TextStyle ID=\"font4\" FONTFAMILY=\"Times New Roman\" FONTSIZE=\"7\" />\n",
      "        <TextStyle ID=\"font5\" FONTFAMILY=\"Times New Roman\" FONTSIZE=\"8\" />\n",
      "        <TextStyle ID=\"font6\" FONTFAMILY=\"Times New Roman\" FONTSIZE=\"9\" />\n",
      "        <TextStyle ID=\"font7\" FONTFAMILY=\"Times New Roman\" FONTSIZE=\"10\" />\n",
      "        <TextStyle ID=\"font8\" FONTFAMILY=\"Times New Roman\" FONTSIZE=\"11\" />\n",
      "        <TextStyle ID=\"font9\" FONTFAMILY=\"Times New Roman\" FONTSIZE=\"13\" />\n",
      "        <TextStyle ID=\"font10\" FONTFAMILY=\"Times New Roman\" FONTSIZE=\"24\" />\n",
      "    </Styles>\n",
      "    <Layout>\n",
      "        <Page ID=\"Page1\" PHYSICAL_IMG_NR=\"1\" HEIGHT=\"6056\" WIDTH=\"4308\">\n",
      "            <TopMargin HEIGHT=\"468\" WIDTH=\"4308\" VPOS=\"0\" HPOS=\"0\">\n",
      "            </TopMargin>\n",
      "            <LeftMargin HEIGHT=\"5010\" WIDTH=\"960\" VPOS=\"468\" HPOS=\"0\">\n",
      "            </LeftMargin>\n",
      "            <RightMargin HEIGHT=\"5010\" WIDTH=\"120\" VPOS=\"468\" HPOS=\"4188\">\n",
      "            </RightMargin>\n",
      "            <BottomMargin HEIGHT=\"578\" WIDTH=\"4308\" VPOS=\"5478\" HPOS=\"0\">\n",
      "            </BottomMargin>\n",
      "            <PrintSpace HEIGHT=\"5010\" WIDTH=\"3228\" VPOS=\"468\" HPOS=\"960\">\n",
      "                <ComposedBlock ID=\"Page1_Block1\" HEIGHT=\"1943\" WIDTH=\"2133\" VPOS=\"468\" HPOS=\"968\" TYPE=\"container\">\n",
      "                    <Shape>\n",
      "                        <Polygon POINTS=\"978,474 3108,474 3108,2413 978,2413 978,474\" />\n",
      "                    </Shape>\n",
      "                    <TextBlock ID=\"Page1_Block2\" HEIGHT=\"1935\" WIDTH=\"1049\" VPOS=\"473\" HPOS=\"968\" language=\"de\" STYLEREFS=\"font5\">\n",
      "                        <Shape>\n",
      "                            <Polygon POINTS=\"978,477 2024,477 2024,2410 978,2410 978,477\" />\n",
      "                        </Shape>\n",
      "                        <TextLine HEIGHT=\"42\" WIDTH=\"987\" VPOS=\"479\" HPOS=\"1000\" STYLEREFS=\"font8\">\n",
      "                            <String STYLE=\"bold\" WC=\"0.5874999762\" CONTENT=\"Nach\" HEIGHT=\"39\" WIDTH=\"90\" VPOS=\"481\" HPOS=\"1000\" />\n",
      "                            <SP WIDTH=\"30\" VPOS=\"483\" HPOS=\"1091\" />\n"
     ]
    }
   ],
   "source": [
    "!head -n 50 {xml_files[-1]}"
   ]
  },
  {
   "cell_type": "code",
   "execution_count": 12,
   "metadata": {},
   "outputs": [
    {
     "name": "stdout",
     "output_type": "stream",
     "text": [
      "﻿<?xml version=\"1.0\" encoding=\"UTF-8\" standalone=\"yes\" ?>\n",
      "<alto xmlns=\"http://www.loc.gov/standards/alto/ns-v2#\" xmlns:xlink=\"http://www.w3.org/1999/xlink\" xmlns:xsi=\"http://www.w3.org/2001/XMLSchema-instance\" xsi:schemaLocation=\"http://www.loc.gov/standards/alto/ns-v2# http://www.loc.gov/standards/alto/alto-v2.0.xsd\">\n",
      "    <Description>\n",
      "        <MeasurementUnit>pixel</MeasurementUnit>\n",
      "        <OCRProcessing ID=\"IdOcr\">\n",
      "            <ocrProcessingStep>\n",
      "                <processingDateTime>2014-10-22</processingDateTime>\n",
      "                <processingSoftware>\n",
      "                    <softwareCreator>ABBYY</softwareCreator>\n",
      "                    <softwareName>ABBYY FineReader Engine</softwareName>\n",
      "                    <softwareVersion>11</softwareVersion>\n",
      "                </processingSoftware>\n",
      "            </ocrProcessingStep>\n",
      "        </OCRProcessing>\n",
      "    </Description>\n",
      "    <Styles>\n",
      "        <TextStyle ID=\"font0\" FONTFAMILY=\"Times New Roman\" FONTSIZE=\"7\" />\n",
      "        <TextStyle ID=\"font1\" FONTFAMILY=\"Times New Roman\" FONTSIZE=\"8\" />\n",
      "        <TextStyle ID=\"font2\" FONTFAMILY=\"Times New Roman\" FONTSIZE=\"9\" />\n",
      "        <TextStyle ID=\"font3\" FONTFAMILY=\"Times New Roman\" FONTSIZE=\"11\" />\n",
      "        <TextStyle ID=\"font4\" FONTFAMILY=\"Times New Roman\" FONTSIZE=\"14\" />\n",
      "        <TextStyle ID=\"font5\" FONTFAMILY=\"Times New Roman\" FONTSIZE=\"21\" />\n",
      "        <TextStyle ID=\"font6\" FONTFAMILY=\"Times New Roman\" FONTSIZE=\"23\" />\n",
      "        <TextStyle ID=\"font7\" FONTFAMILY=\"Times New Roman\" FONTSIZE=\"34\" />\n",
      "        <TextStyle ID=\"font8\" FONTFAMILY=\"Times New Roman\" FONTSIZE=\"121\" />\n",
      "    </Styles>\n",
      "    <Layout>\n",
      "        <Page ID=\"Page1\" PHYSICAL_IMG_NR=\"1\" HEIGHT=\"6051\" WIDTH=\"4214\">\n",
      "            <TopMargin HEIGHT=\"227\" WIDTH=\"4214\" VPOS=\"0\" HPOS=\"0\">\n",
      "            </TopMargin>\n",
      "            <LeftMargin HEIGHT=\"5251\" WIDTH=\"224\" VPOS=\"227\" HPOS=\"0\">\n",
      "            </LeftMargin>\n",
      "            <RightMargin HEIGHT=\"5251\" WIDTH=\"586\" VPOS=\"227\" HPOS=\"3628\">\n",
      "            </RightMargin>\n",
      "            <BottomMargin HEIGHT=\"573\" WIDTH=\"4214\" VPOS=\"5478\" HPOS=\"0\">\n",
      "            </BottomMargin>\n",
      "            <PrintSpace HEIGHT=\"5251\" WIDTH=\"3404\" VPOS=\"227\" HPOS=\"224\">\n",
      "                <ComposedBlock ID=\"Page1_Block1\" HEIGHT=\"859\" WIDTH=\"3286\" VPOS=\"227\" HPOS=\"224\" TYPE=\"container\">\n",
      "                    <Shape>\n",
      "                        <Polygon POINTS=\"378,252 3648,252 3648,1092 378,1092 378,252\" />\n",
      "                    </Shape>\n",
      "                    <TextBlock ID=\"Page1_Block2\" HEIGHT=\"530\" WIDTH=\"656\" VPOS=\"448\" HPOS=\"224\" language=\"de\" STYLEREFS=\"font1\">\n",
      "                        <Shape>\n",
      "                            <Polygon POINTS=\"378,472 1020,472 1020,984 378,984 378,472\" />\n",
      "                        </Shape>\n",
      "                        <TextLine HEIGHT=\"86\" WIDTH=\"611\" VPOS=\"466\" HPOS=\"242\" STYLEREFS=\"font6\">\n",
      "                            <String STYLE=\"bold italics\" STYLEREFS=\"font5\" WC=\"0.2700000107\" CONTENT=\"M\" HEIGHT=\"61\" WIDTH=\"69\" VPOS=\"487\" HPOS=\"242\" />\n",
      "                            <SP WIDTH=\"27\" VPOS=\"484\" HPOS=\"311\" />\n",
      "                            <String STYLE=\"bold italics\" STYLEREFS=\"font5\" WC=\"0.3766666651\" CONTENT=\"Ti.\" HEIGHT=\"62\" WIDTH=\"81\" VPOS=\"482\" HPOS=\"338\" />\n",
      "                            <SP WIDTH=\"85\" VPOS=\"475\" HPOS=\"419\" />\n"
     ]
    }
   ],
   "source": [
    "# prefixing a code cell's content with `!`\n",
    "# tells jupyter to execute it as a bash shell command\n",
    "# Here we use the command `head` to peek at the first 100 lines\n",
    "# of our XML file.\n",
    "\n",
    "!head -n 50 ../data/altoxml/27971740_1890-04-01_38_077_0_001.xml"
   ]
  },
  {
   "cell_type": "code",
   "execution_count": 16,
   "metadata": {},
   "outputs": [],
   "source": [
    "with open(xml_files[0], 'r') as inpfile:\n",
    "    xml_doc = BeautifulSoup(inpfile)"
   ]
  },
  {
   "cell_type": "markdown",
   "metadata": {},
   "source": [
    "### Finding elements"
   ]
  },
  {
   "cell_type": "markdown",
   "metadata": {},
   "source": [
    "Finding the `<textblock>` element with `@id` = `Page1_Block2`:"
   ]
  },
  {
   "cell_type": "code",
   "execution_count": 18,
   "metadata": {},
   "outputs": [
    {
     "data": {
      "text/plain": [
       "\u001b[0;31mSignature:\u001b[0m\n",
       "\u001b[0mxml_doc\u001b[0m\u001b[0;34m.\u001b[0m\u001b[0mfind_all\u001b[0m\u001b[0;34m(\u001b[0m\u001b[0;34m\u001b[0m\n",
       "\u001b[0;34m\u001b[0m    \u001b[0mname\u001b[0m\u001b[0;34m=\u001b[0m\u001b[0;32mNone\u001b[0m\u001b[0;34m,\u001b[0m\u001b[0;34m\u001b[0m\n",
       "\u001b[0;34m\u001b[0m    \u001b[0mattrs\u001b[0m\u001b[0;34m=\u001b[0m\u001b[0;34m{\u001b[0m\u001b[0;34m}\u001b[0m\u001b[0;34m,\u001b[0m\u001b[0;34m\u001b[0m\n",
       "\u001b[0;34m\u001b[0m    \u001b[0mrecursive\u001b[0m\u001b[0;34m=\u001b[0m\u001b[0;32mTrue\u001b[0m\u001b[0;34m,\u001b[0m\u001b[0;34m\u001b[0m\n",
       "\u001b[0;34m\u001b[0m    \u001b[0mstring\u001b[0m\u001b[0;34m=\u001b[0m\u001b[0;32mNone\u001b[0m\u001b[0;34m,\u001b[0m\u001b[0;34m\u001b[0m\n",
       "\u001b[0;34m\u001b[0m    \u001b[0mlimit\u001b[0m\u001b[0;34m=\u001b[0m\u001b[0;32mNone\u001b[0m\u001b[0;34m,\u001b[0m\u001b[0;34m\u001b[0m\n",
       "\u001b[0;34m\u001b[0m    \u001b[0;34m**\u001b[0m\u001b[0mkwargs\u001b[0m\u001b[0;34m,\u001b[0m\u001b[0;34m\u001b[0m\n",
       "\u001b[0;34m\u001b[0m\u001b[0;34m)\u001b[0m\u001b[0;34m\u001b[0m\u001b[0;34m\u001b[0m\u001b[0m\n",
       "\u001b[0;31mDocstring:\u001b[0m\n",
       "Look in the children of this PageElement and find all\n",
       "PageElements that match the given criteria.\n",
       "\n",
       "All find_* methods take a common set of arguments. See the online\n",
       "documentation for detailed explanations.\n",
       "\n",
       ":param name: A filter on tag name.\n",
       ":param attrs: A dictionary of filters on attribute values.\n",
       ":param recursive: If this is True, find_all() will perform a\n",
       "    recursive search of this PageElement's children. Otherwise,\n",
       "    only the direct children will be considered.\n",
       ":param limit: Stop looking after finding this many results.\n",
       ":kwargs: A dictionary of filters on attribute values.\n",
       ":return: A ResultSet of PageElements.\n",
       ":rtype: bs4.element.ResultSet\n",
       "\u001b[0;31mFile:\u001b[0m      ~/.pyenv/versions/3.10.0/envs/ada-dhoxss-2022/lib/python3.10/site-packages/bs4/element.py\n",
       "\u001b[0;31mType:\u001b[0m      method\n"
      ]
     },
     "metadata": {},
     "output_type": "display_data"
    }
   ],
   "source": [
    "xml_doc.find_all?"
   ]
  },
  {
   "cell_type": "code",
   "execution_count": 20,
   "metadata": {},
   "outputs": [],
   "source": [
    "target_elements = xml_doc.find_all(\n",
    "    'textblock'\n",
    ")"
   ]
  },
  {
   "cell_type": "code",
   "execution_count": 26,
   "metadata": {},
   "outputs": [],
   "source": [
    "target_element = xml_doc.find_all(\n",
    "    'textblock',\n",
    "    attrs={'id': 'Page1_Block1'}\n",
    ")"
   ]
  },
  {
   "cell_type": "code",
   "execution_count": 27,
   "metadata": {},
   "outputs": [],
   "source": [
    "# by definition, there should exist excatly one element\n",
    "# with a given ID within the same document\n",
    "assert len(target_element) == 1"
   ]
  },
  {
   "cell_type": "markdown",
   "metadata": {},
   "source": [
    "The same search logic applies to *any* XML attribute. \n",
    "\n",
    "Here we search for all `<composedblock>` with `@type` = `container`:"
   ]
  },
  {
   "cell_type": "code",
   "execution_count": 28,
   "metadata": {},
   "outputs": [],
   "source": [
    "composed_blocks = xml_doc.find_all(\n",
    "    'composedblock',\n",
    "    {'type': 'container'}\n",
    ")"
   ]
  },
  {
   "cell_type": "code",
   "execution_count": 29,
   "metadata": {},
   "outputs": [
    {
     "data": {
      "text/plain": [
       "0"
      ]
     },
     "execution_count": 29,
     "metadata": {},
     "output_type": "execute_result"
    }
   ],
   "source": [
    "len(composed_blocks)"
   ]
  },
  {
   "cell_type": "markdown",
   "metadata": {},
   "source": [
    "Finding all XML elements with a given name:"
   ]
  },
  {
   "cell_type": "code",
   "execution_count": 30,
   "metadata": {},
   "outputs": [],
   "source": [
    "textline_elements = xml_doc.find_all('textline')"
   ]
  },
  {
   "cell_type": "code",
   "execution_count": 32,
   "metadata": {},
   "outputs": [
    {
     "data": {
      "text/plain": [
       "<textline height=\"33\" hpos=\"2752\" vpos=\"5651\" width=\"20\">\n",
       "<string content=\"1\" height=\"33\" hpos=\"2752\" style=\"bold italics\" vpos=\"5651\" wc=\"0.3000000119\" width=\"20\"></string>\n",
       "</textline>"
      ]
     },
     "execution_count": 32,
     "metadata": {},
     "output_type": "execute_result"
    }
   ],
   "source": [
    "textline_elements[0]"
   ]
  },
  {
   "cell_type": "code",
   "execution_count": 33,
   "metadata": {},
   "outputs": [],
   "source": [
    "x = textline_elements[0].get('vpos')\n",
    "y = textline_elements[0].get('hpos')\n",
    "w = textline_elements[0].get('width')\n",
    "h = textline_elements[0].get('height')"
   ]
  },
  {
   "cell_type": "code",
   "execution_count": 34,
   "metadata": {},
   "outputs": [
    {
     "name": "stdout",
     "output_type": "stream",
     "text": [
      "The coordinates of the first line are : 5651 (x), 2752 (y), 33 (height), 20 (width)\n"
     ]
    }
   ],
   "source": [
    "print(\n",
    "    f'The coordinates of the first line are : {x} (x), {y} (y), {h} (height), {w} (width)'\n",
    ")"
   ]
  },
  {
   "cell_type": "markdown",
   "metadata": {},
   "source": [
    "### Navigating the XML tree"
   ]
  },
  {
   "cell_type": "code",
   "execution_count": 35,
   "metadata": {},
   "outputs": [],
   "source": [
    "el = xml_doc.find('styles')"
   ]
  },
  {
   "cell_type": "code",
   "execution_count": 36,
   "metadata": {},
   "outputs": [
    {
     "data": {
      "text/plain": [
       "<styles>\n",
       "<textstyle fontfamily=\"Courier New\" fontsize=\"9\" id=\"font0\"></textstyle>\n",
       "<textstyle fontfamily=\"Times New Roman\" fontsize=\"5\" id=\"font1\"></textstyle>\n",
       "<textstyle fontfamily=\"Times New Roman\" fontsize=\"8\" id=\"font2\"></textstyle>\n",
       "<textstyle fontfamily=\"Times New Roman\" fontsize=\"9\" id=\"font3\"></textstyle>\n",
       "<textstyle fontfamily=\"Times New Roman\" fontsize=\"10\" id=\"font4\"></textstyle>\n",
       "<textstyle fontfamily=\"Times New Roman\" fontsize=\"11\" id=\"font5\"></textstyle>\n",
       "<textstyle fontfamily=\"Times New Roman\" fontsize=\"12\" id=\"font6\"></textstyle>\n",
       "<textstyle fontfamily=\"Times New Roman\" fontsize=\"13\" id=\"font7\"></textstyle>\n",
       "<textstyle fontfamily=\"Times New Roman\" fontsize=\"14\" id=\"font8\"></textstyle>\n",
       "<textstyle fontfamily=\"Times New Roman\" fontsize=\"21\" id=\"font9\"></textstyle>\n",
       "</styles>"
      ]
     },
     "execution_count": 36,
     "metadata": {},
     "output_type": "execute_result"
    }
   ],
   "source": [
    "el"
   ]
  },
  {
   "cell_type": "code",
   "execution_count": 37,
   "metadata": {},
   "outputs": [
    {
     "name": "stdout",
     "output_type": "stream",
     "text": [
      "<class 'bs4.element.NavigableString'> None\n",
      "<class 'bs4.element.Tag'> textstyle\n",
      "<class 'bs4.element.NavigableString'> None\n",
      "<class 'bs4.element.Tag'> textstyle\n",
      "<class 'bs4.element.NavigableString'> None\n",
      "<class 'bs4.element.Tag'> textstyle\n",
      "<class 'bs4.element.NavigableString'> None\n",
      "<class 'bs4.element.Tag'> textstyle\n",
      "<class 'bs4.element.NavigableString'> None\n",
      "<class 'bs4.element.Tag'> textstyle\n",
      "<class 'bs4.element.NavigableString'> None\n",
      "<class 'bs4.element.Tag'> textstyle\n",
      "<class 'bs4.element.NavigableString'> None\n",
      "<class 'bs4.element.Tag'> textstyle\n",
      "<class 'bs4.element.NavigableString'> None\n",
      "<class 'bs4.element.Tag'> textstyle\n",
      "<class 'bs4.element.NavigableString'> None\n",
      "<class 'bs4.element.Tag'> textstyle\n",
      "<class 'bs4.element.NavigableString'> None\n",
      "<class 'bs4.element.Tag'> textstyle\n",
      "<class 'bs4.element.NavigableString'> None\n"
     ]
    }
   ],
   "source": [
    "for child in el.children:\n",
    "    print(type(child), child.name)"
   ]
  },
  {
   "cell_type": "code",
   "execution_count": 38,
   "metadata": {},
   "outputs": [],
   "source": [
    "parent = el.parent"
   ]
  },
  {
   "cell_type": "code",
   "execution_count": null,
   "metadata": {},
   "outputs": [],
   "source": [
    "el.previousSibling"
   ]
  },
  {
   "cell_type": "code",
   "execution_count": null,
   "metadata": {},
   "outputs": [],
   "source": [
    "el.nextSibling"
   ]
  },
  {
   "cell_type": "markdown",
   "metadata": {},
   "source": [
    "## [Excercise] From XML to dictionary\n",
    "\n",
    "Let's now try to put all these things together to solve a real problem that you have already encountered, i.e. **turning a bunch of XML files into processable data**. Why this can be useful?\n",
    "\n",
    "(This exercise will take around 20-30 minutes to complete)."
   ]
  },
  {
   "cell_type": "code",
   "execution_count": 6,
   "metadata": {},
   "outputs": [],
   "source": [
    "import os\n",
    "import bs4\n",
    "import pandas as pd\n",
    "from bs4 import BeautifulSoup"
   ]
  },
  {
   "cell_type": "code",
   "execution_count": 2,
   "metadata": {},
   "outputs": [],
   "source": [
    "data_folder = '../data/altoxml/'"
   ]
  },
  {
   "cell_type": "code",
   "execution_count": 3,
   "metadata": {},
   "outputs": [],
   "source": [
    "# let's get the path of XML files\n",
    "# we filter only files with XML extension\n",
    "# it can be useful to ignore e.g. `.DS_Store` files (under MacOS)\n",
    "\n",
    "xml_files = [\n",
    "    os.path.join(data_folder, file)\n",
    "    for file in os.listdir(data_folder)\n",
    "    if \".xml\" in file\n",
    "]"
   ]
  },
  {
   "cell_type": "code",
   "execution_count": 7,
   "metadata": {},
   "outputs": [],
   "source": [
    "def parse_alto(filepath):\n",
    "    \"\"\"\n",
    "    Convert each file to a dictionary with the\n",
    "    following keys: fulltext, wordcount, filename.\n",
    "    \"\"\"\n",
    "\n",
    "    with open(filepath, 'r') as inpfile:\n",
    "        xml_doc = BeautifulSoup(inpfile)\n",
    "\n",
    "    word_count = 0\n",
    "    lines = []\n",
    "\n",
    "    for line_el in xml_doc.findAll('textline'):\n",
    "\n",
    "        line = \"\"\n",
    "\n",
    "        for child in line_el.children:\n",
    "            if isinstance(child, bs4.element.Tag):\n",
    "                if child.name == 'string':\n",
    "                    line += child.get('content')\n",
    "                    word_count += 1\n",
    "                elif child.name == 'sp':\n",
    "                    line += \" \"\n",
    "        lines.append(line)\n",
    "\n",
    "    return {\n",
    "        'wordcount': len(line.split(' ')),\n",
    "        'fulltext': \"\\n\".join(lines),\n",
    "        'filename': os.path.basename(filepath)\n",
    "    }"
   ]
  },
  {
   "cell_type": "code",
   "execution_count": 8,
   "metadata": {},
   "outputs": [],
   "source": [
    "# once your function is in place, you should be\n",
    "# able to execute this cell, which applies your function\n",
    "# to all Alto files.\n",
    "\n",
    "data = [\n",
    "    parse_alto(xml_file)\n",
    "    for xml_file in xml_files\n",
    "]\n",
    "\n",
    "df = pd.DataFrame(data)"
   ]
  },
  {
   "cell_type": "code",
   "execution_count": 11,
   "metadata": {},
   "outputs": [
    {
     "data": {
      "text/html": [
       "<div>\n",
       "<style scoped>\n",
       "    .dataframe tbody tr th:only-of-type {\n",
       "        vertical-align: middle;\n",
       "    }\n",
       "\n",
       "    .dataframe tbody tr th {\n",
       "        vertical-align: top;\n",
       "    }\n",
       "\n",
       "    .dataframe thead th {\n",
       "        text-align: right;\n",
       "    }\n",
       "</style>\n",
       "<table border=\"1\" class=\"dataframe\">\n",
       "  <thead>\n",
       "    <tr style=\"text-align: right;\">\n",
       "      <th></th>\n",
       "      <th>wordcount</th>\n",
       "      <th>fulltext</th>\n",
       "      <th>filename</th>\n",
       "    </tr>\n",
       "  </thead>\n",
       "  <tbody>\n",
       "    <tr>\n",
       "      <th>0</th>\n",
       "      <td>3599</td>\n",
       "      <td>1\\nWWWWW\\nfrnibt, welchen zufolge dort der Tab...</td>\n",
       "      <td>27971740_1890-04-01_38_077_0_003.xml</td>\n",
       "    </tr>\n",
       "  </tbody>\n",
       "</table>\n",
       "</div>"
      ],
      "text/plain": [
       "   wordcount                                           fulltext  \\\n",
       "0       3599  1\\nWWWWW\\nfrnibt, welchen zufolge dort der Tab...   \n",
       "\n",
       "                               filename  \n",
       "0  27971740_1890-04-01_38_077_0_003.xml  "
      ]
     },
     "execution_count": 11,
     "metadata": {},
     "output_type": "execute_result"
    }
   ],
   "source": [
    "df.head(1)"
   ]
  },
  {
   "cell_type": "code",
   "execution_count": 12,
   "metadata": {},
   "outputs": [
    {
     "data": {
      "text/html": [
       "<div>\n",
       "<style scoped>\n",
       "    .dataframe tbody tr th:only-of-type {\n",
       "        vertical-align: middle;\n",
       "    }\n",
       "\n",
       "    .dataframe tbody tr th {\n",
       "        vertical-align: top;\n",
       "    }\n",
       "\n",
       "    .dataframe thead th {\n",
       "        text-align: right;\n",
       "    }\n",
       "</style>\n",
       "<table border=\"1\" class=\"dataframe\">\n",
       "  <thead>\n",
       "    <tr style=\"text-align: right;\">\n",
       "      <th></th>\n",
       "      <th>wordcount</th>\n",
       "      <th>fulltext</th>\n",
       "      <th>filename</th>\n",
       "    </tr>\n",
       "  </thead>\n",
       "  <tbody>\n",
       "    <tr>\n",
       "      <th>0</th>\n",
       "      <td>3599</td>\n",
       "      <td>1\\nWWWWW\\nfrnibt, welchen zufolge dort der Tab...</td>\n",
       "      <td>27971740_1890-04-01_38_077_0_003.xml</td>\n",
       "    </tr>\n",
       "    <tr>\n",
       "      <th>1</th>\n",
       "      <td>3301</td>\n",
       "      <td>r\\nWMWW\\nwieder gut gemacht, iv.iS gut zu mach...</td>\n",
       "      <td>27971740_1890-04-01_38_077_0_002.xml</td>\n",
       "    </tr>\n",
       "    <tr>\n",
       "      <th>2</th>\n",
       "      <td>2654</td>\n",
       "      <td>M Ti. Erstes Blatt.\\n% ifustcuj, 1. Avril.\\nDi...</td>\n",
       "      <td>27971740_1890-04-01_38_077_0_001.xml</td>\n",
       "    </tr>\n",
       "    <tr>\n",
       "      <th>3</th>\n",
       "      <td>5156</td>\n",
       "      <td>Nach Schluss der Redaktion eingetroffene Depes...</td>\n",
       "      <td>27971740_1890-04-01_38_077_0_004.xml</td>\n",
       "    </tr>\n",
       "  </tbody>\n",
       "</table>\n",
       "</div>"
      ],
      "text/plain": [
       "   wordcount                                           fulltext  \\\n",
       "0       3599  1\\nWWWWW\\nfrnibt, welchen zufolge dort der Tab...   \n",
       "1       3301  r\\nWMWW\\nwieder gut gemacht, iv.iS gut zu mach...   \n",
       "2       2654  M Ti. Erstes Blatt.\\n% ifustcuj, 1. Avril.\\nDi...   \n",
       "3       5156  Nach Schluss der Redaktion eingetroffene Depes...   \n",
       "\n",
       "                               filename  \n",
       "0  27971740_1890-04-01_38_077_0_003.xml  \n",
       "1  27971740_1890-04-01_38_077_0_002.xml  \n",
       "2  27971740_1890-04-01_38_077_0_001.xml  \n",
       "3  27971740_1890-04-01_38_077_0_004.xml  "
      ]
     },
     "execution_count": 12,
     "metadata": {},
     "output_type": "execute_result"
    }
   ],
   "source": [
    "df.tail(20)"
   ]
  },
  {
   "cell_type": "code",
   "execution_count": null,
   "metadata": {},
   "outputs": [],
   "source": []
  }
 ],
 "metadata": {
  "kernelspec": {
   "display_name": "Python 3 (ipykernel)",
   "language": "python",
   "name": "python3"
  },
  "language_info": {
   "codemirror_mode": {
    "name": "ipython",
    "version": 3
   },
   "file_extension": ".py",
   "mimetype": "text/x-python",
   "name": "python",
   "nbconvert_exporter": "python",
   "pygments_lexer": "ipython3",
   "version": "3.10.0"
  },
  "toc": {
   "base_numbering": 1,
   "nav_menu": {},
   "number_sections": false,
   "sideBar": true,
   "skip_h1_title": false,
   "title_cell": "Table of Contents",
   "title_sidebar": "Contents",
   "toc_cell": false,
   "toc_position": {},
   "toc_section_display": true,
   "toc_window_display": true
  }
 },
 "nbformat": 4,
 "nbformat_minor": 4
}
