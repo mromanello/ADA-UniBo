{
 "cells": [
  {
   "cell_type": "markdown",
   "id": "93a83b3b",
   "metadata": {
    "hide_input": false
   },
   "source": [
    "# Requirements check\n",
    "\n",
    "What's the purpose of the notebook?\n",
    "\n",
    "Hidden cells with solutions to questions and excercises."
   ]
  },
  {
   "cell_type": "markdown",
   "id": "4efa786b",
   "metadata": {},
   "source": [
    "## Main data types"
   ]
  },
  {
   "cell_type": "markdown",
   "id": "f151574c",
   "metadata": {},
   "source": [
    "## Control flow statements"
   ]
  },
  {
   "cell_type": "markdown",
   "id": "934d7b83",
   "metadata": {},
   "source": [
    "### Selection (`if/else`)"
   ]
  },
  {
   "cell_type": "markdown",
   "id": "de589739",
   "metadata": {},
   "source": [
    "### Repetition (`for`)"
   ]
  },
  {
   "cell_type": "markdown",
   "id": "9ebe66d1",
   "metadata": {},
   "source": [
    "## Functions\n",
    "\n",
    "- understanding what a function does, how will it behave\n",
    "- write your own function, or rewrite a piece of code into a function"
   ]
  },
  {
   "cell_type": "code",
   "execution_count": null,
   "id": "28ccc288",
   "metadata": {},
   "outputs": [],
   "source": []
  }
 ],
 "metadata": {
  "kernelspec": {
   "display_name": "Python 3 (ipykernel)",
   "language": "python",
   "name": "python3"
  },
  "language_info": {
   "codemirror_mode": {
    "name": "ipython",
    "version": 3
   },
   "file_extension": ".py",
   "mimetype": "text/x-python",
   "name": "python",
   "nbconvert_exporter": "python",
   "pygments_lexer": "ipython3",
   "version": "3.10.0"
  },
  "toc": {
   "base_numbering": 1,
   "nav_menu": {},
   "number_sections": false,
   "sideBar": true,
   "skip_h1_title": false,
   "title_cell": "Table of Contents",
   "title_sidebar": "Contents",
   "toc_cell": false,
   "toc_position": {},
   "toc_section_display": true,
   "toc_window_display": true
  }
 },
 "nbformat": 4,
 "nbformat_minor": 5
}
