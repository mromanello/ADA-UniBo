{
 "cells": [
  {
   "attachments": {},
   "cell_type": "markdown",
   "metadata": {},
   "source": [
    "# 2.2 Wrangling"
   ]
  },
  {
   "attachments": {},
   "cell_type": "markdown",
   "metadata": {},
   "source": [
    "In this notebook, we practice with operations on tidy data frames."
   ]
  },
  {
   "cell_type": "code",
   "execution_count": 30,
   "metadata": {},
   "outputs": [],
   "source": [
    "# imports\n",
    "\n",
    "import pandas as pd\n",
    "import os"
   ]
  },
  {
   "attachments": {},
   "cell_type": "markdown",
   "metadata": {},
   "source": [
    "## Import the datasets\n",
    "\n",
    "Let us import sample dataset in memory. They contain different metadata about newspaper titles. One of them contains metadata at the level of articles. A second and third contain different metadata at the higher level of titles. This will be a typical case of data about the same objects scattered across different dfs. "
   ]
  },
  {
   "cell_type": "code",
   "execution_count": 52,
   "metadata": {},
   "outputs": [],
   "source": [
    "root_folder = \"../data/lwmnewspapers/\"\n",
    "df_articles = pd.read_csv(os.path.join(root_folder,\"LwM-HMD-articles.csv\"))\n",
    "df_MPD_links = pd.read_csv(os.path.join(root_folder,\"MPD_links.csv\"))\n",
    "df_wikiid_latlong = pd.read_csv(os.path.join(root_folder,\"wikiid_lat_long.csv\"))"
   ]
  },
  {
   "attachments": {},
   "cell_type": "markdown",
   "metadata": {},
   "source": [
    "Let's create a few smaller datasets to play with transformations, via selection."
   ]
  },
  {
   "cell_type": "code",
   "execution_count": 53,
   "metadata": {},
   "outputs": [
    {
     "data": {
      "text/html": [
       "<div>\n",
       "<style scoped>\n",
       "    .dataframe tbody tr th:only-of-type {\n",
       "        vertical-align: middle;\n",
       "    }\n",
       "\n",
       "    .dataframe tbody tr th {\n",
       "        vertical-align: top;\n",
       "    }\n",
       "\n",
       "    .dataframe thead th {\n",
       "        text-align: right;\n",
       "    }\n",
       "</style>\n",
       "<table border=\"1\" class=\"dataframe\">\n",
       "  <thead>\n",
       "    <tr style=\"text-align: right;\">\n",
       "      <th></th>\n",
       "      <th>NLP</th>\n",
       "      <th>issue</th>\n",
       "      <th>art_num</th>\n",
       "      <th>title</th>\n",
       "      <th>collection</th>\n",
       "      <th>full_date</th>\n",
       "      <th>year</th>\n",
       "      <th>month</th>\n",
       "      <th>day</th>\n",
       "      <th>location</th>\n",
       "      <th>word_count</th>\n",
       "      <th>ocrquality</th>\n",
       "      <th>decade</th>\n",
       "    </tr>\n",
       "  </thead>\n",
       "  <tbody>\n",
       "    <tr>\n",
       "      <th>1</th>\n",
       "      <td>3040</td>\n",
       "      <td>326</td>\n",
       "      <td>art0056</td>\n",
       "      <td>The Birkenhead News and Wirral General Adverti...</td>\n",
       "      <td>British Library Living with Machines Project</td>\n",
       "      <td>1887-03-26</td>\n",
       "      <td>1887</td>\n",
       "      <td>3</td>\n",
       "      <td>26</td>\n",
       "      <td>Birkenhead, Merseyside, England</td>\n",
       "      <td>509</td>\n",
       "      <td>0.9844</td>\n",
       "      <td>1880</td>\n",
       "    </tr>\n",
       "    <tr>\n",
       "      <th>18</th>\n",
       "      <td>3035</td>\n",
       "      <td>319</td>\n",
       "      <td>art0060</td>\n",
       "      <td>The Herald of Wales.</td>\n",
       "      <td>British Library Living with Machines Project</td>\n",
       "      <td>1887-03-19</td>\n",
       "      <td>1887</td>\n",
       "      <td>3</td>\n",
       "      <td>19</td>\n",
       "      <td>Swansea, West Glamorgan, Wales</td>\n",
       "      <td>444</td>\n",
       "      <td>0.8750</td>\n",
       "      <td>1880</td>\n",
       "    </tr>\n",
       "    <tr>\n",
       "      <th>42</th>\n",
       "      <td>3051</td>\n",
       "      <td>1103</td>\n",
       "      <td>art0009</td>\n",
       "      <td>The Warwickshire Herald.</td>\n",
       "      <td>British Library Living with Machines Project</td>\n",
       "      <td>1887-11-03</td>\n",
       "      <td>1887</td>\n",
       "      <td>11</td>\n",
       "      <td>3</td>\n",
       "      <td>Birmingham, West Midlands, England</td>\n",
       "      <td>19</td>\n",
       "      <td>0.8353</td>\n",
       "      <td>1880</td>\n",
       "    </tr>\n",
       "    <tr>\n",
       "      <th>90</th>\n",
       "      <td>2982</td>\n",
       "      <td>524</td>\n",
       "      <td>art0013</td>\n",
       "      <td>The Telegram.</td>\n",
       "      <td>British Library Living with Machines Project</td>\n",
       "      <td>1887-05-24</td>\n",
       "      <td>1887</td>\n",
       "      <td>5</td>\n",
       "      <td>24</td>\n",
       "      <td>Weymouth, Dorset, England</td>\n",
       "      <td>240</td>\n",
       "      <td>0.6163</td>\n",
       "      <td>1880</td>\n",
       "    </tr>\n",
       "  </tbody>\n",
       "</table>\n",
       "</div>"
      ],
      "text/plain": [
       "     NLP  issue  art_num                                              title  \\\n",
       "1   3040    326  art0056  The Birkenhead News and Wirral General Adverti...   \n",
       "18  3035    319  art0060                               The Herald of Wales.   \n",
       "42  3051   1103  art0009                           The Warwickshire Herald.   \n",
       "90  2982    524  art0013                                      The Telegram.   \n",
       "\n",
       "                                      collection   full_date  year  month  \\\n",
       "1   British Library Living with Machines Project  1887-03-26  1887      3   \n",
       "18  British Library Living with Machines Project  1887-03-19  1887      3   \n",
       "42  British Library Living with Machines Project  1887-11-03  1887     11   \n",
       "90  British Library Living with Machines Project  1887-05-24  1887      5   \n",
       "\n",
       "    day                            location  word_count  ocrquality  decade  \n",
       "1    26     Birkenhead, Merseyside, England         509      0.9844    1880  \n",
       "18   19      Swansea, West Glamorgan, Wales         444      0.8750    1880  \n",
       "42    3  Birmingham, West Midlands, England          19      0.8353    1880  \n",
       "90   24           Weymouth, Dorset, England         240      0.6163    1880  "
      ]
     },
     "execution_count": 53,
     "metadata": {},
     "output_type": "execute_result"
    }
   ],
   "source": [
    "df_articles_93 = df_articles[df_articles[\"year\"] == 1893]\n",
    "df_articles_87 = df_articles[df_articles[\"year\"] == 1887]\n",
    "df_articles_87.head()"
   ]
  },
  {
   "attachments": {},
   "cell_type": "markdown",
   "metadata": {},
   "source": [
    "Note that the index of the original df is maintained, unless you specify to reset the index at the time of subsetting or merging dataframes (not specifying `drop=True` would keep the original index as a new column `index`):"
   ]
  },
  {
   "cell_type": "code",
   "execution_count": 54,
   "metadata": {},
   "outputs": [
    {
     "data": {
      "text/html": [
       "<div>\n",
       "<style scoped>\n",
       "    .dataframe tbody tr th:only-of-type {\n",
       "        vertical-align: middle;\n",
       "    }\n",
       "\n",
       "    .dataframe tbody tr th {\n",
       "        vertical-align: top;\n",
       "    }\n",
       "\n",
       "    .dataframe thead th {\n",
       "        text-align: right;\n",
       "    }\n",
       "</style>\n",
       "<table border=\"1\" class=\"dataframe\">\n",
       "  <thead>\n",
       "    <tr style=\"text-align: right;\">\n",
       "      <th></th>\n",
       "      <th>NLP</th>\n",
       "      <th>issue</th>\n",
       "      <th>art_num</th>\n",
       "      <th>title</th>\n",
       "      <th>collection</th>\n",
       "      <th>full_date</th>\n",
       "      <th>year</th>\n",
       "      <th>month</th>\n",
       "      <th>day</th>\n",
       "      <th>location</th>\n",
       "      <th>word_count</th>\n",
       "      <th>ocrquality</th>\n",
       "      <th>decade</th>\n",
       "    </tr>\n",
       "  </thead>\n",
       "  <tbody>\n",
       "    <tr>\n",
       "      <th>0</th>\n",
       "      <td>3040</td>\n",
       "      <td>326</td>\n",
       "      <td>art0056</td>\n",
       "      <td>The Birkenhead News and Wirral General Adverti...</td>\n",
       "      <td>British Library Living with Machines Project</td>\n",
       "      <td>1887-03-26</td>\n",
       "      <td>1887</td>\n",
       "      <td>3</td>\n",
       "      <td>26</td>\n",
       "      <td>Birkenhead, Merseyside, England</td>\n",
       "      <td>509</td>\n",
       "      <td>0.9844</td>\n",
       "      <td>1880</td>\n",
       "    </tr>\n",
       "    <tr>\n",
       "      <th>1</th>\n",
       "      <td>3035</td>\n",
       "      <td>319</td>\n",
       "      <td>art0060</td>\n",
       "      <td>The Herald of Wales.</td>\n",
       "      <td>British Library Living with Machines Project</td>\n",
       "      <td>1887-03-19</td>\n",
       "      <td>1887</td>\n",
       "      <td>3</td>\n",
       "      <td>19</td>\n",
       "      <td>Swansea, West Glamorgan, Wales</td>\n",
       "      <td>444</td>\n",
       "      <td>0.8750</td>\n",
       "      <td>1880</td>\n",
       "    </tr>\n",
       "    <tr>\n",
       "      <th>2</th>\n",
       "      <td>3051</td>\n",
       "      <td>1103</td>\n",
       "      <td>art0009</td>\n",
       "      <td>The Warwickshire Herald.</td>\n",
       "      <td>British Library Living with Machines Project</td>\n",
       "      <td>1887-11-03</td>\n",
       "      <td>1887</td>\n",
       "      <td>11</td>\n",
       "      <td>3</td>\n",
       "      <td>Birmingham, West Midlands, England</td>\n",
       "      <td>19</td>\n",
       "      <td>0.8353</td>\n",
       "      <td>1880</td>\n",
       "    </tr>\n",
       "    <tr>\n",
       "      <th>3</th>\n",
       "      <td>2982</td>\n",
       "      <td>524</td>\n",
       "      <td>art0013</td>\n",
       "      <td>The Telegram.</td>\n",
       "      <td>British Library Living with Machines Project</td>\n",
       "      <td>1887-05-24</td>\n",
       "      <td>1887</td>\n",
       "      <td>5</td>\n",
       "      <td>24</td>\n",
       "      <td>Weymouth, Dorset, England</td>\n",
       "      <td>240</td>\n",
       "      <td>0.6163</td>\n",
       "      <td>1880</td>\n",
       "    </tr>\n",
       "  </tbody>\n",
       "</table>\n",
       "</div>"
      ],
      "text/plain": [
       "    NLP  issue  art_num                                              title  \\\n",
       "0  3040    326  art0056  The Birkenhead News and Wirral General Adverti...   \n",
       "1  3035    319  art0060                               The Herald of Wales.   \n",
       "2  3051   1103  art0009                           The Warwickshire Herald.   \n",
       "3  2982    524  art0013                                      The Telegram.   \n",
       "\n",
       "                                     collection   full_date  year  month  day  \\\n",
       "0  British Library Living with Machines Project  1887-03-26  1887      3   26   \n",
       "1  British Library Living with Machines Project  1887-03-19  1887      3   19   \n",
       "2  British Library Living with Machines Project  1887-11-03  1887     11    3   \n",
       "3  British Library Living with Machines Project  1887-05-24  1887      5   24   \n",
       "\n",
       "                             location  word_count  ocrquality  decade  \n",
       "0     Birkenhead, Merseyside, England         509      0.9844    1880  \n",
       "1      Swansea, West Glamorgan, Wales         444      0.8750    1880  \n",
       "2  Birmingham, West Midlands, England          19      0.8353    1880  \n",
       "3           Weymouth, Dorset, England         240      0.6163    1880  "
      ]
     },
     "execution_count": 54,
     "metadata": {},
     "output_type": "execute_result"
    }
   ],
   "source": [
    "df_articles_93 = df_articles[df_articles[\"year\"] == 1893].reset_index(drop=True)\n",
    "df_articles_87 = df_articles[df_articles[\"year\"] == 1887].reset_index(drop=True)\n",
    "df_articles_87.head()"
   ]
  },
  {
   "attachments": {},
   "cell_type": "markdown",
   "metadata": {},
   "source": [
    "## Joins"
   ]
  },
  {
   "attachments": {},
   "cell_type": "markdown",
   "metadata": {},
   "source": [
    "![figure with joins](https://www.datasciencemadesimple.com/wp-content/uploads/2017/09/join-or-merge-in-python-pandas-1.png?ezimgfmt=ng:webp/ngcb1)\n",
    "\n",
    "- **Inner Join** or Natural join: To keep only rows that match from the data frames, specify the argument `how=‘inner’`.\n",
    "- **Outer Join** or Full outer join:To keep all rows from both data frames, specify `how=‘outer’`.\n",
    "- **Left Join** or Left outer join:To include all the rows of your data frame x and only those from y that match, specify `how=‘left’`.\n",
    "- **Right Join** or Right outer join:To include all the rows of your data frame y and only those from x that match, specify `how=‘right’`."
   ]
  },
  {
   "attachments": {},
   "cell_type": "markdown",
   "metadata": {},
   "source": [
    "The two dfs have two columns in common: `NLP` and `year`. To add any column in `metadf` which is not in `articlesdf` to `articlesdf` based on a match of both `NLP` and `year`, you simply do a left-merge:"
   ]
  },
  {
   "cell_type": "code",
   "execution_count": null,
   "metadata": {},
   "outputs": [],
   "source": [
    "df_articles.merge(df_MPD_links,how='left')"
   ]
  },
  {
   "attachments": {},
   "cell_type": "markdown",
   "metadata": {},
   "source": [
    "It automatically uses all common columns to merge the left df with the right. If we specify one column only, then the result is different:"
   ]
  },
  {
   "cell_type": "code",
   "execution_count": null,
   "metadata": {},
   "outputs": [],
   "source": [
    "df_articles.merge(df_MPD_links,how='left',on='NLP')"
   ]
  },
  {
   "attachments": {},
   "cell_type": "markdown",
   "metadata": {},
   "source": [
    "This is because in `metadf` each `NLP`-`year` combination has a unique set of variables. If we remove `year` off the equation when merging, then pandas will consider `year` from each df as different variables and it will add all combinations of NLP-year from both datasets. Note that in that case, the `year` col will be automatically renamed as `year_x` (left df) and `year_y` (right df)."
   ]
  },
  {
   "attachments": {},
   "cell_type": "markdown",
   "metadata": {},
   "source": [
    "Inner merge will get you the intersection between the two dfs based on the common columns:"
   ]
  },
  {
   "cell_type": "code",
   "execution_count": null,
   "metadata": {},
   "outputs": [],
   "source": [
    "pd.merge(right=df_articles, left=df_MPD_links, how=\"inner\")\n",
    "# also equivalent:\n",
    "# df_articles.merge(df_MPD_links,how=\"inner\")"
   ]
  },
  {
   "attachments": {},
   "cell_type": "markdown",
   "metadata": {},
   "source": [
    "**⏰ ✏️ Excercise**:\n",
    "\n",
    "* Using the most suitable type of merging, create a df starting from `df_articles` and adding any column not present there from `df_MPD_links` and `df_wikiid_latlong`. Make sure that the final dataframe has the same number of rows as `df_articles`!\n",
    "* Which is the most represented `location` in the dataframe?"
   ]
  },
  {
   "cell_type": "code",
   "execution_count": 38,
   "metadata": {},
   "outputs": [],
   "source": [
    "### Write your solution here"
   ]
  },
  {
   "attachments": {},
   "cell_type": "markdown",
   "metadata": {},
   "source": [
    "## Pivoting\n",
    "\n",
    "This is bonus content!\n",
    "\n",
    "For more (including stacking with multi-indexes and unpivoting or melting), see https://pandas.pydata.org/pandas-docs/stable/user_guide/reshaping.html"
   ]
  },
  {
   "cell_type": "code",
   "execution_count": 82,
   "metadata": {},
   "outputs": [],
   "source": [
    "data = {'place': [\"London\",\"London\",\"Berlin\",\"Berlin\",\"Rome\",\"Rome\"],\n",
    "       'year': [1800, 1900, 1800, 1900, 1800, 1900],\n",
    "       'values': [10,20,30,40,50,60]}\n",
    "toy_df = pd.DataFrame(data)"
   ]
  },
  {
   "cell_type": "code",
   "execution_count": 86,
   "metadata": {},
   "outputs": [
    {
     "data": {
      "text/html": [
       "<div>\n",
       "<style scoped>\n",
       "    .dataframe tbody tr th:only-of-type {\n",
       "        vertical-align: middle;\n",
       "    }\n",
       "\n",
       "    .dataframe tbody tr th {\n",
       "        vertical-align: top;\n",
       "    }\n",
       "\n",
       "    .dataframe thead th {\n",
       "        text-align: right;\n",
       "    }\n",
       "</style>\n",
       "<table border=\"1\" class=\"dataframe\">\n",
       "  <thead>\n",
       "    <tr style=\"text-align: right;\">\n",
       "      <th></th>\n",
       "      <th>place</th>\n",
       "      <th>year</th>\n",
       "      <th>values</th>\n",
       "      <th>values2</th>\n",
       "    </tr>\n",
       "  </thead>\n",
       "  <tbody>\n",
       "    <tr>\n",
       "      <th>0</th>\n",
       "      <td>London</td>\n",
       "      <td>1800</td>\n",
       "      <td>10</td>\n",
       "      <td>45</td>\n",
       "    </tr>\n",
       "    <tr>\n",
       "      <th>1</th>\n",
       "      <td>London</td>\n",
       "      <td>1900</td>\n",
       "      <td>20</td>\n",
       "      <td>43</td>\n",
       "    </tr>\n",
       "    <tr>\n",
       "      <th>2</th>\n",
       "      <td>Berlin</td>\n",
       "      <td>1800</td>\n",
       "      <td>30</td>\n",
       "      <td>2</td>\n",
       "    </tr>\n",
       "    <tr>\n",
       "      <th>3</th>\n",
       "      <td>Berlin</td>\n",
       "      <td>1900</td>\n",
       "      <td>40</td>\n",
       "      <td>0</td>\n",
       "    </tr>\n",
       "    <tr>\n",
       "      <th>4</th>\n",
       "      <td>Rome</td>\n",
       "      <td>1800</td>\n",
       "      <td>50</td>\n",
       "      <td>33</td>\n",
       "    </tr>\n",
       "    <tr>\n",
       "      <th>5</th>\n",
       "      <td>Rome</td>\n",
       "      <td>1900</td>\n",
       "      <td>60</td>\n",
       "      <td>4</td>\n",
       "    </tr>\n",
       "  </tbody>\n",
       "</table>\n",
       "</div>"
      ],
      "text/plain": [
       "    place  year  values  values2\n",
       "0  London  1800      10       45\n",
       "1  London  1900      20       43\n",
       "2  Berlin  1800      30        2\n",
       "3  Berlin  1900      40        0\n",
       "4    Rome  1800      50       33\n",
       "5    Rome  1900      60        4"
      ]
     },
     "execution_count": 86,
     "metadata": {},
     "output_type": "execute_result"
    }
   ],
   "source": [
    "toy_df"
   ]
  },
  {
   "cell_type": "code",
   "execution_count": 94,
   "metadata": {},
   "outputs": [],
   "source": [
    "pivoted = toy_df.pivot(index='year', columns='place', values='values')"
   ]
  },
  {
   "cell_type": "code",
   "execution_count": 95,
   "metadata": {},
   "outputs": [
    {
     "data": {
      "text/html": [
       "<div>\n",
       "<style scoped>\n",
       "    .dataframe tbody tr th:only-of-type {\n",
       "        vertical-align: middle;\n",
       "    }\n",
       "\n",
       "    .dataframe tbody tr th {\n",
       "        vertical-align: top;\n",
       "    }\n",
       "\n",
       "    .dataframe thead th {\n",
       "        text-align: right;\n",
       "    }\n",
       "</style>\n",
       "<table border=\"1\" class=\"dataframe\">\n",
       "  <thead>\n",
       "    <tr style=\"text-align: right;\">\n",
       "      <th>place</th>\n",
       "      <th>Berlin</th>\n",
       "      <th>London</th>\n",
       "      <th>Rome</th>\n",
       "    </tr>\n",
       "    <tr>\n",
       "      <th>year</th>\n",
       "      <th></th>\n",
       "      <th></th>\n",
       "      <th></th>\n",
       "    </tr>\n",
       "  </thead>\n",
       "  <tbody>\n",
       "    <tr>\n",
       "      <th>1800</th>\n",
       "      <td>30</td>\n",
       "      <td>10</td>\n",
       "      <td>50</td>\n",
       "    </tr>\n",
       "    <tr>\n",
       "      <th>1900</th>\n",
       "      <td>40</td>\n",
       "      <td>20</td>\n",
       "      <td>60</td>\n",
       "    </tr>\n",
       "  </tbody>\n",
       "</table>\n",
       "</div>"
      ],
      "text/plain": [
       "place  Berlin  London  Rome\n",
       "year                       \n",
       "1800       30      10    50\n",
       "1900       40      20    60"
      ]
     },
     "execution_count": 95,
     "metadata": {},
     "output_type": "execute_result"
    }
   ],
   "source": [
    "pivoted"
   ]
  }
 ],
 "metadata": {
  "kernelspec": {
   "display_name": "Python 3 (ipykernel)",
   "language": "python",
   "name": "python3"
  },
  "language_info": {
   "codemirror_mode": {
    "name": "ipython",
    "version": 3
   },
   "file_extension": ".py",
   "mimetype": "text/x-python",
   "name": "python",
   "nbconvert_exporter": "python",
   "pygments_lexer": "ipython3",
   "version": "3.10.3"
  }
 },
 "nbformat": 4,
 "nbformat_minor": 4
}
